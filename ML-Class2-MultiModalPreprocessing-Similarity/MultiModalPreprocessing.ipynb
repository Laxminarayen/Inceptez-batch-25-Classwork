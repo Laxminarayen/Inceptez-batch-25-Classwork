{
  "nbformat": 4,
  "nbformat_minor": 0,
  "metadata": {
    "colab": {
      "provenance": []
    },
    "kernelspec": {
      "name": "python3",
      "display_name": "Python 3"
    },
    "language_info": {
      "name": "python"
    }
  },
  "cells": [
    {
      "cell_type": "markdown",
      "source": [
        "# EDA - Exploratory Data Analytics\n",
        "# Pre-processing\n",
        "## 1. Tabular Data - Data collection & integration\n",
        "\n",
        "*   Missing Imputation\n",
        "*   Error Correction\n",
        "*   Encoding\n",
        "*   Feature Scaling\n",
        "*   Feature Selection\n",
        "*   Feature Engineering (You extract extra information from features)\n",
        "*   Test and Train Splitting\n",
        "\n",
        "## 2. Text input - Data collection & integration\n",
        "\n",
        "*   Missing Values\n",
        "*   Errors - Encoding (UTF-8) ?\n",
        "*   Uniformization Cases\n",
        "*   Stop Words\n",
        "*   (Optional) Stemming / Lemmatization\n",
        "*   Emoji Translations\n",
        "*   Multi-lingual - Uniformizations\n",
        "*   Vectorization (Statistical Vectors vs Embeddings (DL))"
      ],
      "metadata": {
        "id": "PVBIsJBiWWWR"
      }
    },
    {
      "cell_type": "code",
      "execution_count": null,
      "metadata": {
        "id": "XikAyC0ASXfJ"
      },
      "outputs": [],
      "source": [
        "#product - Inventory -> B2B -> tier 2 -> Customer\n",
        "#Took address - Vectorized - Ranked Similary (Distances = 1-Similary) - Closes address"
      ]
    },
    {
      "cell_type": "code",
      "source": [
        "docs = [\"New GPU benchmarks show faster training time\", \"GPU benchmark reveals faster model training\",\n",
        "        'The striker scored two goals and an assist point']"
      ],
      "metadata": {
        "id": "JNb8gaGQTii1"
      },
      "execution_count": null,
      "outputs": []
    },
    {
      "cell_type": "code",
      "source": [
        "labels = ['base','similar','different']"
      ],
      "metadata": {
        "id": "E1uTD4oETuAo"
      },
      "execution_count": null,
      "outputs": []
    },
    {
      "cell_type": "code",
      "source": [
        "#1. Removing Stop words..\n",
        "#2. Uniformization - Lower or Upper\n",
        "#3. Stemming and Lemmatization"
      ],
      "metadata": {
        "id": "8syCJoR1TzoJ"
      },
      "execution_count": null,
      "outputs": []
    },
    {
      "cell_type": "code",
      "source": [
        "#Trained - Training - Train\n",
        "#Running - Run\n",
        "#Stemming\n",
        "  #running - run\n",
        "  #studies - studi\n",
        "  #happiness - happi\n",
        "\n",
        "#Lemmatization\n",
        "  #Process of reducing words to their lemma (valid dictionary)\n",
        "  #Morphological tranformations - Vocabolary lookup\n",
        "\n",
        "  #running - run\n",
        "  #Studies - study"
      ],
      "metadata": {
        "id": "q_1N8gf2VBFf"
      },
      "execution_count": null,
      "outputs": []
    },
    {
      "cell_type": "code",
      "source": [
        "import nltk\n",
        "import re"
      ],
      "metadata": {
        "id": "fCBFWvFJYsm-"
      },
      "execution_count": null,
      "outputs": []
    },
    {
      "cell_type": "code",
      "source": [
        "nltk.download('all')\n",
        "#nltk.download('stopwords')"
      ],
      "metadata": {
        "id": "qzDDz9DpZUEu"
      },
      "execution_count": null,
      "outputs": []
    },
    {
      "cell_type": "code",
      "source": [
        "stop_words = nltk.corpus.stopwords.words(\"english\")"
      ],
      "metadata": {
        "id": "1dpQgFlwY1fv"
      },
      "execution_count": null,
      "outputs": []
    },
    {
      "cell_type": "code",
      "source": [
        "stop_words = stop_words+['laxmi']"
      ],
      "metadata": {
        "id": "kPO7_8omZRq7"
      },
      "execution_count": null,
      "outputs": []
    },
    {
      "cell_type": "code",
      "source": [
        "type(stop_words)"
      ],
      "metadata": {
        "colab": {
          "base_uri": "https://localhost:8080/"
        },
        "id": "7AHOD3nPZi6i",
        "outputId": "4d689350-34f2-474e-da67-106bcaf1af07"
      },
      "execution_count": null,
      "outputs": [
        {
          "output_type": "execute_result",
          "data": {
            "text/plain": [
              "list"
            ]
          },
          "metadata": {},
          "execution_count": 13
        }
      ]
    },
    {
      "cell_type": "code",
      "source": [
        "from nltk.stem import PorterStemmer\n",
        "\n",
        "stemmer = PorterStemmer()\n",
        "\n",
        "words = ['running','studies','happiness','flying','better']\n",
        "for w in words:\n",
        "  print(w,\"->\",stemmer.stem(w))"
      ],
      "metadata": {
        "id": "olSKtfdtZrin",
        "colab": {
          "base_uri": "https://localhost:8080/"
        },
        "outputId": "ed29104d-58b0-44a2-cfbf-ec3e74e0a170"
      },
      "execution_count": 14,
      "outputs": [
        {
          "output_type": "stream",
          "name": "stdout",
          "text": [
            "running -> run\n",
            "studies -> studi\n",
            "happiness -> happi\n",
            "flying -> fli\n",
            "better -> better\n"
          ]
        }
      ]
    },
    {
      "cell_type": "code",
      "source": [
        "import spacy"
      ],
      "metadata": {
        "id": "cnBCSAMXaXwL"
      },
      "execution_count": 15,
      "outputs": []
    },
    {
      "cell_type": "code",
      "source": [
        "nlp = spacy.load(\"en_core_web_sm\")"
      ],
      "metadata": {
        "id": "FuamfLEGal-x"
      },
      "execution_count": 16,
      "outputs": []
    },
    {
      "cell_type": "code",
      "source": [
        "words = ['running','studies','happiness','flying','better']\n",
        "doc = nlp(\" \".join(words))\n",
        "for token in doc:\n",
        "  print(token.text,\"->\",token.lemma_)"
      ],
      "metadata": {
        "colab": {
          "base_uri": "https://localhost:8080/"
        },
        "id": "d-xy4kfOarwk",
        "outputId": "97769dfc-599e-4343-ac70-a8f2b580fba0"
      },
      "execution_count": 18,
      "outputs": [
        {
          "output_type": "stream",
          "name": "stdout",
          "text": [
            "running -> run\n",
            "studies -> study\n",
            "happiness -> happiness\n",
            "flying -> fly\n",
            "better -> well\n"
          ]
        }
      ]
    },
    {
      "cell_type": "code",
      "source": [
        "from nltk.stem import WordNetLemmatizer\n",
        "from nltk.corpus import wordnet\n",
        "\n",
        "lemmatizer = WordNetLemmatizer()\n",
        "\n",
        "words = ['running','studies','happiness','flying','better']\n",
        "for w in words:\n",
        "  print(w,\"->\",lemmatizer.lemmatize(w,pos = 'v'))"
      ],
      "metadata": {
        "colab": {
          "base_uri": "https://localhost:8080/"
        },
        "id": "_G4_BZXVa4sY",
        "outputId": "9d2a650d-466e-4c69-aa2d-ba25bdb6477b"
      },
      "execution_count": 19,
      "outputs": [
        {
          "output_type": "stream",
          "name": "stdout",
          "text": [
            "running -> run\n",
            "studies -> study\n",
            "happiness -> happiness\n",
            "flying -> fly\n",
            "better -> better\n"
          ]
        }
      ]
    },
    {
      "cell_type": "code",
      "source": [],
      "metadata": {
        "id": "WHql9p75bOlH"
      },
      "execution_count": null,
      "outputs": []
    }
  ]
}