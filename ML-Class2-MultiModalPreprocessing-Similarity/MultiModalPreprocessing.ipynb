{
  "nbformat": 4,
  "nbformat_minor": 0,
  "metadata": {
    "colab": {
      "provenance": []
    },
    "kernelspec": {
      "name": "python3",
      "display_name": "Python 3"
    },
    "language_info": {
      "name": "python"
    }
  },
  "cells": [
    {
      "cell_type": "markdown",
      "source": [
        "# EDA - Exploratory Data Analytics\n",
        "# Pre-processing\n",
        "## 1. Tabular Data - Data collection & integration\n",
        "\n",
        "*   Missing Imputation\n",
        "*   Error Correction\n",
        "*   Encoding\n",
        "*   Feature Scaling\n",
        "*   Feature Selection\n",
        "*   Feature Engineering (You extract extra information from features)\n",
        "*   Test and Train Splitting\n",
        "\n",
        "## 2. Text input - Data collection & integration\n",
        "\n",
        "*   Missing Values\n",
        "*   Errors - Encoding (UTF-8) ?\n",
        "*   Uniformization Cases\n",
        "*   Stop Words\n",
        "*   (Optional) Stemming / Lemmatization\n",
        "*   Emoji Translations\n",
        "*   Multi-lingual - Uniformizations\n",
        "*   Vectorization (Statistical Vectors vs Embeddings (DL))"
      ],
      "metadata": {
        "id": "PVBIsJBiWWWR"
      }
    },
    {
      "cell_type": "code",
      "execution_count": null,
      "metadata": {
        "id": "XikAyC0ASXfJ"
      },
      "outputs": [],
      "source": [
        "#product - Inventory -> B2B -> tier 2 -> Customer\n",
        "#Took address - Vectorized - Ranked Similary (Distances = 1-Similary) - Closes address"
      ]
    },
    {
      "cell_type": "code",
      "source": [
        "docs = [\"New GPU benchmarks show faster training time\", \"GPU benchmark reveals faster model training\",\n",
        "        'The striker scored two goals and an assist point']"
      ],
      "metadata": {
        "id": "JNb8gaGQTii1"
      },
      "execution_count": null,
      "outputs": []
    },
    {
      "cell_type": "code",
      "source": [
        "labels = ['base','similar','different']"
      ],
      "metadata": {
        "id": "E1uTD4oETuAo"
      },
      "execution_count": null,
      "outputs": []
    },
    {
      "cell_type": "code",
      "source": [
        "#1. Removing Stop words..\n",
        "#2. Uniformization - Lower or Upper\n",
        "#3. Stemming and Lemmatization"
      ],
      "metadata": {
        "id": "8syCJoR1TzoJ"
      },
      "execution_count": null,
      "outputs": []
    },
    {
      "cell_type": "code",
      "source": [
        "#Trained - Training - Train\n",
        "#Running - Run\n",
        "#Stemming\n",
        "  #running - run\n",
        "  #studies - studi\n",
        "  #happiness - happi\n",
        "\n",
        "#Lemmatization\n",
        "  #Process of reducing words to their lemma (valid dictionary)\n",
        "  #Morphological tranformations - Vocabolary lookup\n",
        "\n",
        "  #running - run\n",
        "  #Studies - study"
      ],
      "metadata": {
        "id": "q_1N8gf2VBFf"
      },
      "execution_count": null,
      "outputs": []
    },
    {
      "cell_type": "code",
      "source": [
        "import nltk\n",
        "import re"
      ],
      "metadata": {
        "id": "fCBFWvFJYsm-"
      },
      "execution_count": null,
      "outputs": []
    },
    {
      "cell_type": "code",
      "source": [
        "nltk.download('all')\n",
        "#nltk.download('stopwords')"
      ],
      "metadata": {
        "id": "qzDDz9DpZUEu"
      },
      "execution_count": null,
      "outputs": []
    },
    {
      "cell_type": "code",
      "source": [
        "stop_words = nltk.corpus.stopwords.words(\"english\")"
      ],
      "metadata": {
        "id": "1dpQgFlwY1fv"
      },
      "execution_count": null,
      "outputs": []
    },
    {
      "cell_type": "code",
      "source": [
        "stop_words = stop_words+['laxmi']"
      ],
      "metadata": {
        "id": "kPO7_8omZRq7"
      },
      "execution_count": null,
      "outputs": []
    },
    {
      "cell_type": "code",
      "source": [
        "type(stop_words)"
      ],
      "metadata": {
        "colab": {
          "base_uri": "https://localhost:8080/"
        },
        "id": "7AHOD3nPZi6i",
        "outputId": "4d689350-34f2-474e-da67-106bcaf1af07"
      },
      "execution_count": null,
      "outputs": [
        {
          "output_type": "execute_result",
          "data": {
            "text/plain": [
              "list"
            ]
          },
          "metadata": {},
          "execution_count": 13
        }
      ]
    },
    {
      "cell_type": "code",
      "source": [
        "from nltk.stem import PorterStemmer\n",
        "\n",
        "stemmer = PorterStemmer()\n",
        "\n",
        "words = ['running','studies','happiness','flying','better']\n",
        "for w in words:\n",
        "  print(w,\"->\",stemmer.stem(w))"
      ],
      "metadata": {
        "id": "olSKtfdtZrin",
        "colab": {
          "base_uri": "https://localhost:8080/"
        },
        "outputId": "ed29104d-58b0-44a2-cfbf-ec3e74e0a170"
      },
      "execution_count": 14,
      "outputs": [
        {
          "output_type": "stream",
          "name": "stdout",
          "text": [
            "running -> run\n",
            "studies -> studi\n",
            "happiness -> happi\n",
            "flying -> fli\n",
            "better -> better\n"
          ]
        }
      ]
    },
    {
      "cell_type": "code",
      "source": [
        "import spacy"
      ],
      "metadata": {
        "id": "cnBCSAMXaXwL"
      },
      "execution_count": 15,
      "outputs": []
    },
    {
      "cell_type": "code",
      "source": [
        "nlp = spacy.load(\"en_core_web_sm\")"
      ],
      "metadata": {
        "id": "FuamfLEGal-x"
      },
      "execution_count": 16,
      "outputs": []
    },
    {
      "cell_type": "code",
      "source": [
        "words = ['running','studies','happiness','flying','better']\n",
        "doc = nlp(\" \".join(words))\n",
        "for token in doc:\n",
        "  print(token.text,\"->\",token.lemma_)"
      ],
      "metadata": {
        "colab": {
          "base_uri": "https://localhost:8080/"
        },
        "id": "d-xy4kfOarwk",
        "outputId": "97769dfc-599e-4343-ac70-a8f2b580fba0"
      },
      "execution_count": 18,
      "outputs": [
        {
          "output_type": "stream",
          "name": "stdout",
          "text": [
            "running -> run\n",
            "studies -> study\n",
            "happiness -> happiness\n",
            "flying -> fly\n",
            "better -> well\n"
          ]
        }
      ]
    },
    {
      "cell_type": "code",
      "source": [
        "from nltk.stem import WordNetLemmatizer\n",
        "from nltk.corpus import wordnet\n",
        "\n",
        "lemmatizer = WordNetLemmatizer()\n",
        "\n",
        "words = ['running','studies','happiness','flying','better']\n",
        "for w in words:\n",
        "  print(w,\"->\",lemmatizer.lemmatize(w,pos = 'v'))"
      ],
      "metadata": {
        "colab": {
          "base_uri": "https://localhost:8080/"
        },
        "id": "_G4_BZXVa4sY",
        "outputId": "9d2a650d-466e-4c69-aa2d-ba25bdb6477b"
      },
      "execution_count": 19,
      "outputs": [
        {
          "output_type": "stream",
          "name": "stdout",
          "text": [
            "running -> run\n",
            "studies -> study\n",
            "happiness -> happiness\n",
            "flying -> fly\n",
            "better -> better\n"
          ]
        }
      ]
    },
    {
      "cell_type": "code",
      "source": [
        "stop_words # they'll - they will"
      ],
      "metadata": {
        "id": "WHql9p75bOlH"
      },
      "execution_count": null,
      "outputs": []
    },
    {
      "cell_type": "code",
      "source": [
        "nltk.word_tokenize(\"Hello how are you guys?\")"
      ],
      "metadata": {
        "colab": {
          "base_uri": "https://localhost:8080/"
        },
        "id": "a36pLEGshK9-",
        "outputId": "cf321df9-ffa3-4230-bdfd-85db86301fb0"
      },
      "execution_count": 21,
      "outputs": [
        {
          "output_type": "execute_result",
          "data": {
            "text/plain": [
              "['Hello', 'how', 'are', 'you', 'guys', '?']"
            ]
          },
          "metadata": {},
          "execution_count": 21
        }
      ]
    },
    {
      "cell_type": "code",
      "source": [
        "def normalize_corpus(doc):\n",
        "  words = []\n",
        "  doc = re.sub(r'[^\\w\\s]',' ',doc,re.IGNORECASE)\n",
        "  doc = doc.lower()\n",
        "  doc = nltk.word_tokenize(doc)\n",
        "  filtered_tokens = [word for word in doc if word not in stop_words]\n",
        "  doc = \" \".join(filtered_tokens)\n",
        "  tokens = nlp(doc)\n",
        "  for token in tokens:\n",
        "    words.append(token.lemma_)\n",
        "  return \" \".join(words)"
      ],
      "metadata": {
        "id": "7DJZOoOIg58N"
      },
      "execution_count": 39,
      "outputs": []
    },
    {
      "cell_type": "code",
      "source": [
        "normalize_corpus(\"The striker scored two goals and an assist point\")"
      ],
      "metadata": {
        "colab": {
          "base_uri": "https://localhost:8080/",
          "height": 35
        },
        "id": "M0G2pH7yhtI1",
        "outputId": "d4f5d035-5c20-4545-be69-05e5ab8ad13f"
      },
      "execution_count": 41,
      "outputs": [
        {
          "output_type": "execute_result",
          "data": {
            "text/plain": [
              "'striker score two goal assist point'"
            ],
            "application/vnd.google.colaboratory.intrinsic+json": {
              "type": "string"
            }
          },
          "metadata": {},
          "execution_count": 41
        }
      ]
    },
    {
      "cell_type": "code",
      "source": [
        "import re\n",
        "#1. Remove punction\n",
        "text = \"Hello!! How's is cross-tabulation treating you in 2025\"\n",
        "re.sub(r'[^a-zA-Z0-9\\s]','',text,flags=re.I)"
      ],
      "metadata": {
        "colab": {
          "base_uri": "https://localhost:8080/",
          "height": 35
        },
        "id": "hJfizsSthv54",
        "outputId": "0b680177-b22d-4e9b-95e9-24de60aed525"
      },
      "execution_count": 27,
      "outputs": [
        {
          "output_type": "execute_result",
          "data": {
            "text/plain": [
              "'Hello Hows is crosstabulation treating you in 2025'"
            ],
            "application/vnd.google.colaboratory.intrinsic+json": {
              "type": "string"
            }
          },
          "metadata": {},
          "execution_count": 27
        }
      ]
    },
    {
      "cell_type": "code",
      "source": [
        "re.sub(r'[^\\w\\s]','',text,flags=re.I)"
      ],
      "metadata": {
        "colab": {
          "base_uri": "https://localhost:8080/",
          "height": 35
        },
        "id": "YGYSVkddirqI",
        "outputId": "cbb97cd4-9808-4b1c-9308-82f6a4fa2c59"
      },
      "execution_count": 28,
      "outputs": [
        {
          "output_type": "execute_result",
          "data": {
            "text/plain": [
              "'Hello Hows is crosstabulation treating you in 2025'"
            ],
            "application/vnd.google.colaboratory.intrinsic+json": {
              "type": "string"
            }
          },
          "metadata": {},
          "execution_count": 28
        }
      ]
    },
    {
      "cell_type": "code",
      "source": [],
      "metadata": {
        "id": "K3QyEz9gj7Bq"
      },
      "execution_count": null,
      "outputs": []
    },
    {
      "cell_type": "code",
      "source": [
        "#Find all HAshtags, Mentions, Emails - We found, PinCODE - Phone Numbers via this only!\n",
        "text = \"Love #InceptezDS25 and #LaxmiSession! Follow @InceptezDS OR INCEPTEZ@GMAIL.COM\"\n",
        "hashtag = re.findall(r'#\\w+',text) #after # +\tOne or more - occurenses of \\w - [a-zA-Z0-9_]\n",
        "print(hashtag)\n",
        "mention = re.findall(r'@\\w+',text)\n",
        "print(mention)\n",
        "email = re.findall(r'[\\w\\.-]+@[\\w\\.-]+',text)\n",
        "print(email)"
      ],
      "metadata": {
        "colab": {
          "base_uri": "https://localhost:8080/"
        },
        "id": "GYY1mooli9ja",
        "outputId": "5390bcb5-bb74-4aaf-fe5d-eb61b0aecd30"
      },
      "execution_count": 29,
      "outputs": [
        {
          "output_type": "stream",
          "name": "stdout",
          "text": [
            "['#InceptezDS25', '#LaxmiSession']\n",
            "['@InceptezDS', '@GMAIL']\n",
            "['INCEPTEZ@GMAIL.COM']\n"
          ]
        }
      ]
    },
    {
      "cell_type": "code",
      "source": [
        "import re\n",
        "\n",
        "txt = \"The rain in Spain\"\n",
        "x = re.split(\"\\s\", txt)\n",
        "print(x)"
      ],
      "metadata": {
        "colab": {
          "base_uri": "https://localhost:8080/"
        },
        "id": "TTa6w3twjw1q",
        "outputId": "164f8bab-c1e7-4c9d-973b-80b5beb466de"
      },
      "execution_count": 30,
      "outputs": [
        {
          "output_type": "stream",
          "name": "stdout",
          "text": [
            "['The', 'rain', 'in', 'Spain']\n"
          ]
        },
        {
          "output_type": "stream",
          "name": "stderr",
          "text": [
            "<>:4: SyntaxWarning: invalid escape sequence '\\s'\n",
            "<>:4: SyntaxWarning: invalid escape sequence '\\s'\n",
            "/tmp/ipython-input-544782604.py:4: SyntaxWarning: invalid escape sequence '\\s'\n",
            "  x = re.split(\"\\s\", txt)\n"
          ]
        }
      ]
    },
    {
      "cell_type": "code",
      "source": [
        "print(x)"
      ],
      "metadata": {
        "colab": {
          "base_uri": "https://localhost:8080/"
        },
        "id": "LZB21vthkZkd",
        "outputId": "7c2add59-7857-4edf-bcb2-d5a8fafdf9e3"
      },
      "execution_count": 31,
      "outputs": [
        {
          "output_type": "stream",
          "name": "stdout",
          "text": [
            "['The', 'rain', 'in', 'Spain']\n"
          ]
        }
      ]
    },
    {
      "cell_type": "code",
      "source": [
        "docs = [\"New GPU benchmarks show faster training time GPU\", \"GPU benchmark reveals faster model training\",\n",
        "        'The striker scored two goals and an assist point']\n",
        "labels = ['base','similar','different']"
      ],
      "metadata": {
        "id": "6cYtDisIkcKH"
      },
      "execution_count": 51,
      "outputs": []
    },
    {
      "cell_type": "code",
      "source": [
        "import numpy as np\n",
        "normalize_corpus = np.vectorize(normalize_corpus)\n",
        "norm_corpus = normalize_corpus(docs)"
      ],
      "metadata": {
        "id": "RB-cn1v1m7gg"
      },
      "execution_count": 58,
      "outputs": []
    },
    {
      "cell_type": "code",
      "source": [
        "from sklearn.feature_extraction.text import CountVectorizer, TfidfVectorizer"
      ],
      "metadata": {
        "id": "49hzTUMalvb_"
      },
      "execution_count": 64,
      "outputs": []
    },
    {
      "cell_type": "code",
      "source": [
        "cv = CountVectorizer(lowercase=True,stop_words='english')\n",
        "X_count = cv.fit_transform(norm_corpus)"
      ],
      "metadata": {
        "id": "IEJF1Owgl4LA"
      },
      "execution_count": 110,
      "outputs": []
    },
    {
      "cell_type": "code",
      "source": [
        "#N-gram vectors\n",
        "\n",
        "cv = CountVectorizer(lowercase=True,stop_words='english',ngram_range=(1,2))\n",
        "X_count = cv.fit_transform(norm_corpus)"
      ],
      "metadata": {
        "id": "_UkoJIwSvPKj"
      },
      "execution_count": 104,
      "outputs": []
    },
    {
      "cell_type": "code",
      "source": [
        "X_count.toarray()"
      ],
      "metadata": {
        "colab": {
          "base_uri": "https://localhost:8080/"
        },
        "id": "M0HZyTTFl53P",
        "outputId": "7aa498fa-59fc-4809-e07e-ab88496da68d"
      },
      "execution_count": 111,
      "outputs": [
        {
          "output_type": "execute_result",
          "data": {
            "text/plain": [
              "array([[0, 1, 1, 0, 2, 0, 1, 0, 0, 0, 0, 1, 1],\n",
              "       [0, 1, 1, 0, 1, 1, 0, 0, 1, 0, 0, 0, 1],\n",
              "       [1, 0, 0, 1, 0, 0, 0, 1, 0, 1, 1, 0, 0]])"
            ]
          },
          "metadata": {},
          "execution_count": 111
        }
      ]
    },
    {
      "cell_type": "code",
      "source": [
        "vocab = cv.get_feature_names_out()"
      ],
      "metadata": {
        "id": "vXOQ_MvamSkm"
      },
      "execution_count": 112,
      "outputs": []
    },
    {
      "cell_type": "code",
      "source": [
        "vocab"
      ],
      "metadata": {
        "colab": {
          "base_uri": "https://localhost:8080/"
        },
        "id": "MnIem1dFmkAD",
        "outputId": "1013ff84-7eae-48f3-efd9-38415de5d870"
      },
      "execution_count": 113,
      "outputs": [
        {
          "output_type": "execute_result",
          "data": {
            "text/plain": [
              "array(['assist', 'benchmark', 'fast', 'goal', 'gpu', 'model', 'new',\n",
              "       'point', 'reveal', 'score', 'striker', 'time', 'training'],\n",
              "      dtype=object)"
            ]
          },
          "metadata": {},
          "execution_count": 113
        }
      ]
    },
    {
      "cell_type": "code",
      "source": [
        "pd.DataFrame(X_count.toarray(),columns=vocab)"
      ],
      "metadata": {
        "colab": {
          "base_uri": "https://localhost:8080/",
          "height": 143
        },
        "id": "o1UB70l1mktj",
        "outputId": "aac71076-58fe-409c-ae78-55530efbc0bf"
      },
      "execution_count": 114,
      "outputs": [
        {
          "output_type": "execute_result",
          "data": {
            "text/plain": [
              "   assist  benchmark  fast  goal  gpu  model  new  point  reveal  score  \\\n",
              "0       0          1     1     0    2      0    1      0       0      0   \n",
              "1       0          1     1     0    1      1    0      0       1      0   \n",
              "2       1          0     0     1    0      0    0      1       0      1   \n",
              "\n",
              "   striker  time  training  \n",
              "0        0     1         1  \n",
              "1        0     0         1  \n",
              "2        1     0         0  "
            ],
            "text/html": [
              "\n",
              "  <div id=\"df-259ce8dd-1f01-4d2a-b6b1-1eca66d7f572\" class=\"colab-df-container\">\n",
              "    <div>\n",
              "<style scoped>\n",
              "    .dataframe tbody tr th:only-of-type {\n",
              "        vertical-align: middle;\n",
              "    }\n",
              "\n",
              "    .dataframe tbody tr th {\n",
              "        vertical-align: top;\n",
              "    }\n",
              "\n",
              "    .dataframe thead th {\n",
              "        text-align: right;\n",
              "    }\n",
              "</style>\n",
              "<table border=\"1\" class=\"dataframe\">\n",
              "  <thead>\n",
              "    <tr style=\"text-align: right;\">\n",
              "      <th></th>\n",
              "      <th>assist</th>\n",
              "      <th>benchmark</th>\n",
              "      <th>fast</th>\n",
              "      <th>goal</th>\n",
              "      <th>gpu</th>\n",
              "      <th>model</th>\n",
              "      <th>new</th>\n",
              "      <th>point</th>\n",
              "      <th>reveal</th>\n",
              "      <th>score</th>\n",
              "      <th>striker</th>\n",
              "      <th>time</th>\n",
              "      <th>training</th>\n",
              "    </tr>\n",
              "  </thead>\n",
              "  <tbody>\n",
              "    <tr>\n",
              "      <th>0</th>\n",
              "      <td>0</td>\n",
              "      <td>1</td>\n",
              "      <td>1</td>\n",
              "      <td>0</td>\n",
              "      <td>2</td>\n",
              "      <td>0</td>\n",
              "      <td>1</td>\n",
              "      <td>0</td>\n",
              "      <td>0</td>\n",
              "      <td>0</td>\n",
              "      <td>0</td>\n",
              "      <td>1</td>\n",
              "      <td>1</td>\n",
              "    </tr>\n",
              "    <tr>\n",
              "      <th>1</th>\n",
              "      <td>0</td>\n",
              "      <td>1</td>\n",
              "      <td>1</td>\n",
              "      <td>0</td>\n",
              "      <td>1</td>\n",
              "      <td>1</td>\n",
              "      <td>0</td>\n",
              "      <td>0</td>\n",
              "      <td>1</td>\n",
              "      <td>0</td>\n",
              "      <td>0</td>\n",
              "      <td>0</td>\n",
              "      <td>1</td>\n",
              "    </tr>\n",
              "    <tr>\n",
              "      <th>2</th>\n",
              "      <td>1</td>\n",
              "      <td>0</td>\n",
              "      <td>0</td>\n",
              "      <td>1</td>\n",
              "      <td>0</td>\n",
              "      <td>0</td>\n",
              "      <td>0</td>\n",
              "      <td>1</td>\n",
              "      <td>0</td>\n",
              "      <td>1</td>\n",
              "      <td>1</td>\n",
              "      <td>0</td>\n",
              "      <td>0</td>\n",
              "    </tr>\n",
              "  </tbody>\n",
              "</table>\n",
              "</div>\n",
              "    <div class=\"colab-df-buttons\">\n",
              "\n",
              "  <div class=\"colab-df-container\">\n",
              "    <button class=\"colab-df-convert\" onclick=\"convertToInteractive('df-259ce8dd-1f01-4d2a-b6b1-1eca66d7f572')\"\n",
              "            title=\"Convert this dataframe to an interactive table.\"\n",
              "            style=\"display:none;\">\n",
              "\n",
              "  <svg xmlns=\"http://www.w3.org/2000/svg\" height=\"24px\" viewBox=\"0 -960 960 960\">\n",
              "    <path d=\"M120-120v-720h720v720H120Zm60-500h600v-160H180v160Zm220 220h160v-160H400v160Zm0 220h160v-160H400v160ZM180-400h160v-160H180v160Zm440 0h160v-160H620v160ZM180-180h160v-160H180v160Zm440 0h160v-160H620v160Z\"/>\n",
              "  </svg>\n",
              "    </button>\n",
              "\n",
              "  <style>\n",
              "    .colab-df-container {\n",
              "      display:flex;\n",
              "      gap: 12px;\n",
              "    }\n",
              "\n",
              "    .colab-df-convert {\n",
              "      background-color: #E8F0FE;\n",
              "      border: none;\n",
              "      border-radius: 50%;\n",
              "      cursor: pointer;\n",
              "      display: none;\n",
              "      fill: #1967D2;\n",
              "      height: 32px;\n",
              "      padding: 0 0 0 0;\n",
              "      width: 32px;\n",
              "    }\n",
              "\n",
              "    .colab-df-convert:hover {\n",
              "      background-color: #E2EBFA;\n",
              "      box-shadow: 0px 1px 2px rgba(60, 64, 67, 0.3), 0px 1px 3px 1px rgba(60, 64, 67, 0.15);\n",
              "      fill: #174EA6;\n",
              "    }\n",
              "\n",
              "    .colab-df-buttons div {\n",
              "      margin-bottom: 4px;\n",
              "    }\n",
              "\n",
              "    [theme=dark] .colab-df-convert {\n",
              "      background-color: #3B4455;\n",
              "      fill: #D2E3FC;\n",
              "    }\n",
              "\n",
              "    [theme=dark] .colab-df-convert:hover {\n",
              "      background-color: #434B5C;\n",
              "      box-shadow: 0px 1px 3px 1px rgba(0, 0, 0, 0.15);\n",
              "      filter: drop-shadow(0px 1px 2px rgba(0, 0, 0, 0.3));\n",
              "      fill: #FFFFFF;\n",
              "    }\n",
              "  </style>\n",
              "\n",
              "    <script>\n",
              "      const buttonEl =\n",
              "        document.querySelector('#df-259ce8dd-1f01-4d2a-b6b1-1eca66d7f572 button.colab-df-convert');\n",
              "      buttonEl.style.display =\n",
              "        google.colab.kernel.accessAllowed ? 'block' : 'none';\n",
              "\n",
              "      async function convertToInteractive(key) {\n",
              "        const element = document.querySelector('#df-259ce8dd-1f01-4d2a-b6b1-1eca66d7f572');\n",
              "        const dataTable =\n",
              "          await google.colab.kernel.invokeFunction('convertToInteractive',\n",
              "                                                    [key], {});\n",
              "        if (!dataTable) return;\n",
              "\n",
              "        const docLinkHtml = 'Like what you see? Visit the ' +\n",
              "          '<a target=\"_blank\" href=https://colab.research.google.com/notebooks/data_table.ipynb>data table notebook</a>'\n",
              "          + ' to learn more about interactive tables.';\n",
              "        element.innerHTML = '';\n",
              "        dataTable['output_type'] = 'display_data';\n",
              "        await google.colab.output.renderOutput(dataTable, element);\n",
              "        const docLink = document.createElement('div');\n",
              "        docLink.innerHTML = docLinkHtml;\n",
              "        element.appendChild(docLink);\n",
              "      }\n",
              "    </script>\n",
              "  </div>\n",
              "\n",
              "\n",
              "    <div id=\"df-bb46ba38-d6f9-4c43-8348-2dc7159b2039\">\n",
              "      <button class=\"colab-df-quickchart\" onclick=\"quickchart('df-bb46ba38-d6f9-4c43-8348-2dc7159b2039')\"\n",
              "                title=\"Suggest charts\"\n",
              "                style=\"display:none;\">\n",
              "\n",
              "<svg xmlns=\"http://www.w3.org/2000/svg\" height=\"24px\"viewBox=\"0 0 24 24\"\n",
              "     width=\"24px\">\n",
              "    <g>\n",
              "        <path d=\"M19 3H5c-1.1 0-2 .9-2 2v14c0 1.1.9 2 2 2h14c1.1 0 2-.9 2-2V5c0-1.1-.9-2-2-2zM9 17H7v-7h2v7zm4 0h-2V7h2v10zm4 0h-2v-4h2v4z\"/>\n",
              "    </g>\n",
              "</svg>\n",
              "      </button>\n",
              "\n",
              "<style>\n",
              "  .colab-df-quickchart {\n",
              "      --bg-color: #E8F0FE;\n",
              "      --fill-color: #1967D2;\n",
              "      --hover-bg-color: #E2EBFA;\n",
              "      --hover-fill-color: #174EA6;\n",
              "      --disabled-fill-color: #AAA;\n",
              "      --disabled-bg-color: #DDD;\n",
              "  }\n",
              "\n",
              "  [theme=dark] .colab-df-quickchart {\n",
              "      --bg-color: #3B4455;\n",
              "      --fill-color: #D2E3FC;\n",
              "      --hover-bg-color: #434B5C;\n",
              "      --hover-fill-color: #FFFFFF;\n",
              "      --disabled-bg-color: #3B4455;\n",
              "      --disabled-fill-color: #666;\n",
              "  }\n",
              "\n",
              "  .colab-df-quickchart {\n",
              "    background-color: var(--bg-color);\n",
              "    border: none;\n",
              "    border-radius: 50%;\n",
              "    cursor: pointer;\n",
              "    display: none;\n",
              "    fill: var(--fill-color);\n",
              "    height: 32px;\n",
              "    padding: 0;\n",
              "    width: 32px;\n",
              "  }\n",
              "\n",
              "  .colab-df-quickchart:hover {\n",
              "    background-color: var(--hover-bg-color);\n",
              "    box-shadow: 0 1px 2px rgba(60, 64, 67, 0.3), 0 1px 3px 1px rgba(60, 64, 67, 0.15);\n",
              "    fill: var(--button-hover-fill-color);\n",
              "  }\n",
              "\n",
              "  .colab-df-quickchart-complete:disabled,\n",
              "  .colab-df-quickchart-complete:disabled:hover {\n",
              "    background-color: var(--disabled-bg-color);\n",
              "    fill: var(--disabled-fill-color);\n",
              "    box-shadow: none;\n",
              "  }\n",
              "\n",
              "  .colab-df-spinner {\n",
              "    border: 2px solid var(--fill-color);\n",
              "    border-color: transparent;\n",
              "    border-bottom-color: var(--fill-color);\n",
              "    animation:\n",
              "      spin 1s steps(1) infinite;\n",
              "  }\n",
              "\n",
              "  @keyframes spin {\n",
              "    0% {\n",
              "      border-color: transparent;\n",
              "      border-bottom-color: var(--fill-color);\n",
              "      border-left-color: var(--fill-color);\n",
              "    }\n",
              "    20% {\n",
              "      border-color: transparent;\n",
              "      border-left-color: var(--fill-color);\n",
              "      border-top-color: var(--fill-color);\n",
              "    }\n",
              "    30% {\n",
              "      border-color: transparent;\n",
              "      border-left-color: var(--fill-color);\n",
              "      border-top-color: var(--fill-color);\n",
              "      border-right-color: var(--fill-color);\n",
              "    }\n",
              "    40% {\n",
              "      border-color: transparent;\n",
              "      border-right-color: var(--fill-color);\n",
              "      border-top-color: var(--fill-color);\n",
              "    }\n",
              "    60% {\n",
              "      border-color: transparent;\n",
              "      border-right-color: var(--fill-color);\n",
              "    }\n",
              "    80% {\n",
              "      border-color: transparent;\n",
              "      border-right-color: var(--fill-color);\n",
              "      border-bottom-color: var(--fill-color);\n",
              "    }\n",
              "    90% {\n",
              "      border-color: transparent;\n",
              "      border-bottom-color: var(--fill-color);\n",
              "    }\n",
              "  }\n",
              "</style>\n",
              "\n",
              "      <script>\n",
              "        async function quickchart(key) {\n",
              "          const quickchartButtonEl =\n",
              "            document.querySelector('#' + key + ' button');\n",
              "          quickchartButtonEl.disabled = true;  // To prevent multiple clicks.\n",
              "          quickchartButtonEl.classList.add('colab-df-spinner');\n",
              "          try {\n",
              "            const charts = await google.colab.kernel.invokeFunction(\n",
              "                'suggestCharts', [key], {});\n",
              "          } catch (error) {\n",
              "            console.error('Error during call to suggestCharts:', error);\n",
              "          }\n",
              "          quickchartButtonEl.classList.remove('colab-df-spinner');\n",
              "          quickchartButtonEl.classList.add('colab-df-quickchart-complete');\n",
              "        }\n",
              "        (() => {\n",
              "          let quickchartButtonEl =\n",
              "            document.querySelector('#df-bb46ba38-d6f9-4c43-8348-2dc7159b2039 button');\n",
              "          quickchartButtonEl.style.display =\n",
              "            google.colab.kernel.accessAllowed ? 'block' : 'none';\n",
              "        })();\n",
              "      </script>\n",
              "    </div>\n",
              "\n",
              "    </div>\n",
              "  </div>\n"
            ],
            "application/vnd.google.colaboratory.intrinsic+json": {
              "type": "dataframe",
              "summary": "{\n  \"name\": \"pd\",\n  \"rows\": 3,\n  \"fields\": [\n    {\n      \"column\": \"assist\",\n      \"properties\": {\n        \"dtype\": \"number\",\n        \"std\": 0,\n        \"min\": 0,\n        \"max\": 1,\n        \"num_unique_values\": 2,\n        \"samples\": [\n          1,\n          0\n        ],\n        \"semantic_type\": \"\",\n        \"description\": \"\"\n      }\n    },\n    {\n      \"column\": \"benchmark\",\n      \"properties\": {\n        \"dtype\": \"number\",\n        \"std\": 0,\n        \"min\": 0,\n        \"max\": 1,\n        \"num_unique_values\": 2,\n        \"samples\": [\n          0,\n          1\n        ],\n        \"semantic_type\": \"\",\n        \"description\": \"\"\n      }\n    },\n    {\n      \"column\": \"fast\",\n      \"properties\": {\n        \"dtype\": \"number\",\n        \"std\": 0,\n        \"min\": 0,\n        \"max\": 1,\n        \"num_unique_values\": 2,\n        \"samples\": [\n          0,\n          1\n        ],\n        \"semantic_type\": \"\",\n        \"description\": \"\"\n      }\n    },\n    {\n      \"column\": \"goal\",\n      \"properties\": {\n        \"dtype\": \"number\",\n        \"std\": 0,\n        \"min\": 0,\n        \"max\": 1,\n        \"num_unique_values\": 2,\n        \"samples\": [\n          1,\n          0\n        ],\n        \"semantic_type\": \"\",\n        \"description\": \"\"\n      }\n    },\n    {\n      \"column\": \"gpu\",\n      \"properties\": {\n        \"dtype\": \"number\",\n        \"std\": 1,\n        \"min\": 0,\n        \"max\": 2,\n        \"num_unique_values\": 3,\n        \"samples\": [\n          2,\n          1\n        ],\n        \"semantic_type\": \"\",\n        \"description\": \"\"\n      }\n    },\n    {\n      \"column\": \"model\",\n      \"properties\": {\n        \"dtype\": \"number\",\n        \"std\": 0,\n        \"min\": 0,\n        \"max\": 1,\n        \"num_unique_values\": 2,\n        \"samples\": [\n          1,\n          0\n        ],\n        \"semantic_type\": \"\",\n        \"description\": \"\"\n      }\n    },\n    {\n      \"column\": \"new\",\n      \"properties\": {\n        \"dtype\": \"number\",\n        \"std\": 0,\n        \"min\": 0,\n        \"max\": 1,\n        \"num_unique_values\": 2,\n        \"samples\": [\n          0,\n          1\n        ],\n        \"semantic_type\": \"\",\n        \"description\": \"\"\n      }\n    },\n    {\n      \"column\": \"point\",\n      \"properties\": {\n        \"dtype\": \"number\",\n        \"std\": 0,\n        \"min\": 0,\n        \"max\": 1,\n        \"num_unique_values\": 2,\n        \"samples\": [\n          1,\n          0\n        ],\n        \"semantic_type\": \"\",\n        \"description\": \"\"\n      }\n    },\n    {\n      \"column\": \"reveal\",\n      \"properties\": {\n        \"dtype\": \"number\",\n        \"std\": 0,\n        \"min\": 0,\n        \"max\": 1,\n        \"num_unique_values\": 2,\n        \"samples\": [\n          1,\n          0\n        ],\n        \"semantic_type\": \"\",\n        \"description\": \"\"\n      }\n    },\n    {\n      \"column\": \"score\",\n      \"properties\": {\n        \"dtype\": \"number\",\n        \"std\": 0,\n        \"min\": 0,\n        \"max\": 1,\n        \"num_unique_values\": 2,\n        \"samples\": [\n          1,\n          0\n        ],\n        \"semantic_type\": \"\",\n        \"description\": \"\"\n      }\n    },\n    {\n      \"column\": \"striker\",\n      \"properties\": {\n        \"dtype\": \"number\",\n        \"std\": 0,\n        \"min\": 0,\n        \"max\": 1,\n        \"num_unique_values\": 2,\n        \"samples\": [\n          1,\n          0\n        ],\n        \"semantic_type\": \"\",\n        \"description\": \"\"\n      }\n    },\n    {\n      \"column\": \"time\",\n      \"properties\": {\n        \"dtype\": \"number\",\n        \"std\": 0,\n        \"min\": 0,\n        \"max\": 1,\n        \"num_unique_values\": 2,\n        \"samples\": [\n          0,\n          1\n        ],\n        \"semantic_type\": \"\",\n        \"description\": \"\"\n      }\n    },\n    {\n      \"column\": \"training\",\n      \"properties\": {\n        \"dtype\": \"number\",\n        \"std\": 0,\n        \"min\": 0,\n        \"max\": 1,\n        \"num_unique_values\": 2,\n        \"samples\": [\n          0,\n          1\n        ],\n        \"semantic_type\": \"\",\n        \"description\": \"\"\n      }\n    }\n  ]\n}"
            }
          },
          "metadata": {},
          "execution_count": 114
        }
      ]
    },
    {
      "cell_type": "code",
      "source": [
        "tfidf = TfidfVectorizer(lowercase=True, stop_words='english')\n",
        "X_tfidf = tfidf.fit_transform(norm_corpus)"
      ],
      "metadata": {
        "id": "IFoZHUBrmowG"
      },
      "execution_count": 65,
      "outputs": []
    },
    {
      "cell_type": "code",
      "source": [
        "vocab = tfidf.get_feature_names_out()"
      ],
      "metadata": {
        "id": "09mNnuM8qgPA"
      },
      "execution_count": 68,
      "outputs": []
    },
    {
      "cell_type": "code",
      "source": [
        "pd.DataFrame(X_tfidf.toarray(),columns=vocab)"
      ],
      "metadata": {
        "colab": {
          "base_uri": "https://localhost:8080/",
          "height": 143
        },
        "id": "7V2UC8h6qimp",
        "outputId": "98b6f7bb-e51d-4173-b0e6-bf6411fb87f7"
      },
      "execution_count": 69,
      "outputs": [
        {
          "output_type": "execute_result",
          "data": {
            "text/plain": [
              "     assist  benchmark      fast      goal       gpu     model       new  \\\n",
              "0  0.000000   0.309228  0.309228  0.000000  0.618457  0.000000  0.406598   \n",
              "1  0.000000   0.366180  0.366180  0.000000  0.366180  0.481482  0.000000   \n",
              "2  0.447214   0.000000  0.000000  0.447214  0.000000  0.000000  0.000000   \n",
              "\n",
              "      point    reveal     score   striker      time  training  \n",
              "0  0.000000  0.000000  0.000000  0.000000  0.406598  0.309228  \n",
              "1  0.000000  0.481482  0.000000  0.000000  0.000000  0.366180  \n",
              "2  0.447214  0.000000  0.447214  0.447214  0.000000  0.000000  "
            ],
            "text/html": [
              "\n",
              "  <div id=\"df-5db91a74-9d41-436c-b5c4-11f12a75cfe2\" class=\"colab-df-container\">\n",
              "    <div>\n",
              "<style scoped>\n",
              "    .dataframe tbody tr th:only-of-type {\n",
              "        vertical-align: middle;\n",
              "    }\n",
              "\n",
              "    .dataframe tbody tr th {\n",
              "        vertical-align: top;\n",
              "    }\n",
              "\n",
              "    .dataframe thead th {\n",
              "        text-align: right;\n",
              "    }\n",
              "</style>\n",
              "<table border=\"1\" class=\"dataframe\">\n",
              "  <thead>\n",
              "    <tr style=\"text-align: right;\">\n",
              "      <th></th>\n",
              "      <th>assist</th>\n",
              "      <th>benchmark</th>\n",
              "      <th>fast</th>\n",
              "      <th>goal</th>\n",
              "      <th>gpu</th>\n",
              "      <th>model</th>\n",
              "      <th>new</th>\n",
              "      <th>point</th>\n",
              "      <th>reveal</th>\n",
              "      <th>score</th>\n",
              "      <th>striker</th>\n",
              "      <th>time</th>\n",
              "      <th>training</th>\n",
              "    </tr>\n",
              "  </thead>\n",
              "  <tbody>\n",
              "    <tr>\n",
              "      <th>0</th>\n",
              "      <td>0.000000</td>\n",
              "      <td>0.309228</td>\n",
              "      <td>0.309228</td>\n",
              "      <td>0.000000</td>\n",
              "      <td>0.618457</td>\n",
              "      <td>0.000000</td>\n",
              "      <td>0.406598</td>\n",
              "      <td>0.000000</td>\n",
              "      <td>0.000000</td>\n",
              "      <td>0.000000</td>\n",
              "      <td>0.000000</td>\n",
              "      <td>0.406598</td>\n",
              "      <td>0.309228</td>\n",
              "    </tr>\n",
              "    <tr>\n",
              "      <th>1</th>\n",
              "      <td>0.000000</td>\n",
              "      <td>0.366180</td>\n",
              "      <td>0.366180</td>\n",
              "      <td>0.000000</td>\n",
              "      <td>0.366180</td>\n",
              "      <td>0.481482</td>\n",
              "      <td>0.000000</td>\n",
              "      <td>0.000000</td>\n",
              "      <td>0.481482</td>\n",
              "      <td>0.000000</td>\n",
              "      <td>0.000000</td>\n",
              "      <td>0.000000</td>\n",
              "      <td>0.366180</td>\n",
              "    </tr>\n",
              "    <tr>\n",
              "      <th>2</th>\n",
              "      <td>0.447214</td>\n",
              "      <td>0.000000</td>\n",
              "      <td>0.000000</td>\n",
              "      <td>0.447214</td>\n",
              "      <td>0.000000</td>\n",
              "      <td>0.000000</td>\n",
              "      <td>0.000000</td>\n",
              "      <td>0.447214</td>\n",
              "      <td>0.000000</td>\n",
              "      <td>0.447214</td>\n",
              "      <td>0.447214</td>\n",
              "      <td>0.000000</td>\n",
              "      <td>0.000000</td>\n",
              "    </tr>\n",
              "  </tbody>\n",
              "</table>\n",
              "</div>\n",
              "    <div class=\"colab-df-buttons\">\n",
              "\n",
              "  <div class=\"colab-df-container\">\n",
              "    <button class=\"colab-df-convert\" onclick=\"convertToInteractive('df-5db91a74-9d41-436c-b5c4-11f12a75cfe2')\"\n",
              "            title=\"Convert this dataframe to an interactive table.\"\n",
              "            style=\"display:none;\">\n",
              "\n",
              "  <svg xmlns=\"http://www.w3.org/2000/svg\" height=\"24px\" viewBox=\"0 -960 960 960\">\n",
              "    <path d=\"M120-120v-720h720v720H120Zm60-500h600v-160H180v160Zm220 220h160v-160H400v160Zm0 220h160v-160H400v160ZM180-400h160v-160H180v160Zm440 0h160v-160H620v160ZM180-180h160v-160H180v160Zm440 0h160v-160H620v160Z\"/>\n",
              "  </svg>\n",
              "    </button>\n",
              "\n",
              "  <style>\n",
              "    .colab-df-container {\n",
              "      display:flex;\n",
              "      gap: 12px;\n",
              "    }\n",
              "\n",
              "    .colab-df-convert {\n",
              "      background-color: #E8F0FE;\n",
              "      border: none;\n",
              "      border-radius: 50%;\n",
              "      cursor: pointer;\n",
              "      display: none;\n",
              "      fill: #1967D2;\n",
              "      height: 32px;\n",
              "      padding: 0 0 0 0;\n",
              "      width: 32px;\n",
              "    }\n",
              "\n",
              "    .colab-df-convert:hover {\n",
              "      background-color: #E2EBFA;\n",
              "      box-shadow: 0px 1px 2px rgba(60, 64, 67, 0.3), 0px 1px 3px 1px rgba(60, 64, 67, 0.15);\n",
              "      fill: #174EA6;\n",
              "    }\n",
              "\n",
              "    .colab-df-buttons div {\n",
              "      margin-bottom: 4px;\n",
              "    }\n",
              "\n",
              "    [theme=dark] .colab-df-convert {\n",
              "      background-color: #3B4455;\n",
              "      fill: #D2E3FC;\n",
              "    }\n",
              "\n",
              "    [theme=dark] .colab-df-convert:hover {\n",
              "      background-color: #434B5C;\n",
              "      box-shadow: 0px 1px 3px 1px rgba(0, 0, 0, 0.15);\n",
              "      filter: drop-shadow(0px 1px 2px rgba(0, 0, 0, 0.3));\n",
              "      fill: #FFFFFF;\n",
              "    }\n",
              "  </style>\n",
              "\n",
              "    <script>\n",
              "      const buttonEl =\n",
              "        document.querySelector('#df-5db91a74-9d41-436c-b5c4-11f12a75cfe2 button.colab-df-convert');\n",
              "      buttonEl.style.display =\n",
              "        google.colab.kernel.accessAllowed ? 'block' : 'none';\n",
              "\n",
              "      async function convertToInteractive(key) {\n",
              "        const element = document.querySelector('#df-5db91a74-9d41-436c-b5c4-11f12a75cfe2');\n",
              "        const dataTable =\n",
              "          await google.colab.kernel.invokeFunction('convertToInteractive',\n",
              "                                                    [key], {});\n",
              "        if (!dataTable) return;\n",
              "\n",
              "        const docLinkHtml = 'Like what you see? Visit the ' +\n",
              "          '<a target=\"_blank\" href=https://colab.research.google.com/notebooks/data_table.ipynb>data table notebook</a>'\n",
              "          + ' to learn more about interactive tables.';\n",
              "        element.innerHTML = '';\n",
              "        dataTable['output_type'] = 'display_data';\n",
              "        await google.colab.output.renderOutput(dataTable, element);\n",
              "        const docLink = document.createElement('div');\n",
              "        docLink.innerHTML = docLinkHtml;\n",
              "        element.appendChild(docLink);\n",
              "      }\n",
              "    </script>\n",
              "  </div>\n",
              "\n",
              "\n",
              "    <div id=\"df-5d03888f-1740-4c35-9dd4-91e0676fed8f\">\n",
              "      <button class=\"colab-df-quickchart\" onclick=\"quickchart('df-5d03888f-1740-4c35-9dd4-91e0676fed8f')\"\n",
              "                title=\"Suggest charts\"\n",
              "                style=\"display:none;\">\n",
              "\n",
              "<svg xmlns=\"http://www.w3.org/2000/svg\" height=\"24px\"viewBox=\"0 0 24 24\"\n",
              "     width=\"24px\">\n",
              "    <g>\n",
              "        <path d=\"M19 3H5c-1.1 0-2 .9-2 2v14c0 1.1.9 2 2 2h14c1.1 0 2-.9 2-2V5c0-1.1-.9-2-2-2zM9 17H7v-7h2v7zm4 0h-2V7h2v10zm4 0h-2v-4h2v4z\"/>\n",
              "    </g>\n",
              "</svg>\n",
              "      </button>\n",
              "\n",
              "<style>\n",
              "  .colab-df-quickchart {\n",
              "      --bg-color: #E8F0FE;\n",
              "      --fill-color: #1967D2;\n",
              "      --hover-bg-color: #E2EBFA;\n",
              "      --hover-fill-color: #174EA6;\n",
              "      --disabled-fill-color: #AAA;\n",
              "      --disabled-bg-color: #DDD;\n",
              "  }\n",
              "\n",
              "  [theme=dark] .colab-df-quickchart {\n",
              "      --bg-color: #3B4455;\n",
              "      --fill-color: #D2E3FC;\n",
              "      --hover-bg-color: #434B5C;\n",
              "      --hover-fill-color: #FFFFFF;\n",
              "      --disabled-bg-color: #3B4455;\n",
              "      --disabled-fill-color: #666;\n",
              "  }\n",
              "\n",
              "  .colab-df-quickchart {\n",
              "    background-color: var(--bg-color);\n",
              "    border: none;\n",
              "    border-radius: 50%;\n",
              "    cursor: pointer;\n",
              "    display: none;\n",
              "    fill: var(--fill-color);\n",
              "    height: 32px;\n",
              "    padding: 0;\n",
              "    width: 32px;\n",
              "  }\n",
              "\n",
              "  .colab-df-quickchart:hover {\n",
              "    background-color: var(--hover-bg-color);\n",
              "    box-shadow: 0 1px 2px rgba(60, 64, 67, 0.3), 0 1px 3px 1px rgba(60, 64, 67, 0.15);\n",
              "    fill: var(--button-hover-fill-color);\n",
              "  }\n",
              "\n",
              "  .colab-df-quickchart-complete:disabled,\n",
              "  .colab-df-quickchart-complete:disabled:hover {\n",
              "    background-color: var(--disabled-bg-color);\n",
              "    fill: var(--disabled-fill-color);\n",
              "    box-shadow: none;\n",
              "  }\n",
              "\n",
              "  .colab-df-spinner {\n",
              "    border: 2px solid var(--fill-color);\n",
              "    border-color: transparent;\n",
              "    border-bottom-color: var(--fill-color);\n",
              "    animation:\n",
              "      spin 1s steps(1) infinite;\n",
              "  }\n",
              "\n",
              "  @keyframes spin {\n",
              "    0% {\n",
              "      border-color: transparent;\n",
              "      border-bottom-color: var(--fill-color);\n",
              "      border-left-color: var(--fill-color);\n",
              "    }\n",
              "    20% {\n",
              "      border-color: transparent;\n",
              "      border-left-color: var(--fill-color);\n",
              "      border-top-color: var(--fill-color);\n",
              "    }\n",
              "    30% {\n",
              "      border-color: transparent;\n",
              "      border-left-color: var(--fill-color);\n",
              "      border-top-color: var(--fill-color);\n",
              "      border-right-color: var(--fill-color);\n",
              "    }\n",
              "    40% {\n",
              "      border-color: transparent;\n",
              "      border-right-color: var(--fill-color);\n",
              "      border-top-color: var(--fill-color);\n",
              "    }\n",
              "    60% {\n",
              "      border-color: transparent;\n",
              "      border-right-color: var(--fill-color);\n",
              "    }\n",
              "    80% {\n",
              "      border-color: transparent;\n",
              "      border-right-color: var(--fill-color);\n",
              "      border-bottom-color: var(--fill-color);\n",
              "    }\n",
              "    90% {\n",
              "      border-color: transparent;\n",
              "      border-bottom-color: var(--fill-color);\n",
              "    }\n",
              "  }\n",
              "</style>\n",
              "\n",
              "      <script>\n",
              "        async function quickchart(key) {\n",
              "          const quickchartButtonEl =\n",
              "            document.querySelector('#' + key + ' button');\n",
              "          quickchartButtonEl.disabled = true;  // To prevent multiple clicks.\n",
              "          quickchartButtonEl.classList.add('colab-df-spinner');\n",
              "          try {\n",
              "            const charts = await google.colab.kernel.invokeFunction(\n",
              "                'suggestCharts', [key], {});\n",
              "          } catch (error) {\n",
              "            console.error('Error during call to suggestCharts:', error);\n",
              "          }\n",
              "          quickchartButtonEl.classList.remove('colab-df-spinner');\n",
              "          quickchartButtonEl.classList.add('colab-df-quickchart-complete');\n",
              "        }\n",
              "        (() => {\n",
              "          let quickchartButtonEl =\n",
              "            document.querySelector('#df-5d03888f-1740-4c35-9dd4-91e0676fed8f button');\n",
              "          quickchartButtonEl.style.display =\n",
              "            google.colab.kernel.accessAllowed ? 'block' : 'none';\n",
              "        })();\n",
              "      </script>\n",
              "    </div>\n",
              "\n",
              "    </div>\n",
              "  </div>\n"
            ],
            "application/vnd.google.colaboratory.intrinsic+json": {
              "type": "dataframe",
              "summary": "{\n  \"name\": \"pd\",\n  \"rows\": 3,\n  \"fields\": [\n    {\n      \"column\": \"assist\",\n      \"properties\": {\n        \"dtype\": \"number\",\n        \"std\": 0.2581988897471611,\n        \"min\": 0.0,\n        \"max\": 0.4472135954999579,\n        \"num_unique_values\": 2,\n        \"samples\": [\n          0.4472135954999579,\n          0.0\n        ],\n        \"semantic_type\": \"\",\n        \"description\": \"\"\n      }\n    },\n    {\n      \"column\": \"benchmark\",\n      \"properties\": {\n        \"dtype\": \"number\",\n        \"std\": 0.19704193701899422,\n        \"min\": 0.0,\n        \"max\": 0.3661795714211074,\n        \"num_unique_values\": 3,\n        \"samples\": [\n          0.30922846311753477,\n          0.3661795714211074\n        ],\n        \"semantic_type\": \"\",\n        \"description\": \"\"\n      }\n    },\n    {\n      \"column\": \"fast\",\n      \"properties\": {\n        \"dtype\": \"number\",\n        \"std\": 0.19704193701899422,\n        \"min\": 0.0,\n        \"max\": 0.3661795714211074,\n        \"num_unique_values\": 3,\n        \"samples\": [\n          0.30922846311753477,\n          0.3661795714211074\n        ],\n        \"semantic_type\": \"\",\n        \"description\": \"\"\n      }\n    },\n    {\n      \"column\": \"goal\",\n      \"properties\": {\n        \"dtype\": \"number\",\n        \"std\": 0.2581988897471611,\n        \"min\": 0.0,\n        \"max\": 0.4472135954999579,\n        \"num_unique_values\": 2,\n        \"samples\": [\n          0.4472135954999579,\n          0.0\n        ],\n        \"semantic_type\": \"\",\n        \"description\": \"\"\n      }\n    },\n    {\n      \"column\": \"gpu\",\n      \"properties\": {\n        \"dtype\": \"number\",\n        \"std\": 0.3109716792802323,\n        \"min\": 0.0,\n        \"max\": 0.6184569262350695,\n        \"num_unique_values\": 3,\n        \"samples\": [\n          0.6184569262350695,\n          0.3661795714211074\n        ],\n        \"semantic_type\": \"\",\n        \"description\": \"\"\n      }\n    },\n    {\n      \"column\": \"model\",\n      \"properties\": {\n        \"dtype\": \"number\",\n        \"std\": 0.2779838382278775,\n        \"min\": 0.0,\n        \"max\": 0.4814821314936913,\n        \"num_unique_values\": 2,\n        \"samples\": [\n          0.4814821314936913,\n          0.0\n        ],\n        \"semantic_type\": \"\",\n        \"description\": \"\"\n      }\n    },\n    {\n      \"column\": \"new\",\n      \"properties\": {\n        \"dtype\": \"number\",\n        \"std\": 0.23474961951895768,\n        \"min\": 0.0,\n        \"max\": 0.4065982680642973,\n        \"num_unique_values\": 2,\n        \"samples\": [\n          0.0,\n          0.4065982680642973\n        ],\n        \"semantic_type\": \"\",\n        \"description\": \"\"\n      }\n    },\n    {\n      \"column\": \"point\",\n      \"properties\": {\n        \"dtype\": \"number\",\n        \"std\": 0.2581988897471611,\n        \"min\": 0.0,\n        \"max\": 0.4472135954999579,\n        \"num_unique_values\": 2,\n        \"samples\": [\n          0.4472135954999579,\n          0.0\n        ],\n        \"semantic_type\": \"\",\n        \"description\": \"\"\n      }\n    },\n    {\n      \"column\": \"reveal\",\n      \"properties\": {\n        \"dtype\": \"number\",\n        \"std\": 0.2779838382278775,\n        \"min\": 0.0,\n        \"max\": 0.4814821314936913,\n        \"num_unique_values\": 2,\n        \"samples\": [\n          0.4814821314936913,\n          0.0\n        ],\n        \"semantic_type\": \"\",\n        \"description\": \"\"\n      }\n    },\n    {\n      \"column\": \"score\",\n      \"properties\": {\n        \"dtype\": \"number\",\n        \"std\": 0.2581988897471611,\n        \"min\": 0.0,\n        \"max\": 0.4472135954999579,\n        \"num_unique_values\": 2,\n        \"samples\": [\n          0.4472135954999579,\n          0.0\n        ],\n        \"semantic_type\": \"\",\n        \"description\": \"\"\n      }\n    },\n    {\n      \"column\": \"striker\",\n      \"properties\": {\n        \"dtype\": \"number\",\n        \"std\": 0.2581988897471611,\n        \"min\": 0.0,\n        \"max\": 0.4472135954999579,\n        \"num_unique_values\": 2,\n        \"samples\": [\n          0.4472135954999579,\n          0.0\n        ],\n        \"semantic_type\": \"\",\n        \"description\": \"\"\n      }\n    },\n    {\n      \"column\": \"time\",\n      \"properties\": {\n        \"dtype\": \"number\",\n        \"std\": 0.23474961951895768,\n        \"min\": 0.0,\n        \"max\": 0.4065982680642973,\n        \"num_unique_values\": 2,\n        \"samples\": [\n          0.0,\n          0.4065982680642973\n        ],\n        \"semantic_type\": \"\",\n        \"description\": \"\"\n      }\n    },\n    {\n      \"column\": \"training\",\n      \"properties\": {\n        \"dtype\": \"number\",\n        \"std\": 0.19704193701899422,\n        \"min\": 0.0,\n        \"max\": 0.3661795714211074,\n        \"num_unique_values\": 3,\n        \"samples\": [\n          0.30922846311753477,\n          0.3661795714211074\n        ],\n        \"semantic_type\": \"\",\n        \"description\": \"\"\n      }\n    }\n  ]\n}"
            }
          },
          "metadata": {},
          "execution_count": 69
        }
      ]
    },
    {
      "cell_type": "code",
      "source": [
        "#King - Man + Woman = Queen"
      ],
      "metadata": {
        "id": "ekt-8K6-qmgJ"
      },
      "execution_count": 71,
      "outputs": []
    },
    {
      "cell_type": "code",
      "source": [
        "#difference between Distance -> how far? and Similarity -> how close?\n",
        "#Similarity = 1-Distance"
      ],
      "metadata": {
        "id": "30SoUrQnrCyF"
      },
      "execution_count": null,
      "outputs": []
    },
    {
      "cell_type": "markdown",
      "source": [
        "![image.png](data:image/png;base64,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)"
      ],
      "metadata": {
        "id": "YuoUVZjfuplV"
      }
    },
    {
      "cell_type": "code",
      "source": [
        "from sklearn.metrics.pairwise import cosine_distances"
      ],
      "metadata": {
        "id": "PofwOgSutOM8"
      },
      "execution_count": 72,
      "outputs": []
    },
    {
      "cell_type": "code",
      "source": [
        "def cossim_matrix(X):\n",
        "  D = 1-cosine_distances(X)\n",
        "  return pd.DataFrame(D,columns=labels,index=labels)"
      ],
      "metadata": {
        "id": "1pQkzTiCtUc9"
      },
      "execution_count": 80,
      "outputs": []
    },
    {
      "cell_type": "code",
      "source": [
        "docs = [\"New GPU benchmarks show faster training time GPU\", \"GPU benchmark reveals faster model training\",\n",
        "        'The striker scored two goals and an assist point']\n",
        "labels = ['base','similar','different']"
      ],
      "metadata": {
        "id": "p0nfcF5ttv2C"
      },
      "execution_count": 81,
      "outputs": []
    },
    {
      "cell_type": "code",
      "source": [
        "cosdist_matrix(X_count)"
      ],
      "metadata": {
        "colab": {
          "base_uri": "https://localhost:8080/",
          "height": 143
        },
        "id": "Wn7pvUrxthdT",
        "outputId": "3b5ecce9-dca3-4143-bf86-5bb7ecfffc61"
      },
      "execution_count": 82,
      "outputs": [
        {
          "output_type": "execute_result",
          "data": {
            "text/plain": [
              "               base   similar  different\n",
              "base       1.000000  0.680414        0.0\n",
              "similar    0.680414  1.000000        0.0\n",
              "different  0.000000  0.000000        1.0"
            ],
            "text/html": [
              "\n",
              "  <div id=\"df-d364a33a-0a8c-4833-8035-dbf03ebb91d6\" class=\"colab-df-container\">\n",
              "    <div>\n",
              "<style scoped>\n",
              "    .dataframe tbody tr th:only-of-type {\n",
              "        vertical-align: middle;\n",
              "    }\n",
              "\n",
              "    .dataframe tbody tr th {\n",
              "        vertical-align: top;\n",
              "    }\n",
              "\n",
              "    .dataframe thead th {\n",
              "        text-align: right;\n",
              "    }\n",
              "</style>\n",
              "<table border=\"1\" class=\"dataframe\">\n",
              "  <thead>\n",
              "    <tr style=\"text-align: right;\">\n",
              "      <th></th>\n",
              "      <th>base</th>\n",
              "      <th>similar</th>\n",
              "      <th>different</th>\n",
              "    </tr>\n",
              "  </thead>\n",
              "  <tbody>\n",
              "    <tr>\n",
              "      <th>base</th>\n",
              "      <td>1.000000</td>\n",
              "      <td>0.680414</td>\n",
              "      <td>0.0</td>\n",
              "    </tr>\n",
              "    <tr>\n",
              "      <th>similar</th>\n",
              "      <td>0.680414</td>\n",
              "      <td>1.000000</td>\n",
              "      <td>0.0</td>\n",
              "    </tr>\n",
              "    <tr>\n",
              "      <th>different</th>\n",
              "      <td>0.000000</td>\n",
              "      <td>0.000000</td>\n",
              "      <td>1.0</td>\n",
              "    </tr>\n",
              "  </tbody>\n",
              "</table>\n",
              "</div>\n",
              "    <div class=\"colab-df-buttons\">\n",
              "\n",
              "  <div class=\"colab-df-container\">\n",
              "    <button class=\"colab-df-convert\" onclick=\"convertToInteractive('df-d364a33a-0a8c-4833-8035-dbf03ebb91d6')\"\n",
              "            title=\"Convert this dataframe to an interactive table.\"\n",
              "            style=\"display:none;\">\n",
              "\n",
              "  <svg xmlns=\"http://www.w3.org/2000/svg\" height=\"24px\" viewBox=\"0 -960 960 960\">\n",
              "    <path d=\"M120-120v-720h720v720H120Zm60-500h600v-160H180v160Zm220 220h160v-160H400v160Zm0 220h160v-160H400v160ZM180-400h160v-160H180v160Zm440 0h160v-160H620v160ZM180-180h160v-160H180v160Zm440 0h160v-160H620v160Z\"/>\n",
              "  </svg>\n",
              "    </button>\n",
              "\n",
              "  <style>\n",
              "    .colab-df-container {\n",
              "      display:flex;\n",
              "      gap: 12px;\n",
              "    }\n",
              "\n",
              "    .colab-df-convert {\n",
              "      background-color: #E8F0FE;\n",
              "      border: none;\n",
              "      border-radius: 50%;\n",
              "      cursor: pointer;\n",
              "      display: none;\n",
              "      fill: #1967D2;\n",
              "      height: 32px;\n",
              "      padding: 0 0 0 0;\n",
              "      width: 32px;\n",
              "    }\n",
              "\n",
              "    .colab-df-convert:hover {\n",
              "      background-color: #E2EBFA;\n",
              "      box-shadow: 0px 1px 2px rgba(60, 64, 67, 0.3), 0px 1px 3px 1px rgba(60, 64, 67, 0.15);\n",
              "      fill: #174EA6;\n",
              "    }\n",
              "\n",
              "    .colab-df-buttons div {\n",
              "      margin-bottom: 4px;\n",
              "    }\n",
              "\n",
              "    [theme=dark] .colab-df-convert {\n",
              "      background-color: #3B4455;\n",
              "      fill: #D2E3FC;\n",
              "    }\n",
              "\n",
              "    [theme=dark] .colab-df-convert:hover {\n",
              "      background-color: #434B5C;\n",
              "      box-shadow: 0px 1px 3px 1px rgba(0, 0, 0, 0.15);\n",
              "      filter: drop-shadow(0px 1px 2px rgba(0, 0, 0, 0.3));\n",
              "      fill: #FFFFFF;\n",
              "    }\n",
              "  </style>\n",
              "\n",
              "    <script>\n",
              "      const buttonEl =\n",
              "        document.querySelector('#df-d364a33a-0a8c-4833-8035-dbf03ebb91d6 button.colab-df-convert');\n",
              "      buttonEl.style.display =\n",
              "        google.colab.kernel.accessAllowed ? 'block' : 'none';\n",
              "\n",
              "      async function convertToInteractive(key) {\n",
              "        const element = document.querySelector('#df-d364a33a-0a8c-4833-8035-dbf03ebb91d6');\n",
              "        const dataTable =\n",
              "          await google.colab.kernel.invokeFunction('convertToInteractive',\n",
              "                                                    [key], {});\n",
              "        if (!dataTable) return;\n",
              "\n",
              "        const docLinkHtml = 'Like what you see? Visit the ' +\n",
              "          '<a target=\"_blank\" href=https://colab.research.google.com/notebooks/data_table.ipynb>data table notebook</a>'\n",
              "          + ' to learn more about interactive tables.';\n",
              "        element.innerHTML = '';\n",
              "        dataTable['output_type'] = 'display_data';\n",
              "        await google.colab.output.renderOutput(dataTable, element);\n",
              "        const docLink = document.createElement('div');\n",
              "        docLink.innerHTML = docLinkHtml;\n",
              "        element.appendChild(docLink);\n",
              "      }\n",
              "    </script>\n",
              "  </div>\n",
              "\n",
              "\n",
              "    <div id=\"df-aaf7b85c-947b-4f2e-8330-0ad92832952e\">\n",
              "      <button class=\"colab-df-quickchart\" onclick=\"quickchart('df-aaf7b85c-947b-4f2e-8330-0ad92832952e')\"\n",
              "                title=\"Suggest charts\"\n",
              "                style=\"display:none;\">\n",
              "\n",
              "<svg xmlns=\"http://www.w3.org/2000/svg\" height=\"24px\"viewBox=\"0 0 24 24\"\n",
              "     width=\"24px\">\n",
              "    <g>\n",
              "        <path d=\"M19 3H5c-1.1 0-2 .9-2 2v14c0 1.1.9 2 2 2h14c1.1 0 2-.9 2-2V5c0-1.1-.9-2-2-2zM9 17H7v-7h2v7zm4 0h-2V7h2v10zm4 0h-2v-4h2v4z\"/>\n",
              "    </g>\n",
              "</svg>\n",
              "      </button>\n",
              "\n",
              "<style>\n",
              "  .colab-df-quickchart {\n",
              "      --bg-color: #E8F0FE;\n",
              "      --fill-color: #1967D2;\n",
              "      --hover-bg-color: #E2EBFA;\n",
              "      --hover-fill-color: #174EA6;\n",
              "      --disabled-fill-color: #AAA;\n",
              "      --disabled-bg-color: #DDD;\n",
              "  }\n",
              "\n",
              "  [theme=dark] .colab-df-quickchart {\n",
              "      --bg-color: #3B4455;\n",
              "      --fill-color: #D2E3FC;\n",
              "      --hover-bg-color: #434B5C;\n",
              "      --hover-fill-color: #FFFFFF;\n",
              "      --disabled-bg-color: #3B4455;\n",
              "      --disabled-fill-color: #666;\n",
              "  }\n",
              "\n",
              "  .colab-df-quickchart {\n",
              "    background-color: var(--bg-color);\n",
              "    border: none;\n",
              "    border-radius: 50%;\n",
              "    cursor: pointer;\n",
              "    display: none;\n",
              "    fill: var(--fill-color);\n",
              "    height: 32px;\n",
              "    padding: 0;\n",
              "    width: 32px;\n",
              "  }\n",
              "\n",
              "  .colab-df-quickchart:hover {\n",
              "    background-color: var(--hover-bg-color);\n",
              "    box-shadow: 0 1px 2px rgba(60, 64, 67, 0.3), 0 1px 3px 1px rgba(60, 64, 67, 0.15);\n",
              "    fill: var(--button-hover-fill-color);\n",
              "  }\n",
              "\n",
              "  .colab-df-quickchart-complete:disabled,\n",
              "  .colab-df-quickchart-complete:disabled:hover {\n",
              "    background-color: var(--disabled-bg-color);\n",
              "    fill: var(--disabled-fill-color);\n",
              "    box-shadow: none;\n",
              "  }\n",
              "\n",
              "  .colab-df-spinner {\n",
              "    border: 2px solid var(--fill-color);\n",
              "    border-color: transparent;\n",
              "    border-bottom-color: var(--fill-color);\n",
              "    animation:\n",
              "      spin 1s steps(1) infinite;\n",
              "  }\n",
              "\n",
              "  @keyframes spin {\n",
              "    0% {\n",
              "      border-color: transparent;\n",
              "      border-bottom-color: var(--fill-color);\n",
              "      border-left-color: var(--fill-color);\n",
              "    }\n",
              "    20% {\n",
              "      border-color: transparent;\n",
              "      border-left-color: var(--fill-color);\n",
              "      border-top-color: var(--fill-color);\n",
              "    }\n",
              "    30% {\n",
              "      border-color: transparent;\n",
              "      border-left-color: var(--fill-color);\n",
              "      border-top-color: var(--fill-color);\n",
              "      border-right-color: var(--fill-color);\n",
              "    }\n",
              "    40% {\n",
              "      border-color: transparent;\n",
              "      border-right-color: var(--fill-color);\n",
              "      border-top-color: var(--fill-color);\n",
              "    }\n",
              "    60% {\n",
              "      border-color: transparent;\n",
              "      border-right-color: var(--fill-color);\n",
              "    }\n",
              "    80% {\n",
              "      border-color: transparent;\n",
              "      border-right-color: var(--fill-color);\n",
              "      border-bottom-color: var(--fill-color);\n",
              "    }\n",
              "    90% {\n",
              "      border-color: transparent;\n",
              "      border-bottom-color: var(--fill-color);\n",
              "    }\n",
              "  }\n",
              "</style>\n",
              "\n",
              "      <script>\n",
              "        async function quickchart(key) {\n",
              "          const quickchartButtonEl =\n",
              "            document.querySelector('#' + key + ' button');\n",
              "          quickchartButtonEl.disabled = true;  // To prevent multiple clicks.\n",
              "          quickchartButtonEl.classList.add('colab-df-spinner');\n",
              "          try {\n",
              "            const charts = await google.colab.kernel.invokeFunction(\n",
              "                'suggestCharts', [key], {});\n",
              "          } catch (error) {\n",
              "            console.error('Error during call to suggestCharts:', error);\n",
              "          }\n",
              "          quickchartButtonEl.classList.remove('colab-df-spinner');\n",
              "          quickchartButtonEl.classList.add('colab-df-quickchart-complete');\n",
              "        }\n",
              "        (() => {\n",
              "          let quickchartButtonEl =\n",
              "            document.querySelector('#df-aaf7b85c-947b-4f2e-8330-0ad92832952e button');\n",
              "          quickchartButtonEl.style.display =\n",
              "            google.colab.kernel.accessAllowed ? 'block' : 'none';\n",
              "        })();\n",
              "      </script>\n",
              "    </div>\n",
              "\n",
              "    </div>\n",
              "  </div>\n"
            ],
            "application/vnd.google.colaboratory.intrinsic+json": {
              "type": "dataframe",
              "summary": "{\n  \"name\": \"cosdist_matrix(X_count)\",\n  \"rows\": 3,\n  \"fields\": [\n    {\n      \"column\": \"base\",\n      \"properties\": {\n        \"dtype\": \"number\",\n        \"std\": 0.5107344859850342,\n        \"min\": 0.0,\n        \"max\": 1.0,\n        \"num_unique_values\": 3,\n        \"samples\": [\n          1.0,\n          0.6804138174397717,\n          0.0\n        ],\n        \"semantic_type\": \"\",\n        \"description\": \"\"\n      }\n    },\n    {\n      \"column\": \"similar\",\n      \"properties\": {\n        \"dtype\": \"number\",\n        \"std\": 0.5107344859850342,\n        \"min\": 0.0,\n        \"max\": 1.0,\n        \"num_unique_values\": 3,\n        \"samples\": [\n          0.6804138174397717,\n          1.0,\n          0.0\n        ],\n        \"semantic_type\": \"\",\n        \"description\": \"\"\n      }\n    },\n    {\n      \"column\": \"different\",\n      \"properties\": {\n        \"dtype\": \"number\",\n        \"std\": 0.5773502691896258,\n        \"min\": 0.0,\n        \"max\": 1.0,\n        \"num_unique_values\": 2,\n        \"samples\": [\n          1.0,\n          0.0\n        ],\n        \"semantic_type\": \"\",\n        \"description\": \"\"\n      }\n    }\n  ]\n}"
            }
          },
          "metadata": {},
          "execution_count": 82
        }
      ]
    },
    {
      "cell_type": "code",
      "source": [
        "cosdist_matrix(X_tfidf)"
      ],
      "metadata": {
        "colab": {
          "base_uri": "https://localhost:8080/",
          "height": 143
        },
        "id": "4eaaQ7h_trCl",
        "outputId": "588474a4-1df1-4e44-dee0-5d4c56ffd795"
      },
      "execution_count": 83,
      "outputs": [
        {
          "output_type": "execute_result",
          "data": {
            "text/plain": [
              "               base   similar  different\n",
              "base       1.000000  0.566166        0.0\n",
              "similar    0.566166  1.000000        0.0\n",
              "different  0.000000  0.000000        1.0"
            ],
            "text/html": [
              "\n",
              "  <div id=\"df-5156f02e-1b46-4a1f-983c-540515b8d467\" class=\"colab-df-container\">\n",
              "    <div>\n",
              "<style scoped>\n",
              "    .dataframe tbody tr th:only-of-type {\n",
              "        vertical-align: middle;\n",
              "    }\n",
              "\n",
              "    .dataframe tbody tr th {\n",
              "        vertical-align: top;\n",
              "    }\n",
              "\n",
              "    .dataframe thead th {\n",
              "        text-align: right;\n",
              "    }\n",
              "</style>\n",
              "<table border=\"1\" class=\"dataframe\">\n",
              "  <thead>\n",
              "    <tr style=\"text-align: right;\">\n",
              "      <th></th>\n",
              "      <th>base</th>\n",
              "      <th>similar</th>\n",
              "      <th>different</th>\n",
              "    </tr>\n",
              "  </thead>\n",
              "  <tbody>\n",
              "    <tr>\n",
              "      <th>base</th>\n",
              "      <td>1.000000</td>\n",
              "      <td>0.566166</td>\n",
              "      <td>0.0</td>\n",
              "    </tr>\n",
              "    <tr>\n",
              "      <th>similar</th>\n",
              "      <td>0.566166</td>\n",
              "      <td>1.000000</td>\n",
              "      <td>0.0</td>\n",
              "    </tr>\n",
              "    <tr>\n",
              "      <th>different</th>\n",
              "      <td>0.000000</td>\n",
              "      <td>0.000000</td>\n",
              "      <td>1.0</td>\n",
              "    </tr>\n",
              "  </tbody>\n",
              "</table>\n",
              "</div>\n",
              "    <div class=\"colab-df-buttons\">\n",
              "\n",
              "  <div class=\"colab-df-container\">\n",
              "    <button class=\"colab-df-convert\" onclick=\"convertToInteractive('df-5156f02e-1b46-4a1f-983c-540515b8d467')\"\n",
              "            title=\"Convert this dataframe to an interactive table.\"\n",
              "            style=\"display:none;\">\n",
              "\n",
              "  <svg xmlns=\"http://www.w3.org/2000/svg\" height=\"24px\" viewBox=\"0 -960 960 960\">\n",
              "    <path d=\"M120-120v-720h720v720H120Zm60-500h600v-160H180v160Zm220 220h160v-160H400v160Zm0 220h160v-160H400v160ZM180-400h160v-160H180v160Zm440 0h160v-160H620v160ZM180-180h160v-160H180v160Zm440 0h160v-160H620v160Z\"/>\n",
              "  </svg>\n",
              "    </button>\n",
              "\n",
              "  <style>\n",
              "    .colab-df-container {\n",
              "      display:flex;\n",
              "      gap: 12px;\n",
              "    }\n",
              "\n",
              "    .colab-df-convert {\n",
              "      background-color: #E8F0FE;\n",
              "      border: none;\n",
              "      border-radius: 50%;\n",
              "      cursor: pointer;\n",
              "      display: none;\n",
              "      fill: #1967D2;\n",
              "      height: 32px;\n",
              "      padding: 0 0 0 0;\n",
              "      width: 32px;\n",
              "    }\n",
              "\n",
              "    .colab-df-convert:hover {\n",
              "      background-color: #E2EBFA;\n",
              "      box-shadow: 0px 1px 2px rgba(60, 64, 67, 0.3), 0px 1px 3px 1px rgba(60, 64, 67, 0.15);\n",
              "      fill: #174EA6;\n",
              "    }\n",
              "\n",
              "    .colab-df-buttons div {\n",
              "      margin-bottom: 4px;\n",
              "    }\n",
              "\n",
              "    [theme=dark] .colab-df-convert {\n",
              "      background-color: #3B4455;\n",
              "      fill: #D2E3FC;\n",
              "    }\n",
              "\n",
              "    [theme=dark] .colab-df-convert:hover {\n",
              "      background-color: #434B5C;\n",
              "      box-shadow: 0px 1px 3px 1px rgba(0, 0, 0, 0.15);\n",
              "      filter: drop-shadow(0px 1px 2px rgba(0, 0, 0, 0.3));\n",
              "      fill: #FFFFFF;\n",
              "    }\n",
              "  </style>\n",
              "\n",
              "    <script>\n",
              "      const buttonEl =\n",
              "        document.querySelector('#df-5156f02e-1b46-4a1f-983c-540515b8d467 button.colab-df-convert');\n",
              "      buttonEl.style.display =\n",
              "        google.colab.kernel.accessAllowed ? 'block' : 'none';\n",
              "\n",
              "      async function convertToInteractive(key) {\n",
              "        const element = document.querySelector('#df-5156f02e-1b46-4a1f-983c-540515b8d467');\n",
              "        const dataTable =\n",
              "          await google.colab.kernel.invokeFunction('convertToInteractive',\n",
              "                                                    [key], {});\n",
              "        if (!dataTable) return;\n",
              "\n",
              "        const docLinkHtml = 'Like what you see? Visit the ' +\n",
              "          '<a target=\"_blank\" href=https://colab.research.google.com/notebooks/data_table.ipynb>data table notebook</a>'\n",
              "          + ' to learn more about interactive tables.';\n",
              "        element.innerHTML = '';\n",
              "        dataTable['output_type'] = 'display_data';\n",
              "        await google.colab.output.renderOutput(dataTable, element);\n",
              "        const docLink = document.createElement('div');\n",
              "        docLink.innerHTML = docLinkHtml;\n",
              "        element.appendChild(docLink);\n",
              "      }\n",
              "    </script>\n",
              "  </div>\n",
              "\n",
              "\n",
              "    <div id=\"df-997bb1df-5fe3-4049-95bb-5567f66c9100\">\n",
              "      <button class=\"colab-df-quickchart\" onclick=\"quickchart('df-997bb1df-5fe3-4049-95bb-5567f66c9100')\"\n",
              "                title=\"Suggest charts\"\n",
              "                style=\"display:none;\">\n",
              "\n",
              "<svg xmlns=\"http://www.w3.org/2000/svg\" height=\"24px\"viewBox=\"0 0 24 24\"\n",
              "     width=\"24px\">\n",
              "    <g>\n",
              "        <path d=\"M19 3H5c-1.1 0-2 .9-2 2v14c0 1.1.9 2 2 2h14c1.1 0 2-.9 2-2V5c0-1.1-.9-2-2-2zM9 17H7v-7h2v7zm4 0h-2V7h2v10zm4 0h-2v-4h2v4z\"/>\n",
              "    </g>\n",
              "</svg>\n",
              "      </button>\n",
              "\n",
              "<style>\n",
              "  .colab-df-quickchart {\n",
              "      --bg-color: #E8F0FE;\n",
              "      --fill-color: #1967D2;\n",
              "      --hover-bg-color: #E2EBFA;\n",
              "      --hover-fill-color: #174EA6;\n",
              "      --disabled-fill-color: #AAA;\n",
              "      --disabled-bg-color: #DDD;\n",
              "  }\n",
              "\n",
              "  [theme=dark] .colab-df-quickchart {\n",
              "      --bg-color: #3B4455;\n",
              "      --fill-color: #D2E3FC;\n",
              "      --hover-bg-color: #434B5C;\n",
              "      --hover-fill-color: #FFFFFF;\n",
              "      --disabled-bg-color: #3B4455;\n",
              "      --disabled-fill-color: #666;\n",
              "  }\n",
              "\n",
              "  .colab-df-quickchart {\n",
              "    background-color: var(--bg-color);\n",
              "    border: none;\n",
              "    border-radius: 50%;\n",
              "    cursor: pointer;\n",
              "    display: none;\n",
              "    fill: var(--fill-color);\n",
              "    height: 32px;\n",
              "    padding: 0;\n",
              "    width: 32px;\n",
              "  }\n",
              "\n",
              "  .colab-df-quickchart:hover {\n",
              "    background-color: var(--hover-bg-color);\n",
              "    box-shadow: 0 1px 2px rgba(60, 64, 67, 0.3), 0 1px 3px 1px rgba(60, 64, 67, 0.15);\n",
              "    fill: var(--button-hover-fill-color);\n",
              "  }\n",
              "\n",
              "  .colab-df-quickchart-complete:disabled,\n",
              "  .colab-df-quickchart-complete:disabled:hover {\n",
              "    background-color: var(--disabled-bg-color);\n",
              "    fill: var(--disabled-fill-color);\n",
              "    box-shadow: none;\n",
              "  }\n",
              "\n",
              "  .colab-df-spinner {\n",
              "    border: 2px solid var(--fill-color);\n",
              "    border-color: transparent;\n",
              "    border-bottom-color: var(--fill-color);\n",
              "    animation:\n",
              "      spin 1s steps(1) infinite;\n",
              "  }\n",
              "\n",
              "  @keyframes spin {\n",
              "    0% {\n",
              "      border-color: transparent;\n",
              "      border-bottom-color: var(--fill-color);\n",
              "      border-left-color: var(--fill-color);\n",
              "    }\n",
              "    20% {\n",
              "      border-color: transparent;\n",
              "      border-left-color: var(--fill-color);\n",
              "      border-top-color: var(--fill-color);\n",
              "    }\n",
              "    30% {\n",
              "      border-color: transparent;\n",
              "      border-left-color: var(--fill-color);\n",
              "      border-top-color: var(--fill-color);\n",
              "      border-right-color: var(--fill-color);\n",
              "    }\n",
              "    40% {\n",
              "      border-color: transparent;\n",
              "      border-right-color: var(--fill-color);\n",
              "      border-top-color: var(--fill-color);\n",
              "    }\n",
              "    60% {\n",
              "      border-color: transparent;\n",
              "      border-right-color: var(--fill-color);\n",
              "    }\n",
              "    80% {\n",
              "      border-color: transparent;\n",
              "      border-right-color: var(--fill-color);\n",
              "      border-bottom-color: var(--fill-color);\n",
              "    }\n",
              "    90% {\n",
              "      border-color: transparent;\n",
              "      border-bottom-color: var(--fill-color);\n",
              "    }\n",
              "  }\n",
              "</style>\n",
              "\n",
              "      <script>\n",
              "        async function quickchart(key) {\n",
              "          const quickchartButtonEl =\n",
              "            document.querySelector('#' + key + ' button');\n",
              "          quickchartButtonEl.disabled = true;  // To prevent multiple clicks.\n",
              "          quickchartButtonEl.classList.add('colab-df-spinner');\n",
              "          try {\n",
              "            const charts = await google.colab.kernel.invokeFunction(\n",
              "                'suggestCharts', [key], {});\n",
              "          } catch (error) {\n",
              "            console.error('Error during call to suggestCharts:', error);\n",
              "          }\n",
              "          quickchartButtonEl.classList.remove('colab-df-spinner');\n",
              "          quickchartButtonEl.classList.add('colab-df-quickchart-complete');\n",
              "        }\n",
              "        (() => {\n",
              "          let quickchartButtonEl =\n",
              "            document.querySelector('#df-997bb1df-5fe3-4049-95bb-5567f66c9100 button');\n",
              "          quickchartButtonEl.style.display =\n",
              "            google.colab.kernel.accessAllowed ? 'block' : 'none';\n",
              "        })();\n",
              "      </script>\n",
              "    </div>\n",
              "\n",
              "    </div>\n",
              "  </div>\n"
            ],
            "application/vnd.google.colaboratory.intrinsic+json": {
              "type": "dataframe",
              "summary": "{\n  \"name\": \"cosdist_matrix(X_tfidf)\",\n  \"rows\": 3,\n  \"fields\": [\n    {\n      \"column\": \"base\",\n      \"properties\": {\n        \"dtype\": \"number\",\n        \"std\": 0.5014571779290425,\n        \"min\": 0.0,\n        \"max\": 1.0,\n        \"num_unique_values\": 3,\n        \"samples\": [\n          1.0,\n          0.5661657304779331,\n          0.0\n        ],\n        \"semantic_type\": \"\",\n        \"description\": \"\"\n      }\n    },\n    {\n      \"column\": \"similar\",\n      \"properties\": {\n        \"dtype\": \"number\",\n        \"std\": 0.5014571779290425,\n        \"min\": 0.0,\n        \"max\": 1.0,\n        \"num_unique_values\": 3,\n        \"samples\": [\n          0.5661657304779331,\n          1.0,\n          0.0\n        ],\n        \"semantic_type\": \"\",\n        \"description\": \"\"\n      }\n    },\n    {\n      \"column\": \"different\",\n      \"properties\": {\n        \"dtype\": \"number\",\n        \"std\": 0.5773502691896258,\n        \"min\": 0.0,\n        \"max\": 1.0,\n        \"num_unique_values\": 2,\n        \"samples\": [\n          1.0,\n          0.0\n        ],\n        \"semantic_type\": \"\",\n        \"description\": \"\"\n      }\n    }\n  ]\n}"
            }
          },
          "metadata": {},
          "execution_count": 83
        }
      ]
    },
    {
      "cell_type": "code",
      "source": [
        "#1. Document Similarity / Plagiarism Detection\n",
        "#2. Information Retrieval search engines\n",
        "#3. Text Classification\n",
        "#4. Duplicate Questions - Q&A site\n",
        "#4. FAQ matching\n",
        "#5. Text-Based Recommendations\n",
        "#6. Topic - Keyword Extraction"
      ],
      "metadata": {
        "id": "jx_dwaxpuwhB"
      },
      "execution_count": null,
      "outputs": []
    }
  ]
}