{
  "cells": [
    {
      "cell_type": "markdown",
      "metadata": {
        "id": "MU_OwIeg4bxK"
      },
      "source": [
        "# 🧠 Class 3: Control Flow & Loops with Real-World Examples\n",
        "This notebook explains the control structures and looping mechanisms in Python in-depth, using real-world analogies, industry scenarios, and best practices for interviews."
      ]
    },
    {
      "cell_type": "markdown",
      "metadata": {
        "id": "yrCCGlBW4bxN"
      },
      "source": [
        "## 🔀 `if`, `elif`, `else` – Making Decisions\n",
        "**Analogy**: Like traffic signals directing cars — based on conditions, the flow of traffic (or logic) changes.\n",
        "\n",
        "**Use Case**: In a recommendation system, you decide which message to show based on user engagement.\n",
        "\n",
        "```python\n",
        "clicks = 5\n",
        "if clicks == 0:\n",
        "    print(\"New user - show onboarding\")\n",
        "elif clicks < 5:\n",
        "    print(\"Warm user - show tour\")\n",
        "else:\n",
        "    print(\"Engaged user - show product\")\n",
        "```"
      ]
    },
    {
      "cell_type": "markdown",
      "metadata": {
        "id": "_dJq0M944bxO"
      },
      "source": [
        "## 🔁 `for` and `while` Loops – Repetition\n",
        "**Analogy**: A chef repeating the same step for each ingredient (e.g., slicing onions).\n",
        "\n",
        "**Industry Use**: Automating tasks like sending emails to a list of users, looping through a dataset.\n",
        "\n",
        "```python\n",
        "emails = [\"a@x.com\", \"b@x.com\"]\n",
        "for email in emails:\n",
        "    print(\"Sending to\", email)\n",
        "\n",
        "# Monitoring system\n",
        "retries = 0\n",
        "while retries < 3:\n",
        "    print(\"Trying connection...\")\n",
        "    retries += 1\n",
        "```"
      ]
    },
    {
      "cell_type": "markdown",
      "metadata": {
        "id": "2JXa6Ee14bxO"
      },
      "source": [
        "## 🧺 Looping over `list` and `dict`\n",
        "**Analogy**:\n",
        "- List = row of boxes 📦\n",
        "- Dict = labeled drawers 🗂️\n",
        "\n",
        "**Use Case**: Data cleaning in a list of values or mapping user IDs to names.\n",
        "\n",
        "```python\n",
        "# list\n",
        "data = [10, 20, 30]\n",
        "for value in data:\n",
        "    print(value)\n",
        "\n",
        "# dict\n",
        "users = {'u1': 'Alice', 'u2': 'Bob'}\n",
        "for uid, name in users.items():\n",
        "    print(f\"{uid} is {name}\")\n",
        "```"
      ]
    },
    {
      "cell_type": "code",
      "source": [
        "# dict\n",
        "users = {'u1': 'Alice', 'u2': 'Bob'}\n",
        "for i in users:\n",
        "    print(i)"
      ],
      "metadata": {
        "colab": {
          "base_uri": "https://localhost:8080/"
        },
        "id": "NgsX36de5zTI",
        "outputId": "8be9df9f-b973-4bbc-c1c3-e0ab2258aff3"
      },
      "execution_count": 1,
      "outputs": [
        {
          "output_type": "stream",
          "name": "stdout",
          "text": [
            "u1\n",
            "u2\n"
          ]
        }
      ]
    },
    {
      "cell_type": "code",
      "source": [
        "# dict\n",
        "users = {'u1': 'Alice', 'u2': 'Bob'}\n",
        "for key, value in users.items():\n",
        "    print(key)\n",
        "    print(value)"
      ],
      "metadata": {
        "colab": {
          "base_uri": "https://localhost:8080/"
        },
        "id": "fv0HBkmV55Es",
        "outputId": "2ce6d456-366e-4f9b-8de8-37c81fa868c0"
      },
      "execution_count": 4,
      "outputs": [
        {
          "output_type": "stream",
          "name": "stdout",
          "text": [
            "u1\n",
            "Alice\n",
            "u2\n",
            "Bob\n"
          ]
        }
      ]
    },
    {
      "cell_type": "markdown",
      "metadata": {
        "id": "jocgXIMl4bxP"
      },
      "source": [
        "## 📏 `range()` and `enumerate()`\n",
        "**Analogy**:\n",
        "- `range()` = number generator (like numbered tickets 🎫)\n",
        "- `enumerate()` = giving both number & name at a roll call\n",
        "\n",
        "**Use Case**: Generating indices, logging position while iterating.\n",
        "\n",
        "```python\n",
        "for i in range(3):\n",
        "    print(\"Index:\", i)\n",
        "\n",
        "names = ['Anna', 'Ben']\n",
        "for i, name in enumerate(names):\n",
        "    print(i, name)\n",
        "```"
      ]
    },
    {
      "cell_type": "code",
      "source": [
        "for i in range(0,3,1): #Range works on the START, STOP, STEP -\n",
        "    print(\"Index:\", i)"
      ],
      "metadata": {
        "colab": {
          "base_uri": "https://localhost:8080/"
        },
        "id": "-Jo_l4nb6DUI",
        "outputId": "4b5a8d24-872f-457f-935d-257eace4edc0"
      },
      "execution_count": 5,
      "outputs": [
        {
          "output_type": "stream",
          "name": "stdout",
          "text": [
            "Index: 0\n",
            "Index: 1\n",
            "Index: 2\n"
          ]
        }
      ]
    },
    {
      "cell_type": "code",
      "source": [
        "names = ['Anna', 'Ben']\n",
        "for name in names:\n",
        "    print(name)"
      ],
      "metadata": {
        "colab": {
          "base_uri": "https://localhost:8080/"
        },
        "id": "OewFZ9EX6O9r",
        "outputId": "3de08f9b-4f8c-48f2-fef7-6f5e87f39fc2"
      },
      "execution_count": 7,
      "outputs": [
        {
          "output_type": "stream",
          "name": "stdout",
          "text": [
            "Anna\n",
            "Ben\n"
          ]
        }
      ]
    },
    {
      "cell_type": "code",
      "source": [
        "names = ['Anna', 'Ben']\n",
        "for i,name in enumerate(names):\n",
        "    print(i,name)"
      ],
      "metadata": {
        "colab": {
          "base_uri": "https://localhost:8080/"
        },
        "id": "VfH9fyiT6f7J",
        "outputId": "648d1d06-b6bc-441e-b580-a2ab81ffea5f"
      },
      "execution_count": 10,
      "outputs": [
        {
          "output_type": "stream",
          "name": "stdout",
          "text": [
            "0 Anna\n",
            "1 Ben\n"
          ]
        }
      ]
    },
    {
      "cell_type": "code",
      "source": [
        "lst1 = [1,2,3,4,5]\n",
        "lst2 = [10,11,12,13,14,15,16,17,18]\n",
        "for i,j in zip(lst1,lst2):\n",
        "    print(i,j)"
      ],
      "metadata": {
        "colab": {
          "base_uri": "https://localhost:8080/"
        },
        "id": "iewpElYe7Aal",
        "outputId": "468adf81-7354-4bfa-d728-1df2710152fc"
      },
      "execution_count": 11,
      "outputs": [
        {
          "output_type": "stream",
          "name": "stdout",
          "text": [
            "1 10\n",
            "2 11\n",
            "3 12\n",
            "4 13\n",
            "5 14\n"
          ]
        }
      ]
    },
    {
      "cell_type": "markdown",
      "metadata": {
        "id": "8Mw9Qdp94bxP"
      },
      "source": [
        "## 🧩 `zip()`, `reversed()`, `sorted()`\n",
        "**Analogy**:\n",
        "- `zip()` = merging two columns into one table\n",
        "- `reversed()` = replaying a video backward\n",
        "- `sorted()` = arranging books by title\n",
        "\n",
        "**Use Case**: Merging names and scores, reversing data, or sorting grades.\n",
        "\n",
        "```python\n",
        "names = ['Tom', 'Jerry']\n",
        "scores = [80, 90]\n",
        "for n, s in zip(names, scores):\n",
        "    print(n, s)\n",
        "\n",
        "for i in reversed(range(3)):\n",
        "    print(i)\n",
        "\n",
        "marks = [67, 89, 45]\n",
        "for m in sorted(marks):\n",
        "    print(m)\n",
        "```"
      ]
    },
    {
      "cell_type": "code",
      "source": [
        "for i in reversed(range(3)):\n",
        "    print(i)"
      ],
      "metadata": {
        "colab": {
          "base_uri": "https://localhost:8080/"
        },
        "id": "0TXq56gi8Af-",
        "outputId": "0561a734-2d09-48ae-f2f9-53aed598a8ec"
      },
      "execution_count": 12,
      "outputs": [
        {
          "output_type": "stream",
          "name": "stdout",
          "text": [
            "2\n",
            "1\n",
            "0\n"
          ]
        }
      ]
    },
    {
      "cell_type": "markdown",
      "metadata": {
        "id": "fhZ6bxGs4bxP"
      },
      "source": [
        "## 🔍 `in` and `not in`\n",
        "**Analogy**: Checking if a name is on the guest list.\n",
        "\n",
        "**Use Case**: Membership check in a whitelist or spam filter.\n",
        "\n",
        "```python\n",
        "emails = ['a@example.com', 'b@example.com']\n",
        "if 'a@example.com' in emails:\n",
        "    print(\"User found\")\n",
        "\n",
        "if 'spam@example.com' not in emails:\n",
        "    print(\"Safe to send\")\n",
        "```"
      ]
    },
    {
      "cell_type": "code",
      "source": [
        "i = 1\n",
        "while True:\n",
        "  print(i)\n",
        "  i=i+1"
      ],
      "metadata": {
        "id": "rsSaJNxG9H13"
      },
      "execution_count": null,
      "outputs": []
    },
    {
      "cell_type": "markdown",
      "metadata": {
        "id": "C2hJbf-a4bxP"
      },
      "source": [
        "## ⛔ `break`, `continue`, `pass`\n",
        "**Analogy**:\n",
        "- `break` = emergency stop\n",
        "- `continue` = skip step, go next\n",
        "- `pass` = do nothing (placeholder for later)\n",
        "\n",
        "**Use Case**:\n",
        "- `break` when a condition is met (e.g., finding a match)\n",
        "- `continue` to skip invalid data\n",
        "\n",
        "```python\n",
        "# break\n",
        "for i in range(5):\n",
        "    if i == 3:\n",
        "        break\n",
        "    print(i)\n",
        "\n",
        "# continue\n",
        "for i in range(5):\n",
        "    if i % 2 == 0:\n",
        "        continue\n",
        "    print(i)\n",
        "\n",
        "# pass\n",
        "for i in range(3):\n",
        "    pass  # to do later\n",
        "```"
      ]
    },
    {
      "cell_type": "code",
      "source": [
        "# continue\n",
        "for i in range(5):\n",
        "    if i % 2 == 0:\n",
        "        continue\n",
        "    elif i%3 == 0:\n",
        "      print(i*i*i)\n",
        "\n",
        "    print(i*i)"
      ],
      "metadata": {
        "colab": {
          "base_uri": "https://localhost:8080/"
        },
        "id": "vTo31Wru9y07",
        "outputId": "493cd2a9-51cb-4e98-9524-9ffbd5854a78"
      },
      "execution_count": 15,
      "outputs": [
        {
          "output_type": "stream",
          "name": "stdout",
          "text": [
            "1\n",
            "9\n"
          ]
        }
      ]
    },
    {
      "cell_type": "code",
      "source": [
        "# break\n",
        "for i in range(5):\n",
        "    if i == 3:\n",
        "        break\n",
        "    print(i)"
      ],
      "metadata": {
        "colab": {
          "base_uri": "https://localhost:8080/"
        },
        "id": "jGy7csPm9r34",
        "outputId": "32d3e694-be11-486d-916a-3b52d27e8317"
      },
      "execution_count": 14,
      "outputs": [
        {
          "output_type": "stream",
          "name": "stdout",
          "text": [
            "0\n",
            "1\n",
            "2\n"
          ]
        }
      ]
    },
    {
      "cell_type": "code",
      "source": [
        "#TO-DO: Write this once you have video outputs as frames\n",
        "def processImages(frame):\n",
        "  pass"
      ],
      "metadata": {
        "id": "fLdmcN8U-RHd"
      },
      "execution_count": 18,
      "outputs": []
    },
    {
      "cell_type": "markdown",
      "metadata": {
        "id": "6KSYtkxk4bxQ"
      },
      "source": [
        "## 🧠 Summary Table\n",
        "\n",
        "| Concept       | Analogy                   | Industry Use Case                   |\n",
        "|---------------|----------------------------|-------------------------------------|\n",
        "| `if`/`else`   | Traffic signal              | Recommendation logic                |\n",
        "| `for`/`while` | Chef repeating tasks        | Data processing, automation         |\n",
        "| `range()`     | Numbered tickets            | ID assignment, loop limits          |\n",
        "| `enumerate()` | Roll call with numbers      | Index logging                       |\n",
        "| `zip()`       | Merging columns             | Join names and scores               |\n",
        "| `reversed()`  | Playing in reverse          | Data backtracking, rollback checks  |\n",
        "| `sorted()`    | Arranging books             | Ranking, filtering in dashboards    |\n",
        "| `in`/`not in` | Guest list check            | Security, spam filter               |\n",
        "| `break`       | Emergency stop              | Exit loop after condition met       |\n",
        "| `continue`    | Skip current station        | Ignore empty/invalid rows           |\n",
        "| `pass`        | Empty placeholder           | Code stub for future logic          |"
      ]
    },
    {
      "cell_type": "markdown",
      "metadata": {
        "id": "_9d5oJzf4bxQ"
      },
      "source": [
        "## ⏱️ Time Complexity – Why It Matters with Loops\n",
        "\n",
        "Every loop (or nested loop) takes time. Time complexity helps you estimate **how long your program will take as data grows**.\n",
        "\n",
        "### 🧠 Simple Rule of Thumb:\n",
        "| Pattern                  | Big-O     | What It Means                         |\n",
        "|--------------------------|-----------|----------------------------------------|\n",
        "| `for i in range(n)`      | O(n)      | Grows linearly with input              |\n",
        "| Nested loop (`for i in n: for j in n`) | O(n²) | Slower as it checks every pair         |\n",
        "| Loop with `break` early  | Still O(n) worst case | Depends on when break occurs          |\n",
        "\n",
        "### 🔍 Examples:\n",
        "```python\n",
        "# O(n) – loop once\n",
        "for x in [1, 2, 3, 4]:\n",
        "    print(x)\n",
        "\n",
        "# O(n²) – nested loop\n",
        "for i in range(3):\n",
        "    for j in range(3):\n",
        "        print(i, j)\n",
        "```\n",
        "\n",
        "🧠 **Analogy**:  \n",
        "- One loop = you meet each student once → Linear  \n",
        "- Nested = every student shakes hands with every other → Quadratic\n",
        "\n",
        "In interviews, you should always know if your code is O(n), O(n²), or better!\n",
        "\n"
      ]
    },
    {
      "cell_type": "code",
      "source": [
        "for i in range(0,10):\n",
        "  print(i) #One operation - 10 - n\n",
        "  i = 10 * 100 #n\n",
        "  print(\"Hello\") #n\n",
        "  print(\"Suresh\") #n"
      ],
      "metadata": {
        "colab": {
          "base_uri": "https://localhost:8080/"
        },
        "id": "mIE4ZzEy_ZPM",
        "outputId": "aff140e7-9877-4dad-a694-42ba29c056c0"
      },
      "execution_count": 20,
      "outputs": [
        {
          "output_type": "stream",
          "name": "stdout",
          "text": [
            "0\n",
            "1\n",
            "2\n",
            "3\n",
            "4\n",
            "5\n",
            "6\n",
            "7\n",
            "8\n",
            "9\n"
          ]
        }
      ]
    },
    {
      "cell_type": "code",
      "source": [
        "for i in range(1,10):\n",
        "  #n\n",
        "  for j in range(0,10):\n",
        "    print(i*j) #n*n\n",
        "    for j in range(0,10):\n",
        "      print(i*j*k)"
      ],
      "metadata": {
        "colab": {
          "base_uri": "https://localhost:8080/"
        },
        "id": "4lmUF-yz_ZKU",
        "outputId": "acf5e63a-1ab6-40ff-e451-123c3abd3af2"
      },
      "execution_count": 22,
      "outputs": [
        {
          "output_type": "stream",
          "name": "stdout",
          "text": [
            "0\n",
            "1\n",
            "2\n",
            "3\n",
            "4\n",
            "5\n",
            "6\n",
            "7\n",
            "8\n",
            "9\n",
            "0\n",
            "2\n",
            "4\n",
            "6\n",
            "8\n",
            "10\n",
            "12\n",
            "14\n",
            "16\n",
            "18\n",
            "0\n",
            "3\n",
            "6\n",
            "9\n",
            "12\n",
            "15\n",
            "18\n",
            "21\n",
            "24\n",
            "27\n",
            "0\n",
            "4\n",
            "8\n",
            "12\n",
            "16\n",
            "20\n",
            "24\n",
            "28\n",
            "32\n",
            "36\n",
            "0\n",
            "5\n",
            "10\n",
            "15\n",
            "20\n",
            "25\n",
            "30\n",
            "35\n",
            "40\n",
            "45\n",
            "0\n",
            "6\n",
            "12\n",
            "18\n",
            "24\n",
            "30\n",
            "36\n",
            "42\n",
            "48\n",
            "54\n",
            "0\n",
            "7\n",
            "14\n",
            "21\n",
            "28\n",
            "35\n",
            "42\n",
            "49\n",
            "56\n",
            "63\n",
            "0\n",
            "8\n",
            "16\n",
            "24\n",
            "32\n",
            "40\n",
            "48\n",
            "56\n",
            "64\n",
            "72\n",
            "0\n",
            "9\n",
            "18\n",
            "27\n",
            "36\n",
            "45\n",
            "54\n",
            "63\n",
            "72\n",
            "81\n"
          ]
        }
      ]
    },
    {
      "cell_type": "code",
      "source": [
        "print(a+a) #n(1)"
      ],
      "metadata": {
        "id": "neMuta_N_Y5G"
      },
      "execution_count": null,
      "outputs": []
    },
    {
      "cell_type": "code",
      "source": [
        "#Bubble Sort -\n",
        "\n",
        "[2,3,4,5,6,1]\n",
        "[2,3,4,5,6,1]\n"
      ],
      "metadata": {
        "id": "szTaje2eBVx5"
      },
      "execution_count": null,
      "outputs": []
    },
    {
      "cell_type": "code",
      "source": [
        "arr = [23,50,10,5,2]"
      ],
      "metadata": {
        "id": "_XuXRft_EqPB"
      },
      "execution_count": 42,
      "outputs": []
    },
    {
      "cell_type": "code",
      "source": [
        "for i in range(1,len(arr)):\n",
        "  pos = arr[i]\n",
        "  #print(f\"print pos {pos}\")\n",
        "  j = i-1 #1\n",
        "  #print(f\"The value of j: {j}\")\n",
        "  while j >=0 and pos < arr[j]:\n",
        "    arr[j+1] = arr[j]\n",
        "    j = j-1\n",
        "    print(arr)\n",
        "  arr[j+1] = pos #[23,50]\n",
        "  #print(arr)"
      ],
      "metadata": {
        "colab": {
          "base_uri": "https://localhost:8080/"
        },
        "id": "Tbh9twtoFEa5",
        "outputId": "6b9da80d-8029-4a63-f1a2-852c62e39325"
      },
      "execution_count": 43,
      "outputs": [
        {
          "output_type": "stream",
          "name": "stdout",
          "text": [
            "[23, 50, 50, 5, 2]\n",
            "[23, 23, 50, 5, 2]\n",
            "[10, 23, 50, 50, 2]\n",
            "[10, 23, 23, 50, 2]\n",
            "[10, 10, 23, 50, 2]\n",
            "[5, 10, 23, 50, 50]\n",
            "[5, 10, 23, 23, 50]\n",
            "[5, 10, 10, 23, 50]\n",
            "[5, 5, 10, 23, 50]\n"
          ]
        }
      ]
    },
    {
      "cell_type": "code",
      "source": [
        "afterfirstiteration: [23,50,10,5,2]\n",
        "[23,50,10,5,2]\n",
        "[0, 1, 2, 3,4]\n",
        "\n",
        "## Second Iteration:\n",
        "1. pos = 10\n",
        "2. j = 1\n",
        "3. while j >= 0: True & pos < arr[j]: 10 < 50: True\n",
        "4. arr[j+1] = arr[j]: a[2] = a[1]:  [23,50,50,5,2]\n",
        "5. j = j-1; j = 0\n",
        "\n",
        "## Second Iteration: Second while loop\n",
        "1. pos = 10\n",
        "2. j = 0\n",
        "3. while j >= 0: True & pos < arr[j]: 10 < 23: True\n",
        "4. arr[j+1] = arr[j]: a[1] = a[0]:  [23,23,50,5,2]\n",
        "5. j = j-1 , j = 0-1 = -1\n",
        "\n",
        "## Second Iteration: third while loop\n",
        "1. pos = 10\n",
        "2. j = -1\n",
        "3. while j >= 0: False\n",
        "4. arr[-1+1] = pos #arr[0] = 10 [10,23,50,5,2]"
      ],
      "metadata": {
        "colab": {
          "base_uri": "https://localhost:8080/"
        },
        "id": "C-eOEcQDGBTy",
        "outputId": "f8be26eb-0cbb-4b85-b561-3c613d0872b4"
      },
      "execution_count": 28,
      "outputs": [
        {
          "output_type": "execute_result",
          "data": {
            "text/plain": [
              "[1, 2, 5, 10, 23]"
            ]
          },
          "metadata": {},
          "execution_count": 28
        }
      ]
    },
    {
      "cell_type": "code",
      "source": [
        "arr = [23,50,10,5,2]"
      ],
      "metadata": {
        "id": "20SDCOboTK1t"
      },
      "execution_count": 46,
      "outputs": []
    },
    {
      "cell_type": "code",
      "source": [
        "for i in range(1,len(arr)):\n",
        "  pos = arr[i]\n",
        "  #print(f\"print pos {pos}\")\n",
        "  j = i-1 #1\n",
        "  #print(f\"The value of j: {j}\")\n",
        "  for j in arr[:i][::-1]:\n",
        "    #pos < arr[j]:\n",
        "    #arr[j+1] = arr[j]\n",
        "    #j = j-1"
      ],
      "metadata": {
        "colab": {
          "base_uri": "https://localhost:8080/"
        },
        "id": "AxAEzm13GCUn",
        "outputId": "57344e37-9772-4d3e-cb32-b861ae61d377"
      },
      "execution_count": 48,
      "outputs": [
        {
          "output_type": "stream",
          "name": "stdout",
          "text": [
            "23\n",
            "50\n",
            "23\n",
            "10\n",
            "50\n",
            "23\n",
            "5\n",
            "10\n",
            "50\n",
            "23\n"
          ]
        }
      ]
    },
    {
      "cell_type": "code",
      "source": [],
      "metadata": {
        "id": "3jEBGBpQTIEr"
      },
      "execution_count": null,
      "outputs": []
    }
  ],
  "metadata": {
    "kernelspec": {
      "display_name": "Python 3 (ipykernel)",
      "language": "python",
      "name": "python3"
    },
    "language_info": {
      "codemirror_mode": {
        "name": "ipython",
        "version": 3
      },
      "file_extension": ".py",
      "mimetype": "text/x-python",
      "name": "python",
      "nbconvert_exporter": "python",
      "pygments_lexer": "ipython3",
      "version": "3.11.7"
    },
    "colab": {
      "provenance": []
    }
  },
  "nbformat": 4,
  "nbformat_minor": 0
}