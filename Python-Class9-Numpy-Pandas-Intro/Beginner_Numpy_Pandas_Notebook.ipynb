{
 "cells": [
  {
   "cell_type": "markdown",
   "id": "a7eed9f2",
   "metadata": {},
   "source": [
    "# Introduction to NumPy and pandas (Beginner-Friendly)\n",
    "\n",
    "This notebook introduces **NumPy** and **pandas**, two of the most popular Python libraries for data manipulation and analysis.\n",
    "\n",
    "We assume **no prior experience** and explain every concept in detail."
   ]
  },
  {
   "cell_type": "markdown",
   "id": "28f4ebda",
   "metadata": {},
   "source": [
    "## 1. What is NumPy?\n",
    "\n",
    "NumPy (Numerical Python) is a library for fast mathematical operations on arrays.\n",
    "\n",
    "**Why NumPy?**\n",
    "- Faster than Python lists.\n",
    "- Supports multi-dimensional arrays.\n",
    "- Provides many mathematical functions.\n",
    "\n",
    "Example use-cases: Image processing, scientific computing, data analysis."
   ]
  },
  {
   "cell_type": "code",
   "execution_count": null,
   "id": "8a7d4f87",
   "metadata": {},
   "outputs": [],
   "source": [
    "import numpy as np\n",
    "\n",
    "# Creating a simple NumPy array\n",
    "arr = np.array([1, 2, 3, 4, 5])\n",
    "print(\"Array:\", arr)\n",
    "print(\"Type:\", type(arr))"
   ]
  },
  {
   "cell_type": "markdown",
   "id": "a1cfa8ea",
   "metadata": {},
   "source": [
    "### **Key Difference Between Python Lists and NumPy Arrays**\n",
    "- Python lists are slower for numerical operations.\n",
    "- NumPy arrays are optimized and support **vectorized operations**.\n",
    "\n",
    "**Example:** Multiply every element by 2."
   ]
  },
  {
   "cell_type": "code",
   "execution_count": null,
   "id": "a4e95771",
   "metadata": {},
   "outputs": [],
   "source": [
    "py_list = [1, 2, 3, 4, 5]\n",
    "np_array = np.array(py_list)\n",
    "\n",
    "# Multiply elements\n",
    "# For list, you need a loop:\n",
    "py_result = [x * 2 for x in py_list]\n",
    "np_result = np_array * 2  # Vectorized operation\n",
    "\n",
    "print(\"List result:\", py_result)\n",
    "print(\"NumPy result:\", np_result)"
   ]
  },
  {
   "cell_type": "markdown",
   "id": "3b5241d6",
   "metadata": {},
   "source": [
    "## 2. Creating NumPy Arrays\n",
    "\n",
    "There are many ways to create NumPy arrays:"
   ]
  },
  {
   "cell_type": "code",
   "execution_count": null,
   "id": "dfea032e",
   "metadata": {},
   "outputs": [],
   "source": [
    "# From a Python list\n",
    "arr = np.array([1, 2, 3])\n",
    "print(arr)\n",
    "\n",
    "# Using arange (like range but for arrays)\n",
    "arr2 = np.arange(0, 10, 2)\n",
    "print(\"arange:\", arr2)\n",
    "\n",
    "# Using linspace (evenly spaced values)\n",
    "arr3 = np.linspace(0, 1, 5)\n",
    "print(\"linspace:\", arr3)\n",
    "\n",
    "# Zeros and ones\n",
    "zeros_arr = np.zeros((2, 3))\n",
    "ones_arr = np.ones((3, 3))\n",
    "print(\"Zeros:\\n\", zeros_arr)\n",
    "print(\"Ones:\\n\", ones_arr)"
   ]
  },
  {
   "cell_type": "markdown",
   "id": "0ebcd216",
   "metadata": {},
   "source": [
    "## 3. Indexing and Slicing in NumPy\n",
    "\n",
    "Just like lists, you can access elements using indexes, but NumPy also supports multi-dimensional indexing."
   ]
  },
  {
   "cell_type": "code",
   "execution_count": null,
   "id": "cb8615bc",
   "metadata": {},
   "outputs": [],
   "source": [
    "arr = np.array([10, 20, 30, 40, 50])\n",
    "print(arr[0])  # First element\n",
    "print(arr[1:4])  # Slice elements 1 to 3\n",
    "\n",
    "matrix = np.array([[1, 2, 3], [4, 5, 6], [7, 8, 9]])\n",
    "print(\"Matrix:\")\n",
    "print(matrix)\n",
    "print(\"Element at row 1, col 2:\", matrix[0, 1])\n",
    "print(\"First two rows:\\n\", matrix[:2, :])"
   ]
  },
  {
   "cell_type": "markdown",
   "id": "31b1c140",
   "metadata": {},
   "source": [
    "## 4. Array Operations (Element-wise and Broadcasting)\n",
    "\n",
    "NumPy supports element-wise operations and **broadcasting** (automatic resizing of arrays for operations)."
   ]
  },
  {
   "cell_type": "code",
   "execution_count": null,
   "id": "688723ab",
   "metadata": {},
   "outputs": [],
   "source": [
    "arr1 = np.array([1, 2, 3])\n",
    "arr2 = np.array([4, 5, 6])\n",
    "print(\"Addition:\", arr1 + arr2)\n",
    "print(\"Multiplication:\", arr1 * arr2)\n",
    "\n",
    "# Broadcasting example\n",
    "arr3 = np.array([1, 2, 3])\n",
    "print(\"Broadcasted add:\", arr3 + 5)"
   ]
  },
  {
   "cell_type": "markdown",
   "id": "152008c2",
   "metadata": {},
   "source": [
    "## 5. Useful NumPy Functions\n",
    "\n",
    "- `reshape()`: Change the shape of an array.\n",
    "- `sum()`, `mean()`, `max()`, `min()`: Aggregation.\n",
    "- `np.random`: Random numbers."
   ]
  },
  {
   "cell_type": "code",
   "execution_count": null,
   "id": "1b2d80f9",
   "metadata": {},
   "outputs": [],
   "source": [
    "arr = np.arange(1, 7)\n",
    "print(\"Original:\", arr)\n",
    "print(\"Reshaped 2x3:\\n\", arr.reshape(2, 3))\n",
    "\n",
    "print(\"Sum:\", arr.sum())\n",
    "print(\"Mean:\", arr.mean())\n",
    "print(\"Max:\", arr.max())"
   ]
  },
  {
   "cell_type": "markdown",
   "id": "cb5f4b20",
   "metadata": {},
   "source": [
    "# Introduction to pandas\n",
    "\n",
    "pandas is used for **data manipulation and analysis**.\n",
    "\n",
    "It has two main data structures:\n",
    "- **Series:** 1D labeled array.\n",
    "- **DataFrame:** 2D table of data (like Excel)."
   ]
  },
  {
   "cell_type": "code",
   "execution_count": null,
   "id": "c0bba069",
   "metadata": {},
   "outputs": [],
   "source": [
    "import pandas as pd\n",
    "\n",
    "# Creating a Series\n",
    "s = pd.Series([10, 20, 30], index=['a', 'b', 'c'])\n",
    "print(s)\n",
    "\n",
    "# Accessing elements\n",
    "print(\"Element with index b:\", s['b'])"
   ]
  },
  {
   "cell_type": "markdown",
   "id": "b92c1197",
   "metadata": {},
   "source": [
    "## Creating DataFrames\n",
    "\n",
    "A DataFrame is like a table (rows and columns)."
   ]
  },
  {
   "cell_type": "code",
   "execution_count": null,
   "id": "0080e863",
   "metadata": {},
   "outputs": [],
   "source": [
    "data = {\n",
    "    'Name': ['Alice', 'Bob', 'Charlie'],\n",
    "    'Age': [25, 30, 35],\n",
    "    'City': ['New York', 'Los Angeles', 'Chicago']\n",
    "}\n",
    "\n",
    "# Create DataFrame\n",
    "df = pd.DataFrame(data)\n",
    "print(df)"
   ]
  },
  {
   "cell_type": "markdown",
   "id": "a504f816",
   "metadata": {},
   "source": [
    "## Accessing Data in DataFrames\n",
    "\n",
    "- `df['column']`: Access a column.\n",
    "- `df.loc[row_label]`: Access by label.\n",
    "- `df.iloc[row_index]`: Access by integer index."
   ]
  },
  {
   "cell_type": "code",
   "execution_count": null,
   "id": "412e6fc5",
   "metadata": {},
   "outputs": [],
   "source": [
    "print(df['Name'])  # Access column\n",
    "print(df.loc[0])     # First row (by label)\n",
    "print(df.iloc[1])    # Second row (by index)"
   ]
  },
  {
   "cell_type": "markdown",
   "id": "69729b15",
   "metadata": {},
   "source": [
    "## Basic DataFrame Operations\n",
    "\n",
    "- `df.head()`: First 5 rows.\n",
    "- `df.tail()`: Last 5 rows.\n",
    "- `df.describe()`: Summary statistics."
   ]
  },
  {
   "cell_type": "code",
   "execution_count": null,
   "id": "af6d0541",
   "metadata": {},
   "outputs": [],
   "source": [
    "print(df.head())\n",
    "print(df.describe())"
   ]
  },
  {
   "cell_type": "markdown",
   "id": "54e4628f",
   "metadata": {},
   "source": [
    "## FAQs\n",
    "\n",
    "- **Q:** What is the difference between a list and a NumPy array? \n",
    "  - **A:** NumPy arrays are faster and support vectorized operations.\n",
    "- **Q:** Why use pandas DataFrame? \n",
    "  - **A:** It is easy to analyze tabular data (like Excel).\n",
    "- **Q:** Can I convert between NumPy and pandas? \n",
    "  - **A:** Yes, `df.to_numpy()` and `pd.DataFrame(array)`."
   ]
  },
  {
   "cell_type": "markdown",
   "id": "9b8125b7",
   "metadata": {},
   "source": [
    "## Exercises (with solutions at the bottom)\n",
    "\n",
    "1. Create a NumPy array of numbers 1 to 20 and reshape it into 4x5.\n",
    "2. Find the mean and max of `[10, 20, 30, 40, 50]`.\n",
    "3. Create a pandas DataFrame of 3 students with name, marks, and grade.\n",
    "4. Access the marks of the second student.\n",
    "5. Get summary statistics of your DataFrame."
   ]
  }
 ],
 "metadata": {
  "kernelspec": {
   "display_name": "Python 3 (ipykernel)",
   "language": "python",
   "name": "python3"
  },
  "language_info": {
   "codemirror_mode": {
    "name": "ipython",
    "version": 3
   },
   "file_extension": ".py",
   "mimetype": "text/x-python",
   "name": "python",
   "nbconvert_exporter": "python",
   "pygments_lexer": "ipython3",
   "version": "3.11.7"
  }
 },
 "nbformat": 4,
 "nbformat_minor": 5
}
