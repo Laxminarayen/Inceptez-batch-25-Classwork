{
  "cells": [
    {
      "cell_type": "markdown",
      "metadata": {
        "id": "0tU8pQrH_9-p"
      },
      "source": [
        "# 🧱 Python Abstract Data Structures: Properties, Memory & Stories\n",
        "\n",
        "This notebook explains Python's built-in abstract data types:\n",
        "- `list`, `tuple`, `set`, `dict`\n",
        "\n",
        "We’ll explore:\n",
        "- Memory behavior\n",
        "- Mutability\n",
        "- Methods & usage\n",
        "- Easy stories to remember them"
      ]
    },
    {
      "cell_type": "markdown",
      "metadata": {
        "id": "1hhrMwNi_9-r"
      },
      "source": [
        "## 📦 list\n",
        "### ✅ Mutable, Ordered, Allows Duplicates\n",
        "\n",
        "### Methods:\n",
        "- `append()`, `insert()`, `pop()`, `remove()`\n",
        "- `sort()`, `reverse()`, `index()`\n",
        "\n",
        "### 🧠 Story:\n",
        "> A `list` is like a **grocery basket**. You can throw things in, remove them, and the order matters."
      ]
    },
    {
      "cell_type": "code",
      "execution_count": 1,
      "metadata": {
        "colab": {
          "base_uri": "https://localhost:8080/"
        },
        "id": "B6M6F0lu_9-s",
        "outputId": "670c829f-9476-4da7-f86d-f8edbbf9eff1"
      },
      "outputs": [
        {
          "output_type": "stream",
          "name": "stdout",
          "text": [
            "['apple', 'banana', 'cherry', 'date']\n",
            "['apple', 'cherry', 'date']\n"
          ]
        }
      ],
      "source": [
        "fruits = [\"apple\", \"banana\", \"cherry\"]\n",
        "fruits.append(\"date\")\n",
        "print(fruits)\n",
        "fruits.remove(\"banana\")\n",
        "print(fruits)"
      ]
    },
    {
      "cell_type": "code",
      "source": [
        "import sys\n",
        "values = [0, 1, 10, 1000, 10**10, 10**50, 10**100]\n",
        "for v in values:\n",
        "    print(f\"Value: {v:>5}, Memory: {sys.getsizeof(v)} bytes\")"
      ],
      "metadata": {
        "colab": {
          "base_uri": "https://localhost:8080/"
        },
        "id": "0Wj0ldTXAdrX",
        "outputId": "825f7660-6fb0-4ac5-c9db-98984834112d"
      },
      "execution_count": 7,
      "outputs": [
        {
          "output_type": "stream",
          "name": "stdout",
          "text": [
            "Value:     0, Memory: 28 bytes\n",
            "Value:     1, Memory: 28 bytes\n",
            "Value:    10, Memory: 28 bytes\n",
            "Value:  1000, Memory: 28 bytes\n",
            "Value: 10000000000, Memory: 32 bytes\n",
            "Value: 100000000000000000000000000000000000000000000000000, Memory: 48 bytes\n",
            "Value: 10000000000000000000000000000000000000000000000000000000000000000000000000000000000000000000000000000, Memory: 72 bytes\n"
          ]
        }
      ]
    },
    {
      "cell_type": "code",
      "source": [
        "sample_Lst = [1,2,3,4,5,6] ##!!! NOTE SQUARE BRACKETS\n",
        "type(sample_Lst)"
      ],
      "metadata": {
        "colab": {
          "base_uri": "https://localhost:8080/"
        },
        "id": "SXDnXVtMBqh1",
        "outputId": "89961359-a7e2-4d4a-8b87-aa307633e927"
      },
      "execution_count": 8,
      "outputs": [
        {
          "output_type": "execute_result",
          "data": {
            "text/plain": [
              "list"
            ]
          },
          "metadata": {},
          "execution_count": 8
        }
      ]
    },
    {
      "cell_type": "markdown",
      "metadata": {
        "id": "5mMeLHZi_9-s"
      },
      "source": [
        "## 📦 tuple\n",
        "### ❌ Immutable, Ordered, Allows Duplicates\n",
        "\n",
        "### Properties:\n",
        "- Faster than list\n",
        "- Can be used as dict keys\n",
        "\n",
        "### 🧠 Story:\n",
        "> A `tuple` is like a **sealed lunchbox** — you can see what’s inside, but you can’t change the contents."
      ]
    },
    {
      "cell_type": "markdown",
      "source": [
        "###### PLEASE NOTE \"(\" paranthesis not Square Brackets"
      ],
      "metadata": {
        "id": "_8NBhiWPB78q"
      }
    },
    {
      "cell_type": "code",
      "execution_count": 11,
      "metadata": {
        "colab": {
          "base_uri": "https://localhost:8080/"
        },
        "id": "nvLN4XvJ_9-t",
        "outputId": "d0eeb1bc-2093-45d0-b8df-72631fec9513"
      },
      "outputs": [
        {
          "output_type": "stream",
          "name": "stdout",
          "text": [
            "(10, 20)\n",
            "10\n"
          ]
        }
      ],
      "source": [
        "coordinates = (10, 20)\n",
        "print(coordinates)\n",
        "print(coordinates[0])"
      ]
    },
    {
      "cell_type": "code",
      "source": [
        "coordinates[0] = 30"
      ],
      "metadata": {
        "colab": {
          "base_uri": "https://localhost:8080/",
          "height": 144
        },
        "id": "PqhPvJWLChwc",
        "outputId": "ac7155dd-5090-4394-d170-41ca2a4ea6c5"
      },
      "execution_count": 13,
      "outputs": [
        {
          "output_type": "error",
          "ename": "TypeError",
          "evalue": "'tuple' object does not support item assignment",
          "traceback": [
            "\u001b[0;31m---------------------------------------------------------------------------\u001b[0m",
            "\u001b[0;31mTypeError\u001b[0m                                 Traceback (most recent call last)",
            "\u001b[0;32m/tmp/ipython-input-13-1597216889.py\u001b[0m in \u001b[0;36m<cell line: 0>\u001b[0;34m()\u001b[0m\n\u001b[0;32m----> 1\u001b[0;31m \u001b[0mcoordinates\u001b[0m\u001b[0;34m[\u001b[0m\u001b[0;36m0\u001b[0m\u001b[0;34m]\u001b[0m \u001b[0;34m=\u001b[0m \u001b[0;36m30\u001b[0m\u001b[0;34m\u001b[0m\u001b[0;34m\u001b[0m\u001b[0m\n\u001b[0m",
            "\u001b[0;31mTypeError\u001b[0m: 'tuple' object does not support item assignment"
          ]
        }
      ]
    },
    {
      "cell_type": "markdown",
      "metadata": {
        "id": "pOUycnuY_9-t"
      },
      "source": [
        "## 📦 set\n",
        "### ✅ Mutable, Unordered, No Duplicates\n",
        "\n",
        "### Methods:\n",
        "- `add()`, `remove()`, `update()`\n",
        "- Set operations: `union()`, `intersection()`, `difference()`\n",
        "\n",
        "### 🧠 Story:\n",
        "> A `set` is like a **fridge that rejects duplicate ingredients**. It keeps one of everything and doesn't care about order."
      ]
    },
    {
      "cell_type": "code",
      "execution_count": 16,
      "metadata": {
        "colab": {
          "base_uri": "https://localhost:8080/"
        },
        "id": "H9hR1Cxu_9-t",
        "outputId": "cd55f4da-f759-44d6-ad47-078af5fd2082"
      },
      "outputs": [
        {
          "output_type": "stream",
          "name": "stdout",
          "text": [
            "{'MILK', 'eggs', 'cheese', 'milk'}\n",
            "{'eggs', 'MILK', 'cheese', 'butter', 'milk'}\n"
          ]
        }
      ],
      "source": [
        "unique_items = {\"milk\", \"eggs\", \"milk\", \"cheese\",\"MILK\"}\n",
        "print(unique_items)  # 'milk' appears only once\n",
        "unique_items.add(\"butter\")\n",
        "print(unique_items)"
      ]
    },
    {
      "cell_type": "code",
      "source": [
        "unique_items[0] #\"subscriptable, Not accessible via subscript of index\""
      ],
      "metadata": {
        "colab": {
          "base_uri": "https://localhost:8080/",
          "height": 144
        },
        "id": "LinkjRjcDU8N",
        "outputId": "c49b93eb-5c65-40a9-ff03-dfe0b1bb2f0f"
      },
      "execution_count": 15,
      "outputs": [
        {
          "output_type": "error",
          "ename": "TypeError",
          "evalue": "'set' object is not subscriptable",
          "traceback": [
            "\u001b[0;31m---------------------------------------------------------------------------\u001b[0m",
            "\u001b[0;31mTypeError\u001b[0m                                 Traceback (most recent call last)",
            "\u001b[0;32m/tmp/ipython-input-15-4141546541.py\u001b[0m in \u001b[0;36m<cell line: 0>\u001b[0;34m()\u001b[0m\n\u001b[0;32m----> 1\u001b[0;31m \u001b[0munique_items\u001b[0m\u001b[0;34m[\u001b[0m\u001b[0;36m0\u001b[0m\u001b[0;34m]\u001b[0m\u001b[0;34m\u001b[0m\u001b[0;34m\u001b[0m\u001b[0m\n\u001b[0m",
            "\u001b[0;31mTypeError\u001b[0m: 'set' object is not subscriptable"
          ]
        }
      ]
    },
    {
      "cell_type": "markdown",
      "metadata": {
        "id": "2oBee-Bq_9-t"
      },
      "source": [
        "## 📦 dict\n",
        "### ✅ Mutable, Key-Value Pair Store, No Duplicate Keys\n",
        "\n",
        "### Methods:\n",
        "- `keys()`, `values()`, `items()`\n",
        "- `get()`, `update()`, `pop()`\n",
        "\n",
        "### 🧠 Story:\n",
        "> A `dict` is like a **labeled pantry** or a **labelled Supermarket Aisle**. Each shelf (key) has a label and stores an item (value)."
      ]
    },
    {
      "cell_type": "code",
      "source": [],
      "metadata": {
        "id": "21GEL4myH2eN"
      },
      "execution_count": null,
      "outputs": []
    },
    {
      "cell_type": "code",
      "execution_count": 19,
      "metadata": {
        "colab": {
          "base_uri": "https://localhost:8080/"
        },
        "id": "hHXikIW4_9-t",
        "outputId": "b9448f64-4cdd-45bf-9e0d-a56c3d8ff465"
      },
      "outputs": [
        {
          "output_type": "stream",
          "name": "stdout",
          "text": [
            "Laxmi\n",
            "{'name': 'Laxmi', 'age': 26}\n"
          ]
        }
      ],
      "source": [
        "person = {\"name\": [1,2,3,4], \"age\": 25,\"name\":\"Laxmi\"}\n",
        "print(person[\"name\"])\n",
        "person[\"age\"] = 26\n",
        "print(person)"
      ]
    },
    {
      "cell_type": "markdown",
      "metadata": {
        "id": "W9rXRoEw_9-t"
      },
      "source": [
        "## 📊 Memory Comparison\n",
        "Let’s measure memory used by each structure.\n",
        "\n",
        "> Use `sys.getsizeof()` to estimate their internal memory usage."
      ]
    },
    {
      "cell_type": "code",
      "execution_count": 30,
      "metadata": {
        "colab": {
          "base_uri": "https://localhost:8080/"
        },
        "id": "uGNvMvVq_9-u",
        "outputId": "7bc1c92b-7e0e-47a4-b4a7-ab23c55dbab9"
      },
      "outputs": [
        {
          "output_type": "stream",
          "name": "stdout",
          "text": [
            "List: 88\n",
            "Tuple: 64\n",
            "Set: 216\n",
            "Dict: 224\n"
          ]
        }
      ],
      "source": [
        "import sys\n",
        "print(\"List:\", sys.getsizeof([1, 2, 3]))\n",
        "print(\"Tuple:\", sys.getsizeof((1, 2, 3)))\n",
        "print(\"Set:\", sys.getsizeof({1, 2, 3}))\n",
        "print(\"Dict:\", sys.getsizeof({1: (1,3,5), 3: \"b\", 3: \"c\"}))"
      ]
    },
    {
      "cell_type": "markdown",
      "metadata": {
        "id": "8Y-XWT9u_9-u"
      },
      "source": [
        "## 🔚 Summary Table\n",
        "\n",
        "| Type   | Ordered | Mutable | Duplicates Allowed | Use Case                         |\n",
        "|--------|---------|---------|---------------------|----------------------------------|\n",
        "| list   | ✅       | ✅       | ✅                   | Store sequences with operations \"[]\" |\n",
        "| tuple  | ✅       | ❌       | ✅                   | Immutable fixed data  \"()\"           |\n",
        "| set    | ❌       | ✅       | ❌                   | Unique collection, fast lookup  \"{}\"|\n",
        "| dict   | ❌       | ✅       | ❌ (keys)            | Key-value mappings  \"{}\"         |"
      ]
    },
    {
      "cell_type": "markdown",
      "metadata": {
        "id": "Bjxr5J_P_9-u"
      },
      "source": [
        "## 📦 Abstract Data Structures — Summary Table\n",
        "\n",
        "| Type     | Memory (approx)   | Mutable? | Ordered? | Duplicates? | Notes                                                                 |\n",
        "|----------|--------------------|----------|----------|-------------|-----------------------------------------------------------------------|\n",
        "| `list`   | ~64+ bytes         | ✅ Yes   | ✅ Yes   | ✅ Yes      | Stores references to objects; resizes dynamically (overallocation)   |\n",
        "| `tuple`  | ~56+ bytes         | ❌ No    | ✅ Yes   | ✅ Yes      | Immutable version of list; slightly more memory-efficient             |\n",
        "| `set`    | ~224+ bytes        | ✅ Yes   | ❌ No    | ❌ No       | Unordered collection of unique items; uses hash table internally      |\n",
        "| `dict`   | ~240+ bytes        | ✅ Yes   | ✅ (Py3.7+) | ❌ Keys only | Key-value store using hash map; fast lookup and updates               |\n",
        "\n",
        "> 📏 Use `sys.getsizeof()` for the base container size  \n",
        "> 🧮 Actual memory size grows with the number and size of elements\n",
        "\n",
        "---\n",
        "\n",
        "### 🧠 Analogies to Remember\n",
        "\n",
        "- **`list`** → A flexible 🧺 **basket** where order matters and you can add/remove items.\n",
        "- **`tuple`** → A sealed 🍱 **lunchbox** — you can look inside but not modify.\n",
        "- **`set`** → A unique 🧊 **fridge** that keeps one of everything.\n",
        "- **`dict`** → A labeled 🏷️ **pantry** — every label points to something useful inside.\n"
      ]
    },
    {
      "cell_type": "markdown",
      "metadata": {
        "id": "5qtiCoV3_9-u"
      },
      "source": []
    }
  ],
  "metadata": {
    "kernelspec": {
      "display_name": "Python 3 (ipykernel)",
      "language": "python",
      "name": "python3"
    },
    "language_info": {
      "codemirror_mode": {
        "name": "ipython",
        "version": 3
      },
      "file_extension": ".py",
      "mimetype": "text/x-python",
      "name": "python",
      "nbconvert_exporter": "python",
      "pygments_lexer": "ipython3",
      "version": "3.11.7"
    },
    "colab": {
      "provenance": []
    }
  },
  "nbformat": 4,
  "nbformat_minor": 0
}