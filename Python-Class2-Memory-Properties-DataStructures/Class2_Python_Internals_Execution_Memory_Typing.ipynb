{
  "cells": [
    {
      "cell_type": "markdown",
      "metadata": {
        "id": "vE_3q7qxcB7N"
      },
      "source": [
        "# Class 2: Python Internals - Execution, Typing, and Memory\n",
        "📅 Date: 05th July 2025\n",
        "\n",
        "This notebook is designed to help you deeply understand how Python works under the hood so you can confidently answer foundational questions every developer should know."
      ]
    },
    {
      "cell_type": "markdown",
      "metadata": {
        "id": "1KkVvu6TcB7O"
      },
      "source": [
        "## 1️⃣ What is a Programming Language?\n",
        "\n",
        "A **programming language** is a formal language used to write instructions that a computer can understand and execute.\n",
        "\n",
        "**Analogy**: Think of it as a translator between human ideas and computer actions."
      ]
    },
    {
      "cell_type": "markdown",
      "metadata": {
        "id": "qkCTholxcB7P"
      },
      "source": [
        "## 2️⃣ Low-Level vs High-Level Programming Languages\n",
        "\n",
        "| Feature              | Low-Level Language     | High-Level Language   |\n",
        "|----------------------|-------------------------|------------------------|\n",
        "| Closer to Hardware   | ✅                      | ❌                     |\n",
        "| Human-readable       | ❌                      | ✅                     |\n",
        "| Speed                | ✅ (Faster)              | Slower                |\n",
        "| Portability          | ❌                      | ✅                     |\n",
        "\n",
        "**Examples:**\n",
        "- Low-Level: Assembly, C\n",
        "- High-Level: Python, Java, JavaScript"
      ]
    },
    {
      "cell_type": "markdown",
      "metadata": {
        "id": "a765521AcB7P"
      },
      "source": [
        "## 3️⃣ Is Python High-Level or Low-Level?\n",
        "\n",
        "Python is a **high-level** language.\n",
        "\n",
        "✅ Easy to read  \n",
        "✅ Abstracted from memory and hardware  \n",
        "✅ Automatically manages memory (Garbage Collection)"
      ]
    },
    {
      "cell_type": "markdown",
      "metadata": {
        "id": "ueEtczFicB7P"
      },
      "source": [
        "## 4️⃣ Static vs Dynamic Typing\n",
        "\n",
        "**Statically Typed Languages:**\n",
        "- Types are declared explicitly\n",
        "- Errors are caught at compile time\n",
        "\n",
        "```java\n",
        "int x = 10;\n",
        "```\n",
        "\n",
        "**Dynamically Typed Languages (Python):**\n",
        "- No need to declare types\n",
        "- Errors may occur at runtime\n",
        "\n",
        "```python\n",
        "x = 10\n",
        "x = \"ten\"  # No error, type changed at runtime\n",
        "```"
      ]
    },
    {
      "cell_type": "code",
      "metadata": {
        "id": "VW5hKamucB7P",
        "colab": {
          "base_uri": "https://localhost:8080/"
        },
        "outputId": "4d2c89ea-2a8b-4d70-c4f8-1ccd86cbaf26"
      },
      "execution_count": null,
      "source": [
        "x = 10\n",
        "print(type(x))  # int\n",
        "x = \"ten\"\n",
        "print(type(x))  # str"
      ],
      "outputs": [
        {
          "output_type": "stream",
          "name": "stdout",
          "text": [
            "<class 'int'>\n",
            "<class 'str'>\n"
          ]
        }
      ]
    },
    {
      "cell_type": "markdown",
      "metadata": {
        "id": "rPafLNuJcB7P"
      },
      "source": [
        "## 5️⃣ Interpreter vs Compiler\n",
        "\n",
        "**Compiler**:\n",
        "- Translates the entire code at once into machine code.\n",
        "- Languages: C, C++\n",
        "\n",
        "**Interpreter**:\n",
        "- Translates code line-by-line during execution.\n",
        "- Language: Python\n",
        "\n",
        "### Python is both compiled and interpreted!\n",
        "- `.py` → compiled to `.pyc` (bytecode)\n",
        "- Then interpreted by Python Virtual Machine (PVM)"
      ]
    },
    {
      "cell_type": "code",
      "metadata": {
        "id": "AHIK1aawcB7P"
      },
      "execution_count": null,
      "source": [
        "# Compile a Python file manually\n",
        "!python -m py_compile hello.py"
      ],
      "outputs": []
    },
    {
      "cell_type": "markdown",
      "metadata": {
        "id": "cgjYF9oTcB7P"
      },
      "source": [
        "## 6️⃣ How Python Executes Code\n",
        "\n",
        "```text\n",
        "Your Code (.py)\n",
        "    ↓\n",
        "Bytecode (.pyc via CPython)\n",
        "    ↓\n",
        "Python Virtual Machine (PVM)\n",
        "    ↓\n",
        "Execution\n",
        "```\n",
        "\n",
        "✅ Python compiles to bytecode first  \n",
        "✅ Then interpreted by PVM"
      ]
    },
    {
      "cell_type": "markdown",
      "metadata": {
        "id": "-Ms-yzzgcB7P"
      },
      "source": [
        "## 7️⃣ What Does Python Use Internally?\n",
        "\n",
        "Python uses an **interpreter implementation**.\n",
        "\n",
        "The default is **CPython**:\n",
        "- Written in C\n",
        "- Converts `.py` to `.pyc`\n",
        "- Executes using a virtual machine (PVM)\n",
        "\n",
        "Other implementations:\n",
        "- **PyPy** – faster\n",
        "- **Jython** – runs on Java\n",
        "- **IronPython** – for .NET"
      ]
    },
    {
      "cell_type": "markdown",
      "metadata": {
        "id": "ntw4MdrHcB7Q"
      },
      "source": [
        "## 8️⃣ 32-bit vs 64-bit Python\n",
        "\n",
        "- 32-bit → Can address ~4GB of RAM\n",
        "- 64-bit → Can address much more (ideal for Data Science)\n",
        "- Affects integer size, performance, memory\n",
        "\n",
        "Use the below code to check your architecture:"
      ]
    },
    {
      "cell_type": "code",
      "metadata": {
        "id": "hlXekGstcB7Q",
        "colab": {
          "base_uri": "https://localhost:8080/"
        },
        "outputId": "58b9942c-6b0a-444a-e345-be9a1b3a7a57"
      },
      "execution_count": null,
      "source": [
        "import platform\n",
        "print(platform.architecture())"
      ],
      "outputs": [
        {
          "output_type": "stream",
          "name": "stdout",
          "text": [
            "('64bit', 'ELF')\n"
          ]
        }
      ]
    },
    {
      "cell_type": "markdown",
      "metadata": {
        "id": "M3jlcR4XcB7Q"
      },
      "source": [
        "## ✅ Summary Questions to Practice\n",
        "\n",
        "1. What is a programming language?\n",
        "2. Difference between low-level and high-level languages?\n",
        "3. Why is Python considered high-level?\n",
        "4. What is dynamic typing?\n",
        "5. Difference between interpreter and compiler?\n",
        "6. How does Python execute a program?\n",
        "7. What is CPython?\n",
        "8. Difference between 32-bit and 64-bit Python?\n",
        "\n",
        "Use this notebook to revisit, explore, and deepen your understanding!"
      ]
    },
    {
      "cell_type": "markdown",
      "metadata": {
        "id": "_FBpGrwwcB7Q"
      },
      "source": [
        "## 🧰 Understanding Clang, Anaconda, and Virtual Environments\n",
        "\n",
        "To truly understand how Python works from the ground up, let's explore the tools and ecosystems around Python."
      ]
    },
    {
      "cell_type": "markdown",
      "metadata": {
        "id": "du8CIbZ2cB7Q"
      },
      "source": [
        "### 🔧 What is Clang?\n",
        "\n",
        "Clang is a **C/C++ compiler** that’s part of the LLVM toolchain. It's not directly related to Python, but it:\n",
        "- Is used when compiling C extensions for Python (like NumPy, pandas internals)\n",
        "- Can be used to build custom Python modules in C\n",
        "\n",
        "> 🧠 Think of Clang as a low-level tool that supports Python's ability to extend into C/C++ territory.\n",
        "\n",
        "✅ Clang is especially useful in data science when optimizing performance-critical code."
      ]
    },
    {
      "cell_type": "markdown",
      "metadata": {
        "id": "3V9cpM_AcB7Q"
      },
      "source": [
        "### 📦 What is Anaconda Distribution?\n",
        "\n",
        "Anaconda is a **Python distribution** designed for:\n",
        "- Data Science\n",
        "- Machine Learning\n",
        "- Scientific Computing\n",
        "\n",
        "It comes bundled with:\n",
        "- Python interpreter\n",
        "- 100+ libraries (NumPy, pandas, matplotlib, scikit-learn, etc.)\n",
        "- Tools like Jupyter Notebook and Spyder\n",
        "\n",
        "✅ It also includes `conda`, a powerful environment and package manager.\n",
        "\n",
        "> 💡 With Anaconda, you don’t need to install every package manually — it’s ready out of the box for data work."
      ]
    },
    {
      "cell_type": "markdown",
      "metadata": {
        "id": "SI5-Ds-JcB7Q"
      },
      "source": [
        "### 🌐 What is a Virtual Environment?\n",
        "\n",
        "A **virtual environment** is a self-contained folder that has its own Python binary and package directory.\n",
        "\n",
        "Why use it?\n",
        "- To isolate dependencies for each project\n",
        "- Avoid conflicts between package versions\n",
        "- Maintain clean and reproducible setups\n",
        "\n",
        "### 🔧 Tools to Create Virtual Environments\n",
        "- `venv` (built-in)\n",
        "- `virtualenv` (more flexible)\n",
        "- `conda` (Anaconda-specific)\n",
        "\n",
        "### 🔍 Creating a Virtual Environment (Basic)\n",
        "```bash\n",
        "python -m venv myenv\n",
        "source myenv/bin/activate  # On Mac/Linux\n",
        "myenv\\Scripts\\activate    # On Windows\n",
        "```\n",
        "\n",
        "To deactivate:\n",
        "```bash\n",
        "deactivate\n",
        "```\n",
        "\n",
        "✅ With virtual environments, each project has its own sandbox."
      ]
    },
    {
      "cell_type": "markdown",
      "metadata": {
        "id": "cIKKSYUhcB7Q"
      },
      "source": [
        "### 📎 Summary\n",
        "\n",
        "| Concept              | Purpose                                                      |\n",
        "|---------------------|--------------------------------------------------------------|\n",
        "| Clang               | Low-level compiler for C/C++ extensions in Python             |\n",
        "| Anaconda            | Pre-packaged Python distro for Data Science                   |\n",
        "| Virtual Environment | Isolated workspace for Python projects and dependencies       |\n",
        "\n",
        "Use these tools to build clean, efficient, and scalable Python projects."
      ]
    },
    {
      "cell_type": "markdown",
      "metadata": {
        "id": "PXL9g77UcB7Q"
      },
      "source": [
        "## 🧪 How Jupyter Notebooks Work Internally\n",
        "\n",
        "`.ipynb` files are not plain Python scripts – they are **JSON documents** that store code cells, markdown, outputs, and metadata.\n",
        "\n",
        "### 📈 Execution Flow of a Jupyter Cell:\n",
        "1. The Jupyter frontend (browser) sends your cell to the **kernel** (usually IPython).\n",
        "2. The kernel compiles your cell into **Python bytecode**.\n",
        "3. This bytecode is run by the **Python Virtual Machine (PVM)**.\n",
        "4. Outputs (or errors) are sent back and displayed below the cell.\n",
        "\n",
        "> ✅ Even in notebooks, the Python engine is still **CPython** running bytecode!"
      ]
    },
    {
      "cell_type": "markdown",
      "metadata": {
        "id": "5gf9XJobcB7Q"
      },
      "source": [
        "## 🧠 Reminder: CPython, Bytecode, and PVM\n",
        "\n",
        "Even inside Jupyter, Python code is processed the same way as in `.py` files:\n",
        "\n",
        "```text\n",
        "Python Cell Code (.ipynb)\n",
        "       ↓\n",
        "   Compiled to Bytecode\n",
        "       ↓\n",
        "Executed by Python Virtual Machine (PVM)\n",
        "```\n",
        "\n",
        "Jupyter just adds interactivity, markdown, and a web interface."
      ]
    },
    {
      "cell_type": "markdown",
      "metadata": {
        "id": "Fi_N-d8ocB7Q"
      },
      "source": [
        "## 🔧 What Language Should I Use to Build Python Libraries?\n",
        "\n",
        "Most Python packages (especially in data science) are built in **layers**:\n",
        "\n",
        "| Layer | Language | Why? |\n",
        "|-------|----------|------|\n",
        "| High-Level API | Python | Easy to use and integrate |\n",
        "| Core Engine | C / C++ / Cython / Rust | Speed and performance |\n",
        "| Packaging | Python (setup.py, pyproject.toml) | For distribution |\n",
        "\n",
        "### 🧪 Example:\n",
        "- `numpy`, `pandas`, `scikit-learn`: Use C/C++ + Cython for performance\n",
        "- `PyTorch`, `TensorFlow`: Core in C++, bindings in Python"
      ]
    },
    {
      "cell_type": "markdown",
      "metadata": {
        "id": "QITwyG3ucB7Q"
      },
      "source": [
        "## 📖 Story Time: Remembering Python Internals with Analogies\n",
        "\n",
        "Learning how Python works can feel abstract — so here are some easy-to-remember stories to anchor key ideas:"
      ]
    },
    {
      "cell_type": "markdown",
      "metadata": {
        "id": "VGQna9TPcB7Q"
      },
      "source": [
        "### 🧑‍🍳 Python the Chef (Interpreter)\n",
        "Imagine Python is a chef reading a recipe (your code) **line-by-line** and cooking immediately.\n",
        "\n",
        "- A **compiled language** (like C) is like cooking **after writing the full recipe**.\n",
        "- Python doesn’t wait — it reads a step and does it right away.\n",
        "\n",
        "> 🍳 \"Mix eggs\" → Python mixes eggs. Then reads the next step."
      ]
    },
    {
      "cell_type": "markdown",
      "metadata": {
        "id": "77NK4ou9cB7Q"
      },
      "source": [
        "### 🏗️ Clang/GCC the Construction Worker\n",
        "When Python wants something built fast (like matrix multiplication), it **hires Clang or GCC** to build a machine room in C.\n",
        "\n",
        "> 🛠️ Python says: \"I’m too slow for this. Clang, can you build me a turbo engine?\"\n",
        "\n",
        "Once Clang builds it, Python uses it like a plug-in tool. This is how `numpy`, `pandas`, and others get their speed."
      ]
    },
    {
      "cell_type": "markdown",
      "metadata": {
        "id": "HG86OWAycB7Q"
      },
      "source": [
        "### 🧰 Anaconda the Toolkit\n",
        "Anaconda is like a giant **scientist’s toolbox**.\n",
        "- It contains Python, pip, Jupyter, and 100s of ready-made libraries.\n",
        "\n",
        "> 🧪 You don’t buy ingredients one-by-one. Anaconda gives you the full kitchen.\n",
        "\n",
        "This is why data scientists love Anaconda — less setup, more doing."
      ]
    },
    {
      "cell_type": "markdown",
      "metadata": {
        "id": "RjUhR8T2cB7Q"
      },
      "source": [
        "### 📦 Virtual Environment: Your Python Sandbox\n",
        "Imagine you have a **sandbox** for each Python project.\n",
        "- Each sandbox has its own toys (libraries)\n",
        "- Keeps your work clean and separate\n",
        "\n",
        "> 🧸 Project A doesn’t mess with Project B. No toy fights!"
      ]
    },
    {
      "cell_type": "markdown",
      "metadata": {
        "id": "tLxVp0HpcB7Q"
      },
      "source": [
        "### 🧠 Bytecode and PVM: Brain and Muscles\n",
        "Your `.py` file gets turned into **bytecode** — kind of like Python’s internal language.\n",
        "- Then the **Python Virtual Machine (PVM)** executes it.\n",
        "\n",
        "> 🧠 Bytecode is the thoughts. 💪 PVM makes it happen.\n",
        "\n",
        "Python compiles to bytecode and interprets it in real time."
      ]
    },
    {
      "cell_type": "markdown",
      "metadata": {
        "id": "3yiIrb2ncB7Q"
      },
      "source": [
        "### 📌 Summary:\n",
        "\n",
        "- ✅ Jupyter cells are compiled and interpreted just like `.py` files — it's still CPython underneath.\n",
        "- ✅ Clang/GCC is used behind the scenes when:\n",
        "  - Installing packages with C extensions\n",
        "  - Building Python itself\n",
        "  - Writing speed-critical modules in C\n",
        "- ✅ To build performant data science packages:\n",
        "  - Use Python for usability\n",
        "  - Use C/C++/Cython for performance\n",
        "\n",
        "> 🧠 Python is the \"glue\", and C/C++ is the \"engine.\""
      ]
    }
  ],
  "metadata": {
    "kernelspec": {
      "display_name": "Python 3",
      "language": "python",
      "name": "python3"
    },
    "language_info": {
      "name": "python",
      "version": "3.9"
    },
    "colab": {
      "provenance": []
    }
  },
  "nbformat": 4,
  "nbformat_minor": 0
}