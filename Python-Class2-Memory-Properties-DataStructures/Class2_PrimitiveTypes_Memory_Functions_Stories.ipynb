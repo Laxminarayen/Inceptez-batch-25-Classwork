{
  "cells": [
    {
      "cell_type": "markdown",
      "metadata": {
        "id": "4twsvM0w46gt"
      },
      "source": [
        "# 🧠 Python Primitive Data Types: Size, Functions & Easy Stories\n",
        "\n",
        "In this notebook, we explore the core building blocks of Python:\n",
        "- `int`, `float`, `complex`, `bool`, `str`\n",
        "- Their memory usage\n",
        "- Key functions and methods\n",
        "- Real-world analogies to remember them better"
      ]
    },
    {
      "cell_type": "markdown",
      "metadata": {
        "id": "qaV2erDj46gw"
      },
      "source": [
        "## 📏 Memory Size of Primitive Types\n",
        "Let’s check how much memory each basic data type uses."
      ]
    },
    {
      "cell_type": "code",
      "source": [
        "import sys\n",
        "sys.getsizeof?"
      ],
      "metadata": {
        "id": "mPUlHAiv5Q5j"
      },
      "execution_count": null,
      "outputs": []
    },
    {
      "cell_type": "markdown",
      "source": [
        "\n",
        "\n",
        "```\n",
        "Docstring:\n",
        "getsizeof(object [, default]) -> int\n",
        "\n",
        "Return the size of object in bytes.\n",
        "Type:      builtin_function_or_method\n",
        "```\n",
        "\n"
      ],
      "metadata": {
        "id": "PhI1BYLM5bFo"
      }
    },
    {
      "cell_type": "code",
      "execution_count": null,
      "metadata": {
        "colab": {
          "base_uri": "https://localhost:8080/"
        },
        "id": "nK-SHxaZ46gw",
        "outputId": "505ad615-e1bd-49ea-9c22-4407b4b09795"
      },
      "outputs": [
        {
          "output_type": "stream",
          "name": "stdout",
          "text": [
            "int(0): 28\n",
            "float(0.0): 24\n",
            "complex(0+0j): 32\n",
            "bool(True): 28\n",
            "str('a'): 50\n",
            "str('hello'): 54\n"
          ]
        }
      ],
      "source": [
        "import sys\n",
        "\n",
        "print(\"int(0):\", sys.getsizeof(0))\n",
        "print(\"float(0.0):\", sys.getsizeof(0.0))\n",
        "print(\"complex(0+0j):\", sys.getsizeof(0+0j))\n",
        "print(\"bool(True):\", sys.getsizeof(True))\n",
        "print(\"str('a'):\", sys.getsizeof('a'))\n",
        "print(\"str('hello'):\", sys.getsizeof('hello'))"
      ]
    },
    {
      "cell_type": "code",
      "source": [
        "import sys\n",
        "\n",
        "x = 10\n",
        "print(\"Value:\", x)\n",
        "print(\"Type:\", type(x))\n",
        "print(\"Memory (bytes):\", sys.getsizeof(x))\n",
        "\n",
        "large = 10**100\n",
        "print(\"\\nLarge int value:\", large)\n",
        "print(\"Memory for large int (bytes):\", sys.getsizeof(large))\n",
        "\n",
        "large = 10**1000\n",
        "print(\"\\nLarge int value:\", large)\n",
        "print(\"Memory for large int (bytes):\", sys.getsizeof(large))"
      ],
      "metadata": {
        "colab": {
          "base_uri": "https://localhost:8080/"
        },
        "id": "ft-NPo2j6D6e",
        "outputId": "43e0a689-620d-4ce4-a948-46c0f4e2871e"
      },
      "execution_count": null,
      "outputs": [
        {
          "output_type": "stream",
          "name": "stdout",
          "text": [
            "Value: 10\n",
            "Type: <class 'int'>\n",
            "Memory (bytes): 28\n",
            "\n",
            "Large int value: 10000000000000000000000000000000000000000000000000000000000000000000000000000000000000000000000000000\n",
            "Memory for large int (bytes): 72\n",
            "\n",
            "Large int value: 10000000000000000000000000000000000000000000000000000000000000000000000000000000000000000000000000000000000000000000000000000000000000000000000000000000000000000000000000000000000000000000000000000000000000000000000000000000000000000000000000000000000000000000000000000000000000000000000000000000000000000000000000000000000000000000000000000000000000000000000000000000000000000000000000000000000000000000000000000000000000000000000000000000000000000000000000000000000000000000000000000000000000000000000000000000000000000000000000000000000000000000000000000000000000000000000000000000000000000000000000000000000000000000000000000000000000000000000000000000000000000000000000000000000000000000000000000000000000000000000000000000000000000000000000000000000000000000000000000000000000000000000000000000000000000000000000000000000000000000000000000000000000000000000000000000000000000000000000000000000000000000000000000000000000000000000000000000000000000000000000000000000000000000000000000000000000000\n",
            "Memory for large int (bytes): 468\n"
          ]
        }
      ]
    },
    {
      "cell_type": "markdown",
      "metadata": {
        "id": "q8EW5-Nb46gx"
      },
      "source": [
        "## 🔢 int\n",
        "### Example:\n",
        "```python\n",
        "x = 42\n",
        "```\n",
        "### Methods:\n",
        "- `bit_length()` → number of bits to represent the integer\n",
        "- `to_bytes()` / `from_bytes()` → convert to binary\n",
        "\n",
        "### 🧠 Story:\n",
        "> `int` is like a label on a locker — it just tells you a number. Python gives that number a backpack with metadata, so it takes more memory."
      ]
    },
    {
      "cell_type": "code",
      "execution_count": null,
      "metadata": {
        "colab": {
          "base_uri": "https://localhost:8080/"
        },
        "id": "VH6uRKcE46gx",
        "outputId": "78a0c01f-d197-436c-84a0-4a6a195ebe07"
      },
      "outputs": [
        {
          "output_type": "stream",
          "name": "stdout",
          "text": [
            "6\n",
            "<class 'int'>\n"
          ]
        }
      ],
      "source": [
        "x = 42\n",
        "print(x.bit_length())\n",
        "print(type(x))"
      ]
    },
    {
      "cell_type": "code",
      "source": [
        "x = 25\n",
        "float(x)"
      ],
      "metadata": {
        "colab": {
          "base_uri": "https://localhost:8080/"
        },
        "id": "pMhqaW4I7VGT",
        "outputId": "a9f88161-4955-45b7-d28d-84810a541a77"
      },
      "execution_count": null,
      "outputs": [
        {
          "output_type": "execute_result",
          "data": {
            "text/plain": [
              "25.0"
            ]
          },
          "metadata": {},
          "execution_count": 14
        }
      ]
    },
    {
      "cell_type": "markdown",
      "metadata": {
        "id": "S-q-kVr446gy"
      },
      "source": [
        "## 🔢 float\n",
        "### Example:\n",
        "```python\n",
        "f = 3.14\n",
        "```\n",
        "### Functions:\n",
        "- `round()`, `abs()`, `int()`\n",
        "\n",
        "### 🧠 Story:\n",
        "> `float` is like a measuring cup — it holds decimals, not just whole numbers. Python gives it room to breathe with double precision (64-bit)."
      ]
    },
    {
      "cell_type": "code",
      "execution_count": null,
      "metadata": {
        "colab": {
          "base_uri": "https://localhost:8080/"
        },
        "id": "5UYACYDl46gy",
        "outputId": "dc74063e-71ac-4d6f-c398-f4c331579424"
      },
      "outputs": [
        {
          "output_type": "stream",
          "name": "stdout",
          "text": [
            "4\n",
            "3\n"
          ]
        }
      ],
      "source": [
        "f = 3.64\n",
        "print(round(f))\n",
        "print(int(f))"
      ]
    },
    {
      "cell_type": "code",
      "source": [
        "abs(-23)"
      ],
      "metadata": {
        "colab": {
          "base_uri": "https://localhost:8080/"
        },
        "id": "OQaZKu-b6gIc",
        "outputId": "241e818a-7a1d-4081-f10d-3482c776e335"
      },
      "execution_count": null,
      "outputs": [
        {
          "output_type": "execute_result",
          "data": {
            "text/plain": [
              "23"
            ]
          },
          "metadata": {},
          "execution_count": 9
        }
      ]
    },
    {
      "cell_type": "code",
      "source": [
        "int(3.64)"
      ],
      "metadata": {
        "colab": {
          "base_uri": "https://localhost:8080/"
        },
        "id": "L0dMBMc36nQ8",
        "outputId": "ef424322-e39c-476a-a937-5831c5a4fd3f"
      },
      "execution_count": null,
      "outputs": [
        {
          "output_type": "execute_result",
          "data": {
            "text/plain": [
              "3"
            ]
          },
          "metadata": {},
          "execution_count": 12
        }
      ]
    },
    {
      "cell_type": "markdown",
      "metadata": {
        "id": "0h5-SyDA46gy"
      },
      "source": [
        "## 🔀 complex\n",
        "### Example:\n",
        "```python\n",
        "z = 1 + 2j\n",
        "```\n",
        "### Properties:\n",
        "- `z.real`, `z.imag`\n",
        "\n",
        "### 🧠 Story:\n",
        "> `complex` is like a GPS coordinate (real + imaginary). Python keeps both parts in one object for 2D calculations."
      ]
    },
    {
      "cell_type": "code",
      "execution_count": null,
      "metadata": {
        "colab": {
          "base_uri": "https://localhost:8080/"
        },
        "id": "Ixdx5nN646gz",
        "outputId": "54724b43-27cf-4e71-e2d3-e83bb75f994a"
      },
      "outputs": [
        {
          "output_type": "stream",
          "name": "stdout",
          "text": [
            "Real part: 1.0\n",
            "Imaginary part: 2.0\n"
          ]
        }
      ],
      "source": [
        "z = 1 + 2j\n",
        "print(\"Real part:\", z.real)\n",
        "print(\"Imaginary part:\", z.imag)"
      ]
    },
    {
      "cell_type": "markdown",
      "metadata": {
        "id": "YG71A0UK46gz"
      },
      "source": [
        "## ✅ bool\n",
        "### Example:\n",
        "```python\n",
        "flag = True\n",
        "```\n",
        "### Functions:\n",
        "- `bool(x)` → convert value to boolean\n",
        "- Used in conditions and loops\n",
        "\n",
        "### 🧠 Story:\n",
        "> `bool` is a light switch — just `True` or `False`. Internally, it's a special `int` (0 or 1)."
      ]
    },
    {
      "cell_type": "code",
      "execution_count": null,
      "metadata": {
        "colab": {
          "base_uri": "https://localhost:8080/"
        },
        "id": "YFM3fDMp46gz",
        "outputId": "eabd2111-06cc-46e5-bc92-1161fe7bcb5c"
      },
      "outputs": [
        {
          "output_type": "stream",
          "name": "stdout",
          "text": [
            "False\n",
            "True\n",
            "True\n"
          ]
        }
      ],
      "source": [
        "print(bool(0))\n",
        "print(bool(42))\n",
        "print(isinstance(True, int))  # True"
      ]
    },
    {
      "cell_type": "markdown",
      "metadata": {
        "id": "8tAFiVnt46gz"
      },
      "source": [
        "## ✉️ str\n",
        "### Example:\n",
        "```python\n",
        "s = \"hello\"\n",
        "```\n",
        "### Methods:\n",
        "- `s.upper()`, `s.lower()`, `s.replace()`, `s.split()`\n",
        "- `len(s)`, indexing, slicing\n",
        "\n",
        "### 🧠 Story:\n",
        "> `str` is like a necklace — a collection of characters (beads). Each bead takes memory, and you can inspect, cut, or transform the chain."
      ]
    },
    {
      "cell_type": "code",
      "execution_count": null,
      "metadata": {
        "colab": {
          "base_uri": "https://localhost:8080/"
        },
        "id": "BGUjQxvG46gz",
        "outputId": "3f273d59-bb38-4b9b-a5ca-91aa7c6ed935"
      },
      "outputs": [
        {
          "output_type": "stream",
          "name": "stdout",
          "text": [
            "HELLO\n",
            "h\n",
            "5\n"
          ]
        }
      ],
      "source": [
        "s = \"hello\"\n",
        "print(s.upper())\n",
        "print(s[0])\n",
        "print(len(s))"
      ]
    },
    {
      "cell_type": "markdown",
      "metadata": {
        "id": "wLbM0lw846gz"
      },
      "source": [
        "## 🔚 Summary Table\n",
        "\n",
        "| Type    | Memory (approx) | Mutable? | Notes                         |\n",
        "|---------|------------------|----------|-------------------------------|\n",
        "| `int`   | ~28+ bytes        | ❌        | Cached between -5 to 256      |\n",
        "| `float` | ~24+ bytes        | ❌        | 64-bit double precision       |\n",
        "| `complex` | ~32+ bytes      | ❌        | Stores real and imaginary     |\n",
        "| `bool`  | ~28 bytes         | ❌        | Subclass of `int`             |\n",
        "| `str`   | ~49+ bytes        | ❌        | +1 byte per char (roughly)    |\n",
        "\n",
        "> Use `sys.getsizeof()` and try your own examples!"
      ]
    },
    {
      "cell_type": "code",
      "source": [
        "(2)**2"
      ],
      "metadata": {
        "colab": {
          "base_uri": "https://localhost:8080/"
        },
        "id": "mRUzGz6U8NCy",
        "outputId": "e0a893e5-1f30-475d-b0dc-8a4d604e2523"
      },
      "execution_count": null,
      "outputs": [
        {
          "output_type": "execute_result",
          "data": {
            "text/plain": [
              "4"
            ]
          },
          "metadata": {},
          "execution_count": 18
        }
      ]
    },
    {
      "cell_type": "code",
      "source": [
        "(-2)**2"
      ],
      "metadata": {
        "colab": {
          "base_uri": "https://localhost:8080/"
        },
        "id": "MNVbnaGW8PMc",
        "outputId": "822a8016-9755-4da9-cf64-7b568abce62e"
      },
      "execution_count": null,
      "outputs": [
        {
          "output_type": "execute_result",
          "data": {
            "text/plain": [
              "4"
            ]
          },
          "metadata": {},
          "execution_count": 19
        }
      ]
    },
    {
      "cell_type": "code",
      "source": [
        "import math\n",
        "math.sqrt(4)"
      ],
      "metadata": {
        "colab": {
          "base_uri": "https://localhost:8080/"
        },
        "id": "8bF3lYz38SJW",
        "outputId": "e9cd4c0f-92a0-45f6-eae7-49eab43e1025"
      },
      "execution_count": null,
      "outputs": [
        {
          "output_type": "execute_result",
          "data": {
            "text/plain": [
              "2.0"
            ]
          },
          "metadata": {},
          "execution_count": 22
        }
      ]
    },
    {
      "cell_type": "code",
      "source": [
        "import math\n",
        "math.sqrt(-4)"
      ],
      "metadata": {
        "colab": {
          "base_uri": "https://localhost:8080/",
          "height": 162
        },
        "id": "1aTGKMR_8ljh",
        "outputId": "90b60ad0-c5fa-4e9e-c02e-246ee0f8d055"
      },
      "execution_count": null,
      "outputs": [
        {
          "output_type": "error",
          "ename": "ValueError",
          "evalue": "math domain error",
          "traceback": [
            "\u001b[0;31m---------------------------------------------------------------------------\u001b[0m",
            "\u001b[0;31mValueError\u001b[0m                                Traceback (most recent call last)",
            "\u001b[0;32m/tmp/ipython-input-23-1888016940.py\u001b[0m in \u001b[0;36m<cell line: 0>\u001b[0;34m()\u001b[0m\n\u001b[1;32m      1\u001b[0m \u001b[0;32mimport\u001b[0m \u001b[0mmath\u001b[0m\u001b[0;34m\u001b[0m\u001b[0;34m\u001b[0m\u001b[0m\n\u001b[0;32m----> 2\u001b[0;31m \u001b[0mmath\u001b[0m\u001b[0;34m.\u001b[0m\u001b[0msqrt\u001b[0m\u001b[0;34m(\u001b[0m\u001b[0;34m-\u001b[0m\u001b[0;36m4\u001b[0m\u001b[0;34m)\u001b[0m\u001b[0;34m\u001b[0m\u001b[0;34m\u001b[0m\u001b[0m\n\u001b[0m",
            "\u001b[0;31mValueError\u001b[0m: math domain error"
          ]
        }
      ]
    },
    {
      "cell_type": "code",
      "source": [],
      "metadata": {
        "id": "xk6mxeVT8rF1"
      },
      "execution_count": null,
      "outputs": []
    }
  ],
  "metadata": {
    "kernelspec": {
      "display_name": "Python 3 (ipykernel)",
      "language": "python",
      "name": "python3"
    },
    "language_info": {
      "codemirror_mode": {
        "name": "ipython",
        "version": 3
      },
      "file_extension": ".py",
      "mimetype": "text/x-python",
      "name": "python",
      "nbconvert_exporter": "python",
      "pygments_lexer": "ipython3",
      "version": "3.11.7"
    },
    "colab": {
      "provenance": []
    }
  },
  "nbformat": 4,
  "nbformat_minor": 0
}