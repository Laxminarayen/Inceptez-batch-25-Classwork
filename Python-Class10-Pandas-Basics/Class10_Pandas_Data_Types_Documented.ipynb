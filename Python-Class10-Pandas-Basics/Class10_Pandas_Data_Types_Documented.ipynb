{
 "cells": [
  {
   "cell_type": "markdown",
   "id": "03489127",
   "metadata": {},
   "source": [
    "\n",
    "# Class 10 — Pandas Basics: Data Representation & Types (Documented)\n",
    "\n",
    "This notebook is a **fully narrated** walkthrough of how pandas represents data. Each section includes explanations, definitions, and example code.\n",
    "\n",
    "> Topics: dtypes, memory usage, nullable dtypes, string vs object, datetime, timedelta, categorical types, and type conversion helpers.\n"
   ]
  },
  {
   "cell_type": "markdown",
   "id": "9ecceabf",
   "metadata": {},
   "source": [
    "\n",
    "## 1. Imports\n"
   ]
  },
  {
   "cell_type": "code",
   "execution_count": null,
   "id": "bdcfb195",
   "metadata": {},
   "outputs": [],
   "source": [
    "\n",
    "import pandas as pd\n",
    "import numpy as np\n",
    "\n",
    "pd.__version__, np.__version__\n"
   ]
  },
  {
   "cell_type": "markdown",
   "id": "8dd12efc",
   "metadata": {},
   "source": [
    "\n",
    "**Why these libraries?**\n",
    "- **pandas** is the primary library for tabular data.\n",
    "- **numpy** underpins pandas with fast array operations.\n"
   ]
  },
  {
   "cell_type": "markdown",
   "id": "2ca6fcaa",
   "metadata": {},
   "source": [
    "\n",
    "## 2. Create a sample DataFrame\n",
    "\n",
    "We'll build a small dataset we can safely modify without reading external files.\n"
   ]
  },
  {
   "cell_type": "code",
   "execution_count": null,
   "id": "aa854f52",
   "metadata": {},
   "outputs": [],
   "source": [
    "\n",
    "df = pd.DataFrame({\n",
    "    \"id\": [1, 2, 3, 4, 5],\n",
    "    \"name\": [\"Alice\", \"Bob\", \"Charlie\", \"Diana\", \"Evan\"],\n",
    "    \"join_date\": [\"2022-01-15\", \"2021-12-30\", \"2022-02-10\", \"2023-05-01\", None],\n",
    "    \"department\": [\"HR\", \"Finance\", \"Finance\", \"IT\", \"Finance\"],\n",
    "    \"salary\": [50000, 60000, 55000, 70000, None],\n",
    "    \"active\": [True, True, False, True, None],\n",
    "    \"region\": [\"West\", \"West\", \"East\", \"North\", \"East\"]\n",
    "})\n",
    "df\n"
   ]
  },
  {
   "cell_type": "markdown",
   "id": "d5973ba7",
   "metadata": {},
   "source": [
    "\n",
    "**Notes**\n",
    "- `join_date` is currently text (`object`) with a missing value.\n",
    "- `salary` has a missing value (`None`), which will coerce to `NaN` in numeric arrays.\n",
    "- `active` has a missing value—this will be useful when we discuss **nullable booleans**.\n"
   ]
  },
  {
   "cell_type": "markdown",
   "id": "261109e0",
   "metadata": {},
   "source": [
    "\n",
    "## 3. Inspecting dtypes and memory usage\n"
   ]
  },
  {
   "cell_type": "code",
   "execution_count": null,
   "id": "a0e34171",
   "metadata": {},
   "outputs": [],
   "source": [
    "\n",
    "df.dtypes\n"
   ]
  },
  {
   "cell_type": "code",
   "execution_count": null,
   "id": "7c22ff7d",
   "metadata": {},
   "outputs": [],
   "source": [
    "\n",
    "# Memory usage (deep=True is more accurate for object columns)\n",
    "df.memory_usage(deep=True)\n"
   ]
  },
  {
   "cell_type": "markdown",
   "id": "d209dce4",
   "metadata": {},
   "source": [
    "\n",
    "**Definitions**\n",
    "- **dtype**: The data type of a column/Series (e.g., `int64`, `float64`, `object`, `bool`, `string`, `category`, `datetime64[ns]`).  \n",
    "- **`object`**: A generic dtype for Python objects, often used for strings or mixed/messy data.  \n",
    "- **Memory usage**: Important for performance and scalability. Using the right dtype can reduce memory.\n"
   ]
  },
  {
   "cell_type": "markdown",
   "id": "e8fa49e4",
   "metadata": {},
   "source": [
    "\n",
    "## 4. Converting to appropriate types\n",
    "\n",
    "We'll convert columns to more specific dtypes for correctness and performance.\n"
   ]
  },
  {
   "cell_type": "code",
   "execution_count": null,
   "id": "303f22bf",
   "metadata": {},
   "outputs": [],
   "source": [
    "\n",
    "# Datetime conversion\n",
    "df[\"join_date\"] = pd.to_datetime(df[\"join_date\"], errors=\"coerce\")\n",
    "\n",
    "# Numeric conversion (salary may have missing and/or text; use to_numeric)\n",
    "df[\"salary\"] = pd.to_numeric(df[\"salary\"], errors=\"coerce\")\n",
    "\n",
    "# Pandas string dtype (more consistent string handling than 'object')\n",
    "df[\"name\"] = df[\"name\"].astype(\"string\")\n",
    "df[\"region\"] = df[\"region\"].astype(\"string\")\n",
    "\n",
    "# Nullable boolean dtype that supports missing values: 'boolean'\n",
    "df[\"active\"] = df[\"active\"].astype(\"boolean\")\n",
    "\n",
    "df.dtypes\n"
   ]
  },
  {
   "cell_type": "markdown",
   "id": "ceaf303e",
   "metadata": {},
   "source": [
    "\n",
    "**Why this matters**\n",
    "- `datetime64[ns]` enables date math and `.dt` accessors.\n",
    "- `to_numeric(..., errors=\"coerce\")` safely converts non-numeric strings to `NaN` instead of failing.\n",
    "- `string` dtype provides consistent, vectorized string ops and proper missing value semantics (`<NA>`).\n",
    "- `boolean` (lowercase) is pandas' **nullable boolean** type that supports `<NA>`, unlike NumPy's `bool`.\n"
   ]
  },
  {
   "cell_type": "markdown",
   "id": "dce48eff",
   "metadata": {},
   "source": [
    "\n",
    "## 5. Working with datetime columns\n"
   ]
  },
  {
   "cell_type": "code",
   "execution_count": null,
   "id": "78ad3ced",
   "metadata": {},
   "outputs": [],
   "source": [
    "\n",
    "df[\"year\"] = df[\"join_date\"].dt.year\n",
    "df[\"month\"] = df[\"join_date\"].dt.month\n",
    "df[\"weekday\"] = df[\"join_date\"].dt.day_name()\n",
    "\n",
    "# Date filtering and arithmetic examples\n",
    "recent = df[df[\"join_date\"] >= \"2022-01-01\"]\n",
    "delta_days = (pd.Timestamp(\"2024-01-01\") - df[\"join_date\"]).dt.days\n",
    "\n",
    "df[[\"join_date\", \"year\", \"month\", \"weekday\"]], recent[[\"id\", \"join_date\"]], delta_days\n"
   ]
  },
  {
   "cell_type": "markdown",
   "id": "204eb61a",
   "metadata": {},
   "source": [
    "\n",
    "**Definitions**\n",
    "- **`.dt` accessor**: exposes vectorized datetime properties (e.g., `.year`, `.month`) and methods.\n",
    "- **`Timedelta`**: the result of subtracting two datetimes; supports operations like `.days`, `.seconds`.\n"
   ]
  },
  {
   "cell_type": "markdown",
   "id": "61343d78",
   "metadata": {},
   "source": [
    "\n",
    "## 6. Categorical data for memory & performance\n"
   ]
  },
  {
   "cell_type": "code",
   "execution_count": null,
   "id": "4d706970",
   "metadata": {},
   "outputs": [],
   "source": [
    "\n",
    "# Compare memory usage before/after converting 'department' to category\n",
    "before = df[\"department\"].memory_usage(deep=True)\n",
    "\n",
    "df[\"department\"] = df[\"department\"].astype(\"category\")\n",
    "\n",
    "after = df[\"department\"].memory_usage(deep=True)\n",
    "\n",
    "before, after, float((before - after) / before * 100)\n"
   ]
  },
  {
   "cell_type": "markdown",
   "id": "8f3f8ae0",
   "metadata": {},
   "source": [
    "\n",
    "**Why category?**\n",
    "- Stores values as integer **codes** referencing a small set of **categories**.\n",
    "- Great for repeating strings (e.g., departments, regions) → **less memory**, faster `groupby` and `value_counts`.\n",
    "- You can also set an **order** for categories (useful for sorting and comparisons).\n"
   ]
  },
  {
   "cell_type": "code",
   "execution_count": null,
   "id": "fadd5772",
   "metadata": {},
   "outputs": [],
   "source": [
    "\n",
    "# Setting ordered categories and renaming labels\n",
    "df[\"department\"] = df[\"department\"].cat.set_categories([\"HR\", \"Finance\", \"IT\"], ordered=True)\n",
    "df[\"department\"] = df[\"department\"].cat.rename_categories({\"IT\": \"Information Tech\"})\n",
    "df[\"department\"].cat.categories, df[\"department\"].cat.ordered\n"
   ]
  },
  {
   "cell_type": "markdown",
   "id": "81e7ead9",
   "metadata": {},
   "source": [
    "\n",
    "## 7. String operations with the `.str` accessor\n"
   ]
  },
  {
   "cell_type": "code",
   "execution_count": null,
   "id": "b6a76c02",
   "metadata": {},
   "outputs": [],
   "source": [
    "\n",
    "# Normalize names: strip spaces, title case, and create an email-like alias\n",
    "df[\"name_clean\"] = df[\"name\"].str.strip().str.title()\n",
    "df[\"email_alias\"] = df[\"name_clean\"].str.replace(r\"\\s+\", \".\", regex=True).str.lower() + \"@example.com\"\n",
    "\n",
    "# Pattern checks\n",
    "mask_contains_a = df[\"name_clean\"].str.contains(\"a\", case=False, na=False)\n",
    "df[[\"name\", \"name_clean\", \"email_alias\"]], mask_contains_a\n"
   ]
  },
  {
   "cell_type": "markdown",
   "id": "6d8ccb8f",
   "metadata": {},
   "source": [
    "\n",
    "**Notes**\n",
    "- `.str` methods are **vectorized** (fast) and handle missing values gracefully (often via `na=` parameter).\n",
    "- Prefer `string` dtype for consistent behavior; `object` can hide mixed types and slow things down.\n"
   ]
  },
  {
   "cell_type": "markdown",
   "id": "40fa9c76",
   "metadata": {},
   "source": [
    "\n",
    "## 8. Nullable numeric & boolean dtypes\n",
    "\n",
    "Pandas provides **nullable** dtypes to represent missing values cleanly:\n",
    "- `Int8/Int16/Int32/Int64` (capital **I**) — nullable integer types\n",
    "- `Float32/Float64` — floats already support `NaN`, but you can downcast to save memory\n",
    "- `boolean` — nullable boolean type\n"
   ]
  },
  {
   "cell_type": "code",
   "execution_count": null,
   "id": "5fe82987",
   "metadata": {},
   "outputs": [],
   "source": [
    "\n",
    "# Example: convert id to nullable Int64 and salary to Float32 (downcast to save memory)\n",
    "df[\"id\"] = df[\"id\"].astype(\"Int64\")\n",
    "df[\"salary\"] = df[\"salary\"].astype(\"Float32\")\n",
    "\n",
    "df.dtypes, df.memory_usage(deep=True)\n"
   ]
  },
  {
   "cell_type": "markdown",
   "id": "c12e87ef",
   "metadata": {},
   "source": [
    "\n",
    "**Tip**\n",
    "- Use `pd.to_numeric(..., downcast=\"integer\" or \"float\")` to suggest a more compact dtype when possible.\n"
   ]
  },
  {
   "cell_type": "markdown",
   "id": "8f0e4faa",
   "metadata": {},
   "source": [
    "\n",
    "## 9. Safe type conversions and error handling\n"
   ]
  },
  {
   "cell_type": "code",
   "execution_count": null,
   "id": "c5623297",
   "metadata": {},
   "outputs": [],
   "source": [
    "\n",
    "# Suppose we have a messy numeric column as text\n",
    "s = pd.Series([\"10\", \"20\", \"oops\", None, \"30.5\"])\n",
    "\n",
    "# Convert safely\n",
    "num = pd.to_numeric(s, errors=\"coerce\")\n",
    "num, num.dtype\n"
   ]
  },
  {
   "cell_type": "markdown",
   "id": "2a98dd1e",
   "metadata": {},
   "source": [
    "\n",
    "**Definitions**\n",
    "- **`errors=\"coerce\"`**: invalid parsing becomes `NaN` instead of raising an error.\n",
    "- **`errors=\"ignore\"`**: leave data unchanged if parsing fails.\n"
   ]
  },
  {
   "cell_type": "markdown",
   "id": "e11d5e37",
   "metadata": {},
   "source": [
    "\n",
    "## 10. Missing values: `NaN`, `<NA>`, and `NaT`\n"
   ]
  },
  {
   "cell_type": "code",
   "execution_count": null,
   "id": "3e2f0b23",
   "metadata": {},
   "outputs": [],
   "source": [
    "\n",
    "# Demonstrate the three common missing representations\n",
    "missing_demo = pd.DataFrame({\n",
    "    \"float_col\": [1.0, np.nan, 3.0],\n",
    "    \"string_col\": pd.Series([\"x\", None, \"z\"], dtype=\"string\"),\n",
    "    \"dt_col\": pd.to_datetime([\"2020-01-01\", None, \"2020-01-03\"])\n",
    "})\n",
    "missing_demo, missing_demo.dtypes\n"
   ]
  },
  {
   "cell_type": "markdown",
   "id": "7f1b0b87",
   "metadata": {},
   "source": [
    "\n",
    "**Key points**\n",
    "- **`NaN`**: Missing value for floating-point arrays (from NumPy).\n",
    "- **`<NA>`**: Pandas' **scalar** for missing values in **nullable** dtypes (`string`, `Int64`, `boolean`, etc.).\n",
    "- **`NaT`**: Missing value for datetime and timedelta dtypes.\n"
   ]
  },
  {
   "cell_type": "markdown",
   "id": "227bc2ed",
   "metadata": {},
   "source": [
    "\n",
    "## 11. Mini workflow: clean & optimize\n"
   ]
  },
  {
   "cell_type": "code",
   "execution_count": null,
   "id": "07d02c1a",
   "metadata": {},
   "outputs": [],
   "source": [
    "\n",
    "clean = df.copy()\n",
    "\n",
    "# Standardize strings\n",
    "clean[\"name\"] = clean[\"name\"].str.strip().str.title().astype(\"string\")\n",
    "clean[\"region\"] = clean[\"region\"].str.strip().str.title().astype(\"string\")\n",
    "\n",
    "# Ensure dtypes\n",
    "clean[\"join_date\"] = pd.to_datetime(clean[\"join_date\"], errors=\"coerce\")\n",
    "clean[\"department\"] = clean[\"department\"].astype(\"category\")\n",
    "clean[\"salary\"] = pd.to_numeric(clean[\"salary\"], errors=\"coerce\").astype(\"Float32\")\n",
    "clean[\"id\"] = clean[\"id\"].astype(\"Int64\")\n",
    "clean[\"active\"] = clean[\"active\"].astype(\"boolean\")\n",
    "\n",
    "before_mem = df.memory_usage(deep=True).sum()\n",
    "after_mem = clean.memory_usage(deep=True).sum()\n",
    "\n",
    "clean, {\"before_bytes\": int(before_mem), \"after_bytes\": int(after_mem), \"save_pct\": float((before_mem - after_mem)/before_mem*100)}\n"
   ]
  },
  {
   "cell_type": "markdown",
   "id": "6d5b5bb1",
   "metadata": {},
   "source": [
    "\n",
    "**Outcome**\n",
    "- Cleaned types enable safer operations and typically reduce memory.\n",
    "- This pattern generalizes to most real-world CSVs after initial load.\n"
   ]
  },
  {
   "cell_type": "markdown",
   "id": "c24b0a15",
   "metadata": {},
   "source": [
    "\n",
    "## 12. Practice exercises\n",
    "1. Convert a text date column to `datetime64[ns]`, extract `year` and `quarter`.\n",
    "2. Change a high-cardinality text column to `category`; report memory savings.\n",
    "3. Convert a messy numeric column using `pd.to_numeric(..., errors=\"coerce\")`; count invalid rows.\n",
    "4. Switch a boolean-like column (`\"Y\"/\"N\"/None\"`) to pandas `boolean` dtype.\n",
    "5. Downcast floats/ints to smaller dtypes where safe (`downcast=` parameter).\n"
   ]
  }
 ],
 "metadata": {},
 "nbformat": 4,
 "nbformat_minor": 5
}
