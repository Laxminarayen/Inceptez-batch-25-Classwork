{
  "nbformat": 4,
  "nbformat_minor": 0,
  "metadata": {
    "colab": {
      "provenance": []
    },
    "kernelspec": {
      "name": "python3",
      "display_name": "Python 3"
    },
    "language_info": {
      "name": "python"
    }
  },
  "cells": [
    {
      "cell_type": "code",
      "execution_count": 7,
      "metadata": {
        "colab": {
          "base_uri": "https://localhost:8080/"
        },
        "id": "Dci7NzOR0_LV",
        "outputId": "827348b7-9a8d-41fa-9fd5-7388a209c76d"
      },
      "outputs": [
        {
          "output_type": "execute_result",
          "data": {
            "text/plain": [
              "[0, 1]"
            ]
          },
          "metadata": {},
          "execution_count": 7
        }
      ],
      "source": [
        "def two_sum(nums,target):\n",
        "  sums = {}\n",
        "  for i, num in enumerate(nums):\n",
        "    diff = target - num\n",
        "    if diff in sums:\n",
        "      return [sums.get(diff),i]\n",
        "    sums[num] = i\n",
        "    #print(sums)\n",
        "  return []\n",
        "\n",
        "two_sum([2,7,11,15],9)"
      ]
    },
    {
      "cell_type": "code",
      "source": [
        "#Classes are Blueprints / Receipies for making objects\n",
        "#1. Class - Blueprint - Chassis\n",
        "class Car: #Monocoque <nameoftheclass> car - PLEASE REMEMBER THE IDEA OF FORM FILLING -\n",
        "  def __init__(self,brand,color,doors=4): #Constructor of the class -Special Method where I am creating the identifiers that I will be using along th class//\n",
        "    self.brand = brand\n",
        "    self.color = color\n",
        "    self.doors = doors\n",
        "\n",
        "  def start_engine(self,honk):\n",
        "    if honk:\n",
        "      print(f\"The {self.color} {self.brand} car is now running and says HONK!!\")\n",
        "    else:\n",
        "      print(f\"The {self.color} {self.brand} car is now running\")"
      ],
      "metadata": {
        "id": "nk0jfCBw1lxA"
      },
      "execution_count": 27,
      "outputs": []
    },
    {
      "cell_type": "markdown",
      "source": [],
      "metadata": {
        "id": "KWA_yPyQ_Qe-"
      }
    },
    {
      "cell_type": "code",
      "source": [
        "Xuv700 = Car(\"Mahindra XUV 700\",\"Red\") #Object Creation for the class.\n",
        "Creta = Car(\"Hyundai Creta\",\"Blue\",2) #Object Creta\n",
        "Baleno = Car(\"susuki Baleno\",\"Red\",4) #Object Creation for the class.\n",
        "Defender = Car(\"Jeep defender\",\"Blue\",4) #Object Creta"
      ],
      "metadata": {
        "id": "rSvRrBop4S9C"
      },
      "execution_count": 32,
      "outputs": []
    },
    {
      "cell_type": "code",
      "source": [
        "Xuv700"
      ],
      "metadata": {
        "colab": {
          "base_uri": "https://localhost:8080/"
        },
        "id": "zkb_4Fh36RRG",
        "outputId": "41d360fd-b0d7-4361-c0cb-36be15fd2a53"
      },
      "execution_count": 33,
      "outputs": [
        {
          "output_type": "execute_result",
          "data": {
            "text/plain": [
              "<__main__.Car at 0x7c9e39910690>"
            ]
          },
          "metadata": {},
          "execution_count": 33
        }
      ]
    },
    {
      "cell_type": "code",
      "source": [
        "Xuv700.start_engine(True)"
      ],
      "metadata": {
        "colab": {
          "base_uri": "https://localhost:8080/"
        },
        "id": "L4QU4WXa4Xnz",
        "outputId": "c4090b30-28ff-4aa9-8773-7257115c7e45"
      },
      "execution_count": 34,
      "outputs": [
        {
          "output_type": "stream",
          "name": "stdout",
          "text": [
            "The Red Mahindra XUV 700 car is now running and says HONK!!\n"
          ]
        }
      ]
    },
    {
      "cell_type": "code",
      "source": [
        "Creta.start_engine(False)"
      ],
      "metadata": {
        "colab": {
          "base_uri": "https://localhost:8080/"
        },
        "id": "8T2-Gvk54tgI",
        "outputId": "0f7554e7-9afb-4172-e40b-ea781de8eb59"
      },
      "execution_count": 35,
      "outputs": [
        {
          "output_type": "stream",
          "name": "stdout",
          "text": [
            "The Blue Hyundai Creta car is now running\n"
          ]
        }
      ]
    },
    {
      "cell_type": "code",
      "source": [
        "#Create a Class - Called Animal #SINGLE INHERITANCE\n",
        "#Function - Speak\n",
        "#Major Advantage of a class is its reusability.., Shorter - Easier to manage\n",
        "class Animal: #Parent Class - Base Class\n",
        "  def __init__(self,name):\n",
        "    self.name = name\n",
        "    self.legs = 4\n",
        "  def speak(self,sound):\n",
        "    print(f\"{self.name} says {sound}\")"
      ],
      "metadata": {
        "id": "g7kbg2-w4vWt"
      },
      "execution_count": 51,
      "outputs": []
    },
    {
      "cell_type": "code",
      "source": [
        "class Horse(Animal): #Derived Class\n",
        "  def move(self, mode = \"running\"):\n",
        "    print(f\"{self.name} is now {mode}\")"
      ],
      "metadata": {
        "id": "rYGyN3tJDoDU"
      },
      "execution_count": 52,
      "outputs": []
    },
    {
      "cell_type": "code",
      "source": [
        "pet = Horse(\"Bucephalus\")\n",
        "pet.speak(\"Neigh..\")\n",
        "pet.move()"
      ],
      "metadata": {
        "colab": {
          "base_uri": "https://localhost:8080/"
        },
        "id": "U7qLoemTD44A",
        "outputId": "03804bdd-b489-4c9d-dfc5-2aaf08af68c2"
      },
      "execution_count": 53,
      "outputs": [
        {
          "output_type": "stream",
          "name": "stdout",
          "text": [
            "Bucephalus says Neigh..\n",
            "Bucephalus is now running\n"
          ]
        }
      ]
    },
    {
      "cell_type": "code",
      "source": [
        "pet.usename()"
      ],
      "metadata": {
        "colab": {
          "base_uri": "https://localhost:8080/",
          "height": 233
        },
        "id": "Tc2V_xHfEKqg",
        "outputId": "74b5ca07-71d8-4254-e382-761712ea4d92"
      },
      "execution_count": 54,
      "outputs": [
        {
          "output_type": "error",
          "ename": "NameError",
          "evalue": "name 'name' is not defined",
          "traceback": [
            "\u001b[0;31m---------------------------------------------------------------------------\u001b[0m",
            "\u001b[0;31mNameError\u001b[0m                                 Traceback (most recent call last)",
            "\u001b[0;32m/tmp/ipython-input-54-979792439.py\u001b[0m in \u001b[0;36m<cell line: 0>\u001b[0;34m()\u001b[0m\n\u001b[0;32m----> 1\u001b[0;31m \u001b[0mpet\u001b[0m\u001b[0;34m.\u001b[0m\u001b[0musename\u001b[0m\u001b[0;34m(\u001b[0m\u001b[0;34m)\u001b[0m\u001b[0;34m\u001b[0m\u001b[0;34m\u001b[0m\u001b[0m\n\u001b[0m",
            "\u001b[0;32m/tmp/ipython-input-51-1796959066.py\u001b[0m in \u001b[0;36musename\u001b[0;34m(self)\u001b[0m\n\u001b[1;32m      9\u001b[0m   \u001b[0mname\u001b[0m \u001b[0;34m=\u001b[0m \u001b[0;34m\"10\"\u001b[0m\u001b[0;34m\u001b[0m\u001b[0;34m\u001b[0m\u001b[0m\n\u001b[1;32m     10\u001b[0m   \u001b[0;32mdef\u001b[0m \u001b[0musename\u001b[0m\u001b[0;34m(\u001b[0m\u001b[0mself\u001b[0m\u001b[0;34m)\u001b[0m\u001b[0;34m:\u001b[0m\u001b[0;34m\u001b[0m\u001b[0;34m\u001b[0m\u001b[0m\n\u001b[0;32m---> 11\u001b[0;31m     \u001b[0mprint\u001b[0m\u001b[0;34m(\u001b[0m\u001b[0mname\u001b[0m\u001b[0;34m)\u001b[0m\u001b[0;34m\u001b[0m\u001b[0;34m\u001b[0m\u001b[0m\n\u001b[0m",
            "\u001b[0;31mNameError\u001b[0m: name 'name' is not defined"
          ]
        }
      ]
    },
    {
      "cell_type": "code",
      "source": [
        "Animal()"
      ],
      "metadata": {
        "colab": {
          "base_uri": "https://localhost:8080/",
          "height": 144
        },
        "id": "iiuD_IP9GgoX",
        "outputId": "fbb078d2-e947-4b53-8624-6e1488ed45b0"
      },
      "execution_count": 1,
      "outputs": [
        {
          "output_type": "error",
          "ename": "NameError",
          "evalue": "name 'Animal' is not defined",
          "traceback": [
            "\u001b[0;31m---------------------------------------------------------------------------\u001b[0m",
            "\u001b[0;31mNameError\u001b[0m                                 Traceback (most recent call last)",
            "\u001b[0;32m/tmp/ipython-input-1-813170573.py\u001b[0m in \u001b[0;36m<cell line: 0>\u001b[0;34m()\u001b[0m\n\u001b[0;32m----> 1\u001b[0;31m \u001b[0mAnimal\u001b[0m\u001b[0;34m(\u001b[0m\u001b[0;34m)\u001b[0m\u001b[0;34m\u001b[0m\u001b[0;34m\u001b[0m\u001b[0m\n\u001b[0m",
            "\u001b[0;31mNameError\u001b[0m: name 'Animal' is not defined"
          ]
        }
      ]
    },
    {
      "cell_type": "code",
      "source": [
        "from Anim import Animal #single Inheritance"
      ],
      "metadata": {
        "id": "YyJHlhDcGgmC"
      },
      "execution_count": 2,
      "outputs": []
    },
    {
      "cell_type": "code",
      "source": [
        "class Horse(Animal):\n",
        "  def move(self, mode = \"running\"):\n",
        "    print(f\"{self.name} is now {mode}\")"
      ],
      "metadata": {
        "id": "Zs76XW3oGgjs"
      },
      "execution_count": 3,
      "outputs": []
    },
    {
      "cell_type": "code",
      "source": [
        "pet = Horse(\"Bucephalus\")\n",
        "pet.speak(\"Neigh..\")\n",
        "pet.move()"
      ],
      "metadata": {
        "colab": {
          "base_uri": "https://localhost:8080/"
        },
        "id": "B9KBMawXGghI",
        "outputId": "179ea75f-2e4b-44f9-f4d3-261d7ba08a92"
      },
      "execution_count": 4,
      "outputs": [
        {
          "output_type": "stream",
          "name": "stdout",
          "text": [
            "Bucephalus says Neigh..\n",
            "Bucephalus is now running\n"
          ]
        }
      ]
    },
    {
      "cell_type": "code",
      "source": [
        "#Jeep FatherSafari -> TATA Safari (2003) -> TATA Harrier (2018) -> TATA Harrier EV (2025)"
      ],
      "metadata": {
        "id": "1P3_0L2fGhCI"
      },
      "execution_count": null,
      "outputs": []
    },
    {
      "cell_type": "code",
      "source": [
        "#Multi-Level Inheritance\n",
        "class A:\n",
        "  pass\n",
        "\n",
        "class B(A):\n",
        "  pass\n",
        "\n",
        "class C(B):\n",
        "  pass"
      ],
      "metadata": {
        "id": "ClBAx-NLHecV"
      },
      "execution_count": 5,
      "outputs": []
    },
    {
      "cell_type": "code",
      "source": [
        "#Multiple Inheritance\n",
        "class A:\n",
        "  pass\n",
        "\n",
        "class B:\n",
        "  pass\n",
        "\n",
        "class C(A,B):\n",
        "  pass"
      ],
      "metadata": {
        "id": "VzjavdNQHv9A"
      },
      "execution_count": 6,
      "outputs": []
    },
    {
      "cell_type": "code",
      "source": [],
      "metadata": {
        "id": "jzF944yGIOPi"
      },
      "execution_count": null,
      "outputs": []
    }
  ]
}