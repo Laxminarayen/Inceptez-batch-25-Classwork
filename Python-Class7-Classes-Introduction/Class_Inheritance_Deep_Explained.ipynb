{
 "cells": [
  {
   "cell_type": "markdown",
   "id": "3b036b8d",
   "metadata": {},
   "source": [
    "# 🧱 Python Classes and Inheritance (Explained for Absolute Beginners)\n"
   ]
  },
  {
   "cell_type": "markdown",
   "id": "8bdb0bfe",
   "metadata": {},
   "source": [
    "\n",
    "Welcome! This notebook is designed to help you understand **classes**, **objects**, and **inheritance** in Python as clearly as possible — even if you’ve never coded before.\n",
    "\n",
    "We'll use:\n",
    "- Real-life analogies 🧠\n",
    "- Simple definitions ✅\n",
    "- Illustrated examples 🧪\n"
   ]
  },
  {
   "cell_type": "markdown",
   "id": "e98ba997",
   "metadata": {},
   "source": [
    "## 1️⃣ What is a Class?\n"
   ]
  },
  {
   "cell_type": "markdown",
   "id": "a8c1356c",
   "metadata": {},
   "source": [
    "\n",
    "A **class** is like a **blueprint** or **recipe** for making objects.\n",
    "\n",
    "### 🧠 Analogy:\n",
    "Imagine a class is like a **template for making LEGO cars**. It doesn't make the car yet, but it tells you:\n",
    "- What color it is\n",
    "- What shape it is\n",
    "- What actions it can perform (like driving or stopping)\n",
    "\n",
    "Once you use the template, you create a **car** — an actual **object**.\n"
   ]
  },
  {
   "cell_type": "code",
   "execution_count": null,
   "id": "418c3585",
   "metadata": {},
   "outputs": [],
   "source": [
    "\n",
    "class Car:\n",
    "    def __init__(self, brand, color):\n",
    "        self.brand = brand\n",
    "        self.color = color\n",
    "\n",
    "    def honk(self):\n",
    "        print(f\"{self.color} {self.brand} says: Honk!\")\n",
    "\n",
    "car1 = Car(\"Toyota\", \"Red\")\n",
    "car1.honk()\n"
   ]
  },
  {
   "cell_type": "markdown",
   "id": "53e5e29a",
   "metadata": {},
   "source": [
    "## 2️⃣ What is `self`?\n"
   ]
  },
  {
   "cell_type": "markdown",
   "id": "9a68d062",
   "metadata": {},
   "source": [
    "\n",
    "The word `self` refers to **the current object** being created or used.\n",
    "\n",
    "### 🧠 Analogy:\n",
    "Imagine you're filling out a form. You write **your own name** in the 'name' field.  \n",
    "In the class, `self.name = \"John\"` means: \"store 'John' inside the name field of **this person**\".\n",
    "\n",
    "It allows each object to hold its own **unique values**.\n"
   ]
  },
  {
   "cell_type": "markdown",
   "id": "d5acf30a",
   "metadata": {},
   "source": [
    "## 3️⃣ Objects = Data + Behavior"
   ]
  },
  {
   "cell_type": "markdown",
   "id": "0a962bf4",
   "metadata": {},
   "source": [
    "\n",
    "| Part       | Example               |\n",
    "|------------|------------------------|\n",
    "| Data       | `brand`, `color`       |\n",
    "| Behavior   | `honk()`, `drive()`    |\n",
    "\n",
    "**Data** is stored in variables (attributes).  \n",
    "**Behavior** is defined in functions (methods).\n"
   ]
  },
  {
   "cell_type": "markdown",
   "id": "7b46c9eb",
   "metadata": {},
   "source": [
    "## 4️⃣ What is Inheritance?\n"
   ]
  },
  {
   "cell_type": "markdown",
   "id": "f69ebaca",
   "metadata": {},
   "source": [
    "\n",
    "Inheritance lets one class **reuse** the properties and behaviors of another class.\n",
    "\n",
    "### 🧠 Analogy:\n",
    "A `Dog` is an `Animal`. So, instead of writing everything from scratch, we let the `Dog` class **inherit** from `Animal`.\n",
    "\n",
    "This makes your code **shorter**, **easier to manage**, and **logical**.\n"
   ]
  },
  {
   "cell_type": "code",
   "execution_count": null,
   "id": "345fc571",
   "metadata": {},
   "outputs": [],
   "source": [
    "\n",
    "class Animal:\n",
    "    def __init__(self, name):\n",
    "        self.name = name\n",
    "\n",
    "    def move(self):\n",
    "        print(f\"{self.name} moves\")\n",
    "\n",
    "class Dog(Animal):\n",
    "    def bark(self):\n",
    "        print(f\"{self.name} says: Woof!\")\n",
    "\n",
    "pet = Dog(\"Buddy\")\n",
    "pet.move()\n",
    "pet.bark()\n"
   ]
  },
  {
   "cell_type": "markdown",
   "id": "5e3ff482",
   "metadata": {},
   "source": [
    "## 5️⃣ Types of Inheritance"
   ]
  },
  {
   "cell_type": "markdown",
   "id": "df44d161",
   "metadata": {},
   "source": [
    "\n",
    "### 1. Single Inheritance:\n",
    "One child inherits from one parent.\n",
    "```python\n",
    "class A:\n",
    "    pass\n",
    "\n",
    "class B(A):\n",
    "    pass\n",
    "```\n",
    "\n",
    "### 2. Multi-Level Inheritance:\n",
    "Grandchild inherits from child who inherits from parent.\n",
    "```python\n",
    "class A:\n",
    "    pass\n",
    "\n",
    "class B(A):\n",
    "    pass\n",
    "\n",
    "class C(B):\n",
    "    pass\n",
    "```\n",
    "\n",
    "### 3. Multiple Inheritance:\n",
    "One child inherits from multiple parents.\n",
    "```python\n",
    "class A:\n",
    "    pass\n",
    "\n",
    "class B:\n",
    "    pass\n",
    "\n",
    "class C(A, B):\n",
    "    pass\n",
    "```\n",
    "\n",
    "### 4. Hierarchical Inheritance:\n",
    "Multiple children inherit from the same parent.\n",
    "```python\n",
    "class A:\n",
    "    pass\n",
    "\n",
    "class B(A):\n",
    "    pass\n",
    "\n",
    "class C(A):\n",
    "    pass\n",
    "```\n"
   ]
  },
  {
   "cell_type": "markdown",
   "id": "2be50ccf",
   "metadata": {},
   "source": [
    "## 6️⃣ `is-a` vs `has-a` Relationship"
   ]
  },
  {
   "cell_type": "markdown",
   "id": "767c9fed",
   "metadata": {},
   "source": [
    "\n",
    "### 🧠 Analogy:\n",
    "- A `Car` **has an** `Engine` → Composition (`has-a`)\n",
    "- A `Dog` **is an** `Animal` → Inheritance (`is-a`)\n",
    "\n",
    "### Code Example:\n",
    "\n",
    "#### is-a:\n",
    "```python\n",
    "class Animal:\n",
    "    pass\n",
    "\n",
    "class Dog(Animal):  # Dog is an Animal\n",
    "    pass\n",
    "```\n",
    "\n",
    "#### has-a:\n",
    "```python\n",
    "class Engine:\n",
    "    def start(self):\n",
    "        print(\"Engine starts\")\n",
    "\n",
    "class Car:\n",
    "    def __init__(self):\n",
    "        self.engine = Engine()  # Car has an Engine\n",
    "\n",
    "    def drive(self):\n",
    "        self.engine.start()\n",
    "```\n"
   ]
  },
  {
   "cell_type": "markdown",
   "id": "889cc1dc",
   "metadata": {},
   "source": [
    "## 7️⃣ Real-World Use Cases"
   ]
  },
  {
   "cell_type": "markdown",
   "id": "5a39a431",
   "metadata": {},
   "source": [
    "\n",
    "- 🎮 Games: Player, Enemy, Weapon as classes\n",
    "- 🧠 AI/ML: Models like `LogisticRegression()` are classes\n",
    "- 🛒 Web apps: `User`, `Order`, `Product` modeled as classes\n"
   ]
  }
 ],
 "metadata": {
  "kernelspec": {
   "display_name": "Python 3 (ipykernel)",
   "language": "python",
   "name": "python3"
  },
  "language_info": {
   "codemirror_mode": {
    "name": "ipython",
    "version": 3
   },
   "file_extension": ".py",
   "mimetype": "text/x-python",
   "name": "python",
   "nbconvert_exporter": "python",
   "pygments_lexer": "ipython3",
   "version": "3.11.7"
  }
 },
 "nbformat": 4,
 "nbformat_minor": 5
}
