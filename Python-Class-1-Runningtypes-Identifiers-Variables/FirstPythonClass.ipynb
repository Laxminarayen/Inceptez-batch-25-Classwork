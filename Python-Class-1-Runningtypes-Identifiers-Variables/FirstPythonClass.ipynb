{
  "nbformat": 4,
  "nbformat_minor": 0,
  "metadata": {
    "colab": {
      "provenance": []
    },
    "kernelspec": {
      "name": "python3",
      "display_name": "Python 3"
    },
    "language_info": {
      "name": "python"
    }
  },
  "cells": [
    {
      "cell_type": "code",
      "execution_count": 3,
      "metadata": {
        "colab": {
          "base_uri": "https://localhost:8080/"
        },
        "id": "8JqAr0NVwb_t",
        "outputId": "511f8646-0716-4745-ee15-f8eda90055a0"
      },
      "outputs": [
        {
          "output_type": "stream",
          "name": "stdout",
          "text": [
            "Hello World!\n"
          ]
        }
      ],
      "source": [
        "print(\"Hello World!\")"
      ]
    },
    {
      "cell_type": "code",
      "source": [
        "print(\"Hello World!\")"
      ],
      "metadata": {
        "colab": {
          "base_uri": "https://localhost:8080/"
        },
        "id": "4kBvrO63wftF",
        "outputId": "cf26ad83-e879-4833-dda3-260836f4fbbf"
      },
      "execution_count": 4,
      "outputs": [
        {
          "output_type": "stream",
          "name": "stdout",
          "text": [
            "Hello World!\n"
          ]
        }
      ]
    },
    {
      "cell_type": "code",
      "source": [
        "print(\"Hello World!\")"
      ],
      "metadata": {
        "colab": {
          "base_uri": "https://localhost:8080/"
        },
        "id": "Em-8xK6Dwfpb",
        "outputId": "3f68e509-1ff9-4478-d4b1-2882cb8bf3c7"
      },
      "execution_count": 5,
      "outputs": [
        {
          "output_type": "stream",
          "name": "stdout",
          "text": [
            "Hello World!\n"
          ]
        }
      ]
    },
    {
      "cell_type": "code",
      "source": [
        "print(\"Hello World!\")"
      ],
      "metadata": {
        "colab": {
          "base_uri": "https://localhost:8080/"
        },
        "id": "cjfC9F5AwfkP",
        "outputId": "bce5244e-a104-4b7d-8f33-0322c64bd2a1"
      },
      "execution_count": 6,
      "outputs": [
        {
          "output_type": "stream",
          "name": "stdout",
          "text": [
            "Hello World!\n"
          ]
        }
      ]
    },
    {
      "cell_type": "code",
      "source": [
        "#Comment - Single Line comment\n",
        "#Checking the python version\n",
        "!python --version\n",
        "#now trying to print hello world\n",
        "print(\"Hello, World!\")"
      ],
      "metadata": {
        "colab": {
          "base_uri": "https://localhost:8080/"
        },
        "id": "9uadfwGv0Gfw",
        "outputId": "3bc159e0-695d-425c-892f-64453da940d5"
      },
      "execution_count": 10,
      "outputs": [
        {
          "output_type": "stream",
          "name": "stdout",
          "text": [
            "Python 3.11.13\n",
            "Hello, World!\n"
          ]
        }
      ]
    },
    {
      "cell_type": "code",
      "source": [
        "ls"
      ],
      "metadata": {
        "colab": {
          "base_uri": "https://localhost:8080/"
        },
        "id": "aUFAtAHt0GJW",
        "outputId": "4ffdd1d5-b568-42c9-c5c7-3f3087f85967"
      },
      "execution_count": 11,
      "outputs": [
        {
          "output_type": "stream",
          "name": "stdout",
          "text": [
            "\u001b[0m\u001b[01;34msample_data\u001b[0m/\n"
          ]
        }
      ]
    },
    {
      "cell_type": "code",
      "source": [
        "!ls"
      ],
      "metadata": {
        "colab": {
          "base_uri": "https://localhost:8080/"
        },
        "id": "8fPWq-vV0GEJ",
        "outputId": "3326d2b0-6596-48d9-d8c7-e473895a5b55"
      },
      "execution_count": 12,
      "outputs": [
        {
          "output_type": "stream",
          "name": "stdout",
          "text": [
            "sample_data\n"
          ]
        }
      ]
    },
    {
      "cell_type": "code",
      "source": [
        "\"\"\"\n",
        "I am going to write\n",
        "a multiline comment inside\n",
        "dont worry this wont be executed\n",
        "\"\"\"\n",
        "print(\"100\")"
      ],
      "metadata": {
        "colab": {
          "base_uri": "https://localhost:8080/"
        },
        "id": "HkwhDz0r1Wgp",
        "outputId": "27c3f117-102b-4586-9f62-48860a187101"
      },
      "execution_count": 49,
      "outputs": [
        {
          "output_type": "stream",
          "name": "stdout",
          "text": [
            "100\n"
          ]
        }
      ]
    },
    {
      "cell_type": "markdown",
      "source": [
        "## Keywords, Identifiers and Variables in Python"
      ],
      "metadata": {
        "id": "lTV0u-0-1-wS"
      }
    },
    {
      "cell_type": "code",
      "source": [
        "import keyword"
      ],
      "metadata": {
        "id": "moIpg5US1rMq"
      },
      "execution_count": 16,
      "outputs": []
    },
    {
      "cell_type": "code",
      "source": [
        "keyword.kwlist"
      ],
      "metadata": {
        "colab": {
          "base_uri": "https://localhost:8080/"
        },
        "id": "jzJdBx532gQi",
        "outputId": "0364d6bf-f78b-4306-a199-3faa7a340117"
      },
      "execution_count": 17,
      "outputs": [
        {
          "output_type": "execute_result",
          "data": {
            "text/plain": [
              "['False',\n",
              " 'None',\n",
              " 'True',\n",
              " 'and',\n",
              " 'as',\n",
              " 'assert',\n",
              " 'async',\n",
              " 'await',\n",
              " 'break',\n",
              " 'class',\n",
              " 'continue',\n",
              " 'def',\n",
              " 'del',\n",
              " 'elif',\n",
              " 'else',\n",
              " 'except',\n",
              " 'finally',\n",
              " 'for',\n",
              " 'from',\n",
              " 'global',\n",
              " 'if',\n",
              " 'import',\n",
              " 'in',\n",
              " 'is',\n",
              " 'lambda',\n",
              " 'nonlocal',\n",
              " 'not',\n",
              " 'or',\n",
              " 'pass',\n",
              " 'raise',\n",
              " 'return',\n",
              " 'try',\n",
              " 'while',\n",
              " 'with',\n",
              " 'yield']"
            ]
          },
          "metadata": {},
          "execution_count": 17
        }
      ]
    },
    {
      "cell_type": "code",
      "source": [
        "False = 10"
      ],
      "metadata": {
        "colab": {
          "base_uri": "https://localhost:8080/",
          "height": 108
        },
        "id": "3uT5sJvV2te8",
        "outputId": "bea3f448-0013-411b-929d-370b020056a1"
      },
      "execution_count": 18,
      "outputs": [
        {
          "output_type": "error",
          "ename": "SyntaxError",
          "evalue": "cannot assign to False (ipython-input-18-2005507881.py, line 1)",
          "traceback": [
            "\u001b[0;36m  File \u001b[0;32m\"/tmp/ipython-input-18-2005507881.py\"\u001b[0;36m, line \u001b[0;32m1\u001b[0m\n\u001b[0;31m    False = 10\u001b[0m\n\u001b[0m    ^\u001b[0m\n\u001b[0;31mSyntaxError\u001b[0m\u001b[0;31m:\u001b[0m cannot assign to False\n"
          ]
        }
      ]
    },
    {
      "cell_type": "markdown",
      "source": [
        "## Identifiers\n",
        "User Defined names to any variables, Functions, class or any modeules inside your python environment!\n",
        "\n",
        "- Variables are identifers whose values will change during the course of the program execution"
      ],
      "metadata": {
        "id": "z4_Q0X6p3sO8"
      }
    },
    {
      "cell_type": "code",
      "source": [
        "# Adding Information about class Inceptez batch 26\n",
        "mentor = \"Noordeen\"\n",
        "AdminIncharge = \"Baasith\"\n",
        "student = \"Abdul\""
      ],
      "metadata": {
        "id": "zfFv8fg12-WT"
      },
      "execution_count": 19,
      "outputs": []
    },
    {
      "cell_type": "code",
      "source": [
        "print(mentor)"
      ],
      "metadata": {
        "colab": {
          "base_uri": "https://localhost:8080/"
        },
        "id": "FTt0S2S74a3E",
        "outputId": "0fc269e9-045e-4e40-937f-c95df11e9684"
      },
      "execution_count": 20,
      "outputs": [
        {
          "output_type": "stream",
          "name": "stdout",
          "text": [
            "Noordeen\n"
          ]
        }
      ]
    },
    {
      "cell_type": "code",
      "source": [
        "print(AdminIncharge)"
      ],
      "metadata": {
        "colab": {
          "base_uri": "https://localhost:8080/"
        },
        "id": "V8Q4fzWp4lLB",
        "outputId": "d171c099-5390-4961-9149-997320b72493"
      },
      "execution_count": 21,
      "outputs": [
        {
          "output_type": "stream",
          "name": "stdout",
          "text": [
            "Baasith\n"
          ]
        }
      ]
    },
    {
      "cell_type": "code",
      "source": [
        "print(student)"
      ],
      "metadata": {
        "colab": {
          "base_uri": "https://localhost:8080/"
        },
        "id": "LbN0Ev-04nV4",
        "outputId": "62089d2c-d8d6-4325-f4ee-4e73a0801cf7"
      },
      "execution_count": 23,
      "outputs": [
        {
          "output_type": "stream",
          "name": "stdout",
          "text": [
            "Abdul\n"
          ]
        }
      ]
    },
    {
      "cell_type": "code",
      "source": [
        "# Adding Information about class Inceptez batch 27\n",
        "mentor = \"Abdul\"\n",
        "AdminIncharge = \"Baasith\"\n",
        "student = \"Raj\""
      ],
      "metadata": {
        "id": "zMG-O8JN4oy0"
      },
      "execution_count": 24,
      "outputs": []
    },
    {
      "cell_type": "code",
      "source": [
        "print(student)"
      ],
      "metadata": {
        "colab": {
          "base_uri": "https://localhost:8080/"
        },
        "id": "mOias2gX4xJT",
        "outputId": "b3d8468c-a164-45ed-f87c-748a0e4b3aa1"
      },
      "execution_count": 25,
      "outputs": [
        {
          "output_type": "stream",
          "name": "stdout",
          "text": [
            "Raj\n"
          ]
        }
      ]
    },
    {
      "cell_type": "code",
      "source": [
        "print(mentor)"
      ],
      "metadata": {
        "colab": {
          "base_uri": "https://localhost:8080/"
        },
        "id": "uY1iGZUJ42u1",
        "outputId": "08cc2eee-84ad-42d9-bde7-b6f669754ceb"
      },
      "execution_count": 26,
      "outputs": [
        {
          "output_type": "stream",
          "name": "stdout",
          "text": [
            "Abdul\n"
          ]
        }
      ]
    },
    {
      "cell_type": "code",
      "source": [
        "#SyntaxError: invalid syntax\n",
        "\n",
        "Power cut = \"Yes\""
      ],
      "metadata": {
        "colab": {
          "base_uri": "https://localhost:8080/",
          "height": 108
        },
        "id": "KarDobg844g-",
        "outputId": "2162a731-b712-4377-fc1c-a4b3260c9825"
      },
      "execution_count": 27,
      "outputs": [
        {
          "output_type": "error",
          "ename": "SyntaxError",
          "evalue": "invalid syntax (ipython-input-27-2202963852.py, line 1)",
          "traceback": [
            "\u001b[0;36m  File \u001b[0;32m\"/tmp/ipython-input-27-2202963852.py\"\u001b[0;36m, line \u001b[0;32m1\u001b[0m\n\u001b[0;31m    Power cut = \"Yes\"\u001b[0m\n\u001b[0m          ^\u001b[0m\n\u001b[0;31mSyntaxError\u001b[0m\u001b[0;31m:\u001b[0m invalid syntax\n"
          ]
        }
      ]
    },
    {
      "cell_type": "code",
      "source": [
        "#SyntaxError: invalid syntax\n",
        "\n",
        "import = \"Yes\""
      ],
      "metadata": {
        "colab": {
          "base_uri": "https://localhost:8080/",
          "height": 108
        },
        "id": "aCzeqZJG5IVK",
        "outputId": "fcd77213-75ef-4aef-c04e-c284c960b1c8"
      },
      "execution_count": 28,
      "outputs": [
        {
          "output_type": "error",
          "ename": "SyntaxError",
          "evalue": "invalid syntax (ipython-input-28-3178922803.py, line 3)",
          "traceback": [
            "\u001b[0;36m  File \u001b[0;32m\"/tmp/ipython-input-28-3178922803.py\"\u001b[0;36m, line \u001b[0;32m3\u001b[0m\n\u001b[0;31m    import = \"Yes\"\u001b[0m\n\u001b[0m           ^\u001b[0m\n\u001b[0;31mSyntaxError\u001b[0m\u001b[0;31m:\u001b[0m invalid syntax\n"
          ]
        }
      ]
    },
    {
      "cell_type": "markdown",
      "source": [
        "## Rules to define an Identifier\n",
        "\n",
        "*   Cannot be a keyword\n",
        "*   Cannot have space inbetween\n",
        "*   Cannot start with a number\n",
        "*   No Special Characters = !,@,#,\\$, \\%\n",
        "*   It should be within a-z A-Z, 0-9(cannot start with a number)\n",
        "*   It is case sensitive\n",
        "\n"
      ],
      "metadata": {
        "id": "3lCKO9GH5ozL"
      }
    },
    {
      "cell_type": "code",
      "source": [
        "A = 10\n",
        "a = 20"
      ],
      "metadata": {
        "id": "uwcC08DY5au0"
      },
      "execution_count": 29,
      "outputs": []
    },
    {
      "cell_type": "code",
      "source": [
        "print(a)"
      ],
      "metadata": {
        "colab": {
          "base_uri": "https://localhost:8080/"
        },
        "id": "lCj1S2Qx6FJD",
        "outputId": "e8df2dc1-a370-488e-abca-5d09fd04a366"
      },
      "execution_count": 30,
      "outputs": [
        {
          "output_type": "stream",
          "name": "stdout",
          "text": [
            "20\n"
          ]
        }
      ]
    },
    {
      "cell_type": "code",
      "source": [
        "print(A)"
      ],
      "metadata": {
        "colab": {
          "base_uri": "https://localhost:8080/"
        },
        "id": "SjaR58oK6GIQ",
        "outputId": "c32f89cd-7616-445b-e6e1-2a9e70a3b9ac"
      },
      "execution_count": 31,
      "outputs": [
        {
          "output_type": "stream",
          "name": "stdout",
          "text": [
            "10\n"
          ]
        }
      ]
    },
    {
      "cell_type": "markdown",
      "source": [
        "## Data types\n",
        "\n",
        "1.   Int - Integers - Any numbers you can count\n",
        "2.   Float - Floating point number - Any number you can measure\n",
        "3.   Bool - Boolean - True / False\n",
        "4.   str - String - Letters - Letter\n",
        "5.   complex - Real + imaginary parts\n",
        "\n"
      ],
      "metadata": {
        "id": "4ZTMXkfi-dFU"
      }
    },
    {
      "cell_type": "code",
      "source": [
        "A = True"
      ],
      "metadata": {
        "id": "_U45YsZl6HHf"
      },
      "execution_count": 32,
      "outputs": []
    },
    {
      "cell_type": "code",
      "source": [
        "type(A)"
      ],
      "metadata": {
        "colab": {
          "base_uri": "https://localhost:8080/"
        },
        "id": "HHozF5Ep_Iuh",
        "outputId": "9c6d00ee-cbdc-41fb-e923-0429151650a8"
      },
      "execution_count": 33,
      "outputs": [
        {
          "output_type": "execute_result",
          "data": {
            "text/plain": [
              "bool"
            ]
          },
          "metadata": {},
          "execution_count": 33
        }
      ]
    },
    {
      "cell_type": "code",
      "source": [
        "a = 10+5j"
      ],
      "metadata": {
        "id": "ZOuRCQjU_JqR"
      },
      "execution_count": 34,
      "outputs": []
    },
    {
      "cell_type": "code",
      "source": [
        "type(a)"
      ],
      "metadata": {
        "colab": {
          "base_uri": "https://localhost:8080/"
        },
        "id": "A3_B0DfH_WD1",
        "outputId": "40973f6c-3938-44ea-a47f-1374b918d940"
      },
      "execution_count": 35,
      "outputs": [
        {
          "output_type": "execute_result",
          "data": {
            "text/plain": [
              "complex"
            ]
          },
          "metadata": {},
          "execution_count": 35
        }
      ]
    },
    {
      "cell_type": "code",
      "source": [
        "a = \"Laxmi\"\n",
        "type(a)"
      ],
      "metadata": {
        "colab": {
          "base_uri": "https://localhost:8080/"
        },
        "id": "4FLwiriY_W5W",
        "outputId": "ccf7f171-1c39-41dc-d6fa-437f7ee185a7"
      },
      "execution_count": 37,
      "outputs": [
        {
          "output_type": "execute_result",
          "data": {
            "text/plain": [
              "str"
            ]
          },
          "metadata": {},
          "execution_count": 37
        }
      ]
    },
    {
      "cell_type": "code",
      "source": [
        "a = \"\"\"noun\n",
        "noun: syntax\n",
        "1.\n",
        "the arrangement of words and phrases to create well-formed sentences in a language.\n",
        "\"the syntax of English\"\n",
        "a set of rules for or an analysis of the syntax of a language.\n",
        "plural noun: syntaxes\n",
        "\"generative syntax\"\n",
        "the branch of linguistics that deals with syntax.\n",
        "2.\n",
        "the structure of statements in a computer language.\n",
        "\"\"\""
      ],
      "metadata": {
        "id": "lGYNsfNi_c4a"
      },
      "execution_count": 54,
      "outputs": []
    },
    {
      "cell_type": "markdown",
      "source": [
        "1. String Elements can be accessed via \"Index\"\n",
        "2. Indices (plural form of Index) are 0-based\n",
        "3. String elements are immutable by index\n",
        "    mutable objects can be modified after they are created, while immutable objects cannot be changed once they are created"
      ],
      "metadata": {
        "id": "12Z0Xc91E4Uv"
      }
    },
    {
      "cell_type": "code",
      "source": [
        "a = 'hello'"
      ],
      "metadata": {
        "id": "WdbpfJIkGcLv"
      },
      "execution_count": 65,
      "outputs": []
    },
    {
      "cell_type": "code",
      "source": [
        "print(a)"
      ],
      "metadata": {
        "colab": {
          "base_uri": "https://localhost:8080/"
        },
        "id": "p1fuqORbGiPd",
        "outputId": "c78bdece-2038-4063-84e5-6ddc66e2048c"
      },
      "execution_count": 66,
      "outputs": [
        {
          "output_type": "stream",
          "name": "stdout",
          "text": [
            "hello\n"
          ]
        }
      ]
    },
    {
      "cell_type": "code",
      "source": [
        "print(a)"
      ],
      "metadata": {
        "colab": {
          "base_uri": "https://localhost:8080/"
        },
        "id": "vvQzxXvPAR08",
        "outputId": "c8dbf689-bd69-4881-900e-925bc0403770"
      },
      "execution_count": 45,
      "outputs": [
        {
          "output_type": "stream",
          "name": "stdout",
          "text": [
            "\n",
            "noun\n",
            "noun: syntax\n",
            "1.\n",
            "the arrangement of words and phrases to create well-formed sentences in a language.\n",
            "\"the syntax of English\"\n",
            "a set of rules for or an analysis of the syntax of a language.\n",
            "plural noun: syntaxes\n",
            "\"generative syntax\"\n",
            "the branch of linguistics that deals with syntax.\n",
            "2.\n",
            "the structure of statements in a computer language.\n",
            "\n"
          ]
        }
      ]
    },
    {
      "cell_type": "code",
      "source": [
        "type(a)"
      ],
      "metadata": {
        "colab": {
          "base_uri": "https://localhost:8080/"
        },
        "id": "TvboKsnn_oIz",
        "outputId": "8ecaf380-b09f-4720-ed06-f9e7f93951f9"
      },
      "execution_count": 44,
      "outputs": [
        {
          "output_type": "execute_result",
          "data": {
            "text/plain": [
              "str"
            ]
          },
          "metadata": {},
          "execution_count": 44
        }
      ]
    },
    {
      "cell_type": "code",
      "source": [
        "a[1]"
      ],
      "metadata": {
        "colab": {
          "base_uri": "https://localhost:8080/",
          "height": 35
        },
        "id": "6S2B2nlVCwvL",
        "outputId": "51473e4b-f38d-4e6a-b1b6-ce623b197f58"
      },
      "execution_count": 56,
      "outputs": [
        {
          "output_type": "execute_result",
          "data": {
            "text/plain": [
              "'o'"
            ],
            "application/vnd.google.colaboratory.intrinsic+json": {
              "type": "string"
            }
          },
          "metadata": {},
          "execution_count": 56
        }
      ]
    },
    {
      "cell_type": "code",
      "source": [
        "a = \"Inceptez\" #Incuptez"
      ],
      "metadata": {
        "id": "qxBbVCbCE_YS"
      },
      "execution_count": 60,
      "outputs": []
    },
    {
      "cell_type": "code",
      "source": [
        "a[3] = \"u\""
      ],
      "metadata": {
        "colab": {
          "base_uri": "https://localhost:8080/",
          "height": 144
        },
        "id": "rNLYaN93FDjd",
        "outputId": "4c912902-9dd9-49cd-a99f-5c583bc5d3f0"
      },
      "execution_count": 63,
      "outputs": [
        {
          "output_type": "error",
          "ename": "TypeError",
          "evalue": "'str' object does not support item assignment",
          "traceback": [
            "\u001b[0;31m---------------------------------------------------------------------------\u001b[0m",
            "\u001b[0;31mTypeError\u001b[0m                                 Traceback (most recent call last)",
            "\u001b[0;32m/tmp/ipython-input-63-3734027717.py\u001b[0m in \u001b[0;36m<cell line: 0>\u001b[0;34m()\u001b[0m\n\u001b[0;32m----> 1\u001b[0;31m \u001b[0ma\u001b[0m\u001b[0;34m[\u001b[0m\u001b[0;36m3\u001b[0m\u001b[0;34m]\u001b[0m \u001b[0;34m=\u001b[0m \u001b[0;34m\"u\"\u001b[0m\u001b[0;34m\u001b[0m\u001b[0;34m\u001b[0m\u001b[0m\n\u001b[0m",
            "\u001b[0;31mTypeError\u001b[0m: 'str' object does not support item assignment"
          ]
        }
      ]
    },
    {
      "cell_type": "code",
      "source": [
        "a = \"Incuptez\""
      ],
      "metadata": {
        "id": "gIS0Hs-IGHTi"
      },
      "execution_count": 64,
      "outputs": []
    },
    {
      "cell_type": "code",
      "source": [
        "#TypeError: 'int' object is not subscriptable - It is still a valid-syntax but for a wrong type!\n",
        "b = 100\n",
        "b[0]"
      ],
      "metadata": {
        "colab": {
          "base_uri": "https://localhost:8080/",
          "height": 162
        },
        "id": "l-pCJ_vGEvr3",
        "outputId": "35d05639-cf51-4813-ccc1-35afa564b50f"
      },
      "execution_count": 57,
      "outputs": [
        {
          "output_type": "error",
          "ename": "TypeError",
          "evalue": "'int' object is not subscriptable",
          "traceback": [
            "\u001b[0;31m---------------------------------------------------------------------------\u001b[0m",
            "\u001b[0;31mTypeError\u001b[0m                                 Traceback (most recent call last)",
            "\u001b[0;32m/tmp/ipython-input-57-4229610060.py\u001b[0m in \u001b[0;36m<cell line: 0>\u001b[0;34m()\u001b[0m\n\u001b[1;32m      1\u001b[0m \u001b[0mb\u001b[0m \u001b[0;34m=\u001b[0m \u001b[0;36m100\u001b[0m\u001b[0;34m\u001b[0m\u001b[0;34m\u001b[0m\u001b[0m\n\u001b[0;32m----> 2\u001b[0;31m \u001b[0mb\u001b[0m\u001b[0;34m[\u001b[0m\u001b[0;36m0\u001b[0m\u001b[0;34m]\u001b[0m\u001b[0;34m\u001b[0m\u001b[0;34m\u001b[0m\u001b[0m\n\u001b[0m",
            "\u001b[0;31mTypeError\u001b[0m: 'int' object is not subscriptable"
          ]
        }
      ]
    },
    {
      "cell_type": "markdown",
      "source": [
        "## Try Answering these questions before next class:\n",
        "1. What a programming language is\n",
        "2. LOW level PL vs High level PL\n",
        "3. What is python? LL or HL?\n",
        "4. Statically typed language vs Dynamically typed language\n",
        "5. Interpreter vs Compiler\n",
        "6. How are python codes executed?\n",
        "7. What is python using in the bg\n",
        "8. 32-bit system | 64 - bit system"
      ],
      "metadata": {
        "id": "5EDwC8WVCxAp"
      }
    },
    {
      "cell_type": "markdown",
      "source": [
        "## Food for Thought: What I have seen is Smallest unit of storage but technically string stores multiple smaller units of characters. Structure that holds multiple data inside it.."
      ],
      "metadata": {
        "id": "jz-o4UD6A0FE"
      }
    },
    {
      "cell_type": "markdown",
      "source": [
        "## Lists\n",
        "\n",
        "`\"list_name\" = [list_ele1, list_ele2, .... list_elen]`"
      ],
      "metadata": {
        "id": "XkwPs-zTCoRk"
      }
    },
    {
      "cell_type": "code",
      "source": [
        "list1 = [1,2,3,4,5,6,7,8,9,10]"
      ],
      "metadata": {
        "id": "2YUGVXmOAzH7"
      },
      "execution_count": 50,
      "outputs": []
    },
    {
      "cell_type": "code",
      "source": [
        "type(list1)"
      ],
      "metadata": {
        "colab": {
          "base_uri": "https://localhost:8080/"
        },
        "id": "aKYPRMB9_uK7",
        "outputId": "d3873e7a-c2d4-4e4d-a2b3-c4f0a352a2dc"
      },
      "execution_count": 51,
      "outputs": [
        {
          "output_type": "execute_result",
          "data": {
            "text/plain": [
              "list"
            ]
          },
          "metadata": {},
          "execution_count": 51
        }
      ]
    },
    {
      "cell_type": "markdown",
      "source": [
        "## Properties\n",
        "1. A element will be defined using [ ]\n",
        "2. Each element will be seperated by a comma ','\n",
        "3. Heterogenous collection of data\n",
        "4. List elements are mutable via index"
      ],
      "metadata": {
        "id": "_3BSSbHDG6o4"
      }
    },
    {
      "cell_type": "code",
      "source": [
        "sampleList = [1,2,3,4,5,\"Inceptez\"]"
      ],
      "metadata": {
        "id": "8b04VGliEae4"
      },
      "execution_count": 92,
      "outputs": []
    },
    {
      "cell_type": "code",
      "source": [
        "SampleList = [2,3,4,5]"
      ],
      "metadata": {
        "id": "TOtFpiDMIzgL"
      },
      "execution_count": 85,
      "outputs": []
    },
    {
      "cell_type": "code",
      "source": [
        "sampleList"
      ],
      "metadata": {
        "colab": {
          "base_uri": "https://localhost:8080/"
        },
        "id": "CfKKPpJCIl7e",
        "outputId": "13d9297f-fcfd-4493-c0eb-8233396d0232"
      },
      "execution_count": 93,
      "outputs": [
        {
          "output_type": "execute_result",
          "data": {
            "text/plain": [
              "[1, 2, 3, 4, 5, 'Inceptez']"
            ]
          },
          "metadata": {},
          "execution_count": 93
        }
      ]
    },
    {
      "cell_type": "code",
      "source": [
        "type(sampleList[5])"
      ],
      "metadata": {
        "colab": {
          "base_uri": "https://localhost:8080/"
        },
        "id": "bXwwromQHbrp",
        "outputId": "49b914be-14db-4974-8e1a-aadabbaf49da"
      },
      "execution_count": 89,
      "outputs": [
        {
          "output_type": "execute_result",
          "data": {
            "text/plain": [
              "str"
            ]
          },
          "metadata": {},
          "execution_count": 89
        }
      ]
    },
    {
      "cell_type": "code",
      "source": [
        "sampleList[5][2] = \"e\""
      ],
      "metadata": {
        "colab": {
          "base_uri": "https://localhost:8080/",
          "height": 144
        },
        "id": "SE82Ta6LJ8jE",
        "outputId": "7ffa9155-2b8d-43af-d201-ef6b32f848d0"
      },
      "execution_count": 96,
      "outputs": [
        {
          "output_type": "error",
          "ename": "TypeError",
          "evalue": "'str' object does not support item assignment",
          "traceback": [
            "\u001b[0;31m---------------------------------------------------------------------------\u001b[0m",
            "\u001b[0;31mTypeError\u001b[0m                                 Traceback (most recent call last)",
            "\u001b[0;32m/tmp/ipython-input-96-2106625674.py\u001b[0m in \u001b[0;36m<cell line: 0>\u001b[0;34m()\u001b[0m\n\u001b[0;32m----> 1\u001b[0;31m \u001b[0msampleList\u001b[0m\u001b[0;34m[\u001b[0m\u001b[0;36m5\u001b[0m\u001b[0;34m]\u001b[0m\u001b[0;34m[\u001b[0m\u001b[0;36m2\u001b[0m\u001b[0;34m]\u001b[0m \u001b[0;34m=\u001b[0m \u001b[0;34m\"e\"\u001b[0m\u001b[0;34m\u001b[0m\u001b[0;34m\u001b[0m\u001b[0m\n\u001b[0m",
            "\u001b[0;31mTypeError\u001b[0m: 'str' object does not support item assignment"
          ]
        }
      ]
    },
    {
      "cell_type": "code",
      "source": [
        "sampleList[5] = \"Incuptez\""
      ],
      "metadata": {
        "id": "RwRiGElpKIEQ"
      },
      "execution_count": 97,
      "outputs": []
    },
    {
      "cell_type": "code",
      "source": [
        "sampleList"
      ],
      "metadata": {
        "colab": {
          "base_uri": "https://localhost:8080/"
        },
        "id": "lAoslVwWKJ-c",
        "outputId": "2d69a208-f925-4a12-c707-04b6bbf3147c"
      },
      "execution_count": 98,
      "outputs": [
        {
          "output_type": "execute_result",
          "data": {
            "text/plain": [
              "[1, 2, 3, 4, 5, 'Incuptez']"
            ]
          },
          "metadata": {},
          "execution_count": 98
        }
      ]
    },
    {
      "cell_type": "code",
      "source": [
        "type(sampleList[2])"
      ],
      "metadata": {
        "colab": {
          "base_uri": "https://localhost:8080/"
        },
        "id": "u8E0OzIHJVVi",
        "outputId": "a65c4404-0bfc-49a7-f78d-66b973c1245d"
      },
      "execution_count": 90,
      "outputs": [
        {
          "output_type": "execute_result",
          "data": {
            "text/plain": [
              "int"
            ]
          },
          "metadata": {},
          "execution_count": 90
        }
      ]
    },
    {
      "cell_type": "code",
      "source": [
        "sampleList = [1,2,3,4,5,[\"Inceptez\",2,3,4]]"
      ],
      "metadata": {
        "id": "qf-kew6MHcoT"
      },
      "execution_count": 80,
      "outputs": []
    },
    {
      "cell_type": "code",
      "source": [
        "type(sampleList[5][0])"
      ],
      "metadata": {
        "colab": {
          "base_uri": "https://localhost:8080/"
        },
        "id": "c5gjHjlBHqOz",
        "outputId": "8ae0dab0-ca35-45f4-92c8-d371fd78eac0"
      },
      "execution_count": 84,
      "outputs": [
        {
          "output_type": "execute_result",
          "data": {
            "text/plain": [
              "str"
            ]
          },
          "metadata": {},
          "execution_count": 84
        }
      ]
    },
    {
      "cell_type": "code",
      "source": [
        "sampleList[5] = 4"
      ],
      "metadata": {
        "id": "PBJnNDXAHrZ3"
      },
      "execution_count": 77,
      "outputs": []
    },
    {
      "cell_type": "code",
      "source": [
        "sampleList"
      ],
      "metadata": {
        "colab": {
          "base_uri": "https://localhost:8080/"
        },
        "id": "VwnmixOfH49b",
        "outputId": "b0f109a7-659a-4edd-dbbb-81f8bce8b1e2"
      },
      "execution_count": 78,
      "outputs": [
        {
          "output_type": "execute_result",
          "data": {
            "text/plain": [
              "[1, 2, 3, 4, 5, 4]"
            ]
          },
          "metadata": {},
          "execution_count": 78
        }
      ]
    },
    {
      "cell_type": "code",
      "source": [
        "sampleList[20]"
      ],
      "metadata": {
        "colab": {
          "base_uri": "https://localhost:8080/",
          "height": 144
        },
        "id": "Agv8oxLyH5fo",
        "outputId": "2324ad2b-70cc-4e79-d214-4f5ed2a78724"
      },
      "execution_count": 91,
      "outputs": [
        {
          "output_type": "error",
          "ename": "IndexError",
          "evalue": "list index out of range",
          "traceback": [
            "\u001b[0;31m---------------------------------------------------------------------------\u001b[0m",
            "\u001b[0;31mIndexError\u001b[0m                                Traceback (most recent call last)",
            "\u001b[0;32m/tmp/ipython-input-91-2641044633.py\u001b[0m in \u001b[0;36m<cell line: 0>\u001b[0;34m()\u001b[0m\n\u001b[0;32m----> 1\u001b[0;31m \u001b[0msampleList\u001b[0m\u001b[0;34m[\u001b[0m\u001b[0;36m20\u001b[0m\u001b[0;34m]\u001b[0m\u001b[0;34m\u001b[0m\u001b[0;34m\u001b[0m\u001b[0m\n\u001b[0m",
            "\u001b[0;31mIndexError\u001b[0m: list index out of range"
          ]
        }
      ]
    },
    {
      "cell_type": "markdown",
      "source": [
        "## Further Food for Thought:\n",
        "\n",
        "1. What is differences in data type storage in python in terms of data memory?\n",
        "2. Memory management differences between Primitive vs Abstract Data Structures"
      ],
      "metadata": {
        "id": "6qFb-pkqJyts"
      }
    },
    {
      "cell_type": "code",
      "source": [],
      "metadata": {
        "id": "y86g5p1XOclM"
      },
      "execution_count": null,
      "outputs": []
    }
  ]
}