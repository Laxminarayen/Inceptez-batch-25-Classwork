{
  "cells": [
    {
      "cell_type": "markdown",
      "metadata": {
        "id": "9bmkU5RxMAgq"
      },
      "source": [
        "# 🧠 Python: Bitwise Operators, Augmented Assignment, Functions, and Classes\n",
        "\n",
        "This notebook covers essential programming tools in Python that you'll need to build efficient, readable, and modular code."
      ]
    },
    {
      "cell_type": "markdown",
      "metadata": {
        "id": "8w8xlamYMAgr"
      },
      "source": [
        "## 🔢 Bitwise Operators in Python\n",
        "Bitwise operators allow you to manipulate individual bits of integers. These are often used in performance-critical applications like encryption, compression, and low-level networking.\n",
        "\n",
        "### Operators Overview:\n",
        "| Operator | Name        | Description                  |\n",
        "|----------|-------------|------------------------------|\n",
        "| `&`      | AND         | 1 if both bits are 1         |\n",
        "| `|`      | OR          | 1 if either bit is 1         |\n",
        "| `^`      | XOR         | 1 if bits are different      |\n",
        "| `~`      | NOT         | Inverts all bits (2's comp)  |\n",
        "| `<<`     | Left Shift  | Shifts bits left (×2)        |\n",
        "| `>>`     | Right Shift | Shifts bits right (÷2)       |\n"
      ]
    },
    {
      "cell_type": "code",
      "execution_count": 2,
      "metadata": {
        "colab": {
          "base_uri": "https://localhost:8080/"
        },
        "id": "5Rt5wcnCMAgs",
        "outputId": "5086c08f-2b19-40df-deb6-c0f1351e89cd"
      },
      "outputs": [
        {
          "output_type": "stream",
          "name": "stdout",
          "text": [
            "AND: 1\n",
            "OR: 7\n",
            "XOR: 6\n",
            "NOT: -6\n",
            "Left Shift: 10\n",
            "Right Shift: 2\n"
          ]
        }
      ],
      "source": [
        "a = 5      # 1b010\n",
        "b = 3      # 0b011\n",
        "\n",
        "print(\"AND:\", a & b)\n",
        "print(\"OR:\", a | b)\n",
        "print(\"XOR:\", a ^ b)\n",
        "print(\"NOT:\", ~a)\n",
        "print(\"Left Shift:\", a << 1)\n",
        "print(\"Right Shift:\", a >> 1)"
      ]
    },
    {
      "cell_type": "markdown",
      "metadata": {
        "id": "gkOKZFTiMAgs"
      },
      "source": [
        "### 📌 Why Bitwise Operators Are Special\n",
        "\n",
        "Although all operations are binary at the hardware level, bitwise operators allow **you** to control individual bits manually, giving **low-level power** and efficiency. This is useful in compression, graphics, encryption, and more."
      ]
    },
    {
      "cell_type": "markdown",
      "metadata": {
        "id": "-vxpQgSiMAgs"
      },
      "source": [
        "🧠 Yes — All Operations Are Binary Eventually\n",
        "All operations — whether it’s +, *, or even print() — are ultimately executed in binary at the hardware level, because that’s how CPUs work.\n",
        "\n",
        "But here's the key difference:\n",
        "\n",
        "🔍 Bitwise Operators Are Special Because:\n",
        "🛠 They work directly on the bits you see, not the mathematical result.\n",
        "Other operations like + or *:\n",
        "\n",
        "Abstract away the binary.\n",
        "\n",
        "Let Python (and your CPU) handle binary manipulation behind the scenes.\n",
        "\n",
        "You’re thinking in numbers, not bits.\n",
        "\n",
        "Bitwise operators:\n",
        "Let you manually operate on specific bits of the number.\n",
        "\n",
        "You're thinking in patterns of 1s and 0s directly.\n",
        "\n",
        "You can make extremely fine-tuned, fast manipulations.\n",
        "\n",
        "✨ So the key difference:\n",
        "\n",
        "| Regular Operation                | Bitwise Operation                              |\n",
        "| -------------------------------- | ---------------------------------------------- |\n",
        "| Abstracted math                  | Direct bit manipulation                        |\n",
        "| Slower (in some cases)           | Very fast, low-level                           |\n",
        "| `a + b` → uses binary internally | `a & b` → lets *you* work with binary manually |\n"
      ]
    },
    {
      "cell_type": "markdown",
      "metadata": {
        "id": "gQPlQmVqMAgt"
      },
      "source": [
        "## 🧮 Augmented Assignment Operators\n",
        "\n",
        "Augmented assignment operators are shorthand that combine an operation with assignment:\n",
        "\n",
        "```python\n",
        "x += 1  # same as x = x + 1\n",
        "x *= 2  # same as x = x * 2\n",
        "```\n",
        "\n",
        "They make code cleaner and **can be more efficient** especially for **mutable objects** like lists or sets."
      ]
    },
    {
      "cell_type": "code",
      "source": [
        "a = a+1\n",
        "a+=1"
      ],
      "metadata": {
        "id": "7KbjsehzNHj8"
      },
      "execution_count": 4,
      "outputs": []
    },
    {
      "cell_type": "code",
      "source": [
        "a = \"laxmi\"\n",
        "a+='i'\n",
        "a"
      ],
      "metadata": {
        "colab": {
          "base_uri": "https://localhost:8080/",
          "height": 35
        },
        "id": "0FkI_65IOMl4",
        "outputId": "e04c3d15-62f9-44fb-871a-d8508a6edbaf"
      },
      "execution_count": 10,
      "outputs": [
        {
          "output_type": "execute_result",
          "data": {
            "text/plain": [
              "'laxmii'"
            ],
            "application/vnd.google.colaboratory.intrinsic+json": {
              "type": "string"
            }
          },
          "metadata": {},
          "execution_count": 10
        }
      ]
    },
    {
      "cell_type": "markdown",
      "metadata": {
        "id": "Q1yJFX9zMAgt"
      },
      "source": [
        "### ⚡ Are They Faster?\n",
        "\n",
        "Yes — Python uses special bytecode for these:\n",
        "\n",
        "```python\n",
        "import dis\n",
        "dis.dis(\"x += 1\")      # uses INPLACE_ADD\n",
        "dis.dis(\"x = x + 1\")   # uses BINARY_ADD + STORE_NAME\n",
        "```\n",
        "\n",
        "In-place modification avoids unnecessary memory use for **mutable types** like lists.\n",
        "\n",
        "```python\n",
        "lst = [1, 2]\n",
        "lst += [3]   # modifies in-place\n",
        "lst = lst + [4]  # creates a new object\n",
        "```"
      ]
    },
    {
      "cell_type": "code",
      "source": [
        "lst = [1, 2]\n",
        "lst += [3]   # modifies in-place\n",
        "print(lst)\n",
        "lst = lst + [4]  # creates a new object\n",
        "print(lst)"
      ],
      "metadata": {
        "colab": {
          "base_uri": "https://localhost:8080/"
        },
        "id": "CBo8stz-N3mZ",
        "outputId": "b03a8b84-bf4a-4cc4-b967-94ee2724b6d8"
      },
      "execution_count": 8,
      "outputs": [
        {
          "output_type": "stream",
          "name": "stdout",
          "text": [
            "[1, 2, 3]\n",
            "[1, 2, 3, 4]\n"
          ]
        }
      ]
    },
    {
      "cell_type": "code",
      "source": [
        "lst = [1, 2]\n",
        "lst += [1]  # modifies in-place"
      ],
      "metadata": {
        "id": "Lm3trxFaOSuA"
      },
      "execution_count": 14,
      "outputs": []
    },
    {
      "cell_type": "code",
      "source": [
        "lst = [1, 2]\n",
        "lst += 1  # modifies in-place"
      ],
      "metadata": {
        "colab": {
          "base_uri": "https://localhost:8080/",
          "height": 162
        },
        "id": "kQRDIlc1OYa7",
        "outputId": "c6630015-1dca-4634-ccd8-36f72f0abacf"
      },
      "execution_count": 16,
      "outputs": [
        {
          "output_type": "error",
          "ename": "TypeError",
          "evalue": "'int' object is not iterable",
          "traceback": [
            "\u001b[0;31m---------------------------------------------------------------------------\u001b[0m",
            "\u001b[0;31mTypeError\u001b[0m                                 Traceback (most recent call last)",
            "\u001b[0;32m/tmp/ipython-input-16-1746166166.py\u001b[0m in \u001b[0;36m<cell line: 0>\u001b[0;34m()\u001b[0m\n\u001b[1;32m      1\u001b[0m \u001b[0mlst\u001b[0m \u001b[0;34m=\u001b[0m \u001b[0;34m[\u001b[0m\u001b[0;36m1\u001b[0m\u001b[0;34m,\u001b[0m \u001b[0;36m2\u001b[0m\u001b[0;34m]\u001b[0m\u001b[0;34m\u001b[0m\u001b[0;34m\u001b[0m\u001b[0m\n\u001b[0;32m----> 2\u001b[0;31m \u001b[0mlst\u001b[0m \u001b[0;34m+=\u001b[0m \u001b[0;36m1\u001b[0m  \u001b[0;31m# modifies in-place\u001b[0m\u001b[0;34m\u001b[0m\u001b[0;34m\u001b[0m\u001b[0m\n\u001b[0m",
            "\u001b[0;31mTypeError\u001b[0m: 'int' object is not iterable"
          ]
        }
      ]
    },
    {
      "cell_type": "markdown",
      "source": [
        "\n",
        "\n",
        "```\n",
        "---------------------------------------------------------------------------\n",
        "TypeError                                 Traceback (most recent call last)\n",
        "/tmp/ipython-input-16-1746166166.py in <cell line: 0>()\n",
        "      1 lst = [1, 2]\n",
        "----> 2 lst += 1  # modifies in-place\n",
        "\n",
        "TypeError: 'int' object is not iterable\n",
        "--------------------------------------------------------------------------\n",
        "```\n",
        "\n"
      ],
      "metadata": {
        "id": "eLtNgul9OkvP"
      }
    },
    {
      "cell_type": "markdown",
      "metadata": {
        "id": "EXpU57r-MAgt"
      },
      "source": [
        "## 🛠️ What is a Function in Python?\n",
        "## A function is a block of reusable code that performs a specific task.\n",
        "\n",
        "## ✅ Why use functions?\n",
        "| Benefit          | Description                                      |\n",
        "| ---------------- | ------------------------------------------------ |\n",
        "| **Reusability**  | Write once, use many times                       |\n",
        "| **Organization** | Breaks large problems into small steps           |\n",
        "| **Readability**  | Gives names to logic, making code easier to read |\n",
        "| **Testing**      | Easier to isolate and debug parts of code        |\n",
        "\n",
        "## Keyword: def `<functionname>`():\n",
        "      `<Statementshere>`\n"
      ]
    },
    {
      "cell_type": "code",
      "source": [
        "arr = [2,1,4,3,5]"
      ],
      "metadata": {
        "id": "eT4DnrYYO3nl"
      },
      "execution_count": 19,
      "outputs": []
    },
    {
      "cell_type": "code",
      "source": [
        "for i in range(1,len(arr)):\n",
        "  pos = arr[i]\n",
        "  #print(f\"print pos {pos}\")\n",
        "  j = i-1 #1\n",
        "  #print(f\"The value of j: {j}\")\n",
        "  while j >=0 and pos < arr[j]:\n",
        "    arr[j+1] = arr[j]\n",
        "    j = j-1\n",
        "    #print(arr)\n",
        "  arr[j+1] = pos #[23,50]\n",
        "  #print(arr)\n",
        "print(arr)"
      ],
      "metadata": {
        "colab": {
          "base_uri": "https://localhost:8080/"
        },
        "id": "ZrMB7hYIO2Qk",
        "outputId": "23e2d06e-7b1f-4128-98f7-08febf7c9330"
      },
      "execution_count": 21,
      "outputs": [
        {
          "output_type": "stream",
          "name": "stdout",
          "text": [
            "[1, 2, 3, 4, 5]\n"
          ]
        }
      ]
    },
    {
      "cell_type": "code",
      "source": [
        "arr = [200,105,406,3,5]\n",
        "for i in range(1,len(arr)):\n",
        "  pos = arr[i]\n",
        "  #print(f\"print pos {pos}\")\n",
        "  j = i-1 #1\n",
        "  #print(f\"The value of j: {j}\")\n",
        "  while j >=0 and pos < arr[j]:\n",
        "    arr[j+1] = arr[j]\n",
        "    j = j-1\n",
        "    #print(arr)\n",
        "  arr[j+1] = pos #[23,50]\n",
        "  #print(arr)\n",
        "print(arr)"
      ],
      "metadata": {
        "id": "s03SER9fPRJa"
      },
      "execution_count": null,
      "outputs": []
    },
    {
      "cell_type": "code",
      "source": [
        "def insertion_sort(arr): #Defined a function here! Function Defenition with Arguments\n",
        "  for i in range(1,len(arr)):\n",
        "    pos = arr[i]\n",
        "    j = i-1\n",
        "    while j >=0 and pos < arr[j]:\n",
        "      arr[j+1] = arr[j]\n",
        "      j = j-1\n",
        "      #print(arr)\n",
        "    arr[j+1] = pos #[23,50]\n",
        "  return arr"
      ],
      "metadata": {
        "id": "17VH4rZqPbfn"
      },
      "execution_count": 23,
      "outputs": []
    },
    {
      "cell_type": "code",
      "source": [
        "sortedList = insertion_sort([2,3,4,5,6,1,2])"
      ],
      "metadata": {
        "id": "LnZe5QoGPlx-"
      },
      "execution_count": 25,
      "outputs": []
    },
    {
      "cell_type": "code",
      "source": [
        "sortedList"
      ],
      "metadata": {
        "colab": {
          "base_uri": "https://localhost:8080/"
        },
        "id": "gaYXcfDgQzeN",
        "outputId": "826e4924-07ad-4915-daca-cb94cbc60985"
      },
      "execution_count": 26,
      "outputs": [
        {
          "output_type": "execute_result",
          "data": {
            "text/plain": [
              "[1, 2, 2, 3, 4, 5, 6]"
            ]
          },
          "metadata": {},
          "execution_count": 26
        }
      ]
    },
    {
      "cell_type": "code",
      "source": [
        "def custom_fn(name):\n",
        "  InceptezMessage = \"Welcome Students to inceptez:\" #Local Scope!\n",
        "  print(InceptezMessage+\" \"+name) #What comes out of the function Outputs | Print statements"
      ],
      "metadata": {
        "id": "abMHIk_YQzUE"
      },
      "execution_count": 27,
      "outputs": []
    },
    {
      "cell_type": "code",
      "source": [
        "custom_fn(\"Muniappan\") #Function CALL!!"
      ],
      "metadata": {
        "colab": {
          "base_uri": "https://localhost:8080/"
        },
        "id": "SDaBCA81RLvJ",
        "outputId": "fd3577c7-1622-4795-fb32-e4a6692694ce"
      },
      "execution_count": 28,
      "outputs": [
        {
          "output_type": "stream",
          "name": "stdout",
          "text": [
            "Welcome Students to inceptez: Muniappan\n"
          ]
        }
      ]
    },
    {
      "cell_type": "code",
      "source": [
        "print(InceptezMessage)"
      ],
      "metadata": {
        "colab": {
          "base_uri": "https://localhost:8080/",
          "height": 144
        },
        "id": "-KPCZ96CRW44",
        "outputId": "db92b827-5d9c-457b-84c2-8da095d19d2e"
      },
      "execution_count": 29,
      "outputs": [
        {
          "output_type": "error",
          "ename": "NameError",
          "evalue": "name 'InceptezMessage' is not defined",
          "traceback": [
            "\u001b[0;31m---------------------------------------------------------------------------\u001b[0m",
            "\u001b[0;31mNameError\u001b[0m                                 Traceback (most recent call last)",
            "\u001b[0;32m/tmp/ipython-input-29-1393541860.py\u001b[0m in \u001b[0;36m<cell line: 0>\u001b[0;34m()\u001b[0m\n\u001b[0;32m----> 1\u001b[0;31m \u001b[0mprint\u001b[0m\u001b[0;34m(\u001b[0m\u001b[0mInceptezMessage\u001b[0m\u001b[0;34m)\u001b[0m\u001b[0;34m\u001b[0m\u001b[0;34m\u001b[0m\u001b[0m\n\u001b[0m",
            "\u001b[0;31mNameError\u001b[0m: name 'InceptezMessage' is not defined"
          ]
        }
      ]
    },
    {
      "cell_type": "markdown",
      "metadata": {
        "id": "JTxH1jcUMAgt"
      },
      "source": [
        "\n",
        "```python\n",
        "def greet(name=\"Guest\"):\n",
        "    return f\"Hello, {name}\"\n",
        "\n",
        "print(greet())\n",
        "print(greet(\"Alice\"))\n",
        "```"
      ]
    },
    {
      "cell_type": "markdown",
      "metadata": {
        "id": "srkTQVwVMAgt"
      },
      "source": [
        "🧰 Use Cases for Functions\n",
        "Data cleaning pipeline: clean_text(), remove_outliers()\n",
        "\n",
        "Model building: train_model(), evaluate_model()\n",
        "\n",
        "API endpoints: Each route in a web app often maps to a function.\n",
        "\n",
        "Utilities: Format dates, validate emails, calculate averages."
      ]
    },
    {
      "cell_type": "markdown",
      "metadata": {
        "id": "nwJlViMSMAgu"
      },
      "source": [
        "## 👷‍♂️ Classes and Polymorphism\n",
        "\n",
        "What is a Class in Python?\n",
        "A class is a blueprint for creating objects.\n",
        "\n",
        "You define:\n",
        "\n",
        "Properties (variables → \"state\")\n",
        "\n",
        "Methods (functions → \"behavior\")\n",
        "\n",
        "| Benefit           | Description                                 |\n",
        "| ----------------- | ------------------------------------------- |\n",
        "| **Encapsulation** | Combines data and behavior                  |\n",
        "| **Modularity**    | Keeps related logic grouped                 |\n",
        "| **Reusability**   | Create multiple instances from one template |\n",
        "| **OOP Concepts**  | Supports inheritance, polymorphism, etc.    |\n",
        "\n",
        "\n",
        "✅ Formal Definition:\n",
        "A class is a construct used to create objects that encapsulate both data (attributes) and functionality (methods) related to that data, following the principles of object-oriented programming.\n",
        "\n",
        "### Defining Classes\n",
        "\n",
        "```python\n",
        "class Person:\n",
        "    def __init__(self, name):\n",
        "        self.name = name\n",
        "    def greet(self):\n",
        "        return f\"Hi, I'm {self.name}\"\n",
        "\n",
        "p = Person(\"Bob\")\n",
        "print(p.greet())\n",
        "```\n",
        "\n",
        "### Polymorphism Example:\n",
        "\n",
        "```python\n",
        "class Cat:\n",
        "    def speak(self): return \"Meow\"\n",
        "class Dog:\n",
        "    def speak(self): return \"Woof\"\n",
        "\n",
        "for animal in [Cat(), Dog()]:\n",
        "    print(animal.speak())\n",
        "```\n",
        "\n",
        "🧠 Memory Trick:\n",
        "Think of a class like a cookie cutter, and objects as the cookies it produces.\n",
        "The cutter defines the shape and structure, but the actual cookie is a unique instance with its own filling."
      ]
    },
    {
      "cell_type": "markdown",
      "metadata": {
        "id": "zxRyvFqpMAgu"
      },
      "source": []
    },
    {
      "cell_type": "markdown",
      "metadata": {
        "id": "Re1A79ZhMAgu"
      },
      "source": []
    }
  ],
  "metadata": {
    "kernelspec": {
      "display_name": "Python 3",
      "language": "python",
      "name": "python3"
    },
    "language_info": {
      "name": "python",
      "version": "3.9"
    },
    "colab": {
      "provenance": []
    }
  },
  "nbformat": 4,
  "nbformat_minor": 0
}