{
 "cells": [
  {
   "cell_type": "markdown",
   "id": "fbc43dcb",
   "metadata": {},
   "source": [
    "# 🧠 Class 6: Comprehensions, Dictionaries & Time Complexity\n",
    "\n",
    "Welcome to today's class! We'll dive into:\n",
    "- List Comprehension 📝\n",
    "- Dictionary Comprehension 🔑\n",
    "- Time Complexity of `list` vs `dict` ⚙️\n",
    "- Why dictionaries are optimized for speed 🧠\n",
    "- Real-world use cases for comprehensions 🚀\n",
    "\n",
    "Everything is explained for beginners with examples and analogies."
   ]
  },
  {
   "cell_type": "markdown",
   "id": "07a25f8c",
   "metadata": {},
   "source": [
    "## 🔁 List Comprehension - Making Lists in One Line"
   ]
  },
  {
   "cell_type": "markdown",
   "id": "de0d0257",
   "metadata": {},
   "source": [
    "**List comprehension** is a compact way to create lists using a loop in a single line.\n",
    "\n",
    "### 📚 Syntax:\n",
    "`[expression for item in iterable if condition]`\n",
    "\n",
    "### 🧒 Analogy:\n",
    "You're packing a tiffin box with only 'fresh' fruits from a fruit basket. You're filtering and transforming in one step!"
   ]
  },
  {
   "cell_type": "code",
   "execution_count": null,
   "id": "63dc7ea2",
   "metadata": {},
   "outputs": [],
   "source": [
    "# Traditional loop\n",
    "squares = []\n",
    "for i in range(5):\n",
    "    squares.append(i*i)\n",
    "print(squares)\n",
    "\n",
    "# List comprehension\n",
    "squares = [i*i for i in range(5)]\n",
    "print(squares)"
   ]
  },
  {
   "cell_type": "markdown",
   "id": "8089c37e",
   "metadata": {},
   "source": [
    "## 🔐 Dictionary Comprehension - Quick Dict Creation"
   ]
  },
  {
   "cell_type": "markdown",
   "id": "f1fc08fa",
   "metadata": {},
   "source": [
    "Just like lists, you can create dictionaries on the fly.\n",
    "\n",
    "### 📚 Syntax:\n",
    "`{key_expr: value_expr for item in iterable if condition}`\n",
    "\n",
    "### 🧒 Analogy:\n",
    "You're assigning student names to marks from a list of results – quickly matching names to scores!"
   ]
  },
  {
   "cell_type": "code",
   "execution_count": null,
   "id": "558e355c",
   "metadata": {},
   "outputs": [],
   "source": [
    "words = [\"apple\", \"banana\", \"cherry\"]\n",
    "word_lengths = {word: len(word) for word in words}\n",
    "print(word_lengths)"
   ]
  },
  {
   "cell_type": "markdown",
   "id": "70b48134",
   "metadata": {},
   "source": [
    "## ⚡ Why Dictionaries Are Fast - Time Complexity"
   ]
  },
  {
   "cell_type": "markdown",
   "id": "02a79efc",
   "metadata": {},
   "source": [
    "Dictionaries in Python are implemented as **hash tables**.\n",
    "\n",
    "- Keys are converted into a hash value using a **hash function**\n",
    "- This allows **constant time lookup**: O(1) on average\n",
    "- No need to check each item like lists (O(n))\n",
    "\n",
    "### 🔍 Example:\n",
    "Think of dictionary as a locker system:\n",
    "- You know your key → directly go to locker slot\n",
    "- You don’t search one-by-one like in a list"
   ]
  },
  {
   "cell_type": "code",
   "execution_count": null,
   "id": "bc516641",
   "metadata": {},
   "outputs": [],
   "source": [
    "import time\n",
    "\n",
    "lst = list(range(1000000))\n",
    "dct = {i: i for i in range(1000000)}\n",
    "\n",
    "start = time.time()\n",
    "999999 in lst\n",
    "print(\"List lookup:\", time.time() - start)\n",
    "\n",
    "start = time.time()\n",
    "999999 in dct\n",
    "print(\"Dict lookup:\", time.time() - start)"
   ]
  },
  {
   "cell_type": "markdown",
   "id": "e3f1bff2",
   "metadata": {},
   "source": [
    "## 📦 When Should You Use Comprehensions?"
   ]
  },
  {
   "cell_type": "markdown",
   "id": "305518a8",
   "metadata": {},
   "source": [
    "- When you're transforming a sequence\n",
    "- When you're filtering data\n",
    "- When readability matters\n",
    "- Ideal for Data Science, ETL, and config generation tasks\n",
    "- Keep it simple – avoid nested comprehensions for readability!"
   ]
  },
  {
   "cell_type": "markdown",
   "id": "9c680bd4",
   "metadata": {},
   "source": [
    "## ✅ Summary Table"
   ]
  },
  {
   "cell_type": "markdown",
   "id": "76d2296d",
   "metadata": {},
   "source": [
    "| Concept                  | Time Complexity | Description                         |\n",
    "|--------------------------|-----------------|-------------------------------------|\n",
    "| List access              | O(1)            | Direct index lookup                 |\n",
    "| List search (`in`)       | O(n)            | Linear search through values        |\n",
    "| Dict access (key lookup) | O(1) avg case   | Uses hash table, faster             |\n",
    "| List comprehension       | O(n)            | Fast & compact iteration            |\n",
    "| Dict comprehension       | O(n)            | Efficient key-value pairing         |"
   ]
  }
 ],
 "metadata": {},
 "nbformat": 4,
 "nbformat_minor": 5
}
