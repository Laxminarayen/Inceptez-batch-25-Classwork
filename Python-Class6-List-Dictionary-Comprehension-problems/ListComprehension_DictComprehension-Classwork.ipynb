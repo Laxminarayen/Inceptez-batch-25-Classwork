{
  "nbformat": 4,
  "nbformat_minor": 0,
  "metadata": {
    "colab": {
      "provenance": []
    },
    "kernelspec": {
      "name": "python3",
      "display_name": "Python 3"
    },
    "language_info": {
      "name": "python"
    }
  },
  "cells": [
    {
      "cell_type": "code",
      "execution_count": null,
      "metadata": {
        "id": "W_334EuL-Myi"
      },
      "outputs": [],
      "source": [
        "#Compact way of creating lists using a loop\n",
        "cubes= []\n",
        "emptyString = \"\"\n",
        "for i in range(0,10):\n",
        "  cubes.append(i**3)"
      ]
    },
    {
      "cell_type": "code",
      "source": [
        "cubes"
      ],
      "metadata": {
        "colab": {
          "base_uri": "https://localhost:8080/"
        },
        "id": "0KXBWDC2-jbW",
        "outputId": "e3211bd0-779f-47a2-c719-d429167c380d"
      },
      "execution_count": null,
      "outputs": [
        {
          "output_type": "execute_result",
          "data": {
            "text/plain": [
              "[0, 1, 8, 27, 64, 125, 216, 343, 512, 729]"
            ]
          },
          "metadata": {},
          "execution_count": 2
        }
      ]
    },
    {
      "cell_type": "code",
      "source": [
        "cubes = [i**3 for i in range(0,10)] #Only list comprehension exsists.."
      ],
      "metadata": {
        "id": "U4MZRFXK-kR0"
      },
      "execution_count": null,
      "outputs": []
    },
    {
      "cell_type": "code",
      "source": [
        "cubes"
      ],
      "metadata": {
        "colab": {
          "base_uri": "https://localhost:8080/"
        },
        "id": "uPIOCzUb-4P5",
        "outputId": "e560cba1-fc3f-4a3b-eef2-accba5f682f4"
      },
      "execution_count": null,
      "outputs": [
        {
          "output_type": "execute_result",
          "data": {
            "text/plain": [
              "[0, 1, 8, 27, 64, 125, 216, 343, 512, 729]"
            ]
          },
          "metadata": {},
          "execution_count": 4
        }
      ]
    },
    {
      "cell_type": "code",
      "source": [
        "cubes = (i**3 for i in range(0,10)) #There is nothing like direct tuple comprehension here.."
      ],
      "metadata": {
        "id": "NxGyx3tv-4zm"
      },
      "execution_count": null,
      "outputs": []
    },
    {
      "cell_type": "code",
      "source": [
        "cubes = [i**3 for i in range(0,10) if i % 2 == 0]"
      ],
      "metadata": {
        "id": "tIIdeXgp-68g"
      },
      "execution_count": null,
      "outputs": []
    },
    {
      "cell_type": "code",
      "source": [
        "cubes"
      ],
      "metadata": {
        "colab": {
          "base_uri": "https://localhost:8080/"
        },
        "id": "S4QrjfW8-7nr",
        "outputId": "de56adad-b0e1-4562-f999-dfab1e890d1e"
      },
      "execution_count": null,
      "outputs": [
        {
          "output_type": "execute_result",
          "data": {
            "text/plain": [
              "[0, 8, 64, 216, 512]"
            ]
          },
          "metadata": {},
          "execution_count": 8
        }
      ]
    },
    {
      "cell_type": "code",
      "source": [
        "names = [\"sateesh\",\"raj\",\"Laxmi\"]\n",
        "\n",
        "word_count = {name : len(name) for name in names}"
      ],
      "metadata": {
        "id": "z6wGsYZt_m1w"
      },
      "execution_count": null,
      "outputs": []
    },
    {
      "cell_type": "code",
      "source": [
        "word_count"
      ],
      "metadata": {
        "colab": {
          "base_uri": "https://localhost:8080/"
        },
        "id": "TbVTNJ71AyOw",
        "outputId": "63c58b94-0dd0-4382-8b73-167bb52e6196"
      },
      "execution_count": null,
      "outputs": [
        {
          "output_type": "execute_result",
          "data": {
            "text/plain": [
              "{'sateesh': 7, 'raj': 3, 'Laxmi': 5}"
            ]
          },
          "metadata": {},
          "execution_count": 11
        }
      ]
    },
    {
      "cell_type": "code",
      "source": [
        "sampleDict = {\"InceptezB23\": 60, \"InceptezB24\": 40, \"InceptezB25\":50}"
      ],
      "metadata": {
        "id": "m-qFBM96A6Sz"
      },
      "execution_count": null,
      "outputs": []
    },
    {
      "cell_type": "code",
      "source": [
        "#Keys -> converted int a hash value / hash function -\n",
        "#O(1) - to do operations in Dictionary are - hash table used in dictionaries"
      ],
      "metadata": {
        "id": "gS_MHdTbCEMG"
      },
      "execution_count": null,
      "outputs": []
    },
    {
      "cell_type": "code",
      "source": [
        "d = {\"l\":1,\"p\":2,\"Q\":3}"
      ],
      "metadata": {
        "id": "LlSw6nMICHgD"
      },
      "execution_count": null,
      "outputs": []
    },
    {
      "cell_type": "code",
      "source": [
        "d['J'] = 7"
      ],
      "metadata": {
        "id": "Z6_3g7RRDFd7"
      },
      "execution_count": null,
      "outputs": []
    },
    {
      "cell_type": "code",
      "source": [
        "d"
      ],
      "metadata": {
        "colab": {
          "base_uri": "https://localhost:8080/"
        },
        "id": "1mMBoH75DHY0",
        "outputId": "06d99247-502e-4351-f069-ef3231aedf4e"
      },
      "execution_count": null,
      "outputs": [
        {
          "output_type": "execute_result",
          "data": {
            "text/plain": [
              "{'l': 1, 'p': 2, 'Q': 3, 'J': 7}"
            ]
          },
          "metadata": {},
          "execution_count": 15
        }
      ]
    },
    {
      "cell_type": "code",
      "source": [
        "d['l'] = 10"
      ],
      "metadata": {
        "id": "Uj7NbtnoDH96"
      },
      "execution_count": null,
      "outputs": []
    },
    {
      "cell_type": "code",
      "source": [
        "d"
      ],
      "metadata": {
        "colab": {
          "base_uri": "https://localhost:8080/"
        },
        "id": "ZlZwdWKRDLin",
        "outputId": "95d65902-5023-4530-b3b2-fdf632eb11d5"
      },
      "execution_count": null,
      "outputs": [
        {
          "output_type": "execute_result",
          "data": {
            "text/plain": [
              "{'l': 10, 'p': 2, 'Q': 3, 'J': 7}"
            ]
          },
          "metadata": {},
          "execution_count": 17
        }
      ]
    },
    {
      "cell_type": "code",
      "source": [
        "del d['l']"
      ],
      "metadata": {
        "id": "NVv7vs5HDMVP"
      },
      "execution_count": null,
      "outputs": []
    },
    {
      "cell_type": "code",
      "source": [
        "d"
      ],
      "metadata": {
        "colab": {
          "base_uri": "https://localhost:8080/"
        },
        "id": "pq1bKc9hDReH",
        "outputId": "78561089-aa3e-49f5-fa4e-78530d64ff81"
      },
      "execution_count": null,
      "outputs": [
        {
          "output_type": "execute_result",
          "data": {
            "text/plain": [
              "{'p': 2, 'Q': 3, 'J': 7}"
            ]
          },
          "metadata": {},
          "execution_count": 20
        }
      ]
    },
    {
      "cell_type": "code",
      "source": [
        "d['l']"
      ],
      "metadata": {
        "colab": {
          "base_uri": "https://localhost:8080/",
          "height": 144
        },
        "id": "GGDYTEZ2DSAo",
        "outputId": "67f4cad0-b4af-4c6c-ee3b-f23bda64d958"
      },
      "execution_count": null,
      "outputs": [
        {
          "output_type": "error",
          "ename": "KeyError",
          "evalue": "'l'",
          "traceback": [
            "\u001b[0;31m---------------------------------------------------------------------------\u001b[0m",
            "\u001b[0;31mKeyError\u001b[0m                                  Traceback (most recent call last)",
            "\u001b[0;32m/tmp/ipython-input-23-389121111.py\u001b[0m in \u001b[0;36m<cell line: 0>\u001b[0;34m()\u001b[0m\n\u001b[0;32m----> 1\u001b[0;31m \u001b[0md\u001b[0m\u001b[0;34m[\u001b[0m\u001b[0;34m'l'\u001b[0m\u001b[0;34m]\u001b[0m\u001b[0;34m\u001b[0m\u001b[0;34m\u001b[0m\u001b[0m\n\u001b[0m",
            "\u001b[0;31mKeyError\u001b[0m: 'l'"
          ]
        }
      ]
    },
    {
      "cell_type": "code",
      "source": [
        "d.get('l') #safe lookup without any error.."
      ],
      "metadata": {
        "id": "2-BQsUp-DZwN"
      },
      "execution_count": null,
      "outputs": []
    },
    {
      "cell_type": "code",
      "source": [
        "d.get('p') #O(1)"
      ],
      "metadata": {
        "colab": {
          "base_uri": "https://localhost:8080/"
        },
        "id": "OFZL8ThODcpo",
        "outputId": "cb396e7b-4500-4925-c236-6d8af13481c0"
      },
      "execution_count": null,
      "outputs": [
        {
          "output_type": "execute_result",
          "data": {
            "text/plain": [
              "2"
            ]
          },
          "metadata": {},
          "execution_count": 24
        }
      ]
    },
    {
      "cell_type": "code",
      "source": [
        "A = 10\n",
        "del A"
      ],
      "metadata": {
        "id": "i81nX6jmDwH1"
      },
      "execution_count": null,
      "outputs": []
    },
    {
      "cell_type": "code",
      "source": [
        "A"
      ],
      "metadata": {
        "colab": {
          "base_uri": "https://localhost:8080/",
          "height": 144
        },
        "id": "MMYENEJ8D7aJ",
        "outputId": "150b5947-0481-4ab5-9be4-a8cfce900b47"
      },
      "execution_count": null,
      "outputs": [
        {
          "output_type": "error",
          "ename": "NameError",
          "evalue": "name 'A' is not defined",
          "traceback": [
            "\u001b[0;31m---------------------------------------------------------------------------\u001b[0m",
            "\u001b[0;31mNameError\u001b[0m                                 Traceback (most recent call last)",
            "\u001b[0;32m/tmp/ipython-input-26-378453753.py\u001b[0m in \u001b[0;36m<cell line: 0>\u001b[0;34m()\u001b[0m\n\u001b[0;32m----> 1\u001b[0;31m \u001b[0mA\u001b[0m\u001b[0;34m\u001b[0m\u001b[0;34m\u001b[0m\u001b[0m\n\u001b[0m",
            "\u001b[0;31mNameError\u001b[0m: name 'A' is not defined"
          ]
        }
      ]
    },
    {
      "cell_type": "code",
      "source": [
        "#Find the first Non-Repeating character in a string\n",
        "#Given a string find the characters that does not repeat\n",
        "\n",
        "string_input = \"Inceptez\"\n",
        "count = {}\n",
        "for i in string_input: #n\n",
        "  count[i] = count.get(i,0)+1\n",
        "\n",
        "print(count)\n",
        "for i in string_input: #n\n",
        "  if count[i] == 1:\n",
        "    print(i)\n",
        "\n",
        "#O(n+n) - O(n)"
      ],
      "metadata": {
        "colab": {
          "base_uri": "https://localhost:8080/"
        },
        "id": "f4bbQVLKD7yO",
        "outputId": "22df2aa2-b0e4-4ecb-b463-36ef38e504e4"
      },
      "execution_count": null,
      "outputs": [
        {
          "output_type": "stream",
          "name": "stdout",
          "text": [
            "{'I': 1, 'n': 1, 'c': 1, 'e': 2, 'p': 1, 't': 1, 'z': 1}\n",
            "I\n",
            "n\n",
            "c\n",
            "p\n",
            "t\n",
            "z\n"
          ]
        }
      ]
    },
    {
      "cell_type": "code",
      "source": [
        "#Find the first Non-Repeating character in a string\n",
        "#Given a string find the first character that does not repeat\n",
        "\n",
        "string_input = \"InceptIez\"\n",
        "count = {}\n",
        "for i in string_input: #n\n",
        "  count[i] = count.get(i,0)+1\n",
        "\n",
        "print(count)\n",
        "for i in string_input: #n\n",
        "  if count[i] == 1:\n",
        "    print(i)\n",
        "    break\n",
        "\n",
        "#O(n+n) - O(n)"
      ],
      "metadata": {
        "colab": {
          "base_uri": "https://localhost:8080/"
        },
        "id": "mHjlJvq6In_y",
        "outputId": "01ee69ad-bdb1-4058-a698-119fff2cb849"
      },
      "execution_count": null,
      "outputs": [
        {
          "output_type": "stream",
          "name": "stdout",
          "text": [
            "{'I': 2, 'n': 1, 'c': 1, 'e': 2, 'p': 1, 't': 1, 'z': 1}\n",
            "n\n"
          ]
        }
      ]
    },
    {
      "cell_type": "code",
      "source": [
        "for i in count:\n",
        "  print(i)"
      ],
      "metadata": {
        "colab": {
          "base_uri": "https://localhost:8080/"
        },
        "id": "3ce_rJGNI2RV",
        "outputId": "b0c42972-a05f-424a-83ad-84af55a830e1"
      },
      "execution_count": null,
      "outputs": [
        {
          "output_type": "stream",
          "name": "stdout",
          "text": [
            "I\n",
            "n\n",
            "c\n",
            "e\n",
            "p\n",
            "t\n",
            "z\n"
          ]
        }
      ]
    },
    {
      "cell_type": "code",
      "source": [
        "string_input = \"Inceptez\"\n",
        "for i in string_input: #O(n)\n",
        "  print(string_input.count(i)) #O(n)"
      ],
      "metadata": {
        "colab": {
          "base_uri": "https://localhost:8080/"
        },
        "id": "a6Lkn-OSFfDm",
        "outputId": "38193057-0ea5-4c8c-a44d-49b3688eba5a"
      },
      "execution_count": null,
      "outputs": [
        {
          "output_type": "stream",
          "name": "stdout",
          "text": [
            "1\n",
            "1\n",
            "1\n",
            "2\n",
            "1\n",
            "1\n",
            "2\n",
            "1\n"
          ]
        }
      ]
    },
    {
      "cell_type": "code",
      "source": [
        "string_input.count(\"e\")"
      ],
      "metadata": {
        "colab": {
          "base_uri": "https://localhost:8080/"
        },
        "id": "Lq446ihJGvw5",
        "outputId": "feda41b5-22e4-4fdc-df0d-3ba476dd33b8"
      },
      "execution_count": null,
      "outputs": [
        {
          "output_type": "execute_result",
          "data": {
            "text/plain": [
              "2"
            ]
          },
          "metadata": {},
          "execution_count": 29
        }
      ]
    },
    {
      "cell_type": "code",
      "source": [
        "count.get?"
      ],
      "metadata": {
        "id": "voA45aybGxrZ"
      },
      "execution_count": null,
      "outputs": []
    },
    {
      "cell_type": "code",
      "source": [
        "Given an Array and a target sum, return indices of two numbers that add up to the target\n",
        "[2,7,11,15],9 -> [0,1]"
      ],
      "metadata": {
        "id": "afX69mWMJJ40"
      },
      "execution_count": null,
      "outputs": []
    },
    {
      "cell_type": "code",
      "source": [],
      "metadata": {
        "id": "SZFnuh3zH92B"
      },
      "execution_count": null,
      "outputs": []
    }
  ]
}