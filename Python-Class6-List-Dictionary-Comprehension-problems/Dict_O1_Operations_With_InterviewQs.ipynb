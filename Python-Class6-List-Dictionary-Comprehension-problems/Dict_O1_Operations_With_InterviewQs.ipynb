{
 "cells": [
  {
   "cell_type": "markdown",
   "id": "439fa366",
   "metadata": {},
   "source": [
    "# ⚡ Class: O(1) Dictionary Operations in Python\n",
    "\n",
    "In this session, we'll explore the **most efficient operations** that Python dictionaries support with average-case **O(1)** time complexity.\n",
    "\n",
    "These operations are made fast because of the **hashing mechanism** behind Python dictionaries."
   ]
  },
  {
   "cell_type": "markdown",
   "id": "0b37b614",
   "metadata": {},
   "source": [
    "## 🧠 What is O(1) Time Complexity?"
   ]
  },
  {
   "cell_type": "markdown",
   "id": "01cdc964",
   "metadata": {},
   "source": [
    "**O(1)** means that the time to complete an operation does **not grow** with the size of the dictionary.\n",
    "- It’s also called **constant time**.\n",
    "- No matter how big the dictionary is, the operation will take roughly the same time.\n",
    "- This is possible due to the underlying **hash table** used in dictionaries."
   ]
  },
  {
   "cell_type": "markdown",
   "id": "77c3c7d4",
   "metadata": {},
   "source": [
    "## ✅ Dictionary Operations with O(1) Complexity"
   ]
  },
  {
   "cell_type": "markdown",
   "id": "5df8153c",
   "metadata": {},
   "source": [
    "| Operation        | Syntax / Function        | Description                          |\n",
    "|------------------|--------------------------|--------------------------------------|\n",
    "| Access by key    | `d[key]`                 | Direct lookup using hash             |\n",
    "| Insert new item  | `d[key] = value`         | Insert via hash index                |\n",
    "| Update value     | `d[key] = new_value`     | Overwrite existing value             |\n",
    "| Delete item      | `del d[key]`             | Remove key-value pair                |\n",
    "| Membership check | `key in d`               | Hash-based lookup                    |\n",
    "| `get()` method   | `d.get(key)`             | Safe lookup without KeyError         |\n",
    "| `setdefault()`   | `d.setdefault(k, v)`     | Set value only if key doesn’t exist  |"
   ]
  },
  {
   "cell_type": "code",
   "execution_count": null,
   "id": "7afb101b",
   "metadata": {},
   "outputs": [],
   "source": [
    "# Dictionary setup\n",
    "d = {'a': 1, 'b': 2, 'c': 3}\n",
    "\n",
    "# Access\n",
    "print('Access:', d['a'])  # O(1)\n",
    "\n",
    "# Insert\n",
    "d['d'] = 4  # O(1)\n",
    "print('Insert:', d)\n",
    "\n",
    "# Update\n",
    "d['a'] = 100  # O(1)\n",
    "print('Update:', d)\n",
    "\n",
    "# Delete\n",
    "del d['b']  # O(1)\n",
    "print('Delete:', d)\n",
    "\n",
    "# Membership\n",
    "print('Check key \"c\" in dict:', 'c' in d)  # O(1)\n",
    "\n",
    "# Safe get\n",
    "print('Safe get:', d.get('z'))  # O(1), returns None if not found\n",
    "\n",
    "# setdefault\n",
    "d.setdefault('e', 5)  # Adds key 'e' only if not present\n",
    "print('After setdefault:', d)"
   ]
  },
  {
   "cell_type": "markdown",
   "id": "f4f6688f",
   "metadata": {},
   "source": [
    "## 🔐 Why Are These O(1)? (Recap on Hashing)"
   ]
  },
  {
   "cell_type": "markdown",
   "id": "1bc174ee",
   "metadata": {},
   "source": [
    "Because dictionary keys are hashed using `hash()` function internally, Python can jump directly to the memory slot where the key's value is stored.\n",
    "- This avoids looping\n",
    "- Uses hash buckets internally to store & retrieve\n",
    "- Hence, constant-time access (O(1)) on average"
   ]
  },
  {
   "cell_type": "markdown",
   "id": "1052393e",
   "metadata": {},
   "source": [
    "## 🎯 Interview Questions Using Dictionary (O(1) Solutions)\n",
    "Let's explore how dictionaries can help solve some classic interview problems in a highly efficient way using O(1) operations.\n",
    "These examples show how dictionaries give Python a huge edge in competitive coding and real-time data lookup tasks.\n"
   ]
  },
  {
   "cell_type": "markdown",
   "id": "d09e2050",
   "metadata": {},
   "source": [
    "### ❓ 1. First Non-Repeating Character in a String\n",
    "**Problem:** Given a string, find the first character that does not repeat.\n",
    "\n",
    "**Why Dict Helps:** We can store counts of characters in O(n), and then do a second pass to find the first with count = 1.\n"
   ]
  },
  {
   "cell_type": "code",
   "execution_count": null,
   "id": "b0231b30",
   "metadata": {},
   "outputs": [],
   "source": [
    "def first_unique_char(s):\n",
    "    count = {}\n",
    "    for ch in s:\n",
    "        count[ch] = count.get(ch, 0) + 1  # O(1) insert/update\n",
    "    for ch in s:\n",
    "        if count[ch] == 1:\n",
    "            return ch\n",
    "    return None\n",
    "\n",
    "first_unique_char(\"abracadabra\")  # Output: 'c'"
   ]
  },
  {
   "cell_type": "markdown",
   "id": "84a3c693",
   "metadata": {},
   "source": [
    "### ❓ 2. Two Sum Problem\n",
    "**Problem:** Given an array and a target sum, return indices of the two numbers that add up to the target.\n",
    "\n",
    "**Why Dict Helps:** Store visited numbers and their indices. Lookup required complement in O(1).\n"
   ]
  },
  {
   "cell_type": "code",
   "execution_count": null,
   "id": "96049490",
   "metadata": {},
   "outputs": [],
   "source": [
    "def two_sum(nums, target):\n",
    "    seen = {}\n",
    "    for i, num in enumerate(nums):\n",
    "        diff = target - num\n",
    "        if diff in seen:\n",
    "            return [seen[diff], i]\n",
    "        seen[num] = i\n",
    "    return []\n",
    "\n",
    "two_sum([2, 7, 11, 15], 9)  # Output: [0, 1]"
   ]
  }
 ],
 "metadata": {
  "kernelspec": {
   "display_name": "Python 3 (ipykernel)",
   "language": "python",
   "name": "python3"
  },
  "language_info": {
   "codemirror_mode": {
    "name": "ipython",
    "version": 3
   },
   "file_extension": ".py",
   "mimetype": "text/x-python",
   "name": "python",
   "nbconvert_exporter": "python",
   "pygments_lexer": "ipython3",
   "version": "3.11.7"
  }
 },
 "nbformat": 4,
 "nbformat_minor": 5
}
