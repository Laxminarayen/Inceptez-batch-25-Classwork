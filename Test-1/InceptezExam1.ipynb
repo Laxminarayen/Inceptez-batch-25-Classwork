{
 "cells": [
  {
   "cell_type": "markdown",
   "id": "f38ed309",
   "metadata": {},
   "source": [
    "# 📝 DS & Stats Examination — Application Oriented\n",
    "**Time:** 60 minutes  **Total:** 6 Questions (equal marks)\n",
    "\n",
    "**Rules**\n",
    "- Write clean, commented code below each question.\n",
    "- Allowed: Python, NumPy, Pandas, Matplotlib, SciPy (if needed).\n",
    "- Do not rename variables provided in examples.\n",
    "- Print exactly what is asked in **Expected Output**.\n"
   ]
  },
  {
   "cell_type": "markdown",
   "id": "3cb34165",
   "metadata": {},
   "source": [
    "## Q1) Banking — ATM Transactions Tracker (Lists)\n",
    "**Scenario.** Track ATM transactions and running balance.\n",
    "\n",
    "**Constraints**\n",
    "- `transactions`: positive = deposit, negative = withdrawal.\n",
    "- Print: `Balance after X = Y` after each transaction.\n",
    "- At the end, print `Total deposits = ...` and `Total withdrawals = ...` (withdrawals sum will be negative).\n",
    "\n",
    "**Example Input**\n",
    "```python\n",
    "transactions = [500, -200, -100, 1000, -50]\n",
    "```\n",
    "**Expected Output**\n",
    "```\n",
    "Balance after 500 = 500\n",
    "Balance after -200 = 300\n",
    "Balance after -100 = 200\n",
    "Balance after 1000 = 1200\n",
    "Balance after -50 = 1150\n",
    "Total deposits = 1500\n",
    "Total withdrawals = -350\n",
    "```"
   ]
  },
  {
   "cell_type": "code",
   "execution_count": null,
   "id": "18669f86",
   "metadata": {},
   "outputs": [],
   "source": [
    "# YOUR CODE HERE"
   ]
  },
  {
   "cell_type": "markdown",
   "id": "88245ab1",
   "metadata": {},
   "source": [
    "## Q2) HR/Payroll — Employees & Interns\n",
    "**Scenario.** A company maintains basic employee details and needs a quick **eligibility check for performance bonus**.\n",
    "\n",
    "**Constraints**\n",
    "- Base class `Employee(name, age, salary)`\n",
    "- Subclass `Intern(name, age, stipend)` (store stipend in `salary` for reuse)\n",
    "- Method `eligible_for_bonus(min_salary, min_years)` returns `True` if `salary ≥ min_salary` **and** `years_of_service ≥ min_years`.\n",
    "- For this exam, assume:\n",
    "  - Alice: age=28, salary=50000, years_of_service=3\n",
    "  - Bob:   age=26, stipend=32000 (as salary), years_of_service=0\n",
    "  - `min_salary = 40000`, `min_years = 1`\n",
    "- Print one line per person: `name age salary years_of_service eligible` (keep two spaces before Bob to match example).\n",
    "\n",
    "**Expected Output**\n",
    "```\n",
    "Alice 28 50000.0 10.0 True\n",
    "Bob  26 32000.0 0.0  False\n",
    "```"
   ]
  },
  {
   "cell_type": "code",
   "execution_count": null,
   "id": "a62a560a",
   "metadata": {},
   "outputs": [],
   "source": [
    "# YOUR CODE HERE"
   ]
  },
  {
   "cell_type": "markdown",
   "id": "47868d9a",
   "metadata": {},
   "source": [
    "## Q3) Retail Analytics — Daily Footfall (Visualization)\n",
    "**Scenario.** A store wants to visualize daily **visitor counts**.\n",
    "\n",
    "**Constraints**\n",
    "- Plot a chart.\n",
    "- Title: `Daily Footfall` X: `Day` Y: `Visitors`\n",
    "- Annotate the **highest** day with its value.\n",
    "\n",
    "**Data**\n",
    "```python\n",
    "days = ['Mon','Tue','Wed','Thu','Fri','Sat','Sun']\n",
    "visitors = [120, 135, 210, 190, 160, 90, 70]\n",
    "```\n",
    "**Expected Output (Description)**\n",
    "```\n",
    "A chart titled 'Daily Footfall' with 'Day' 'Visitors'.\n",
    "The highest day is annotated with its exact value.\n",
    "```"
   ]
  },
  {
   "cell_type": "code",
   "execution_count": null,
   "id": "2cf45447",
   "metadata": {},
   "outputs": [],
   "source": [
    "#Your Code here!"
   ]
  },
  {
   "cell_type": "markdown",
   "id": "39f3b63e",
   "metadata": {},
   "source": [
    "## Q4) Manufacturing QC — Summary Stats & IQR Outliers (Pandas)\n",
    "**Scenario.** A factory measures the **diameter (mm)** of sample parts each hour; an occasional faulty reading is present.\n",
    "\n",
    "**Constraints**\n",
    "- Implement functions: `summarize(series)` and `iqr_outliers(series)`.\n",
    "- `summarize` returns a dict with: mean, median, mode (smallest if tie), variance, std, q1, q3, iqr. Use **sample** variance/std (`ddof=1`).\n",
    "- `iqr_outliers` returns a **sorted list** of outlier values using Q1−1.5×IQR and Q3+1.5×IQR.\n",
    "\n",
    "**Data**\n",
    "```python\n",
    "import pandas as pd\n",
    "diameter = pd.Series([4, 5, 6, 7, 5, 6, 12])\n",
    "```\n",
    "**Expected Output**\n",
    "```\n",
    "Summary:\n",
    "{'mean': 5.75, 'median': 5.5, 'mode': 5.0, 'variance': 5.3666..., 'std': 2.3166..., 'q1': 4.5, 'q3': 7.0, 'iqr': 2.5}\n",
    "IQR outliers: [12.0]\n",
    "```"
   ]
  },
  {
   "cell_type": "code",
   "execution_count": null,
   "id": "b9ef2e3a",
   "metadata": {},
   "outputs": [],
   "source": [
    "#write your code here"
   ]
  },
  {
   "cell_type": "markdown",
   "id": "195d0f74",
   "metadata": {},
   "source": [
    "## Q5) Marketing Analytics — Z-Scores, Correlation & Outlier Rows (Pandas)\n",
    "**Scenario.** A small campaign report includes **leads**, **ad spend**, and **conversions**; one day is an outlier.\n",
    "\n",
    "**Constraints**\n",
    "- For each numeric column, add z-score (`*_z`) using population std (`ddof=0`); if std=0, set z=0.\n",
    "- Print the correlation matrix for numeric columns (rounded to 4 decimals).\n",
    "- Using IQR per numeric column, print sorted unique **row indices** outlying in **any** numeric column.\n",
    "\n",
    "**Data**\n",
    "```python\n",
    "import pandas as pd\n",
    "df = pd.DataFrame({\n",
    "    'lead':  [10, 12, 13, 60, 14, 12],\n",
    "    'spend': [100,120,140,600,150,130],\n",
    "    'conv':  [  1,  1,  2,  9,   2,  1]\n",
    "})\n",
    "```\n",
    "**Expected Output**\n",
    "```\n",
    "Added z-score columns: ['lead_z', 'spend_z', 'conv_z']\n",
    "\n",
    "Correlation (numeric only):\n",
    "           lead   spend    conv\n",
    "lead    1.0000   0.9824   0.9782\n",
    "spend   0.9824   1.0000   0.9930\n",
    "conv    0.9782   0.9930   1.0000\n",
    "\n",
    "Outlier row indices (any numeric column): [3]\n",
    "```"
   ]
  },
  {
   "cell_type": "code",
   "execution_count": null,
   "id": "5adb2177",
   "metadata": {},
   "outputs": [],
   "source": [
    "#Write your code here"
   ]
  },
  {
   "cell_type": "markdown",
   "id": "bbedf69f",
   "metadata": {},
   "source": [
    "## Q6) Support Desk — SLA Claim (Decision-Only Hypothesis)\n",
    "**Scenario.** The support team claims **average first-response time = 30 minutes**.\n",
    "\n",
    "**Constraints**\n",
    "- Use the sample; treat as **two-sided** at 5% significance.\n",
    "- Print: sample mean, a suitable test statistic, p-value, and a plain decision (`Reject claim` or `Fail to reject claim`).\n",
    "\n",
    "**Data**\n",
    "```python\n",
    "import numpy as np\n",
    "frt = np.array([32, 27, 29, 31, 40, 22, 28, 27])\n",
    "```"
   ]
  },
  {
   "cell_type": "code",
   "execution_count": null,
   "id": "7e1153bc",
   "metadata": {},
   "outputs": [],
   "source": [
    "#Write your code here"
   ]
  }
 ],
 "metadata": {
  "language_info": {
   "name": "python"
  }
 },
 "nbformat": 4,
 "nbformat_minor": 5
}
