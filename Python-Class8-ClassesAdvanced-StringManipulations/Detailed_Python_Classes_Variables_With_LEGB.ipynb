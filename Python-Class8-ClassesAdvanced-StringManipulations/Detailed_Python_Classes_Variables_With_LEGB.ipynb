{
 "cells": [
  {
   "cell_type": "markdown",
   "id": "565e814d",
   "metadata": {},
   "source": [
    "# Python Classes and Variables - Beginner to Advanced\n",
    "\n",
    "This notebook is for **absolute beginners** and covers Python classes, variables, and object-oriented programming concepts in detail.\n",
    "\n",
    "### **Topics Covered:**\n",
    "1. Global vs Local Variables (LEGB Rule)\n",
    "2. Introduction to Classes and Objects\n",
    "3. `__init__` and `self`\n",
    "4. Class vs Instance Variables (including **same name** case)\n",
    "5. Inheritance and `super()`\n",
    "6. Attribute Behavior in Inheritance\n",
    "7. Method Resolution Order (MRO)\n",
    "8. Encapsulation, Abstraction, Polymorphism\n",
    "9. FAQs & What-If Scenarios (20+)\n",
    "10. Interview Questions with Solutions\n",
    "11. Real-World Examples (Mini Projects)"
   ]
  },
  {
   "cell_type": "markdown",
   "id": "64133ad1",
   "metadata": {},
   "source": [
    "## 1. Global vs Local Variables\n",
    "\n",
    "**Global Variables:** Declared outside any function or class and can be used anywhere.\n",
    "\n",
    "**Local Variables:** Declared inside a function and can only be used there.\n",
    "\n",
    "### Example:"
   ]
  },
  {
   "cell_type": "code",
   "execution_count": null,
   "id": "9fccec72",
   "metadata": {},
   "outputs": [],
   "source": [
    "x = 10  # Global variable\n",
    "\n",
    "def test():\n",
    "    x = 5  # Local variable\n",
    "    print(\"Inside function x:\", x)\n",
    "\n",
    "test()\n",
    "print(\"Outside function x:\", x)"
   ]
  },
  {
   "cell_type": "markdown",
   "id": "0395c5af",
   "metadata": {},
   "source": [
    "\n",
    "## 1.1 LEGB Rule (Variable Scope)\n",
    "\n",
    "The **LEGB Rule** explains how Python searches for variable names:\n",
    "\n",
    "1. **L – Local:** Names defined inside the current function.\n",
    "2. **E – Enclosing:** Names in the local scope of any enclosing functions (for nested functions).\n",
    "3. **G – Global:** Names defined at the top-level of a module or declared global inside a function.\n",
    "4. **B – Built-in:** Names pre-defined in Python (e.g., `len`, `print`).\n",
    "\n",
    "---\n",
    "\n",
    "### **Example 1: Local vs Global**\n",
    "```python\n",
    "x = 10  # Global variable\n",
    "\n",
    "def my_func():\n",
    "    x = 5  # Local variable\n",
    "    print(x)  # 5\n",
    "\n",
    "my_func()\n",
    "print(x)  # 10\n",
    "```\n",
    "\n",
    "---\n",
    "\n",
    "### **Example 2: Enclosing Scope**\n",
    "```python\n",
    "def outer():\n",
    "    x = \"enclosing\"\n",
    "    def inner():\n",
    "        print(x)  # Comes from outer scope\n",
    "    inner()\n",
    "\n",
    "outer()\n",
    "```\n",
    "\n",
    "---\n",
    "\n",
    "### **Example 3: Global vs Built-in**\n",
    "```python\n",
    "len = 100  # Global variable with same name as built-in\n",
    "print(len)  # 100 (global overshadows built-in)\n",
    "```\n",
    "\n",
    "---\n",
    "\n",
    "### **How Python Searches:**\n",
    "When you use a variable `x`, Python searches like this:\n",
    "```\n",
    "Local → Enclosing → Global → Built-in\n",
    "```\n",
    "\n",
    "If `x` is not found in any of these scopes, you get a `NameError`.\n"
   ]
  },
  {
   "cell_type": "markdown",
   "id": "dd9e0b70",
   "metadata": {},
   "source": [
    "### Using `global` Keyword\n",
    "To modify a global variable inside a function, use `global`."
   ]
  },
  {
   "cell_type": "code",
   "execution_count": null,
   "id": "8c9e1ad6",
   "metadata": {},
   "outputs": [],
   "source": [
    "y = 10\n",
    "\n",
    "def modify():\n",
    "    global y\n",
    "    y = 20\n",
    "\n",
    "modify()\n",
    "print(y)  # 20"
   ]
  },
  {
   "cell_type": "markdown",
   "id": "b191ee97",
   "metadata": {},
   "source": [
    "### LEGB Rule\n",
    "Python looks for variables in this order:\n",
    "- **L:** Local\n",
    "- **E:** Enclosing\n",
    "- **G:** Global\n",
    "- **B:** Built-in"
   ]
  },
  {
   "cell_type": "markdown",
   "id": "94738bba",
   "metadata": {},
   "source": [
    "## 2. Introduction to Classes and Objects\n",
    "\n",
    "A **class** is a blueprint for creating objects. An **object** is an instance of a class."
   ]
  },
  {
   "cell_type": "code",
   "execution_count": null,
   "id": "a195edcb",
   "metadata": {},
   "outputs": [],
   "source": [
    "class Car:\n",
    "    def __init__(self, brand, model):\n",
    "        self.brand = brand\n",
    "        self.model = model\n",
    "\n",
    "    def show(self):\n",
    "        return f\"{self.brand} {self.model}\"\n",
    "\n",
    "car1 = Car(\"Toyota\", \"Camry\")\n",
    "print(car1.show())"
   ]
  },
  {
   "cell_type": "markdown",
   "id": "5e1a31a2",
   "metadata": {},
   "source": [
    "### FAQs:\n",
    "- **What is `__init__`?** It's the constructor, run when an object is created.\n",
    "- **What is `self`?** It's a reference to the current object.\n",
    "- **What if I don’t define `__init__`?** Python uses a default empty constructor."
   ]
  },
  {
   "cell_type": "markdown",
   "id": "1343b36f",
   "metadata": {},
   "source": [
    "## 3. Class vs Instance Variables\n",
    "\n",
    "- **Class Variables:** Shared among all objects.\n",
    "- **Instance Variables:** Unique to each object."
   ]
  },
  {
   "cell_type": "code",
   "execution_count": null,
   "id": "32ed1914",
   "metadata": {},
   "outputs": [],
   "source": [
    "class Student:\n",
    "    school = \"ABC School\"  # Class variable\n",
    "\n",
    "    def __init__(self, name):\n",
    "        self.name = name  # Instance variable\n",
    "\n",
    "s1 = Student(\"Alice\")\n",
    "s2 = Student(\"Bob\")\n",
    "\n",
    "print(s1.school, s1.name)\n",
    "print(s2.school, s2.name)"
   ]
  },
  {
   "cell_type": "markdown",
   "id": "9759c771",
   "metadata": {},
   "source": [
    "### Class vs Instance Variables with the **Same Name**\n",
    "If both class and object have a variable with the same name, the **object's variable takes precedence**."
   ]
  },
  {
   "cell_type": "code",
   "execution_count": null,
   "id": "5566143c",
   "metadata": {},
   "outputs": [],
   "source": [
    "class Example:\n",
    "    value = \"Class Value\"\n",
    "\n",
    "    def __init__(self, value):\n",
    "        self.value = value  # Instance variable with the same name\n",
    "\n",
    "obj = Example(\"Instance Value\")\n",
    "print(obj.value)       # Instance Value\n",
    "print(Example.value)   # Class Value\n",
    "\n",
    "del obj.value\n",
    "print(obj.value)       # Falls back to class variable: Class Value"
   ]
  },
  {
   "cell_type": "markdown",
   "id": "bcfa5043",
   "metadata": {},
   "source": [
    "## 4. Inheritance and `super()`\n",
    "\n",
    "Inheritance lets a class (child) reuse code from another class (parent). The child can override methods like `__init__`."
   ]
  },
  {
   "cell_type": "code",
   "execution_count": null,
   "id": "9739a005",
   "metadata": {},
   "outputs": [],
   "source": [
    "class Parent:\n",
    "    def __init__(self):\n",
    "        self.name = \"Parent\"\n",
    "        print(\"Parent __init__\")\n",
    "\n",
    "class Child(Parent):\n",
    "    def __init__(self):\n",
    "        super().__init__()\n",
    "        self.age = 10\n",
    "        print(\"Child __init__\")\n",
    "\n",
    "c = Child()\n",
    "print(c.name, c.age)"
   ]
  },
  {
   "cell_type": "markdown",
   "id": "4ac4298c",
   "metadata": {},
   "source": [
    "### FAQs about `__init__` in Inheritance\n",
    "- If the child defines its own `__init__`, the parent's `__init__` will not run unless `super()` is used.\n",
    "- Class attributes are inherited automatically unless overridden.\n",
    "- Instance attributes need explicit initialization in each class."
   ]
  },
  {
   "cell_type": "markdown",
   "id": "2d7dc42e",
   "metadata": {},
   "source": [
    "## 5. Attribute Behavior in Inheritance\n",
    "\n",
    "Class attributes are automatically inherited by child classes unless they define their own.\n",
    "Instance attributes from the parent require `super().__init__()` to be initialized."
   ]
  },
  {
   "cell_type": "markdown",
   "id": "68577b8b",
   "metadata": {},
   "source": [
    "## 6. Method Resolution Order (MRO) and Multiple Inheritance\n",
    "In multiple inheritance, Python determines which method to call using the **MRO** (C3 linearization)."
   ]
  },
  {
   "cell_type": "code",
   "execution_count": null,
   "id": "5440f184",
   "metadata": {},
   "outputs": [],
   "source": [
    "class A:\n",
    "    def show(self): print(\"A\")\n",
    "class B(A):\n",
    "    def show(self): print(\"B\")\n",
    "class C(A):\n",
    "    def show(self): print(\"C\")\n",
    "class D(B, C):\n",
    "    pass\n",
    "d = D()\n",
    "d.show()\n",
    "print(D.mro())"
   ]
  },
  {
   "cell_type": "markdown",
   "id": "ec1e8197",
   "metadata": {},
   "source": [
    "## 7. Encapsulation, Abstraction, and Polymorphism\n",
    "- **Encapsulation:** Hiding data using private attributes (`__attr`).\n",
    "- **Abstraction:** Using `abc` module to create abstract classes.\n",
    "- **Polymorphism:** Same method name behaves differently based on the object."
   ]
  },
  {
   "cell_type": "markdown",
   "id": "1a4719c1",
   "metadata": {},
   "source": [
    "## 8. FAQs & What-If Scenarios\n",
    "Includes 20+ questions like:\n",
    "- What if both parent and child have `__init__`?\n",
    "- What if we call `super()` twice?\n",
    "- What happens if the child doesn't call `super()`?\n",
    "- What if both parent and child have class variables with the same name?"
   ]
  },
  {
   "cell_type": "markdown",
   "id": "40425680",
   "metadata": {},
   "source": [
    "## 9. Interview Questions & Solutions\n",
    "We include questions on inheritance, class vs instance variables, and `super()` usage."
   ]
  },
  {
   "cell_type": "markdown",
   "id": "23b5da1c",
   "metadata": {},
   "source": [
    "## 10. Real-World Examples\n",
    "Mini projects like a **Student Management System** or **ATM Simulation** will demonstrate how these OOP concepts work together."
   ]
  }
 ],
 "metadata": {
  "kernelspec": {
   "display_name": "Python 3 (ipykernel)",
   "language": "python",
   "name": "python3"
  },
  "language_info": {
   "codemirror_mode": {
    "name": "ipython",
    "version": 3
   },
   "file_extension": ".py",
   "mimetype": "text/x-python",
   "name": "python",
   "nbconvert_exporter": "python",
   "pygments_lexer": "ipython3",
   "version": "3.11.7"
  }
 },
 "nbformat": 4,
 "nbformat_minor": 5
}
