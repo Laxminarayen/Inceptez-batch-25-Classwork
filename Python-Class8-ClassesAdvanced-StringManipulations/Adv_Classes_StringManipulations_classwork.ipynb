{
  "nbformat": 4,
  "nbformat_minor": 0,
  "metadata": {
    "colab": {
      "provenance": []
    },
    "kernelspec": {
      "name": "python3",
      "display_name": "Python 3"
    },
    "language_info": {
      "name": "python"
    }
  },
  "cells": [
    {
      "cell_type": "code",
      "execution_count": 24,
      "metadata": {
        "colab": {
          "base_uri": "https://localhost:8080/"
        },
        "id": "tHv-QA-cuD7g",
        "outputId": "c60c5ba7-580a-40ba-94e1-d4091b3dba16"
      },
      "outputs": [
        {
          "output_type": "stream",
          "name": "stdout",
          "text": [
            "the Value of x ouside the function 10\n"
          ]
        }
      ],
      "source": [
        "x = 10 #Global variable variable defined outside the function\n",
        "def some_function():\n",
        "  x = 5 #local variable\n",
        "  print(f\"the Value of x inside the function {x}\")\n",
        "print(f\"the Value of x ouside the function {x}\")"
      ]
    },
    {
      "cell_type": "code",
      "source": [
        "print()"
      ],
      "metadata": {
        "colab": {
          "base_uri": "https://localhost:8080/",
          "height": 144
        },
        "id": "QUqTbk0jy48I",
        "outputId": "70e0727b-d010-4e51-9c1d-a8b4c1a076ac"
      },
      "execution_count": 21,
      "outputs": [
        {
          "output_type": "error",
          "ename": "NameError",
          "evalue": "name 'x_' is not defined",
          "traceback": [
            "\u001b[0;31m---------------------------------------------------------------------------\u001b[0m",
            "\u001b[0;31mNameError\u001b[0m                                 Traceback (most recent call last)",
            "\u001b[0;32m/tmp/ipython-input-21-2684494740.py\u001b[0m in \u001b[0;36m<cell line: 0>\u001b[0;34m()\u001b[0m\n\u001b[0;32m----> 1\u001b[0;31m \u001b[0mprint\u001b[0m\u001b[0;34m(\u001b[0m\u001b[0mx_\u001b[0m\u001b[0;34m)\u001b[0m\u001b[0;34m\u001b[0m\u001b[0;34m\u001b[0m\u001b[0m\n\u001b[0m",
            "\u001b[0;31mNameError\u001b[0m: name 'x_' is not defined"
          ]
        }
      ]
    },
    {
      "cell_type": "code",
      "source": [
        "some_function()"
      ],
      "metadata": {
        "colab": {
          "base_uri": "https://localhost:8080/"
        },
        "id": "ynn_Hyh0xL_5",
        "outputId": "c5a217b8-dafa-4ef5-95b5-ff40f67e8376"
      },
      "execution_count": 25,
      "outputs": [
        {
          "output_type": "stream",
          "name": "stdout",
          "text": [
            "the Value of x inside the function 5\n"
          ]
        }
      ]
    },
    {
      "cell_type": "code",
      "source": [
        "x = 10 #global\n",
        "def modify_global():\n",
        "  global x\n",
        "  x = 20\n",
        "  print(x)\n",
        "\n",
        "modify_global()\n",
        "print(f\"the Value of x inside the function {x}\")"
      ],
      "metadata": {
        "colab": {
          "base_uri": "https://localhost:8080/"
        },
        "id": "FQb-55EDxNOU",
        "outputId": "9838edaf-e500-47d7-de14-6d79bcea2835"
      },
      "execution_count": 15,
      "outputs": [
        {
          "output_type": "stream",
          "name": "stdout",
          "text": [
            "20\n",
            "the Value of x inside the function 10\n"
          ]
        }
      ]
    },
    {
      "cell_type": "code",
      "source": [
        "x = 10 #global\n",
        "def modify_global():\n",
        "  global x\n",
        "  global y #I am expanding the scope of this variable outside the class also..\n",
        "  x = 20\n",
        "  y = 10\n",
        "  print(x)\n"
      ],
      "metadata": {
        "id": "Tb_yNlsdzpUp"
      },
      "execution_count": 26,
      "outputs": []
    },
    {
      "cell_type": "code",
      "source": [
        "modify_global()\n",
        "print(y)"
      ],
      "metadata": {
        "colab": {
          "base_uri": "https://localhost:8080/"
        },
        "id": "-sNWEdSkzsoY",
        "outputId": "5f3cfd18-6600-4554-d945-f1fdd4ba005b"
      },
      "execution_count": 28,
      "outputs": [
        {
          "output_type": "stream",
          "name": "stdout",
          "text": [
            "20\n",
            "10\n"
          ]
        }
      ]
    },
    {
      "cell_type": "code",
      "source": [
        "#LEGB (Variable Scoping)\n",
        "1. L - Local Variables\n",
        "2. E - Enclosing Variables\n",
        "3. G - Global Variables\n",
        "4. B - Built-in Variables"
      ],
      "metadata": {
        "id": "4gjC2E34xtI-"
      },
      "execution_count": null,
      "outputs": []
    },
    {
      "cell_type": "code",
      "source": [
        "#Enclosing Variables\n",
        "x = 40\n",
        "def outer():\n",
        "  x = 10\n",
        "  def inner():\n",
        "    x = 500\n",
        "    print(x) #<-\n",
        "  inner()\n",
        "outer()"
      ],
      "metadata": {
        "colab": {
          "base_uri": "https://localhost:8080/"
        },
        "id": "AybhQXO_ylZl",
        "outputId": "9c18d95d-b163-4ccb-9176-425424115b75"
      },
      "execution_count": 31,
      "outputs": [
        {
          "output_type": "stream",
          "name": "stdout",
          "text": [
            "500\n"
          ]
        }
      ]
    },
    {
      "cell_type": "code",
      "source": [
        "print(len)"
      ],
      "metadata": {
        "colab": {
          "base_uri": "https://localhost:8080/"
        },
        "id": "OAGRVrti0gnp",
        "outputId": "a8d2ab3e-5561-4a0a-a15b-e210497f3bd7"
      },
      "execution_count": 32,
      "outputs": [
        {
          "output_type": "stream",
          "name": "stdout",
          "text": [
            "<built-in function len>\n"
          ]
        }
      ]
    },
    {
      "cell_type": "code",
      "source": [
        "len = 100\n",
        "print(len) #Not Keywords but rather built in functions / variables only.."
      ],
      "metadata": {
        "colab": {
          "base_uri": "https://localhost:8080/"
        },
        "id": "sFtTC9eu1fCH",
        "outputId": "81fc3d90-fbdb-4142-9c57-1473cbdc0eaf"
      },
      "execution_count": 36,
      "outputs": [
        {
          "output_type": "stream",
          "name": "stdout",
          "text": [
            "100\n"
          ]
        }
      ]
    },
    {
      "cell_type": "code",
      "source": [
        "upper = \"100\"\n",
        "len(upper)"
      ],
      "metadata": {
        "colab": {
          "base_uri": "https://localhost:8080/",
          "height": 35
        },
        "id": "F_G5sMIA5VZ-",
        "outputId": "2eaf5fd2-05b9-4cab-a63a-13a53432e252"
      },
      "execution_count": 58,
      "outputs": [
        {
          "output_type": "execute_result",
          "data": {
            "text/plain": [
              "'100'"
            ],
            "application/vnd.google.colaboratory.intrinsic+json": {
              "type": "string"
            }
          },
          "metadata": {},
          "execution_count": 58
        }
      ]
    },
    {
      "cell_type": "code",
      "source": [
        "import = 100"
      ],
      "metadata": {
        "colab": {
          "base_uri": "https://localhost:8080/",
          "height": 108
        },
        "id": "zQGIPcxA5Hwk",
        "outputId": "e24e14bf-f770-4d34-a1a3-2aedeb2f2c7e"
      },
      "execution_count": 55,
      "outputs": [
        {
          "output_type": "error",
          "ename": "SyntaxError",
          "evalue": "invalid syntax (ipython-input-55-2118618789.py, line 1)",
          "traceback": [
            "\u001b[0;36m  File \u001b[0;32m\"/tmp/ipython-input-55-2118618789.py\"\u001b[0;36m, line \u001b[0;32m1\u001b[0m\n\u001b[0;31m    import = 100\u001b[0m\n\u001b[0m           ^\u001b[0m\n\u001b[0;31mSyntaxError\u001b[0m\u001b[0;31m:\u001b[0m invalid syntax\n"
          ]
        }
      ]
    },
    {
      "cell_type": "code",
      "source": [],
      "metadata": {
        "id": "Vnaz6Kx15-Iw"
      },
      "execution_count": null,
      "outputs": []
    },
    {
      "cell_type": "code",
      "source": [
        "class Animal:\n",
        "  def __init__(self,legs,value): #constructor when object is created\n",
        "    self.legs = legs #Instance Variable\n",
        "    self.value = value\n",
        "  def print_info(self):\n",
        "    print(self.value)\n",
        "    print(self.legs)\n",
        "\n",
        "zebraClass = Animal(4,\"Zebra\")\n",
        "zebraClass.print_info()"
      ],
      "metadata": {
        "colab": {
          "base_uri": "https://localhost:8080/"
        },
        "id": "dRS5nRL21gyB",
        "outputId": "53343edb-bd41-4558-a90b-f2e813022b81"
      },
      "execution_count": 46,
      "outputs": [
        {
          "output_type": "stream",
          "name": "stdout",
          "text": [
            "Zebra\n",
            "4\n"
          ]
        }
      ]
    },
    {
      "cell_type": "code",
      "source": [
        "class Animal:\n",
        "  name = \"Zebra\" #Class Variable\n",
        "  def __init__(self,legs):\n",
        "    self.legs = legs #Instance Variable\n",
        "  def print_info(self):\n",
        "    print(self.name)\n",
        "    print(self.legs)"
      ],
      "metadata": {
        "id": "256MYK8i36Jz"
      },
      "execution_count": 50,
      "outputs": []
    },
    {
      "cell_type": "code",
      "source": [
        "class Animal:\n",
        "  name = \"Zebra\" #Class Variable\n",
        "  def __init__(self,legs,value): #constructor when object is created\n",
        "    self.legs = legs #Instance Variable\n",
        "    self.name = value\n",
        "  def print_info(self):\n",
        "    print(self.name)\n",
        "    print(self.legs)"
      ],
      "metadata": {
        "id": "6CVuR9R24mxY"
      },
      "execution_count": 53,
      "outputs": []
    },
    {
      "cell_type": "code",
      "source": [
        "zebraClass = Animal(4,\"Dog\")\n",
        "zebraClass.print_info()"
      ],
      "metadata": {
        "colab": {
          "base_uri": "https://localhost:8080/"
        },
        "id": "I335GVVV1vgL",
        "outputId": "198d0d56-8576-4fed-c42c-5f2534bd6663"
      },
      "execution_count": 54,
      "outputs": [
        {
          "output_type": "stream",
          "name": "stdout",
          "text": [
            "Dog\n",
            "4\n"
          ]
        }
      ]
    },
    {
      "cell_type": "code",
      "source": [
        "class Animal:\n",
        "  name = \"Zebra\" #Class Variable\n",
        "  def __init__(self,legs): #constructor when object is created\n",
        "    self.legs = legs #Instance Variable\n",
        "  def print_info(self):\n",
        "    #name = \"Arsh\"\n",
        "    print(self.name)\n",
        "    print(self.legs)"
      ],
      "metadata": {
        "id": "3F0xotCq1zuZ"
      },
      "execution_count": 59,
      "outputs": []
    },
    {
      "cell_type": "code",
      "source": [
        "#Student Management Block.. Class varible \"School Name\", \"Class\", \"Total Student Count\" | Instance Specific \"Name\", \"Roll No.\"\n",
        "#Print Info via Objects both Class and instance variables...."
      ],
      "metadata": {
        "id": "R9Oa-CG61znJ"
      },
      "execution_count": null,
      "outputs": []
    },
    {
      "cell_type": "code",
      "source": [
        "class parent:\n",
        "  class_var = \"This is a class variable in Parent\" #Class variable\n",
        "  def __init__(self):\n",
        "    self.instance_var = \"This is an instance variable inside my Parent\" #instance\n",
        "class Child(parent):\n",
        "  def show_var(self):\n",
        "    print(f\"Trying to acccess class variable from Parent: {self.class_var}\")\n",
        "    print(f\"Accessing Parent instance Variable via: {self.instance_var}\")"
      ],
      "metadata": {
        "id": "UF_XU-PQAmVU"
      },
      "execution_count": 67,
      "outputs": []
    },
    {
      "cell_type": "code",
      "source": [
        "s = Child()\n",
        "s.show_var()"
      ],
      "metadata": {
        "colab": {
          "base_uri": "https://localhost:8080/"
        },
        "id": "CadwowApBMsv",
        "outputId": "0af1ea11-faf2-4dfb-ea78-5d962a59a9e9"
      },
      "execution_count": 68,
      "outputs": [
        {
          "output_type": "stream",
          "name": "stdout",
          "text": [
            "Trying to acccess class variable from Parent: This is a class variable in Parent\n",
            "Accessing Parent instance Variable via: This is an instance variable inside my Parent\n"
          ]
        }
      ]
    },
    {
      "cell_type": "code",
      "source": [
        "class parent:\n",
        "  class_var = \"This is a class variable in Parent\"\n",
        "  def __init__(self):\n",
        "    self.instance_var = \"This is an instance variable inside my Parent\""
      ],
      "metadata": {
        "id": "Eh4BiNVFBPNc"
      },
      "execution_count": 62,
      "outputs": []
    },
    {
      "cell_type": "code",
      "source": [
        "class Child(parent):\n",
        "  class_var = \"This is a class variable in Child\" #LOCAL Class varible\n",
        "  def __init__(self): #LOCAL Constructor\n",
        "    print(f\"Accessing Parent Class Variable via {self.class_var}\")\n",
        "    print(f\"Accessing Parent instance Variable via {self.instance_var}\")"
      ],
      "metadata": {
        "id": "etSjcs6GBpgn"
      },
      "execution_count": 69,
      "outputs": []
    },
    {
      "cell_type": "code",
      "source": [
        "c = Child()"
      ],
      "metadata": {
        "colab": {
          "base_uri": "https://localhost:8080/",
          "height": 251
        },
        "id": "KMWLyUSLB89W",
        "outputId": "bf564f8a-039e-4cd0-e455-2c5ead9be312"
      },
      "execution_count": 70,
      "outputs": [
        {
          "output_type": "stream",
          "name": "stdout",
          "text": [
            "Accessing Parent Class Variable via This is a class variable in Child\n"
          ]
        },
        {
          "output_type": "error",
          "ename": "AttributeError",
          "evalue": "'Child' object has no attribute 'instance_var'",
          "traceback": [
            "\u001b[0;31m---------------------------------------------------------------------------\u001b[0m",
            "\u001b[0;31mAttributeError\u001b[0m                            Traceback (most recent call last)",
            "\u001b[0;32m/tmp/ipython-input-70-1770973163.py\u001b[0m in \u001b[0;36m<cell line: 0>\u001b[0;34m()\u001b[0m\n\u001b[0;32m----> 1\u001b[0;31m \u001b[0mc\u001b[0m \u001b[0;34m=\u001b[0m \u001b[0mChild\u001b[0m\u001b[0;34m(\u001b[0m\u001b[0;34m)\u001b[0m\u001b[0;34m\u001b[0m\u001b[0;34m\u001b[0m\u001b[0m\n\u001b[0m",
            "\u001b[0;32m/tmp/ipython-input-69-3925027113.py\u001b[0m in \u001b[0;36m__init__\u001b[0;34m(self)\u001b[0m\n\u001b[1;32m      3\u001b[0m   \u001b[0;32mdef\u001b[0m \u001b[0m__init__\u001b[0m\u001b[0;34m(\u001b[0m\u001b[0mself\u001b[0m\u001b[0;34m)\u001b[0m\u001b[0;34m:\u001b[0m\u001b[0;34m\u001b[0m\u001b[0;34m\u001b[0m\u001b[0m\n\u001b[1;32m      4\u001b[0m     \u001b[0mprint\u001b[0m\u001b[0;34m(\u001b[0m\u001b[0;34mf\"Accessing Parent Class Variable via {self.class_var}\"\u001b[0m\u001b[0;34m)\u001b[0m\u001b[0;34m\u001b[0m\u001b[0;34m\u001b[0m\u001b[0m\n\u001b[0;32m----> 5\u001b[0;31m     \u001b[0mprint\u001b[0m\u001b[0;34m(\u001b[0m\u001b[0;34mf\"Accessing Parent instance Variable via {self.instance_var}\"\u001b[0m\u001b[0;34m)\u001b[0m\u001b[0;34m\u001b[0m\u001b[0;34m\u001b[0m\u001b[0m\n\u001b[0m",
            "\u001b[0;31mAttributeError\u001b[0m: 'Child' object has no attribute 'instance_var'"
          ]
        }
      ]
    },
    {
      "cell_type": "code",
      "source": [
        "class Child(parent):\n",
        "  #class_var = \"This is a class variable in Child\" #LOCAL Class varible\n",
        "  def __init__(self): #LOCAL Constructor\n",
        "    super().__init__()\n",
        "    #self.instance_var = \"From Class\"\n",
        "    print(f\"Accessing Parent Class Variable via: {self.class_var}\")\n",
        "    print(f\"Accessing Parent instance Variable via: {self.instance_var}\")"
      ],
      "metadata": {
        "id": "P_SbW1zWB-bw"
      },
      "execution_count": 78,
      "outputs": []
    },
    {
      "cell_type": "code",
      "source": [
        "c = Child()"
      ],
      "metadata": {
        "colab": {
          "base_uri": "https://localhost:8080/"
        },
        "id": "yqqX291hC1fx",
        "outputId": "f644e905-e3db-484f-ac6c-1f1ad90dac1f"
      },
      "execution_count": 79,
      "outputs": [
        {
          "output_type": "stream",
          "name": "stdout",
          "text": [
            "Accessing Parent Class Variable via: This is a class variable in Parent\n",
            "Accessing Parent instance Variable via: This is an instance variable inside my Parent\n"
          ]
        }
      ]
    },
    {
      "cell_type": "code",
      "source": [
        "class FixedClass:\n",
        "  Name = \"Suresh\"\n",
        "  Add = \"Dubai\"\n",
        "  def __init__(self, Name, Add):\n",
        "    self.Name = Name\n",
        "    self.Add = Add"
      ],
      "metadata": {
        "id": "iux4aUO7C2iG"
      },
      "execution_count": 80,
      "outputs": []
    },
    {
      "cell_type": "code",
      "source": [
        "suresh = FixedClass(\"Suresh\",\"Dubai\")"
      ],
      "metadata": {
        "id": "FYBzEXKrD5xh"
      },
      "execution_count": 81,
      "outputs": []
    },
    {
      "cell_type": "code",
      "source": [
        "Laxmi = FixedClass(\"Laxmi\",\"Chennai\") #Blueprint Facilitation is done via Constructor"
      ],
      "metadata": {
        "id": "cGk3-I8XD-Pn"
      },
      "execution_count": null,
      "outputs": []
    },
    {
      "cell_type": "code",
      "source": [
        "class A:\n",
        "  def __init__(self):\n",
        "    print(\"A\")\n",
        "\n",
        "class B(A):\n",
        "  def __init__(self):\n",
        "    super().__init__()\n",
        "    print(\"B\")\n",
        "\n",
        "class C(A):\n",
        "  def __init__(self):\n",
        "    super().__init__()\n",
        "    print(\"C\")\n",
        "\n",
        "class D(B,C):\n",
        "  def __init__(self):\n",
        "    super().__init__()\n",
        "    print(\"D\")"
      ],
      "metadata": {
        "id": "GPqG4pK_EaZa"
      },
      "execution_count": 93,
      "outputs": []
    },
    {
      "cell_type": "code",
      "source": [
        "d = D()"
      ],
      "metadata": {
        "colab": {
          "base_uri": "https://localhost:8080/"
        },
        "id": "JeCMlKRlEuK2",
        "outputId": "2ad8415a-a8ab-4c47-d4b5-d42154514b31"
      },
      "execution_count": 94,
      "outputs": [
        {
          "output_type": "stream",
          "name": "stdout",
          "text": [
            "A\n",
            "C\n",
            "B\n",
            "D\n"
          ]
        }
      ]
    },
    {
      "cell_type": "code",
      "source": [
        "1. D() -> prints D, then Super() -> next in MRO -> B\n",
        "2. B() -> prints B, then Super() -> next in MRO -> C\n",
        "3. C() -> print C , then Super() -> next in MRO -> A\n",
        "4. A() -> prints A"
      ],
      "metadata": {
        "id": "PRtnaTMVHtVi"
      },
      "execution_count": null,
      "outputs": []
    },
    {
      "cell_type": "code",
      "source": [
        "#MRO - Method Reolution ORder - C3 linearization Algorithm\n",
        "D.mro()"
      ],
      "metadata": {
        "colab": {
          "base_uri": "https://localhost:8080/"
        },
        "id": "gJsZWRPQFASd",
        "outputId": "d0c49a19-e7a3-4b9a-c7bb-df9a1de5efd3"
      },
      "execution_count": 95,
      "outputs": [
        {
          "output_type": "execute_result",
          "data": {
            "text/plain": [
              "[__main__.D, __main__.B, __main__.C, __main__.A, object]"
            ]
          },
          "metadata": {},
          "execution_count": 95
        }
      ]
    },
    {
      "cell_type": "code",
      "source": [
        "class A:\n",
        "  def __init__(self):\n",
        "    print(\"A\")\n",
        "\n",
        "class B(A):\n",
        "  def __init__(self):\n",
        "    super().__init__()\n",
        "    print(\"B\")\n",
        "\n",
        "class C(B):\n",
        "  def __init__(self):\n",
        "    super().__init__()\n",
        "    print(\"C\")\n",
        "\n",
        "class D(C):\n",
        "  def __init__(self):\n",
        "    super().__init__()\n",
        "    print(\"D\")"
      ],
      "metadata": {
        "id": "2J_0Zu60GL5H"
      },
      "execution_count": 96,
      "outputs": []
    },
    {
      "cell_type": "code",
      "source": [
        "d = D()"
      ],
      "metadata": {
        "colab": {
          "base_uri": "https://localhost:8080/"
        },
        "id": "BnMFNu0dIdlG",
        "outputId": "2a270fff-882c-4830-a009-7027e6e5a420"
      },
      "execution_count": 97,
      "outputs": [
        {
          "output_type": "stream",
          "name": "stdout",
          "text": [
            "A\n",
            "B\n",
            "C\n",
            "D\n"
          ]
        }
      ]
    },
    {
      "cell_type": "code",
      "source": [
        "D.mro()"
      ],
      "metadata": {
        "colab": {
          "base_uri": "https://localhost:8080/"
        },
        "id": "ofLVEYFIIfZc",
        "outputId": "cd01b10a-76cb-46df-bb31-9230c20d282c"
      },
      "execution_count": 98,
      "outputs": [
        {
          "output_type": "execute_result",
          "data": {
            "text/plain": [
              "[__main__.D, __main__.C, __main__.B, __main__.A, object]"
            ]
          },
          "metadata": {},
          "execution_count": 98
        }
      ]
    },
    {
      "cell_type": "code",
      "source": [
        "s1 = \"Hello\"\n",
        "s2 = \"World\"\n",
        "result = s1 + \" \" + s2\n",
        "print(result)  # Output: Hello World"
      ],
      "metadata": {
        "colab": {
          "base_uri": "https://localhost:8080/"
        },
        "id": "Q2DknXfoIjFR",
        "outputId": "d109ff90-e992-4f4b-af8a-57f8e976b51d"
      },
      "execution_count": 99,
      "outputs": [
        {
          "output_type": "stream",
          "name": "stdout",
          "text": [
            "Hello World\n"
          ]
        }
      ]
    },
    {
      "cell_type": "code",
      "source": [
        "s1 = \"Hello\"\n",
        "s2 = 45\n",
        "result = s1 + \" \" + str(s2)\n",
        "print(result)"
      ],
      "metadata": {
        "colab": {
          "base_uri": "https://localhost:8080/",
          "height": 198
        },
        "id": "saq0TwF2JIUT",
        "outputId": "cd6911d6-1a0f-49ea-9dc5-616d0dad8bbd"
      },
      "execution_count": 100,
      "outputs": [
        {
          "output_type": "error",
          "ename": "TypeError",
          "evalue": "can only concatenate str (not \"int\") to str",
          "traceback": [
            "\u001b[0;31m---------------------------------------------------------------------------\u001b[0m",
            "\u001b[0;31mTypeError\u001b[0m                                 Traceback (most recent call last)",
            "\u001b[0;32m/tmp/ipython-input-100-1437705194.py\u001b[0m in \u001b[0;36m<cell line: 0>\u001b[0;34m()\u001b[0m\n\u001b[1;32m      1\u001b[0m \u001b[0ms1\u001b[0m \u001b[0;34m=\u001b[0m \u001b[0;34m\"Hello\"\u001b[0m\u001b[0;34m\u001b[0m\u001b[0;34m\u001b[0m\u001b[0m\n\u001b[1;32m      2\u001b[0m \u001b[0ms2\u001b[0m \u001b[0;34m=\u001b[0m \u001b[0;36m45\u001b[0m\u001b[0;34m\u001b[0m\u001b[0;34m\u001b[0m\u001b[0m\n\u001b[0;32m----> 3\u001b[0;31m \u001b[0mresult\u001b[0m \u001b[0;34m=\u001b[0m \u001b[0ms1\u001b[0m \u001b[0;34m+\u001b[0m \u001b[0;34m\" \"\u001b[0m \u001b[0;34m+\u001b[0m \u001b[0ms2\u001b[0m\u001b[0;34m\u001b[0m\u001b[0;34m\u001b[0m\u001b[0m\n\u001b[0m\u001b[1;32m      4\u001b[0m \u001b[0mprint\u001b[0m\u001b[0;34m(\u001b[0m\u001b[0mresult\u001b[0m\u001b[0;34m)\u001b[0m  \u001b[0;31m# Output: Hello World\u001b[0m\u001b[0;34m\u001b[0m\u001b[0;34m\u001b[0m\u001b[0m\n",
            "\u001b[0;31mTypeError\u001b[0m: can only concatenate str (not \"int\") to str"
          ]
        }
      ]
    },
    {
      "cell_type": "code",
      "source": [
        "s = \"Hi! \"\n",
        "print(s * 3)  # Output: Hi! Hi! Hi!"
      ],
      "metadata": {
        "colab": {
          "base_uri": "https://localhost:8080/"
        },
        "id": "eDge0rniJKHS",
        "outputId": "b7a455e9-fc9c-42c0-89eb-6cfa4955f867"
      },
      "execution_count": 101,
      "outputs": [
        {
          "output_type": "stream",
          "name": "stdout",
          "text": [
            "Hi! Hi! Hi! \n"
          ]
        }
      ]
    },
    {
      "cell_type": "code",
      "source": [
        "s = \"Python\"\n",
        "print(s[0])   # Output: P\n",
        "print(s[-1])  # Output: n"
      ],
      "metadata": {
        "colab": {
          "base_uri": "https://localhost:8080/"
        },
        "id": "G7IfhKKjJPim",
        "outputId": "4a4f6f0a-7cd4-46b9-f8d9-aaa04ac3bbbf"
      },
      "execution_count": 102,
      "outputs": [
        {
          "output_type": "stream",
          "name": "stdout",
          "text": [
            "P\n",
            "n\n"
          ]
        }
      ]
    },
    {
      "cell_type": "code",
      "source": [
        "s[-1] #negative indexing is not zero-based"
      ],
      "metadata": {
        "colab": {
          "base_uri": "https://localhost:8080/",
          "height": 35
        },
        "id": "fxBnP98_JZNk",
        "outputId": "708da602-8b8d-4405-94be-0dd5d1ed5ec5"
      },
      "execution_count": 103,
      "outputs": [
        {
          "output_type": "execute_result",
          "data": {
            "text/plain": [
              "'n'"
            ],
            "application/vnd.google.colaboratory.intrinsic+json": {
              "type": "string"
            }
          },
          "metadata": {},
          "execution_count": 103
        }
      ]
    },
    {
      "cell_type": "code",
      "source": [
        "list(s)[-1]"
      ],
      "metadata": {
        "colab": {
          "base_uri": "https://localhost:8080/",
          "height": 35
        },
        "id": "wXkUcPJPJb6S",
        "outputId": "85fc0241-0ea3-4f6e-e913-102155c957dc"
      },
      "execution_count": 105,
      "outputs": [
        {
          "output_type": "execute_result",
          "data": {
            "text/plain": [
              "'n'"
            ],
            "application/vnd.google.colaboratory.intrinsic+json": {
              "type": "string"
            }
          },
          "metadata": {},
          "execution_count": 105
        }
      ]
    },
    {
      "cell_type": "code",
      "source": [
        "s = \"abcd\""
      ],
      "metadata": {
        "id": "MBWXMe1dJi-x"
      },
      "execution_count": 107,
      "outputs": []
    },
    {
      "cell_type": "code",
      "source": [],
      "metadata": {
        "id": "GCDLfAdUJ7Rm"
      },
      "execution_count": 108,
      "outputs": []
    },
    {
      "cell_type": "code",
      "source": [],
      "metadata": {
        "id": "4epKyeL0J___"
      },
      "execution_count": null,
      "outputs": []
    }
  ]
}