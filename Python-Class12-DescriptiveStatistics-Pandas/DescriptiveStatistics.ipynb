{
  "nbformat": 4,
  "nbformat_minor": 0,
  "metadata": {
    "colab": {
      "provenance": []
    },
    "kernelspec": {
      "name": "python3",
      "display_name": "Python 3"
    },
    "language_info": {
      "name": "python"
    }
  },
  "cells": [
    {
      "cell_type": "code",
      "execution_count": null,
      "metadata": {
        "id": "N_ZfWg-d2u3M"
      },
      "outputs": [],
      "source": [
        "import pandas as pd\n",
        "import numpy as np"
      ]
    },
    {
      "cell_type": "code",
      "source": [
        "df = pd.read_csv(\"/content/StudentsPerformance.csv\")"
      ],
      "metadata": {
        "id": "-mBu6W3s24FC"
      },
      "execution_count": null,
      "outputs": []
    },
    {
      "cell_type": "code",
      "source": [
        "df.head()"
      ],
      "metadata": {
        "colab": {
          "base_uri": "https://localhost:8080/",
          "height": 224
        },
        "id": "StM6huZB27fk",
        "outputId": "2ba5c1aa-8885-4682-9673-f289c21a43d5"
      },
      "execution_count": null,
      "outputs": [
        {
          "output_type": "execute_result",
          "data": {
            "text/plain": [
              "   gender race/ethnicity parental level of education         lunch  \\\n",
              "0  female        group B           bachelor's degree      standard   \n",
              "1  female        group C                some college      standard   \n",
              "2  female        group B             master's degree      standard   \n",
              "3    male        group A          associate's degree  free/reduced   \n",
              "4    male        group C                some college      standard   \n",
              "\n",
              "  test preparation course  math score  reading score  writing score  \n",
              "0                    none          72             72             74  \n",
              "1               completed          69             90             88  \n",
              "2                    none          90             95             93  \n",
              "3                    none          47             57             44  \n",
              "4                    none          76             78             75  "
            ],
            "text/html": [
              "\n",
              "  <div id=\"df-bd98c1d9-b28d-49bd-b701-ee3da08087ba\" class=\"colab-df-container\">\n",
              "    <div>\n",
              "<style scoped>\n",
              "    .dataframe tbody tr th:only-of-type {\n",
              "        vertical-align: middle;\n",
              "    }\n",
              "\n",
              "    .dataframe tbody tr th {\n",
              "        vertical-align: top;\n",
              "    }\n",
              "\n",
              "    .dataframe thead th {\n",
              "        text-align: right;\n",
              "    }\n",
              "</style>\n",
              "<table border=\"1\" class=\"dataframe\">\n",
              "  <thead>\n",
              "    <tr style=\"text-align: right;\">\n",
              "      <th></th>\n",
              "      <th>gender</th>\n",
              "      <th>race/ethnicity</th>\n",
              "      <th>parental level of education</th>\n",
              "      <th>lunch</th>\n",
              "      <th>test preparation course</th>\n",
              "      <th>math score</th>\n",
              "      <th>reading score</th>\n",
              "      <th>writing score</th>\n",
              "    </tr>\n",
              "  </thead>\n",
              "  <tbody>\n",
              "    <tr>\n",
              "      <th>0</th>\n",
              "      <td>female</td>\n",
              "      <td>group B</td>\n",
              "      <td>bachelor's degree</td>\n",
              "      <td>standard</td>\n",
              "      <td>none</td>\n",
              "      <td>72</td>\n",
              "      <td>72</td>\n",
              "      <td>74</td>\n",
              "    </tr>\n",
              "    <tr>\n",
              "      <th>1</th>\n",
              "      <td>female</td>\n",
              "      <td>group C</td>\n",
              "      <td>some college</td>\n",
              "      <td>standard</td>\n",
              "      <td>completed</td>\n",
              "      <td>69</td>\n",
              "      <td>90</td>\n",
              "      <td>88</td>\n",
              "    </tr>\n",
              "    <tr>\n",
              "      <th>2</th>\n",
              "      <td>female</td>\n",
              "      <td>group B</td>\n",
              "      <td>master's degree</td>\n",
              "      <td>standard</td>\n",
              "      <td>none</td>\n",
              "      <td>90</td>\n",
              "      <td>95</td>\n",
              "      <td>93</td>\n",
              "    </tr>\n",
              "    <tr>\n",
              "      <th>3</th>\n",
              "      <td>male</td>\n",
              "      <td>group A</td>\n",
              "      <td>associate's degree</td>\n",
              "      <td>free/reduced</td>\n",
              "      <td>none</td>\n",
              "      <td>47</td>\n",
              "      <td>57</td>\n",
              "      <td>44</td>\n",
              "    </tr>\n",
              "    <tr>\n",
              "      <th>4</th>\n",
              "      <td>male</td>\n",
              "      <td>group C</td>\n",
              "      <td>some college</td>\n",
              "      <td>standard</td>\n",
              "      <td>none</td>\n",
              "      <td>76</td>\n",
              "      <td>78</td>\n",
              "      <td>75</td>\n",
              "    </tr>\n",
              "  </tbody>\n",
              "</table>\n",
              "</div>\n",
              "    <div class=\"colab-df-buttons\">\n",
              "\n",
              "  <div class=\"colab-df-container\">\n",
              "    <button class=\"colab-df-convert\" onclick=\"convertToInteractive('df-bd98c1d9-b28d-49bd-b701-ee3da08087ba')\"\n",
              "            title=\"Convert this dataframe to an interactive table.\"\n",
              "            style=\"display:none;\">\n",
              "\n",
              "  <svg xmlns=\"http://www.w3.org/2000/svg\" height=\"24px\" viewBox=\"0 -960 960 960\">\n",
              "    <path d=\"M120-120v-720h720v720H120Zm60-500h600v-160H180v160Zm220 220h160v-160H400v160Zm0 220h160v-160H400v160ZM180-400h160v-160H180v160Zm440 0h160v-160H620v160ZM180-180h160v-160H180v160Zm440 0h160v-160H620v160Z\"/>\n",
              "  </svg>\n",
              "    </button>\n",
              "\n",
              "  <style>\n",
              "    .colab-df-container {\n",
              "      display:flex;\n",
              "      gap: 12px;\n",
              "    }\n",
              "\n",
              "    .colab-df-convert {\n",
              "      background-color: #E8F0FE;\n",
              "      border: none;\n",
              "      border-radius: 50%;\n",
              "      cursor: pointer;\n",
              "      display: none;\n",
              "      fill: #1967D2;\n",
              "      height: 32px;\n",
              "      padding: 0 0 0 0;\n",
              "      width: 32px;\n",
              "    }\n",
              "\n",
              "    .colab-df-convert:hover {\n",
              "      background-color: #E2EBFA;\n",
              "      box-shadow: 0px 1px 2px rgba(60, 64, 67, 0.3), 0px 1px 3px 1px rgba(60, 64, 67, 0.15);\n",
              "      fill: #174EA6;\n",
              "    }\n",
              "\n",
              "    .colab-df-buttons div {\n",
              "      margin-bottom: 4px;\n",
              "    }\n",
              "\n",
              "    [theme=dark] .colab-df-convert {\n",
              "      background-color: #3B4455;\n",
              "      fill: #D2E3FC;\n",
              "    }\n",
              "\n",
              "    [theme=dark] .colab-df-convert:hover {\n",
              "      background-color: #434B5C;\n",
              "      box-shadow: 0px 1px 3px 1px rgba(0, 0, 0, 0.15);\n",
              "      filter: drop-shadow(0px 1px 2px rgba(0, 0, 0, 0.3));\n",
              "      fill: #FFFFFF;\n",
              "    }\n",
              "  </style>\n",
              "\n",
              "    <script>\n",
              "      const buttonEl =\n",
              "        document.querySelector('#df-bd98c1d9-b28d-49bd-b701-ee3da08087ba button.colab-df-convert');\n",
              "      buttonEl.style.display =\n",
              "        google.colab.kernel.accessAllowed ? 'block' : 'none';\n",
              "\n",
              "      async function convertToInteractive(key) {\n",
              "        const element = document.querySelector('#df-bd98c1d9-b28d-49bd-b701-ee3da08087ba');\n",
              "        const dataTable =\n",
              "          await google.colab.kernel.invokeFunction('convertToInteractive',\n",
              "                                                    [key], {});\n",
              "        if (!dataTable) return;\n",
              "\n",
              "        const docLinkHtml = 'Like what you see? Visit the ' +\n",
              "          '<a target=\"_blank\" href=https://colab.research.google.com/notebooks/data_table.ipynb>data table notebook</a>'\n",
              "          + ' to learn more about interactive tables.';\n",
              "        element.innerHTML = '';\n",
              "        dataTable['output_type'] = 'display_data';\n",
              "        await google.colab.output.renderOutput(dataTable, element);\n",
              "        const docLink = document.createElement('div');\n",
              "        docLink.innerHTML = docLinkHtml;\n",
              "        element.appendChild(docLink);\n",
              "      }\n",
              "    </script>\n",
              "  </div>\n",
              "\n",
              "\n",
              "    <div id=\"df-cbb19b3b-be2a-4c93-95d5-549fb4b42175\">\n",
              "      <button class=\"colab-df-quickchart\" onclick=\"quickchart('df-cbb19b3b-be2a-4c93-95d5-549fb4b42175')\"\n",
              "                title=\"Suggest charts\"\n",
              "                style=\"display:none;\">\n",
              "\n",
              "<svg xmlns=\"http://www.w3.org/2000/svg\" height=\"24px\"viewBox=\"0 0 24 24\"\n",
              "     width=\"24px\">\n",
              "    <g>\n",
              "        <path d=\"M19 3H5c-1.1 0-2 .9-2 2v14c0 1.1.9 2 2 2h14c1.1 0 2-.9 2-2V5c0-1.1-.9-2-2-2zM9 17H7v-7h2v7zm4 0h-2V7h2v10zm4 0h-2v-4h2v4z\"/>\n",
              "    </g>\n",
              "</svg>\n",
              "      </button>\n",
              "\n",
              "<style>\n",
              "  .colab-df-quickchart {\n",
              "      --bg-color: #E8F0FE;\n",
              "      --fill-color: #1967D2;\n",
              "      --hover-bg-color: #E2EBFA;\n",
              "      --hover-fill-color: #174EA6;\n",
              "      --disabled-fill-color: #AAA;\n",
              "      --disabled-bg-color: #DDD;\n",
              "  }\n",
              "\n",
              "  [theme=dark] .colab-df-quickchart {\n",
              "      --bg-color: #3B4455;\n",
              "      --fill-color: #D2E3FC;\n",
              "      --hover-bg-color: #434B5C;\n",
              "      --hover-fill-color: #FFFFFF;\n",
              "      --disabled-bg-color: #3B4455;\n",
              "      --disabled-fill-color: #666;\n",
              "  }\n",
              "\n",
              "  .colab-df-quickchart {\n",
              "    background-color: var(--bg-color);\n",
              "    border: none;\n",
              "    border-radius: 50%;\n",
              "    cursor: pointer;\n",
              "    display: none;\n",
              "    fill: var(--fill-color);\n",
              "    height: 32px;\n",
              "    padding: 0;\n",
              "    width: 32px;\n",
              "  }\n",
              "\n",
              "  .colab-df-quickchart:hover {\n",
              "    background-color: var(--hover-bg-color);\n",
              "    box-shadow: 0 1px 2px rgba(60, 64, 67, 0.3), 0 1px 3px 1px rgba(60, 64, 67, 0.15);\n",
              "    fill: var(--button-hover-fill-color);\n",
              "  }\n",
              "\n",
              "  .colab-df-quickchart-complete:disabled,\n",
              "  .colab-df-quickchart-complete:disabled:hover {\n",
              "    background-color: var(--disabled-bg-color);\n",
              "    fill: var(--disabled-fill-color);\n",
              "    box-shadow: none;\n",
              "  }\n",
              "\n",
              "  .colab-df-spinner {\n",
              "    border: 2px solid var(--fill-color);\n",
              "    border-color: transparent;\n",
              "    border-bottom-color: var(--fill-color);\n",
              "    animation:\n",
              "      spin 1s steps(1) infinite;\n",
              "  }\n",
              "\n",
              "  @keyframes spin {\n",
              "    0% {\n",
              "      border-color: transparent;\n",
              "      border-bottom-color: var(--fill-color);\n",
              "      border-left-color: var(--fill-color);\n",
              "    }\n",
              "    20% {\n",
              "      border-color: transparent;\n",
              "      border-left-color: var(--fill-color);\n",
              "      border-top-color: var(--fill-color);\n",
              "    }\n",
              "    30% {\n",
              "      border-color: transparent;\n",
              "      border-left-color: var(--fill-color);\n",
              "      border-top-color: var(--fill-color);\n",
              "      border-right-color: var(--fill-color);\n",
              "    }\n",
              "    40% {\n",
              "      border-color: transparent;\n",
              "      border-right-color: var(--fill-color);\n",
              "      border-top-color: var(--fill-color);\n",
              "    }\n",
              "    60% {\n",
              "      border-color: transparent;\n",
              "      border-right-color: var(--fill-color);\n",
              "    }\n",
              "    80% {\n",
              "      border-color: transparent;\n",
              "      border-right-color: var(--fill-color);\n",
              "      border-bottom-color: var(--fill-color);\n",
              "    }\n",
              "    90% {\n",
              "      border-color: transparent;\n",
              "      border-bottom-color: var(--fill-color);\n",
              "    }\n",
              "  }\n",
              "</style>\n",
              "\n",
              "      <script>\n",
              "        async function quickchart(key) {\n",
              "          const quickchartButtonEl =\n",
              "            document.querySelector('#' + key + ' button');\n",
              "          quickchartButtonEl.disabled = true;  // To prevent multiple clicks.\n",
              "          quickchartButtonEl.classList.add('colab-df-spinner');\n",
              "          try {\n",
              "            const charts = await google.colab.kernel.invokeFunction(\n",
              "                'suggestCharts', [key], {});\n",
              "          } catch (error) {\n",
              "            console.error('Error during call to suggestCharts:', error);\n",
              "          }\n",
              "          quickchartButtonEl.classList.remove('colab-df-spinner');\n",
              "          quickchartButtonEl.classList.add('colab-df-quickchart-complete');\n",
              "        }\n",
              "        (() => {\n",
              "          let quickchartButtonEl =\n",
              "            document.querySelector('#df-cbb19b3b-be2a-4c93-95d5-549fb4b42175 button');\n",
              "          quickchartButtonEl.style.display =\n",
              "            google.colab.kernel.accessAllowed ? 'block' : 'none';\n",
              "        })();\n",
              "      </script>\n",
              "    </div>\n",
              "\n",
              "    </div>\n",
              "  </div>\n"
            ],
            "application/vnd.google.colaboratory.intrinsic+json": {
              "type": "dataframe",
              "variable_name": "df",
              "summary": "{\n  \"name\": \"df\",\n  \"rows\": 1000,\n  \"fields\": [\n    {\n      \"column\": \"gender\",\n      \"properties\": {\n        \"dtype\": \"category\",\n        \"num_unique_values\": 2,\n        \"samples\": [\n          \"male\",\n          \"female\"\n        ],\n        \"semantic_type\": \"\",\n        \"description\": \"\"\n      }\n    },\n    {\n      \"column\": \"race/ethnicity\",\n      \"properties\": {\n        \"dtype\": \"category\",\n        \"num_unique_values\": 5,\n        \"samples\": [\n          \"group C\",\n          \"group E\"\n        ],\n        \"semantic_type\": \"\",\n        \"description\": \"\"\n      }\n    },\n    {\n      \"column\": \"parental level of education\",\n      \"properties\": {\n        \"dtype\": \"category\",\n        \"num_unique_values\": 6,\n        \"samples\": [\n          \"bachelor's degree\",\n          \"some college\"\n        ],\n        \"semantic_type\": \"\",\n        \"description\": \"\"\n      }\n    },\n    {\n      \"column\": \"lunch\",\n      \"properties\": {\n        \"dtype\": \"category\",\n        \"num_unique_values\": 2,\n        \"samples\": [\n          \"free/reduced\",\n          \"standard\"\n        ],\n        \"semantic_type\": \"\",\n        \"description\": \"\"\n      }\n    },\n    {\n      \"column\": \"test preparation course\",\n      \"properties\": {\n        \"dtype\": \"category\",\n        \"num_unique_values\": 2,\n        \"samples\": [\n          \"completed\",\n          \"none\"\n        ],\n        \"semantic_type\": \"\",\n        \"description\": \"\"\n      }\n    },\n    {\n      \"column\": \"math score\",\n      \"properties\": {\n        \"dtype\": \"number\",\n        \"std\": 15,\n        \"min\": 0,\n        \"max\": 100,\n        \"num_unique_values\": 81,\n        \"samples\": [\n          55,\n          72\n        ],\n        \"semantic_type\": \"\",\n        \"description\": \"\"\n      }\n    },\n    {\n      \"column\": \"reading score\",\n      \"properties\": {\n        \"dtype\": \"number\",\n        \"std\": 14,\n        \"min\": 17,\n        \"max\": 100,\n        \"num_unique_values\": 72,\n        \"samples\": [\n          78,\n          23\n        ],\n        \"semantic_type\": \"\",\n        \"description\": \"\"\n      }\n    },\n    {\n      \"column\": \"writing score\",\n      \"properties\": {\n        \"dtype\": \"number\",\n        \"std\": 15,\n        \"min\": 10,\n        \"max\": 100,\n        \"num_unique_values\": 77,\n        \"samples\": [\n          75,\n          76\n        ],\n        \"semantic_type\": \"\",\n        \"description\": \"\"\n      }\n    }\n  ]\n}"
            }
          },
          "metadata": {},
          "execution_count": 3
        }
      ]
    },
    {
      "cell_type": "code",
      "source": [
        "df.info()"
      ],
      "metadata": {
        "colab": {
          "base_uri": "https://localhost:8080/"
        },
        "id": "y1tVAYC728LM",
        "outputId": "ccc6e97b-7305-46f1-8fed-ea9ea72c23c2"
      },
      "execution_count": null,
      "outputs": [
        {
          "output_type": "stream",
          "name": "stdout",
          "text": [
            "<class 'pandas.core.frame.DataFrame'>\n",
            "RangeIndex: 1000 entries, 0 to 999\n",
            "Data columns (total 8 columns):\n",
            " #   Column                       Non-Null Count  Dtype \n",
            "---  ------                       --------------  ----- \n",
            " 0   gender                       1000 non-null   object\n",
            " 1   race/ethnicity               1000 non-null   object\n",
            " 2   parental level of education  1000 non-null   object\n",
            " 3   lunch                        1000 non-null   object\n",
            " 4   test preparation course      1000 non-null   object\n",
            " 5   math score                   1000 non-null   int64 \n",
            " 6   reading score                1000 non-null   int64 \n",
            " 7   writing score                1000 non-null   int64 \n",
            "dtypes: int64(3), object(5)\n",
            "memory usage: 62.6+ KB\n"
          ]
        }
      ]
    },
    {
      "cell_type": "code",
      "source": [
        "df.head()"
      ],
      "metadata": {
        "colab": {
          "base_uri": "https://localhost:8080/",
          "height": 224
        },
        "id": "DhsULioi2-XF",
        "outputId": "664f323a-6ce0-4f9f-bb22-21d82a9adb7f"
      },
      "execution_count": null,
      "outputs": [
        {
          "output_type": "execute_result",
          "data": {
            "text/plain": [
              "   gender race/ethnicity parental level of education         lunch  \\\n",
              "0  female        group B           bachelor's degree      standard   \n",
              "1  female        group C                some college      standard   \n",
              "2  female        group B             master's degree      standard   \n",
              "3    male        group A          associate's degree  free/reduced   \n",
              "4    male        group C                some college      standard   \n",
              "\n",
              "  test preparation course  math score  reading score  writing score  \n",
              "0                    none          72             72             74  \n",
              "1               completed          69             90             88  \n",
              "2                    none          90             95             93  \n",
              "3                    none          47             57             44  \n",
              "4                    none          76             78             75  "
            ],
            "text/html": [
              "\n",
              "  <div id=\"df-c6417f51-cbed-463c-a26f-786701072c7f\" class=\"colab-df-container\">\n",
              "    <div>\n",
              "<style scoped>\n",
              "    .dataframe tbody tr th:only-of-type {\n",
              "        vertical-align: middle;\n",
              "    }\n",
              "\n",
              "    .dataframe tbody tr th {\n",
              "        vertical-align: top;\n",
              "    }\n",
              "\n",
              "    .dataframe thead th {\n",
              "        text-align: right;\n",
              "    }\n",
              "</style>\n",
              "<table border=\"1\" class=\"dataframe\">\n",
              "  <thead>\n",
              "    <tr style=\"text-align: right;\">\n",
              "      <th></th>\n",
              "      <th>gender</th>\n",
              "      <th>race/ethnicity</th>\n",
              "      <th>parental level of education</th>\n",
              "      <th>lunch</th>\n",
              "      <th>test preparation course</th>\n",
              "      <th>math score</th>\n",
              "      <th>reading score</th>\n",
              "      <th>writing score</th>\n",
              "    </tr>\n",
              "  </thead>\n",
              "  <tbody>\n",
              "    <tr>\n",
              "      <th>0</th>\n",
              "      <td>female</td>\n",
              "      <td>group B</td>\n",
              "      <td>bachelor's degree</td>\n",
              "      <td>standard</td>\n",
              "      <td>none</td>\n",
              "      <td>72</td>\n",
              "      <td>72</td>\n",
              "      <td>74</td>\n",
              "    </tr>\n",
              "    <tr>\n",
              "      <th>1</th>\n",
              "      <td>female</td>\n",
              "      <td>group C</td>\n",
              "      <td>some college</td>\n",
              "      <td>standard</td>\n",
              "      <td>completed</td>\n",
              "      <td>69</td>\n",
              "      <td>90</td>\n",
              "      <td>88</td>\n",
              "    </tr>\n",
              "    <tr>\n",
              "      <th>2</th>\n",
              "      <td>female</td>\n",
              "      <td>group B</td>\n",
              "      <td>master's degree</td>\n",
              "      <td>standard</td>\n",
              "      <td>none</td>\n",
              "      <td>90</td>\n",
              "      <td>95</td>\n",
              "      <td>93</td>\n",
              "    </tr>\n",
              "    <tr>\n",
              "      <th>3</th>\n",
              "      <td>male</td>\n",
              "      <td>group A</td>\n",
              "      <td>associate's degree</td>\n",
              "      <td>free/reduced</td>\n",
              "      <td>none</td>\n",
              "      <td>47</td>\n",
              "      <td>57</td>\n",
              "      <td>44</td>\n",
              "    </tr>\n",
              "    <tr>\n",
              "      <th>4</th>\n",
              "      <td>male</td>\n",
              "      <td>group C</td>\n",
              "      <td>some college</td>\n",
              "      <td>standard</td>\n",
              "      <td>none</td>\n",
              "      <td>76</td>\n",
              "      <td>78</td>\n",
              "      <td>75</td>\n",
              "    </tr>\n",
              "  </tbody>\n",
              "</table>\n",
              "</div>\n",
              "    <div class=\"colab-df-buttons\">\n",
              "\n",
              "  <div class=\"colab-df-container\">\n",
              "    <button class=\"colab-df-convert\" onclick=\"convertToInteractive('df-c6417f51-cbed-463c-a26f-786701072c7f')\"\n",
              "            title=\"Convert this dataframe to an interactive table.\"\n",
              "            style=\"display:none;\">\n",
              "\n",
              "  <svg xmlns=\"http://www.w3.org/2000/svg\" height=\"24px\" viewBox=\"0 -960 960 960\">\n",
              "    <path d=\"M120-120v-720h720v720H120Zm60-500h600v-160H180v160Zm220 220h160v-160H400v160Zm0 220h160v-160H400v160ZM180-400h160v-160H180v160Zm440 0h160v-160H620v160ZM180-180h160v-160H180v160Zm440 0h160v-160H620v160Z\"/>\n",
              "  </svg>\n",
              "    </button>\n",
              "\n",
              "  <style>\n",
              "    .colab-df-container {\n",
              "      display:flex;\n",
              "      gap: 12px;\n",
              "    }\n",
              "\n",
              "    .colab-df-convert {\n",
              "      background-color: #E8F0FE;\n",
              "      border: none;\n",
              "      border-radius: 50%;\n",
              "      cursor: pointer;\n",
              "      display: none;\n",
              "      fill: #1967D2;\n",
              "      height: 32px;\n",
              "      padding: 0 0 0 0;\n",
              "      width: 32px;\n",
              "    }\n",
              "\n",
              "    .colab-df-convert:hover {\n",
              "      background-color: #E2EBFA;\n",
              "      box-shadow: 0px 1px 2px rgba(60, 64, 67, 0.3), 0px 1px 3px 1px rgba(60, 64, 67, 0.15);\n",
              "      fill: #174EA6;\n",
              "    }\n",
              "\n",
              "    .colab-df-buttons div {\n",
              "      margin-bottom: 4px;\n",
              "    }\n",
              "\n",
              "    [theme=dark] .colab-df-convert {\n",
              "      background-color: #3B4455;\n",
              "      fill: #D2E3FC;\n",
              "    }\n",
              "\n",
              "    [theme=dark] .colab-df-convert:hover {\n",
              "      background-color: #434B5C;\n",
              "      box-shadow: 0px 1px 3px 1px rgba(0, 0, 0, 0.15);\n",
              "      filter: drop-shadow(0px 1px 2px rgba(0, 0, 0, 0.3));\n",
              "      fill: #FFFFFF;\n",
              "    }\n",
              "  </style>\n",
              "\n",
              "    <script>\n",
              "      const buttonEl =\n",
              "        document.querySelector('#df-c6417f51-cbed-463c-a26f-786701072c7f button.colab-df-convert');\n",
              "      buttonEl.style.display =\n",
              "        google.colab.kernel.accessAllowed ? 'block' : 'none';\n",
              "\n",
              "      async function convertToInteractive(key) {\n",
              "        const element = document.querySelector('#df-c6417f51-cbed-463c-a26f-786701072c7f');\n",
              "        const dataTable =\n",
              "          await google.colab.kernel.invokeFunction('convertToInteractive',\n",
              "                                                    [key], {});\n",
              "        if (!dataTable) return;\n",
              "\n",
              "        const docLinkHtml = 'Like what you see? Visit the ' +\n",
              "          '<a target=\"_blank\" href=https://colab.research.google.com/notebooks/data_table.ipynb>data table notebook</a>'\n",
              "          + ' to learn more about interactive tables.';\n",
              "        element.innerHTML = '';\n",
              "        dataTable['output_type'] = 'display_data';\n",
              "        await google.colab.output.renderOutput(dataTable, element);\n",
              "        const docLink = document.createElement('div');\n",
              "        docLink.innerHTML = docLinkHtml;\n",
              "        element.appendChild(docLink);\n",
              "      }\n",
              "    </script>\n",
              "  </div>\n",
              "\n",
              "\n",
              "    <div id=\"df-ab9b2eeb-cd21-4475-bbaa-05f4120e978d\">\n",
              "      <button class=\"colab-df-quickchart\" onclick=\"quickchart('df-ab9b2eeb-cd21-4475-bbaa-05f4120e978d')\"\n",
              "                title=\"Suggest charts\"\n",
              "                style=\"display:none;\">\n",
              "\n",
              "<svg xmlns=\"http://www.w3.org/2000/svg\" height=\"24px\"viewBox=\"0 0 24 24\"\n",
              "     width=\"24px\">\n",
              "    <g>\n",
              "        <path d=\"M19 3H5c-1.1 0-2 .9-2 2v14c0 1.1.9 2 2 2h14c1.1 0 2-.9 2-2V5c0-1.1-.9-2-2-2zM9 17H7v-7h2v7zm4 0h-2V7h2v10zm4 0h-2v-4h2v4z\"/>\n",
              "    </g>\n",
              "</svg>\n",
              "      </button>\n",
              "\n",
              "<style>\n",
              "  .colab-df-quickchart {\n",
              "      --bg-color: #E8F0FE;\n",
              "      --fill-color: #1967D2;\n",
              "      --hover-bg-color: #E2EBFA;\n",
              "      --hover-fill-color: #174EA6;\n",
              "      --disabled-fill-color: #AAA;\n",
              "      --disabled-bg-color: #DDD;\n",
              "  }\n",
              "\n",
              "  [theme=dark] .colab-df-quickchart {\n",
              "      --bg-color: #3B4455;\n",
              "      --fill-color: #D2E3FC;\n",
              "      --hover-bg-color: #434B5C;\n",
              "      --hover-fill-color: #FFFFFF;\n",
              "      --disabled-bg-color: #3B4455;\n",
              "      --disabled-fill-color: #666;\n",
              "  }\n",
              "\n",
              "  .colab-df-quickchart {\n",
              "    background-color: var(--bg-color);\n",
              "    border: none;\n",
              "    border-radius: 50%;\n",
              "    cursor: pointer;\n",
              "    display: none;\n",
              "    fill: var(--fill-color);\n",
              "    height: 32px;\n",
              "    padding: 0;\n",
              "    width: 32px;\n",
              "  }\n",
              "\n",
              "  .colab-df-quickchart:hover {\n",
              "    background-color: var(--hover-bg-color);\n",
              "    box-shadow: 0 1px 2px rgba(60, 64, 67, 0.3), 0 1px 3px 1px rgba(60, 64, 67, 0.15);\n",
              "    fill: var(--button-hover-fill-color);\n",
              "  }\n",
              "\n",
              "  .colab-df-quickchart-complete:disabled,\n",
              "  .colab-df-quickchart-complete:disabled:hover {\n",
              "    background-color: var(--disabled-bg-color);\n",
              "    fill: var(--disabled-fill-color);\n",
              "    box-shadow: none;\n",
              "  }\n",
              "\n",
              "  .colab-df-spinner {\n",
              "    border: 2px solid var(--fill-color);\n",
              "    border-color: transparent;\n",
              "    border-bottom-color: var(--fill-color);\n",
              "    animation:\n",
              "      spin 1s steps(1) infinite;\n",
              "  }\n",
              "\n",
              "  @keyframes spin {\n",
              "    0% {\n",
              "      border-color: transparent;\n",
              "      border-bottom-color: var(--fill-color);\n",
              "      border-left-color: var(--fill-color);\n",
              "    }\n",
              "    20% {\n",
              "      border-color: transparent;\n",
              "      border-left-color: var(--fill-color);\n",
              "      border-top-color: var(--fill-color);\n",
              "    }\n",
              "    30% {\n",
              "      border-color: transparent;\n",
              "      border-left-color: var(--fill-color);\n",
              "      border-top-color: var(--fill-color);\n",
              "      border-right-color: var(--fill-color);\n",
              "    }\n",
              "    40% {\n",
              "      border-color: transparent;\n",
              "      border-right-color: var(--fill-color);\n",
              "      border-top-color: var(--fill-color);\n",
              "    }\n",
              "    60% {\n",
              "      border-color: transparent;\n",
              "      border-right-color: var(--fill-color);\n",
              "    }\n",
              "    80% {\n",
              "      border-color: transparent;\n",
              "      border-right-color: var(--fill-color);\n",
              "      border-bottom-color: var(--fill-color);\n",
              "    }\n",
              "    90% {\n",
              "      border-color: transparent;\n",
              "      border-bottom-color: var(--fill-color);\n",
              "    }\n",
              "  }\n",
              "</style>\n",
              "\n",
              "      <script>\n",
              "        async function quickchart(key) {\n",
              "          const quickchartButtonEl =\n",
              "            document.querySelector('#' + key + ' button');\n",
              "          quickchartButtonEl.disabled = true;  // To prevent multiple clicks.\n",
              "          quickchartButtonEl.classList.add('colab-df-spinner');\n",
              "          try {\n",
              "            const charts = await google.colab.kernel.invokeFunction(\n",
              "                'suggestCharts', [key], {});\n",
              "          } catch (error) {\n",
              "            console.error('Error during call to suggestCharts:', error);\n",
              "          }\n",
              "          quickchartButtonEl.classList.remove('colab-df-spinner');\n",
              "          quickchartButtonEl.classList.add('colab-df-quickchart-complete');\n",
              "        }\n",
              "        (() => {\n",
              "          let quickchartButtonEl =\n",
              "            document.querySelector('#df-ab9b2eeb-cd21-4475-bbaa-05f4120e978d button');\n",
              "          quickchartButtonEl.style.display =\n",
              "            google.colab.kernel.accessAllowed ? 'block' : 'none';\n",
              "        })();\n",
              "      </script>\n",
              "    </div>\n",
              "\n",
              "    </div>\n",
              "  </div>\n"
            ],
            "application/vnd.google.colaboratory.intrinsic+json": {
              "type": "dataframe",
              "variable_name": "df",
              "summary": "{\n  \"name\": \"df\",\n  \"rows\": 1000,\n  \"fields\": [\n    {\n      \"column\": \"gender\",\n      \"properties\": {\n        \"dtype\": \"category\",\n        \"num_unique_values\": 2,\n        \"samples\": [\n          \"male\",\n          \"female\"\n        ],\n        \"semantic_type\": \"\",\n        \"description\": \"\"\n      }\n    },\n    {\n      \"column\": \"race/ethnicity\",\n      \"properties\": {\n        \"dtype\": \"category\",\n        \"num_unique_values\": 5,\n        \"samples\": [\n          \"group C\",\n          \"group E\"\n        ],\n        \"semantic_type\": \"\",\n        \"description\": \"\"\n      }\n    },\n    {\n      \"column\": \"parental level of education\",\n      \"properties\": {\n        \"dtype\": \"category\",\n        \"num_unique_values\": 6,\n        \"samples\": [\n          \"bachelor's degree\",\n          \"some college\"\n        ],\n        \"semantic_type\": \"\",\n        \"description\": \"\"\n      }\n    },\n    {\n      \"column\": \"lunch\",\n      \"properties\": {\n        \"dtype\": \"category\",\n        \"num_unique_values\": 2,\n        \"samples\": [\n          \"free/reduced\",\n          \"standard\"\n        ],\n        \"semantic_type\": \"\",\n        \"description\": \"\"\n      }\n    },\n    {\n      \"column\": \"test preparation course\",\n      \"properties\": {\n        \"dtype\": \"category\",\n        \"num_unique_values\": 2,\n        \"samples\": [\n          \"completed\",\n          \"none\"\n        ],\n        \"semantic_type\": \"\",\n        \"description\": \"\"\n      }\n    },\n    {\n      \"column\": \"math score\",\n      \"properties\": {\n        \"dtype\": \"number\",\n        \"std\": 15,\n        \"min\": 0,\n        \"max\": 100,\n        \"num_unique_values\": 81,\n        \"samples\": [\n          55,\n          72\n        ],\n        \"semantic_type\": \"\",\n        \"description\": \"\"\n      }\n    },\n    {\n      \"column\": \"reading score\",\n      \"properties\": {\n        \"dtype\": \"number\",\n        \"std\": 14,\n        \"min\": 17,\n        \"max\": 100,\n        \"num_unique_values\": 72,\n        \"samples\": [\n          78,\n          23\n        ],\n        \"semantic_type\": \"\",\n        \"description\": \"\"\n      }\n    },\n    {\n      \"column\": \"writing score\",\n      \"properties\": {\n        \"dtype\": \"number\",\n        \"std\": 15,\n        \"min\": 10,\n        \"max\": 100,\n        \"num_unique_values\": 77,\n        \"samples\": [\n          75,\n          76\n        ],\n        \"semantic_type\": \"\",\n        \"description\": \"\"\n      }\n    }\n  ]\n}"
            }
          },
          "metadata": {},
          "execution_count": 5
        }
      ]
    },
    {
      "cell_type": "code",
      "source": [
        "df.isna().sum()"
      ],
      "metadata": {
        "colab": {
          "base_uri": "https://localhost:8080/",
          "height": 335
        },
        "id": "2IEPFYJM3q7d",
        "outputId": "25cb893c-79ce-4c30-c87c-d7c2f03341f3"
      },
      "execution_count": null,
      "outputs": [
        {
          "output_type": "execute_result",
          "data": {
            "text/plain": [
              "gender                         0\n",
              "race/ethnicity                 0\n",
              "parental level of education    0\n",
              "lunch                          0\n",
              "test preparation course        0\n",
              "math score                     0\n",
              "reading score                  0\n",
              "writing score                  0\n",
              "dtype: int64"
            ],
            "text/html": [
              "<div>\n",
              "<style scoped>\n",
              "    .dataframe tbody tr th:only-of-type {\n",
              "        vertical-align: middle;\n",
              "    }\n",
              "\n",
              "    .dataframe tbody tr th {\n",
              "        vertical-align: top;\n",
              "    }\n",
              "\n",
              "    .dataframe thead th {\n",
              "        text-align: right;\n",
              "    }\n",
              "</style>\n",
              "<table border=\"1\" class=\"dataframe\">\n",
              "  <thead>\n",
              "    <tr style=\"text-align: right;\">\n",
              "      <th></th>\n",
              "      <th>0</th>\n",
              "    </tr>\n",
              "  </thead>\n",
              "  <tbody>\n",
              "    <tr>\n",
              "      <th>gender</th>\n",
              "      <td>0</td>\n",
              "    </tr>\n",
              "    <tr>\n",
              "      <th>race/ethnicity</th>\n",
              "      <td>0</td>\n",
              "    </tr>\n",
              "    <tr>\n",
              "      <th>parental level of education</th>\n",
              "      <td>0</td>\n",
              "    </tr>\n",
              "    <tr>\n",
              "      <th>lunch</th>\n",
              "      <td>0</td>\n",
              "    </tr>\n",
              "    <tr>\n",
              "      <th>test preparation course</th>\n",
              "      <td>0</td>\n",
              "    </tr>\n",
              "    <tr>\n",
              "      <th>math score</th>\n",
              "      <td>0</td>\n",
              "    </tr>\n",
              "    <tr>\n",
              "      <th>reading score</th>\n",
              "      <td>0</td>\n",
              "    </tr>\n",
              "    <tr>\n",
              "      <th>writing score</th>\n",
              "      <td>0</td>\n",
              "    </tr>\n",
              "  </tbody>\n",
              "</table>\n",
              "</div><br><label><b>dtype:</b> int64</label>"
            ]
          },
          "metadata": {},
          "execution_count": 6
        }
      ]
    },
    {
      "cell_type": "code",
      "source": [
        "#Formula for average per columns - [Sum(all values) / number of values (rows)]\n",
        "df[\"math score\"].mean() #Average of this column - Arithmetic Mean (Normal Average)"
      ],
      "metadata": {
        "colab": {
          "base_uri": "https://localhost:8080/"
        },
        "id": "gGUP7Pdj3wJN",
        "outputId": "ac2a40ff-acee-4db8-e4ba-0d22a049c1ff"
      },
      "execution_count": null,
      "outputs": [
        {
          "output_type": "execute_result",
          "data": {
            "text/plain": [
              "np.float64(66.089)"
            ]
          },
          "metadata": {},
          "execution_count": 7
        }
      ]
    },
    {
      "cell_type": "code",
      "source": [
        "#MODE - Most frequently occuring value in my dataset\n",
        "df[\"math score\"].mode()[0] #Most frequent value"
      ],
      "metadata": {
        "colab": {
          "base_uri": "https://localhost:8080/"
        },
        "id": "2VJHn9Bw33Cx",
        "outputId": "4a180f26-2fc6-44f6-dd10-d78253a6ff61"
      },
      "execution_count": null,
      "outputs": [
        {
          "output_type": "execute_result",
          "data": {
            "text/plain": [
              "np.int64(65)"
            ]
          },
          "metadata": {},
          "execution_count": 25
        }
      ]
    },
    {
      "cell_type": "code",
      "source": [
        "df[\"math score\"].value_counts().head(1)"
      ],
      "metadata": {
        "colab": {
          "base_uri": "https://localhost:8080/",
          "height": 147
        },
        "id": "JtCO9xlA4MZF",
        "outputId": "367c211e-2010-4706-a650-b3653eb82802"
      },
      "execution_count": null,
      "outputs": [
        {
          "output_type": "execute_result",
          "data": {
            "text/plain": [
              "math score\n",
              "65    36\n",
              "Name: count, dtype: int64"
            ],
            "text/html": [
              "<div>\n",
              "<style scoped>\n",
              "    .dataframe tbody tr th:only-of-type {\n",
              "        vertical-align: middle;\n",
              "    }\n",
              "\n",
              "    .dataframe tbody tr th {\n",
              "        vertical-align: top;\n",
              "    }\n",
              "\n",
              "    .dataframe thead th {\n",
              "        text-align: right;\n",
              "    }\n",
              "</style>\n",
              "<table border=\"1\" class=\"dataframe\">\n",
              "  <thead>\n",
              "    <tr style=\"text-align: right;\">\n",
              "      <th></th>\n",
              "      <th>count</th>\n",
              "    </tr>\n",
              "    <tr>\n",
              "      <th>math score</th>\n",
              "      <th></th>\n",
              "    </tr>\n",
              "  </thead>\n",
              "  <tbody>\n",
              "    <tr>\n",
              "      <th>65</th>\n",
              "      <td>36</td>\n",
              "    </tr>\n",
              "  </tbody>\n",
              "</table>\n",
              "</div><br><label><b>dtype:</b> int64</label>"
            ]
          },
          "metadata": {},
          "execution_count": 15
        }
      ]
    },
    {
      "cell_type": "code",
      "source": [
        "#Median - Exact center of the data Once you have a sorted in Ascending order\n",
        "df[\"math score\"].median() #Exact center value\n",
        "\n",
        "#[1,2,3,4,5]\n",
        "#[1,2,3,4] #if even number you do mid point of center two values.."
      ],
      "metadata": {
        "colab": {
          "base_uri": "https://localhost:8080/"
        },
        "id": "kdg20WE_4YuA",
        "outputId": "947c930c-c683-4912-f628-c683bd6128cb"
      },
      "execution_count": null,
      "outputs": [
        {
          "output_type": "execute_result",
          "data": {
            "text/plain": [
              "66.0"
            ]
          },
          "metadata": {},
          "execution_count": 16
        }
      ]
    },
    {
      "cell_type": "code",
      "source": [
        "plt.hist?"
      ],
      "metadata": {
        "colab": {
          "base_uri": "https://localhost:8080/"
        },
        "id": "Vp6wTYlk7PH0",
        "outputId": "5e8f2d04-8066-4db1-9a89-9d231e67362d"
      },
      "execution_count": null,
      "outputs": [
        {
          "output_type": "stream",
          "name": "stdout",
          "text": [
            "Object `plt.hist` not found.\n"
          ]
        }
      ]
    },
    {
      "cell_type": "code",
      "source": [
        "import matplotlib.pyplot as plt\n",
        "#Uni-variate Analysis - one column\n",
        "#Choice of Bins - As per Logic and convinience |  There are rules - for tests not important here..  #sqrt(n)\n",
        "plt.figure() #Initializing empty Canvas\n",
        "plt.hist(df[\"math score\"],bins = 12) #Drawing the chart on the HISTOGRAM\n",
        "plt.title(\"Histogran of Math Scores\")\n",
        "plt.xlabel(\"Math Score\")\n",
        "plt.ylabel(\"Frequency of Scores\")\n",
        "plt.axvline(df[\"math score\"].mean(),color = \"red\")\n",
        "plt.axvline(df[\"math score\"].median(),color = \"green\")\n",
        "plt.axvline(df[\"math score\"].mode()[0],color = \"yellow\")\n",
        "plt.show()\n",
        "#MEAN - MEDIAN - MODE: MEASURES OF CENTRAL TENDENCY!"
      ],
      "metadata": {
        "colab": {
          "base_uri": "https://localhost:8080/",
          "height": 472
        },
        "id": "sFvdfNMM4wM3",
        "outputId": "ba264c76-269a-40b2-bd7b-d7d24f521725"
      },
      "execution_count": null,
      "outputs": [
        {
          "output_type": "display_data",
          "data": {
            "text/plain": [
              "<Figure size 640x480 with 1 Axes>"
            ],
            "image/png": "[encoded data removed]"
          },
          "metadata": {}
        }
      ]
    },
    {
      "cell_type": "code",
      "source": [
        "plt.hist?"
      ],
      "metadata": {
        "id": "2LSe_50RH81t"
      },
      "execution_count": null,
      "outputs": []
    },
    {
      "cell_type": "code",
      "source": [
        "counts, bin_edges, patchs = plt.hist(df[\"math score\"],bins = 12)"
      ],
      "metadata": {
        "colab": {
          "base_uri": "https://localhost:8080/",
          "height": 430
        },
        "id": "67-3Om6-F-5u",
        "outputId": "43ef79ec-1954-4aa3-f74e-09ff0a9ad3cd"
      },
      "execution_count": null,
      "outputs": [
        {
          "output_type": "display_data",
          "data": {
            "text/plain": [
              "<Figure size 640x480 with 1 Axes>"
            ],
            "image/png": "[encoded data removed]"
          },
          "metadata": {}
        }
      ]
    },
    {
      "cell_type": "code",
      "source": [
        "counts"
      ],
      "metadata": {
        "colab": {
          "base_uri": "https://localhost:8080/"
        },
        "id": "wr3WmJ1fHj7c",
        "outputId": "33bab7d7-4cd7-4660-8dca-81017fd710be"
      },
      "execution_count": null,
      "outputs": [
        {
          "output_type": "execute_result",
          "data": {
            "text/plain": [
              "array([  2.,   0.,   5.,  13.,  36.,  79., 156., 216., 198., 167.,  87.,\n",
              "        41.])"
            ]
          },
          "metadata": {},
          "execution_count": 109
        }
      ]
    },
    {
      "cell_type": "code",
      "source": [
        "bin_edges"
      ],
      "metadata": {
        "colab": {
          "base_uri": "https://localhost:8080/"
        },
        "id": "NSsE9jbLGGvS",
        "outputId": "65ba7aec-acc2-4e3f-9453-3c6268402945"
      },
      "execution_count": null,
      "outputs": [
        {
          "output_type": "execute_result",
          "data": {
            "text/plain": [
              "array([  0.        ,   8.33333333,  16.66666667,  25.        ,\n",
              "        33.33333333,  41.66666667,  50.        ,  58.33333333,\n",
              "        66.66666667,  75.        ,  83.33333333,  91.66666667,\n",
              "       100.        ])"
            ]
          },
          "metadata": {},
          "execution_count": 110
        }
      ]
    },
    {
      "cell_type": "code",
      "source": [
        "[1,2,3,4,5,6,7] #AVERAGE = 4 | MEDIAN = 4"
      ],
      "metadata": {
        "colab": {
          "base_uri": "https://localhost:8080/"
        },
        "id": "easaZaP57-Jn",
        "outputId": "35c28a23-3923-4335-ce95-2abf214fb3f3"
      },
      "execution_count": null,
      "outputs": [
        {
          "output_type": "execute_result",
          "data": {
            "text/plain": [
              "[1, 2, 3, 4, 5, 6, 7]"
            ]
          },
          "metadata": {},
          "execution_count": 27
        }
      ]
    },
    {
      "cell_type": "code",
      "source": [
        "scores= df[\"math score\"].tolist()"
      ],
      "metadata": {
        "id": "b3rxtFLM-IsS"
      },
      "execution_count": null,
      "outputs": []
    },
    {
      "cell_type": "code",
      "source": [
        "def Average(list):\n",
        "  return sum(list)/len(list)"
      ],
      "metadata": {
        "id": "Mq9pjf_U-6Qh"
      },
      "execution_count": null,
      "outputs": []
    },
    {
      "cell_type": "code",
      "source": [
        "#TEST - 1 When I add more values around the mean / nearer to the mean the mean remins almost the smae\n",
        "for i in range(40,80):\n",
        "  scores.append(i)"
      ],
      "metadata": {
        "id": "ZLezVJuh-_KI"
      },
      "execution_count": null,
      "outputs": []
    },
    {
      "cell_type": "code",
      "source": [
        "def Median(list):\n",
        "  if len(list)%2 == 0:\n",
        "    return (sorted(list)[len(list)//2] + sorted(list)[len(list)//2 - 1])/2\n",
        "  else:\n",
        "    return sorted(list)[len(list)//2]"
      ],
      "metadata": {
        "id": "EDFxVDSzD6Xg"
      },
      "execution_count": null,
      "outputs": []
    },
    {
      "cell_type": "code",
      "source": [
        "twoReturn, boolvalue = Median(list)"
      ],
      "metadata": {
        "id": "L-jYutCjIKRO"
      },
      "execution_count": null,
      "outputs": []
    },
    {
      "cell_type": "code",
      "source": [
        "Average(scores)"
      ],
      "metadata": {
        "colab": {
          "base_uri": "https://localhost:8080/"
        },
        "id": "W3QVJgEB-0js",
        "outputId": "e8220821-f913-496a-a1b4-3e96b58da46e"
      },
      "execution_count": null,
      "outputs": [
        {
          "output_type": "execute_result",
          "data": {
            "text/plain": [
              "65.83557692307693"
            ]
          },
          "metadata": {},
          "execution_count": 75
        }
      ]
    },
    {
      "cell_type": "code",
      "source": [
        "Median(scores)"
      ],
      "metadata": {
        "colab": {
          "base_uri": "https://localhost:8080/"
        },
        "id": "QisneJgyECrE",
        "outputId": "93c2f8fe-7ab5-4065-c184-b09515bf48c1"
      },
      "execution_count": null,
      "outputs": [
        {
          "output_type": "execute_result",
          "data": {
            "text/plain": [
              "66.0"
            ]
          },
          "metadata": {},
          "execution_count": 78
        }
      ]
    },
    {
      "cell_type": "code",
      "source": [
        "scores_low = df[\"math score\"].tolist()"
      ],
      "metadata": {
        "id": "lNNbb0Bg_0KA"
      },
      "execution_count": null,
      "outputs": []
    },
    {
      "cell_type": "code",
      "source": [
        "#TEST - 2 Extreme values drag the mean towards themselves\n",
        "for i in range(0,20):\n",
        "  print(i)\n",
        "  scores_low.append(10)"
      ],
      "metadata": {
        "colab": {
          "base_uri": "https://localhost:8080/"
        },
        "id": "8ETw_Mvi-5GN",
        "outputId": "5d1399b5-b970-4c50-9197-44c2c0b01fda"
      },
      "execution_count": null,
      "outputs": [
        {
          "output_type": "stream",
          "name": "stdout",
          "text": [
            "0\n",
            "1\n",
            "2\n",
            "3\n",
            "4\n",
            "5\n",
            "6\n",
            "7\n",
            "8\n",
            "9\n",
            "10\n",
            "11\n",
            "12\n",
            "13\n",
            "14\n",
            "15\n",
            "16\n",
            "17\n",
            "18\n",
            "19\n"
          ]
        }
      ]
    },
    {
      "cell_type": "code",
      "source": [
        "Average(scores_low)"
      ],
      "metadata": {
        "colab": {
          "base_uri": "https://localhost:8080/"
        },
        "id": "tWPlgsPy_4zR",
        "outputId": "02084073-2330-467c-be45-767f3e96ff26"
      },
      "execution_count": null,
      "outputs": [
        {
          "output_type": "execute_result",
          "data": {
            "text/plain": [
              "60.07946428571429"
            ]
          },
          "metadata": {},
          "execution_count": 89
        }
      ]
    },
    {
      "cell_type": "code",
      "source": [
        "Median(scores_low)"
      ],
      "metadata": {
        "colab": {
          "base_uri": "https://localhost:8080/"
        },
        "id": "QNRl35PfEGIY",
        "outputId": "3476cf25-d6c4-4d6c-b6de-3923ba686e4e"
      },
      "execution_count": null,
      "outputs": [
        {
          "output_type": "execute_result",
          "data": {
            "text/plain": [
              "64.0"
            ]
          },
          "metadata": {},
          "execution_count": 87
        }
      ]
    },
    {
      "cell_type": "code",
      "source": [
        "scores_high = df[\"math score\"].tolist()"
      ],
      "metadata": {
        "id": "pVBcwlt2A3Dy"
      },
      "execution_count": null,
      "outputs": []
    },
    {
      "cell_type": "code",
      "source": [
        "for i in range(0,20):\n",
        "  print(i)\n",
        "  scores_high.append(100)"
      ],
      "metadata": {
        "colab": {
          "base_uri": "https://localhost:8080/"
        },
        "id": "fIQcdeZt_6i6",
        "outputId": "ce8b78a5-9c05-4375-d24c-f10b46daacec"
      },
      "execution_count": null,
      "outputs": [
        {
          "output_type": "stream",
          "name": "stdout",
          "text": [
            "0\n",
            "1\n",
            "2\n",
            "3\n",
            "4\n",
            "5\n",
            "6\n",
            "7\n",
            "8\n",
            "9\n",
            "10\n",
            "11\n",
            "12\n",
            "13\n",
            "14\n",
            "15\n",
            "16\n",
            "17\n",
            "18\n",
            "19\n"
          ]
        }
      ]
    },
    {
      "cell_type": "code",
      "source": [
        "Average(scores_high)"
      ],
      "metadata": {
        "colab": {
          "base_uri": "https://localhost:8080/"
        },
        "id": "rgxAZNhOA57P",
        "outputId": "13ae6f91-f843-4511-af98-b5462d4aed52"
      },
      "execution_count": null,
      "outputs": [
        {
          "output_type": "execute_result",
          "data": {
            "text/plain": [
              "70.25350877192983"
            ]
          },
          "metadata": {},
          "execution_count": 71
        }
      ]
    },
    {
      "cell_type": "code",
      "source": [
        "df[\"math score\"].std() #Average deviations  of values from my mean"
      ],
      "metadata": {
        "colab": {
          "base_uri": "https://localhost:8080/"
        },
        "id": "FzWTlqqcA62f",
        "outputId": "7d65430a-00a1-4bef-88d0-8d56102fafa3"
      },
      "execution_count": null,
      "outputs": [
        {
          "output_type": "execute_result",
          "data": {
            "text/plain": [
              "15.163080096009468"
            ]
          },
          "metadata": {},
          "execution_count": 111
        }
      ]
    },
    {
      "cell_type": "code",
      "source": [
        "df[\"math score\"].var()"
      ],
      "metadata": {
        "colab": {
          "base_uri": "https://localhost:8080/"
        },
        "id": "6jbfGIBlP-zH",
        "outputId": "4af6a13c-0bb2-47a3-9234-e4d5902d4132"
      },
      "execution_count": null,
      "outputs": [
        {
          "output_type": "execute_result",
          "data": {
            "text/plain": [
              "229.91899799799847"
            ]
          },
          "metadata": {},
          "execution_count": 112
        }
      ]
    },
    {
      "cell_type": "code",
      "source": [
        "data = {\"scores\":[85,90,78,92,88]}"
      ],
      "metadata": {
        "id": "QRBQHUwpQAdb"
      },
      "execution_count": null,
      "outputs": []
    },
    {
      "cell_type": "code",
      "source": [
        "df = pd.DataFrame(data)"
      ],
      "metadata": {
        "id": "2EDLcpScQPRi"
      },
      "execution_count": null,
      "outputs": []
    },
    {
      "cell_type": "code",
      "source": [
        "plt.figure(figsize=(8,5))\n",
        "x_positions = range(len(df[\"scores\"]))\n",
        "plt.scatter(x_positions,df[\"scores\"])\n",
        "\n",
        "plt.axhline(df[\"scores\"].mean(),color = \"red\") #horizontal line\n",
        "\n",
        "for i, val in enumerate(df[\"scores\"]):\n",
        "  print(f\"The index {i}\")\n",
        "  print(f\"The value {val}\")\n",
        "  plt.plot([i,i],[val,df[\"scores\"].mean()],linestyle = \"--\",color = \"black\")\n",
        "  #plt.plot([i,i],[val,df[\"scores\"].median()],linestyle = \"--\",color = \"black\")\"\"\n",
        "\n",
        "plt.xticks(x_positions,[f\"test {i+1}\" for i in x_positions]) #Ticker for each value in x\n",
        "plt.ylabel(\"Score\")\n",
        "plt.xlabel(\"Test\")\n",
        "plt.title(\"Test Scores\")\n",
        "plt.show()"
      ],
      "metadata": {
        "colab": {
          "base_uri": "https://localhost:8080/",
          "height": 666
        },
        "id": "hIGsRhJeQROc",
        "outputId": "63e2a417-b814-4a71-917d-b88dbdb50ced"
      },
      "execution_count": null,
      "outputs": [
        {
          "output_type": "stream",
          "name": "stdout",
          "text": [
            "The index 0\n",
            "The value 85\n",
            "The index 1\n",
            "The value 90\n",
            "The index 2\n",
            "The value 78\n",
            "The index 3\n",
            "The value 92\n",
            "The index 4\n",
            "The value 88\n"
          ]
        },
        {
          "output_type": "display_data",
          "data": {
            "text/plain": [
              "<Figure size 800x500 with 1 Axes>"
            ],
            "image/png": "[encoded data removed]"
          },
          "metadata": {}
        }
      ]
    },
    {
      "cell_type": "markdown",
      "source": [],
      "metadata": {
        "id": "S0SJL_nJRByf"
      }
    },
    {
      "cell_type": "code",
      "source": [],
      "metadata": {
        "id": "IFPiWaf-U_mE"
      },
      "execution_count": null,
      "outputs": []
    },
    {
      "cell_type": "markdown",
      "source": [
        "![image.png](data:image/png;base64,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)"
      ],
      "metadata": {
        "id": "hpkO_pNSVlSq"
      }
    },
    {
      "cell_type": "code",
      "source": [
        "df['deviations_from_the_mean'] = df['scores'].apply(lambda x: x-df['scores'].mean()) #Deviation from the mean.."
      ],
      "metadata": {
        "id": "jc_DIVHpQcZp"
      },
      "execution_count": null,
      "outputs": []
    },
    {
      "cell_type": "code",
      "source": [
        "df['deviations_squared'] = df['deviations_from_the_mean'].apply(lambda x: x**2) #Deviation from the mean squared.."
      ],
      "metadata": {
        "id": "OG6pdOStTSHV"
      },
      "execution_count": null,
      "outputs": []
    },
    {
      "cell_type": "code",
      "source": [
        "df['deviations_squared'].mean() #Variance Mean Sum of Squared Deviations"
      ],
      "metadata": {
        "colab": {
          "base_uri": "https://localhost:8080/"
        },
        "id": "-QHlvG-WXtDt",
        "outputId": "ed367c7e-1b48-49f6-c9ec-f67536235b53"
      },
      "execution_count": null,
      "outputs": [
        {
          "output_type": "execute_result",
          "data": {
            "text/plain": [
              "np.float64(23.84)"
            ]
          },
          "metadata": {},
          "execution_count": 152
        }
      ]
    },
    {
      "cell_type": "code",
      "source": [
        "np.sqrt(df['deviations_squared'].mean()) #sqrt(Average Squared Deviations) Standard Deviation Root Mean Squared Deviations"
      ],
      "metadata": {
        "colab": {
          "base_uri": "https://localhost:8080/"
        },
        "id": "AmL_2gIFTao4",
        "outputId": "d7f72917-5d24-4be1-a738-0847a3ed35c8"
      },
      "execution_count": null,
      "outputs": [
        {
          "output_type": "execute_result",
          "data": {
            "text/plain": [
              "np.float64(4.882622246293481)"
            ]
          },
          "metadata": {},
          "execution_count": 145
        }
      ]
    },
    {
      "cell_type": "code",
      "source": [
        "df #to say that extreme values are not present in the data / To understand how spread my data is from the center\n",
        "# I need Average deviations..\n",
        "# 1. Describe - Univariate Analysis\n",
        "#   1.a Center of the data (Mean or Median or Mode) | Mean and Median are Numerical measures Mode can be used for a category and number\n",
        "#   1.b you need spread of the data (STD deviation)"
      ],
      "metadata": {
        "colab": {
          "base_uri": "https://localhost:8080/",
          "height": 206
        },
        "id": "6eCpY54iRuVa",
        "outputId": "17158d99-478f-44cf-a536-7002c55828c4"
      },
      "execution_count": null,
      "outputs": [
        {
          "output_type": "execute_result",
          "data": {
            "text/plain": [
              "   scores  deviations_from_the_mean  deviations_squared\n",
              "0      85                      -1.6                2.56\n",
              "1      90                       3.4               11.56\n",
              "2      78                      -8.6               73.96\n",
              "3      92                       5.4               29.16\n",
              "4      88                       1.4                1.96"
            ],
            "text/html": [
              "\n",
              "  <div id=\"df-03a27fd3-3d27-4cbc-8188-e9b122d2b1b1\" class=\"colab-df-container\">\n",
              "    <div>\n",
              "<style scoped>\n",
              "    .dataframe tbody tr th:only-of-type {\n",
              "        vertical-align: middle;\n",
              "    }\n",
              "\n",
              "    .dataframe tbody tr th {\n",
              "        vertical-align: top;\n",
              "    }\n",
              "\n",
              "    .dataframe thead th {\n",
              "        text-align: right;\n",
              "    }\n",
              "</style>\n",
              "<table border=\"1\" class=\"dataframe\">\n",
              "  <thead>\n",
              "    <tr style=\"text-align: right;\">\n",
              "      <th></th>\n",
              "      <th>scores</th>\n",
              "      <th>deviations_from_the_mean</th>\n",
              "      <th>deviations_squared</th>\n",
              "    </tr>\n",
              "  </thead>\n",
              "  <tbody>\n",
              "    <tr>\n",
              "      <th>0</th>\n",
              "      <td>85</td>\n",
              "      <td>-1.6</td>\n",
              "      <td>2.56</td>\n",
              "    </tr>\n",
              "    <tr>\n",
              "      <th>1</th>\n",
              "      <td>90</td>\n",
              "      <td>3.4</td>\n",
              "      <td>11.56</td>\n",
              "    </tr>\n",
              "    <tr>\n",
              "      <th>2</th>\n",
              "      <td>78</td>\n",
              "      <td>-8.6</td>\n",
              "      <td>73.96</td>\n",
              "    </tr>\n",
              "    <tr>\n",
              "      <th>3</th>\n",
              "      <td>92</td>\n",
              "      <td>5.4</td>\n",
              "      <td>29.16</td>\n",
              "    </tr>\n",
              "    <tr>\n",
              "      <th>4</th>\n",
              "      <td>88</td>\n",
              "      <td>1.4</td>\n",
              "      <td>1.96</td>\n",
              "    </tr>\n",
              "  </tbody>\n",
              "</table>\n",
              "</div>\n",
              "    <div class=\"colab-df-buttons\">\n",
              "\n",
              "  <div class=\"colab-df-container\">\n",
              "    <button class=\"colab-df-convert\" onclick=\"convertToInteractive('df-03a27fd3-3d27-4cbc-8188-e9b122d2b1b1')\"\n",
              "            title=\"Convert this dataframe to an interactive table.\"\n",
              "            style=\"display:none;\">\n",
              "\n",
              "  <svg xmlns=\"http://www.w3.org/2000/svg\" height=\"24px\" viewBox=\"0 -960 960 960\">\n",
              "    <path d=\"M120-120v-720h720v720H120Zm60-500h600v-160H180v160Zm220 220h160v-160H400v160Zm0 220h160v-160H400v160ZM180-400h160v-160H180v160Zm440 0h160v-160H620v160ZM180-180h160v-160H180v160Zm440 0h160v-160H620v160Z\"/>\n",
              "  </svg>\n",
              "    </button>\n",
              "\n",
              "  <style>\n",
              "    .colab-df-container {\n",
              "      display:flex;\n",
              "      gap: 12px;\n",
              "    }\n",
              "\n",
              "    .colab-df-convert {\n",
              "      background-color: #E8F0FE;\n",
              "      border: none;\n",
              "      border-radius: 50%;\n",
              "      cursor: pointer;\n",
              "      display: none;\n",
              "      fill: #1967D2;\n",
              "      height: 32px;\n",
              "      padding: 0 0 0 0;\n",
              "      width: 32px;\n",
              "    }\n",
              "\n",
              "    .colab-df-convert:hover {\n",
              "      background-color: #E2EBFA;\n",
              "      box-shadow: 0px 1px 2px rgba(60, 64, 67, 0.3), 0px 1px 3px 1px rgba(60, 64, 67, 0.15);\n",
              "      fill: #174EA6;\n",
              "    }\n",
              "\n",
              "    .colab-df-buttons div {\n",
              "      margin-bottom: 4px;\n",
              "    }\n",
              "\n",
              "    [theme=dark] .colab-df-convert {\n",
              "      background-color: #3B4455;\n",
              "      fill: #D2E3FC;\n",
              "    }\n",
              "\n",
              "    [theme=dark] .colab-df-convert:hover {\n",
              "      background-color: #434B5C;\n",
              "      box-shadow: 0px 1px 3px 1px rgba(0, 0, 0, 0.15);\n",
              "      filter: drop-shadow(0px 1px 2px rgba(0, 0, 0, 0.3));\n",
              "      fill: #FFFFFF;\n",
              "    }\n",
              "  </style>\n",
              "\n",
              "    <script>\n",
              "      const buttonEl =\n",
              "        document.querySelector('#df-03a27fd3-3d27-4cbc-8188-e9b122d2b1b1 button.colab-df-convert');\n",
              "      buttonEl.style.display =\n",
              "        google.colab.kernel.accessAllowed ? 'block' : 'none';\n",
              "\n",
              "      async function convertToInteractive(key) {\n",
              "        const element = document.querySelector('#df-03a27fd3-3d27-4cbc-8188-e9b122d2b1b1');\n",
              "        const dataTable =\n",
              "          await google.colab.kernel.invokeFunction('convertToInteractive',\n",
              "                                                    [key], {});\n",
              "        if (!dataTable) return;\n",
              "\n",
              "        const docLinkHtml = 'Like what you see? Visit the ' +\n",
              "          '<a target=\"_blank\" href=https://colab.research.google.com/notebooks/data_table.ipynb>data table notebook</a>'\n",
              "          + ' to learn more about interactive tables.';\n",
              "        element.innerHTML = '';\n",
              "        dataTable['output_type'] = 'display_data';\n",
              "        await google.colab.output.renderOutput(dataTable, element);\n",
              "        const docLink = document.createElement('div');\n",
              "        docLink.innerHTML = docLinkHtml;\n",
              "        element.appendChild(docLink);\n",
              "      }\n",
              "    </script>\n",
              "  </div>\n",
              "\n",
              "\n",
              "    <div id=\"df-e9f2f027-6a53-45eb-877b-6a1f4c7d60a5\">\n",
              "      <button class=\"colab-df-quickchart\" onclick=\"quickchart('df-e9f2f027-6a53-45eb-877b-6a1f4c7d60a5')\"\n",
              "                title=\"Suggest charts\"\n",
              "                style=\"display:none;\">\n",
              "\n",
              "<svg xmlns=\"http://www.w3.org/2000/svg\" height=\"24px\"viewBox=\"0 0 24 24\"\n",
              "     width=\"24px\">\n",
              "    <g>\n",
              "        <path d=\"M19 3H5c-1.1 0-2 .9-2 2v14c0 1.1.9 2 2 2h14c1.1 0 2-.9 2-2V5c0-1.1-.9-2-2-2zM9 17H7v-7h2v7zm4 0h-2V7h2v10zm4 0h-2v-4h2v4z\"/>\n",
              "    </g>\n",
              "</svg>\n",
              "      </button>\n",
              "\n",
              "<style>\n",
              "  .colab-df-quickchart {\n",
              "      --bg-color: #E8F0FE;\n",
              "      --fill-color: #1967D2;\n",
              "      --hover-bg-color: #E2EBFA;\n",
              "      --hover-fill-color: #174EA6;\n",
              "      --disabled-fill-color: #AAA;\n",
              "      --disabled-bg-color: #DDD;\n",
              "  }\n",
              "\n",
              "  [theme=dark] .colab-df-quickchart {\n",
              "      --bg-color: #3B4455;\n",
              "      --fill-color: #D2E3FC;\n",
              "      --hover-bg-color: #434B5C;\n",
              "      --hover-fill-color: #FFFFFF;\n",
              "      --disabled-bg-color: #3B4455;\n",
              "      --disabled-fill-color: #666;\n",
              "  }\n",
              "\n",
              "  .colab-df-quickchart {\n",
              "    background-color: var(--bg-color);\n",
              "    border: none;\n",
              "    border-radius: 50%;\n",
              "    cursor: pointer;\n",
              "    display: none;\n",
              "    fill: var(--fill-color);\n",
              "    height: 32px;\n",
              "    padding: 0;\n",
              "    width: 32px;\n",
              "  }\n",
              "\n",
              "  .colab-df-quickchart:hover {\n",
              "    background-color: var(--hover-bg-color);\n",
              "    box-shadow: 0 1px 2px rgba(60, 64, 67, 0.3), 0 1px 3px 1px rgba(60, 64, 67, 0.15);\n",
              "    fill: var(--button-hover-fill-color);\n",
              "  }\n",
              "\n",
              "  .colab-df-quickchart-complete:disabled,\n",
              "  .colab-df-quickchart-complete:disabled:hover {\n",
              "    background-color: var(--disabled-bg-color);\n",
              "    fill: var(--disabled-fill-color);\n",
              "    box-shadow: none;\n",
              "  }\n",
              "\n",
              "  .colab-df-spinner {\n",
              "    border: 2px solid var(--fill-color);\n",
              "    border-color: transparent;\n",
              "    border-bottom-color: var(--fill-color);\n",
              "    animation:\n",
              "      spin 1s steps(1) infinite;\n",
              "  }\n",
              "\n",
              "  @keyframes spin {\n",
              "    0% {\n",
              "      border-color: transparent;\n",
              "      border-bottom-color: var(--fill-color);\n",
              "      border-left-color: var(--fill-color);\n",
              "    }\n",
              "    20% {\n",
              "      border-color: transparent;\n",
              "      border-left-color: var(--fill-color);\n",
              "      border-top-color: var(--fill-color);\n",
              "    }\n",
              "    30% {\n",
              "      border-color: transparent;\n",
              "      border-left-color: var(--fill-color);\n",
              "      border-top-color: var(--fill-color);\n",
              "      border-right-color: var(--fill-color);\n",
              "    }\n",
              "    40% {\n",
              "      border-color: transparent;\n",
              "      border-right-color: var(--fill-color);\n",
              "      border-top-color: var(--fill-color);\n",
              "    }\n",
              "    60% {\n",
              "      border-color: transparent;\n",
              "      border-right-color: var(--fill-color);\n",
              "    }\n",
              "    80% {\n",
              "      border-color: transparent;\n",
              "      border-right-color: var(--fill-color);\n",
              "      border-bottom-color: var(--fill-color);\n",
              "    }\n",
              "    90% {\n",
              "      border-color: transparent;\n",
              "      border-bottom-color: var(--fill-color);\n",
              "    }\n",
              "  }\n",
              "</style>\n",
              "\n",
              "      <script>\n",
              "        async function quickchart(key) {\n",
              "          const quickchartButtonEl =\n",
              "            document.querySelector('#' + key + ' button');\n",
              "          quickchartButtonEl.disabled = true;  // To prevent multiple clicks.\n",
              "          quickchartButtonEl.classList.add('colab-df-spinner');\n",
              "          try {\n",
              "            const charts = await google.colab.kernel.invokeFunction(\n",
              "                'suggestCharts', [key], {});\n",
              "          } catch (error) {\n",
              "            console.error('Error during call to suggestCharts:', error);\n",
              "          }\n",
              "          quickchartButtonEl.classList.remove('colab-df-spinner');\n",
              "          quickchartButtonEl.classList.add('colab-df-quickchart-complete');\n",
              "        }\n",
              "        (() => {\n",
              "          let quickchartButtonEl =\n",
              "            document.querySelector('#df-e9f2f027-6a53-45eb-877b-6a1f4c7d60a5 button');\n",
              "          quickchartButtonEl.style.display =\n",
              "            google.colab.kernel.accessAllowed ? 'block' : 'none';\n",
              "        })();\n",
              "      </script>\n",
              "    </div>\n",
              "\n",
              "  <div id=\"id_9c3687db-03fa-43f3-9271-6ee56f5e0e94\">\n",
              "    <style>\n",
              "      .colab-df-generate {\n",
              "        background-color: #E8F0FE;\n",
              "        border: none;\n",
              "        border-radius: 50%;\n",
              "        cursor: pointer;\n",
              "        display: none;\n",
              "        fill: #1967D2;\n",
              "        height: 32px;\n",
              "        padding: 0 0 0 0;\n",
              "        width: 32px;\n",
              "      }\n",
              "\n",
              "      .colab-df-generate:hover {\n",
              "        background-color: #E2EBFA;\n",
              "        box-shadow: 0px 1px 2px rgba(60, 64, 67, 0.3), 0px 1px 3px 1px rgba(60, 64, 67, 0.15);\n",
              "        fill: #174EA6;\n",
              "      }\n",
              "\n",
              "      [theme=dark] .colab-df-generate {\n",
              "        background-color: #3B4455;\n",
              "        fill: #D2E3FC;\n",
              "      }\n",
              "\n",
              "      [theme=dark] .colab-df-generate:hover {\n",
              "        background-color: #434B5C;\n",
              "        box-shadow: 0px 1px 3px 1px rgba(0, 0, 0, 0.15);\n",
              "        filter: drop-shadow(0px 1px 2px rgba(0, 0, 0, 0.3));\n",
              "        fill: #FFFFFF;\n",
              "      }\n",
              "    </style>\n",
              "    <button class=\"colab-df-generate\" onclick=\"generateWithVariable('df')\"\n",
              "            title=\"Generate code using this dataframe.\"\n",
              "            style=\"display:none;\">\n",
              "\n",
              "  <svg xmlns=\"http://www.w3.org/2000/svg\" height=\"24px\"viewBox=\"0 0 24 24\"\n",
              "       width=\"24px\">\n",
              "    <path d=\"M7,19H8.4L18.45,9,17,7.55,7,17.6ZM5,21V16.75L18.45,3.32a2,2,0,0,1,2.83,0l1.4,1.43a1.91,1.91,0,0,1,.58,1.4,1.91,1.91,0,0,1-.58,1.4L9.25,21ZM18.45,9,17,7.55Zm-12,3A5.31,5.31,0,0,0,4.9,8.1,5.31,5.31,0,0,0,1,6.5,5.31,5.31,0,0,0,4.9,4.9,5.31,5.31,0,0,0,6.5,1,5.31,5.31,0,0,0,8.1,4.9,5.31,5.31,0,0,0,12,6.5,5.46,5.46,0,0,0,6.5,12Z\"/>\n",
              "  </svg>\n",
              "    </button>\n",
              "    <script>\n",
              "      (() => {\n",
              "      const buttonEl =\n",
              "        document.querySelector('#id_9c3687db-03fa-43f3-9271-6ee56f5e0e94 button.colab-df-generate');\n",
              "      buttonEl.style.display =\n",
              "        google.colab.kernel.accessAllowed ? 'block' : 'none';\n",
              "\n",
              "      buttonEl.onclick = () => {\n",
              "        google.colab.notebook.generateWithVariable('df');\n",
              "      }\n",
              "      })();\n",
              "    </script>\n",
              "  </div>\n",
              "\n",
              "    </div>\n",
              "  </div>\n"
            ],
            "application/vnd.google.colaboratory.intrinsic+json": {
              "type": "dataframe",
              "variable_name": "df",
              "summary": "{\n  \"name\": \"df\",\n  \"rows\": 5,\n  \"fields\": [\n    {\n      \"column\": \"scores\",\n      \"properties\": {\n        \"dtype\": \"number\",\n        \"std\": 5,\n        \"min\": 78,\n        \"max\": 92,\n        \"num_unique_values\": 5,\n        \"samples\": [\n          90,\n          88,\n          78\n        ],\n        \"semantic_type\": \"\",\n        \"description\": \"\"\n      }\n    },\n    {\n      \"column\": \"deviations_from_the_mean\",\n      \"properties\": {\n        \"dtype\": \"number\",\n        \"std\": 5.458937625582473,\n        \"min\": -8.599999999999994,\n        \"max\": 5.400000000000006,\n        \"num_unique_values\": 5,\n        \"samples\": [\n          3.4000000000000057,\n          1.4000000000000057,\n          -8.599999999999994\n        ],\n        \"semantic_type\": \"\",\n        \"description\": \"\"\n      }\n    },\n    {\n      \"column\": \"deviations_squared\",\n      \"properties\": {\n        \"dtype\": \"number\",\n        \"std\": 30.09438485830866,\n        \"min\": 1.960000000000016,\n        \"max\": 73.95999999999991,\n        \"num_unique_values\": 5,\n        \"samples\": [\n          11.560000000000038,\n          1.960000000000016,\n          73.95999999999991\n        ],\n        \"semantic_type\": \"\",\n        \"description\": \"\"\n      }\n    }\n  ]\n}"
            }
          },
          "metadata": {},
          "execution_count": 143
        }
      ]
    },
    {
      "cell_type": "code",
      "source": [
        "int(df['deviations_from_the_mean'].sum())"
      ],
      "metadata": {
        "colab": {
          "base_uri": "https://localhost:8080/"
        },
        "id": "RUX7zUq0R5TA",
        "outputId": "d8fbc9f8-cce0-41a0-901d-a66ca33fd2e2"
      },
      "execution_count": null,
      "outputs": [
        {
          "output_type": "execute_result",
          "data": {
            "text/plain": [
              "0"
            ]
          },
          "metadata": {},
          "execution_count": 141
        }
      ]
    },
    {
      "cell_type": "code",
      "source": [
        "#0 - 25 - 50 - 75 - 100\n",
        "#min - median - max #5 Number summary of each columns..\n",
        "print(df['scores'].min()) #Lowest value in my data is 78\n",
        "print(df['scores'].median()) #50th Percentiled data point\n",
        "print(df['scores'].max()) #Highest value in my data is 92"
      ],
      "metadata": {
        "colab": {
          "base_uri": "https://localhost:8080/"
        },
        "id": "E5TlwU6BTJEz",
        "outputId": "a006b8a8-0961-43a1-860a-4bbfe91d4bcf"
      },
      "execution_count": null,
      "outputs": [
        {
          "output_type": "stream",
          "name": "stdout",
          "text": [
            "78\n",
            "88.0\n",
            "92\n"
          ]
        }
      ]
    },
    {
      "cell_type": "code",
      "source": [
        "df['scores'].describe() #5number summary of the spread of a column"
      ],
      "metadata": {
        "colab": {
          "base_uri": "https://localhost:8080/",
          "height": 335
        },
        "id": "9etZG2rXaUCg",
        "outputId": "f702570a-106c-4f70-b57e-d99cfdcd07c5"
      },
      "execution_count": null,
      "outputs": [
        {
          "output_type": "execute_result",
          "data": {
            "text/plain": [
              "count     5.000000\n",
              "mean     86.600000\n",
              "std       5.458938\n",
              "min      78.000000\n",
              "25%      85.000000\n",
              "50%      88.000000\n",
              "75%      90.000000\n",
              "max      92.000000\n",
              "Name: scores, dtype: float64"
            ],
            "text/html": [
              "<div>\n",
              "<style scoped>\n",
              "    .dataframe tbody tr th:only-of-type {\n",
              "        vertical-align: middle;\n",
              "    }\n",
              "\n",
              "    .dataframe tbody tr th {\n",
              "        vertical-align: top;\n",
              "    }\n",
              "\n",
              "    .dataframe thead th {\n",
              "        text-align: right;\n",
              "    }\n",
              "</style>\n",
              "<table border=\"1\" class=\"dataframe\">\n",
              "  <thead>\n",
              "    <tr style=\"text-align: right;\">\n",
              "      <th></th>\n",
              "      <th>scores</th>\n",
              "    </tr>\n",
              "  </thead>\n",
              "  <tbody>\n",
              "    <tr>\n",
              "      <th>count</th>\n",
              "      <td>5.000000</td>\n",
              "    </tr>\n",
              "    <tr>\n",
              "      <th>mean</th>\n",
              "      <td>86.600000</td>\n",
              "    </tr>\n",
              "    <tr>\n",
              "      <th>std</th>\n",
              "      <td>5.458938</td>\n",
              "    </tr>\n",
              "    <tr>\n",
              "      <th>min</th>\n",
              "      <td>78.000000</td>\n",
              "    </tr>\n",
              "    <tr>\n",
              "      <th>25%</th>\n",
              "      <td>85.000000</td>\n",
              "    </tr>\n",
              "    <tr>\n",
              "      <th>50%</th>\n",
              "      <td>88.000000</td>\n",
              "    </tr>\n",
              "    <tr>\n",
              "      <th>75%</th>\n",
              "      <td>90.000000</td>\n",
              "    </tr>\n",
              "    <tr>\n",
              "      <th>max</th>\n",
              "      <td>92.000000</td>\n",
              "    </tr>\n",
              "  </tbody>\n",
              "</table>\n",
              "</div><br><label><b>dtype:</b> float64</label>"
            ]
          },
          "metadata": {},
          "execution_count": 155
        }
      ]
    },
    {
      "cell_type": "code",
      "source": [
        "df.describe()"
      ],
      "metadata": {
        "colab": {
          "base_uri": "https://localhost:8080/",
          "height": 300
        },
        "id": "Q3G4mCKdayg_",
        "outputId": "54276aac-6919-4b61-dc0b-a059182e63ae"
      },
      "execution_count": null,
      "outputs": [
        {
          "output_type": "execute_result",
          "data": {
            "text/plain": [
              "          scores  deviations_from_the_mean  deviations_squared\n",
              "count   5.000000              5.000000e+00            5.000000\n",
              "mean   86.600000              5.684342e-15           23.840000\n",
              "std     5.458938              5.458938e+00           30.094385\n",
              "min    78.000000             -8.600000e+00            1.960000\n",
              "25%    85.000000             -1.600000e+00            2.560000\n",
              "50%    88.000000              1.400000e+00           11.560000\n",
              "75%    90.000000              3.400000e+00           29.160000\n",
              "max    92.000000              5.400000e+00           73.960000"
            ],
            "text/html": [
              "\n",
              "  <div id=\"df-92047b7b-810f-4a06-b638-51038ed4380f\" class=\"colab-df-container\">\n",
              "    <div>\n",
              "<style scoped>\n",
              "    .dataframe tbody tr th:only-of-type {\n",
              "        vertical-align: middle;\n",
              "    }\n",
              "\n",
              "    .dataframe tbody tr th {\n",
              "        vertical-align: top;\n",
              "    }\n",
              "\n",
              "    .dataframe thead th {\n",
              "        text-align: right;\n",
              "    }\n",
              "</style>\n",
              "<table border=\"1\" class=\"dataframe\">\n",
              "  <thead>\n",
              "    <tr style=\"text-align: right;\">\n",
              "      <th></th>\n",
              "      <th>scores</th>\n",
              "      <th>deviations_from_the_mean</th>\n",
              "      <th>deviations_squared</th>\n",
              "    </tr>\n",
              "  </thead>\n",
              "  <tbody>\n",
              "    <tr>\n",
              "      <th>count</th>\n",
              "      <td>5.000000</td>\n",
              "      <td>5.000000e+00</td>\n",
              "      <td>5.000000</td>\n",
              "    </tr>\n",
              "    <tr>\n",
              "      <th>mean</th>\n",
              "      <td>86.600000</td>\n",
              "      <td>5.684342e-15</td>\n",
              "      <td>23.840000</td>\n",
              "    </tr>\n",
              "    <tr>\n",
              "      <th>std</th>\n",
              "      <td>5.458938</td>\n",
              "      <td>5.458938e+00</td>\n",
              "      <td>30.094385</td>\n",
              "    </tr>\n",
              "    <tr>\n",
              "      <th>min</th>\n",
              "      <td>78.000000</td>\n",
              "      <td>-8.600000e+00</td>\n",
              "      <td>1.960000</td>\n",
              "    </tr>\n",
              "    <tr>\n",
              "      <th>25%</th>\n",
              "      <td>85.000000</td>\n",
              "      <td>-1.600000e+00</td>\n",
              "      <td>2.560000</td>\n",
              "    </tr>\n",
              "    <tr>\n",
              "      <th>50%</th>\n",
              "      <td>88.000000</td>\n",
              "      <td>1.400000e+00</td>\n",
              "      <td>11.560000</td>\n",
              "    </tr>\n",
              "    <tr>\n",
              "      <th>75%</th>\n",
              "      <td>90.000000</td>\n",
              "      <td>3.400000e+00</td>\n",
              "      <td>29.160000</td>\n",
              "    </tr>\n",
              "    <tr>\n",
              "      <th>max</th>\n",
              "      <td>92.000000</td>\n",
              "      <td>5.400000e+00</td>\n",
              "      <td>73.960000</td>\n",
              "    </tr>\n",
              "  </tbody>\n",
              "</table>\n",
              "</div>\n",
              "    <div class=\"colab-df-buttons\">\n",
              "\n",
              "  <div class=\"colab-df-container\">\n",
              "    <button class=\"colab-df-convert\" onclick=\"convertToInteractive('df-92047b7b-810f-4a06-b638-51038ed4380f')\"\n",
              "            title=\"Convert this dataframe to an interactive table.\"\n",
              "            style=\"display:none;\">\n",
              "\n",
              "  <svg xmlns=\"http://www.w3.org/2000/svg\" height=\"24px\" viewBox=\"0 -960 960 960\">\n",
              "    <path d=\"M120-120v-720h720v720H120Zm60-500h600v-160H180v160Zm220 220h160v-160H400v160Zm0 220h160v-160H400v160ZM180-400h160v-160H180v160Zm440 0h160v-160H620v160ZM180-180h160v-160H180v160Zm440 0h160v-160H620v160Z\"/>\n",
              "  </svg>\n",
              "    </button>\n",
              "\n",
              "  <style>\n",
              "    .colab-df-container {\n",
              "      display:flex;\n",
              "      gap: 12px;\n",
              "    }\n",
              "\n",
              "    .colab-df-convert {\n",
              "      background-color: #E8F0FE;\n",
              "      border: none;\n",
              "      border-radius: 50%;\n",
              "      cursor: pointer;\n",
              "      display: none;\n",
              "      fill: #1967D2;\n",
              "      height: 32px;\n",
              "      padding: 0 0 0 0;\n",
              "      width: 32px;\n",
              "    }\n",
              "\n",
              "    .colab-df-convert:hover {\n",
              "      background-color: #E2EBFA;\n",
              "      box-shadow: 0px 1px 2px rgba(60, 64, 67, 0.3), 0px 1px 3px 1px rgba(60, 64, 67, 0.15);\n",
              "      fill: #174EA6;\n",
              "    }\n",
              "\n",
              "    .colab-df-buttons div {\n",
              "      margin-bottom: 4px;\n",
              "    }\n",
              "\n",
              "    [theme=dark] .colab-df-convert {\n",
              "      background-color: #3B4455;\n",
              "      fill: #D2E3FC;\n",
              "    }\n",
              "\n",
              "    [theme=dark] .colab-df-convert:hover {\n",
              "      background-color: #434B5C;\n",
              "      box-shadow: 0px 1px 3px 1px rgba(0, 0, 0, 0.15);\n",
              "      filter: drop-shadow(0px 1px 2px rgba(0, 0, 0, 0.3));\n",
              "      fill: #FFFFFF;\n",
              "    }\n",
              "  </style>\n",
              "\n",
              "    <script>\n",
              "      const buttonEl =\n",
              "        document.querySelector('#df-92047b7b-810f-4a06-b638-51038ed4380f button.colab-df-convert');\n",
              "      buttonEl.style.display =\n",
              "        google.colab.kernel.accessAllowed ? 'block' : 'none';\n",
              "\n",
              "      async function convertToInteractive(key) {\n",
              "        const element = document.querySelector('#df-92047b7b-810f-4a06-b638-51038ed4380f');\n",
              "        const dataTable =\n",
              "          await google.colab.kernel.invokeFunction('convertToInteractive',\n",
              "                                                    [key], {});\n",
              "        if (!dataTable) return;\n",
              "\n",
              "        const docLinkHtml = 'Like what you see? Visit the ' +\n",
              "          '<a target=\"_blank\" href=https://colab.research.google.com/notebooks/data_table.ipynb>data table notebook</a>'\n",
              "          + ' to learn more about interactive tables.';\n",
              "        element.innerHTML = '';\n",
              "        dataTable['output_type'] = 'display_data';\n",
              "        await google.colab.output.renderOutput(dataTable, element);\n",
              "        const docLink = document.createElement('div');\n",
              "        docLink.innerHTML = docLinkHtml;\n",
              "        element.appendChild(docLink);\n",
              "      }\n",
              "    </script>\n",
              "  </div>\n",
              "\n",
              "\n",
              "    <div id=\"df-21efc0bc-03dc-41d9-9c4b-d11ca7b03cb4\">\n",
              "      <button class=\"colab-df-quickchart\" onclick=\"quickchart('df-21efc0bc-03dc-41d9-9c4b-d11ca7b03cb4')\"\n",
              "                title=\"Suggest charts\"\n",
              "                style=\"display:none;\">\n",
              "\n",
              "<svg xmlns=\"http://www.w3.org/2000/svg\" height=\"24px\"viewBox=\"0 0 24 24\"\n",
              "     width=\"24px\">\n",
              "    <g>\n",
              "        <path d=\"M19 3H5c-1.1 0-2 .9-2 2v14c0 1.1.9 2 2 2h14c1.1 0 2-.9 2-2V5c0-1.1-.9-2-2-2zM9 17H7v-7h2v7zm4 0h-2V7h2v10zm4 0h-2v-4h2v4z\"/>\n",
              "    </g>\n",
              "</svg>\n",
              "      </button>\n",
              "\n",
              "<style>\n",
              "  .colab-df-quickchart {\n",
              "      --bg-color: #E8F0FE;\n",
              "      --fill-color: #1967D2;\n",
              "      --hover-bg-color: #E2EBFA;\n",
              "      --hover-fill-color: #174EA6;\n",
              "      --disabled-fill-color: #AAA;\n",
              "      --disabled-bg-color: #DDD;\n",
              "  }\n",
              "\n",
              "  [theme=dark] .colab-df-quickchart {\n",
              "      --bg-color: #3B4455;\n",
              "      --fill-color: #D2E3FC;\n",
              "      --hover-bg-color: #434B5C;\n",
              "      --hover-fill-color: #FFFFFF;\n",
              "      --disabled-bg-color: #3B4455;\n",
              "      --disabled-fill-color: #666;\n",
              "  }\n",
              "\n",
              "  .colab-df-quickchart {\n",
              "    background-color: var(--bg-color);\n",
              "    border: none;\n",
              "    border-radius: 50%;\n",
              "    cursor: pointer;\n",
              "    display: none;\n",
              "    fill: var(--fill-color);\n",
              "    height: 32px;\n",
              "    padding: 0;\n",
              "    width: 32px;\n",
              "  }\n",
              "\n",
              "  .colab-df-quickchart:hover {\n",
              "    background-color: var(--hover-bg-color);\n",
              "    box-shadow: 0 1px 2px rgba(60, 64, 67, 0.3), 0 1px 3px 1px rgba(60, 64, 67, 0.15);\n",
              "    fill: var(--button-hover-fill-color);\n",
              "  }\n",
              "\n",
              "  .colab-df-quickchart-complete:disabled,\n",
              "  .colab-df-quickchart-complete:disabled:hover {\n",
              "    background-color: var(--disabled-bg-color);\n",
              "    fill: var(--disabled-fill-color);\n",
              "    box-shadow: none;\n",
              "  }\n",
              "\n",
              "  .colab-df-spinner {\n",
              "    border: 2px solid var(--fill-color);\n",
              "    border-color: transparent;\n",
              "    border-bottom-color: var(--fill-color);\n",
              "    animation:\n",
              "      spin 1s steps(1) infinite;\n",
              "  }\n",
              "\n",
              "  @keyframes spin {\n",
              "    0% {\n",
              "      border-color: transparent;\n",
              "      border-bottom-color: var(--fill-color);\n",
              "      border-left-color: var(--fill-color);\n",
              "    }\n",
              "    20% {\n",
              "      border-color: transparent;\n",
              "      border-left-color: var(--fill-color);\n",
              "      border-top-color: var(--fill-color);\n",
              "    }\n",
              "    30% {\n",
              "      border-color: transparent;\n",
              "      border-left-color: var(--fill-color);\n",
              "      border-top-color: var(--fill-color);\n",
              "      border-right-color: var(--fill-color);\n",
              "    }\n",
              "    40% {\n",
              "      border-color: transparent;\n",
              "      border-right-color: var(--fill-color);\n",
              "      border-top-color: var(--fill-color);\n",
              "    }\n",
              "    60% {\n",
              "      border-color: transparent;\n",
              "      border-right-color: var(--fill-color);\n",
              "    }\n",
              "    80% {\n",
              "      border-color: transparent;\n",
              "      border-right-color: var(--fill-color);\n",
              "      border-bottom-color: var(--fill-color);\n",
              "    }\n",
              "    90% {\n",
              "      border-color: transparent;\n",
              "      border-bottom-color: var(--fill-color);\n",
              "    }\n",
              "  }\n",
              "</style>\n",
              "\n",
              "      <script>\n",
              "        async function quickchart(key) {\n",
              "          const quickchartButtonEl =\n",
              "            document.querySelector('#' + key + ' button');\n",
              "          quickchartButtonEl.disabled = true;  // To prevent multiple clicks.\n",
              "          quickchartButtonEl.classList.add('colab-df-spinner');\n",
              "          try {\n",
              "            const charts = await google.colab.kernel.invokeFunction(\n",
              "                'suggestCharts', [key], {});\n",
              "          } catch (error) {\n",
              "            console.error('Error during call to suggestCharts:', error);\n",
              "          }\n",
              "          quickchartButtonEl.classList.remove('colab-df-spinner');\n",
              "          quickchartButtonEl.classList.add('colab-df-quickchart-complete');\n",
              "        }\n",
              "        (() => {\n",
              "          let quickchartButtonEl =\n",
              "            document.querySelector('#df-21efc0bc-03dc-41d9-9c4b-d11ca7b03cb4 button');\n",
              "          quickchartButtonEl.style.display =\n",
              "            google.colab.kernel.accessAllowed ? 'block' : 'none';\n",
              "        })();\n",
              "      </script>\n",
              "    </div>\n",
              "\n",
              "    </div>\n",
              "  </div>\n"
            ],
            "application/vnd.google.colaboratory.intrinsic+json": {
              "type": "dataframe",
              "summary": "{\n  \"name\": \"df\",\n  \"rows\": 8,\n  \"fields\": [\n    {\n      \"column\": \"scores\",\n      \"properties\": {\n        \"dtype\": \"number\",\n        \"std\": 37.89280054198924,\n        \"min\": 5.0,\n        \"max\": 92.0,\n        \"num_unique_values\": 8,\n        \"samples\": [\n          86.6,\n          88.0,\n          5.0\n        ],\n        \"semantic_type\": \"\",\n        \"description\": \"\"\n      }\n    },\n    {\n      \"column\": \"deviations_from_the_mean\",\n      \"properties\": {\n        \"dtype\": \"number\",\n        \"std\": 4.785787410477908,\n        \"min\": -8.599999999999994,\n        \"max\": 5.458937625582473,\n        \"num_unique_values\": 8,\n        \"samples\": [\n          5.684341886080802e-15,\n          1.4000000000000057,\n          5.0\n        ],\n        \"semantic_type\": \"\",\n        \"description\": \"\"\n      }\n    },\n    {\n      \"column\": \"deviations_squared\",\n      \"properties\": {\n        \"dtype\": \"number\",\n        \"std\": 23.895460466654047,\n        \"min\": 1.960000000000016,\n        \"max\": 73.95999999999991,\n        \"num_unique_values\": 8,\n        \"samples\": [\n          23.84,\n          11.560000000000038,\n          5.0\n        ],\n        \"semantic_type\": \"\",\n        \"description\": \"\"\n      }\n    }\n  ]\n}"
            }
          },
          "metadata": {},
          "execution_count": 156
        }
      ]
    },
    {
      "cell_type": "code",
      "source": [
        "50000,100000,150000,200000,250000,300000,350000,400000,450000,500000"
      ],
      "metadata": {
        "id": "-UNw4vKFbBvi"
      },
      "execution_count": null,
      "outputs": []
    }
  ]
}