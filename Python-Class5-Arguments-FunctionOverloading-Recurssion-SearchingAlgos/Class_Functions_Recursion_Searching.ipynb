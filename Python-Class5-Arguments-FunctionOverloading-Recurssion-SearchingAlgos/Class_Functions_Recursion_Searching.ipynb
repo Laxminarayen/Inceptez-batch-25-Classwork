{
 "cells": [
  {
   "cell_type": "markdown",
   "id": "be8c08a0",
   "metadata": {},
   "source": [
    "# 🧠 Class: Arguments, Function Overloading, Recursion, and Searching Algorithms\n",
    "\n",
    "This notebook is designed to teach Python fundamentals step-by-step with simple explanations, stories, and code examples.\n",
    "We'll explore:\n",
    "- Arguments in functions\n",
    "- Simulating function overloading in Python\n",
    "- Recursion: what it is and how to use it\n",
    "- Searching algorithms: linear and binary search"
   ]
  },
  {
   "cell_type": "markdown",
   "id": "2e9cf49e",
   "metadata": {},
   "source": [
    "## 🔹 Function Arguments in Python"
   ]
  },
  {
   "cell_type": "markdown",
   "id": "61713fbb",
   "metadata": {},
   "source": [
    "**Function arguments** are values passed into functions to work with.\n",
    "\n",
    "- **Positional Arguments** – passed in order\n",
    "- **Keyword Arguments** – named values\n",
    "- **Default Arguments** – fallback values\n",
    "- **`*args`** – multiple positional\n",
    "- **`**kwargs`** – multiple keyword\n"
   ]
  },
  {
   "cell_type": "code",
   "execution_count": null,
   "id": "c8295411",
   "metadata": {},
   "outputs": [],
   "source": [
    "def greet(name, age=18):\n",
    "    print(f\"Hello {name}, you are {age} years old.\")\n",
    "\n",
    "greet(\"Alice\")\n",
    "greet(\"Bob\", 25)"
   ]
  },
  {
   "cell_type": "markdown",
   "id": "b1133bce",
   "metadata": {},
   "source": [
    "### 🌟 `*args` and `**kwargs` Examples"
   ]
  },
  {
   "cell_type": "code",
   "execution_count": null,
   "id": "5237c396",
   "metadata": {},
   "outputs": [],
   "source": [
    "def show_all(*args, **kwargs):\n",
    "    print(\"Positional:\", args)\n",
    "    print(\"Keyword:\", kwargs)\n",
    "\n",
    "show_all(1, 2, 3, name=\"Tom\", age=22)"
   ]
  },
  {
   "cell_type": "markdown",
   "id": "117f3a00",
   "metadata": {},
   "source": [
    "## 🔸 Function Overloading in Python"
   ]
  },
  {
   "cell_type": "markdown",
   "id": "57276e15",
   "metadata": {},
   "source": [
    "In traditional languages, you can define multiple functions with the same name but different parameters.\n",
    "\n",
    "**Python doesn't support true overloading** – last function definition wins.\n",
    "\n",
    "**How to simulate it?**\n",
    "- Using `*args`\n",
    "- Using default parameters\n",
    "- Checking types manually"
   ]
  },
  {
   "cell_type": "code",
   "execution_count": null,
   "id": "bf734381",
   "metadata": {},
   "outputs": [],
   "source": [
    "def add(a, b=0):\n",
    "    return a + b\n",
    "\n",
    "print(add(5))\n",
    "print(add(5, 10))"
   ]
  },
  {
   "cell_type": "markdown",
   "id": "5d45eca5",
   "metadata": {},
   "source": [
    "## 🔁 Recursion Explained with Story"
   ]
  },
  {
   "cell_type": "markdown",
   "id": "64fab24d",
   "metadata": {},
   "source": [
    "Recursion means a function calling itself. It has two parts:\n",
    "- **Base Case**: when to stop\n",
    "- **Recursive Case**: keep going\n",
    "\n",
    "### 🧒 Analogy:\n",
    "You're in a tunnel calling out to the next person to pass your message, until it reaches the end. Then it returns back.\n"
   ]
  },
  {
   "cell_type": "code",
   "execution_count": null,
   "id": "07889d7e",
   "metadata": {},
   "outputs": [],
   "source": [
    "def countdown(n):\n",
    "    if n == 0:\n",
    "        print(\"Done!\")\n",
    "    else:\n",
    "        print(n)\n",
    "        countdown(n-1)\n",
    "\n",
    "countdown(5)"
   ]
  },
  {
   "cell_type": "markdown",
   "id": "9a506ea2",
   "metadata": {},
   "source": [
    "### Recursive Sum Example"
   ]
  },
  {
   "cell_type": "code",
   "execution_count": null,
   "id": "297ed2c9",
   "metadata": {},
   "outputs": [],
   "source": [
    "def recursive_sum(n):\n",
    "    if n == 1:\n",
    "        return 1\n",
    "    return n + recursive_sum(n - 1)\n",
    "\n",
    "print(recursive_sum(5))"
   ]
  },
  {
   "cell_type": "markdown",
   "id": "df537b1c",
   "metadata": {},
   "source": [
    "## 🔍 Searching Algorithms"
   ]
  },
  {
   "cell_type": "markdown",
   "id": "2ab0eb9e",
   "metadata": {},
   "source": [
    "**Searching** is how we find a value in a list or dataset.\n",
    "\n",
    "### 🔹 Linear Search:\n",
    "- Check every item one by one.\n",
    "- Time complexity: O(n)"
   ]
  },
  {
   "cell_type": "code",
   "execution_count": null,
   "id": "ec796b55",
   "metadata": {},
   "outputs": [],
   "source": [
    "def linear_search(lst, target):\n",
    "    for i, val in enumerate(lst):\n",
    "        if val == target:\n",
    "            return i\n",
    "    return -1\n",
    "\n",
    "print(linear_search([4, 7, 1, 9], 1))"
   ]
  },
  {
   "cell_type": "markdown",
   "id": "2f809003",
   "metadata": {},
   "source": [
    "### 🔸 Binary Search:\n",
    "- List must be sorted\n",
    "- Cut the list in half each time\n",
    "- Time complexity: O(log n)"
   ]
  },
  {
   "cell_type": "code",
   "execution_count": null,
   "id": "51de0a14",
   "metadata": {},
   "outputs": [],
   "source": [
    "def binary_search(lst, target):\n",
    "    low = 0\n",
    "    high = len(lst) - 1\n",
    "    while low <= high:\n",
    "        mid = (low + high) // 2\n",
    "        if lst[mid] == target:\n",
    "            return mid\n",
    "        elif lst[mid] < target:\n",
    "            low = mid + 1\n",
    "        else:\n",
    "            high = mid - 1\n",
    "    return -1\n",
    "\n",
    "print(binary_search([1, 3, 5, 7, 9], 7))"
   ]
  },
  {
   "cell_type": "markdown",
   "id": "6c477d0a",
   "metadata": {},
   "source": [
    "## ✅ Summary Table"
   ]
  },
  {
   "cell_type": "markdown",
   "id": "1681dedb",
   "metadata": {},
   "source": [
    "| Topic               | Notes                             |\n",
    "|---------------------|-----------------------------------|\n",
    "| Function Arguments  | Positional, Keyword, *args, **kwargs |\n",
    "| Function Overloading| Not native, use default/args     |\n",
    "| Recursion           | Calls itself, needs base case     |\n",
    "| Linear Search       | Check all                        |\n",
    "| Binary Search       | Sorted list, halve each time     |"
   ]
  }
 ],
 "metadata": {},
 "nbformat": 4,
 "nbformat_minor": 5
}
