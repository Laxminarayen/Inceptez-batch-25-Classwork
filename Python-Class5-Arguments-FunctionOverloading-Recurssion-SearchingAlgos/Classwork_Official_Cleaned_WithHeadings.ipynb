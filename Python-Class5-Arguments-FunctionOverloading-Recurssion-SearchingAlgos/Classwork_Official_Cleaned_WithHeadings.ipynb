{
 "cells": [
  {
   "cell_type": "markdown",
   "id": "f62a4146",
   "metadata": {},
   "source": [
    "# 📘 Inceptez Python Foundations - Refined Notebook\n",
    "\n",
    "This notebook organizes classwork content into a well-documented, clear, and beginner-friendly reference.\n",
    "It includes:\n",
    "- Function overloading with real-life examples\n",
    "- `*args`, `**kwargs` usage\n",
    "- Recursion with intuitive explanation and stack visualization\n",
    "- Introduction to searching & sorting\n",
    "- Time complexity insights with logs and levels\n",
    "\n",
    "---"
   ]
  },
  {
   "cell_type": "markdown",
   "id": "633d9ece",
   "metadata": {},
   "source": [
    "### 🔧 Function Definition"
   ]
  },
  {
   "cell_type": "code",
   "execution_count": null,
   "id": "9718fb1b",
   "metadata": {
    "id": "sWb_GozqwVv-"
   },
   "outputs": [],
   "source": [
    "def sum_(a,b):\n",
    "  return a+b"
   ]
  },
  {
   "cell_type": "code",
   "execution_count": null,
   "id": "b080abbe",
   "metadata": {
    "colab": {
     "base_uri": "https://localhost:8080/"
    },
    "id": "QaYzBVZEwrNQ",
    "outputId": "52d73c11-038c-49f8-8fd0-84be91c23a8f"
   },
   "outputs": [
    {
     "data": {
      "text/plain": [
       "9"
      ]
     },
     "execution_count": 2,
     "metadata": {},
     "output_type": "execute_result"
    }
   ],
   "source": [
    "sum_(4,5)"
   ]
  },
  {
   "cell_type": "markdown",
   "id": "52f404a1",
   "metadata": {
    "id": "T8c3mD-pyESB"
   },
   "source": [
    "### This is the usage..\n",
    "`import <filename>`\n",
    "\n",
    "\n",
    "\n",
    "```\n",
    "filename.functionname\n",
    "```\n",
    "\n"
   ]
  },
  {
   "cell_type": "markdown",
   "id": "6e28ca89",
   "metadata": {},
   "source": [
    "### 🔧 Function Definition"
   ]
  },
  {
   "cell_type": "code",
   "execution_count": null,
   "id": "f991aa37",
   "metadata": {
    "id": "5nTK-gsSwscj"
   },
   "outputs": [],
   "source": [
    "import mypredefinedFuncions"
   ]
  },
  {
   "cell_type": "markdown",
   "id": "37f1493c",
   "metadata": {},
   "source": [
    "### 🔧 Function Definition"
   ]
  },
  {
   "cell_type": "code",
   "execution_count": null,
   "id": "bc368001",
   "metadata": {
    "colab": {
     "base_uri": "https://localhost:8080/"
    },
    "id": "MsvdvMffw5s-",
    "outputId": "3b5257f0-a9b3-4541-b1cc-cea75d19b1ea"
   },
   "outputs": [
    {
     "data": {
      "text/plain": [
       "11"
      ]
     },
     "execution_count": 2,
     "metadata": {},
     "output_type": "execute_result"
    }
   ],
   "source": [
    "mypredefinedFuncions.sum_(5,6)"
   ]
  },
  {
   "cell_type": "markdown",
   "id": "a33c0415",
   "metadata": {},
   "source": [
    "### 🔧 Function Definition"
   ]
  },
  {
   "cell_type": "code",
   "execution_count": null,
   "id": "a29ba30c",
   "metadata": {
    "id": "B-T8f-qtw9OG"
   },
   "outputs": [],
   "source": [
    "mypredefinedFuncions.sum_?"
   ]
  },
  {
   "cell_type": "markdown",
   "id": "9262dc66",
   "metadata": {},
   "source": [
    "### 🔧 Function Definition"
   ]
  },
  {
   "cell_type": "code",
   "execution_count": null,
   "id": "52e83f38",
   "metadata": {
    "id": "BvPABV4oxujR"
   },
   "outputs": [],
   "source": [
    "def sum_(a,b):\n",
    "  return a+b\n",
    "\n",
    "def sub(a,b):\n",
    "  return a-b\n",
    "\n",
    "def calculator(a,b,ops): #Mandatory Arguments, All the values have to be passed\n",
    "  if ops == \"add\":\n",
    "    return sum_(a,b)\n",
    "  else:\n",
    "    return sub(a,b)"
   ]
  },
  {
   "cell_type": "code",
   "execution_count": null,
   "id": "dc85ec7d",
   "metadata": {
    "colab": {
     "base_uri": "https://localhost:8080/",
     "height": 180
    },
    "id": "kqDwnDyAzjcK",
    "outputId": "a7c3bcdd-027f-4f31-9d30-7614dff9cae0"
   },
   "outputs": [
    {
     "ename": "TypeError",
     "evalue": "calculator() missing 1 required positional argument: 'ops'",
     "output_type": "error",
     "traceback": [
      "\u001b[0;31m---------------------------------------------------------------------------\u001b[0m",
      "\u001b[0;31mTypeError\u001b[0m                                 Traceback (most recent call last)",
      "\u001b[0;32m/tmp/ipython-input-11-3948209238.py\u001b[0m in \u001b[0;36m<cell line: 0>\u001b[0;34m()\u001b[0m\n\u001b[0;32m----> 1\u001b[0;31m \u001b[0mcalculator\u001b[0m\u001b[0;34m(\u001b[0m\u001b[0;36m5\u001b[0m\u001b[0;34m,\u001b[0m\u001b[0;36m6\u001b[0m\u001b[0;34m)\u001b[0m\u001b[0;34m\u001b[0m\u001b[0;34m\u001b[0m\u001b[0m\n\u001b[0m",
      "\u001b[0;31mTypeError\u001b[0m: calculator() missing 1 required positional argument: 'ops'"
     ]
    }
   ],
   "source": [
    "calculator(5,6)"
   ]
  },
  {
   "cell_type": "code",
   "execution_count": null,
   "id": "06a3db22",
   "metadata": {
    "id": "LgBHI6sK-29X"
   },
   "outputs": [],
   "source": [
    "for i in range(0,100000000000000000):\n",
    "  a = i"
   ]
  },
  {
   "cell_type": "markdown",
   "id": "850cca0e",
   "metadata": {},
   "source": [
    "### 🔧 Function Definition"
   ]
  },
  {
   "cell_type": "code",
   "execution_count": null,
   "id": "1964cdb9",
   "metadata": {
    "id": "uBpwoieszxdC"
   },
   "outputs": [],
   "source": [
    "def calculator(a,b=0.5,ops=\"add\"): #Default Values to the arguments.. Default arguments\n",
    "  if ops == \"add\":\n",
    "    return sum_(a,b)\n",
    "  elif ops == \"sub\":\n",
    "    return sub(a,b)"
   ]
  },
  {
   "cell_type": "code",
   "execution_count": null,
   "id": "a368b4c0",
   "metadata": {
    "colab": {
     "base_uri": "https://localhost:8080/"
    },
    "id": "sMCbQE1C1GWc",
    "outputId": "0ce64cc0-fca5-4637-d489-26625c9bee74"
   },
   "outputs": [
    {
     "data": {
      "text/plain": [
       "9"
      ]
     },
     "execution_count": 13,
     "metadata": {},
     "output_type": "execute_result"
    }
   ],
   "source": [
    "calculator(4,5)"
   ]
  },
  {
   "cell_type": "code",
   "execution_count": null,
   "id": "b6d7d84e",
   "metadata": {
    "colab": {
     "base_uri": "https://localhost:8080/"
    },
    "id": "ocTox-yuz6CO",
    "outputId": "d0a336c8-1694-4e77-d1ae-3db616222b75"
   },
   "outputs": [
    {
     "data": {
      "text/plain": [
       "11"
      ]
     },
     "execution_count": 9,
     "metadata": {},
     "output_type": "execute_result"
    }
   ],
   "source": [
    "<FunctionName>() #Values for the arguments of the function is given during the function call.."
   ]
  },
  {
   "cell_type": "code",
   "execution_count": null,
   "id": "b34f9464",
   "metadata": {
    "id": "XOpB4--Oz7kz"
   },
   "outputs": [],
   "source": [
    "import calculator"
   ]
  },
  {
   "cell_type": "code",
   "execution_count": null,
   "id": "11270b60",
   "metadata": {
    "colab": {
     "base_uri": "https://localhost:8080/"
    },
    "id": "mR9RRmJO1nyP",
    "outputId": "7d6504f3-789c-4065-8a9f-a3623a10f987"
   },
   "outputs": [
    {
     "data": {
      "text/plain": [
       "6"
      ]
     },
     "execution_count": 16,
     "metadata": {},
     "output_type": "execute_result"
    }
   ],
   "source": [
    "sum([1,2,3])"
   ]
  },
  {
   "cell_type": "code",
   "execution_count": null,
   "id": "43b7cf0d",
   "metadata": {
    "id": "pu-IK8J71o3E"
   },
   "outputs": [],
   "source": [
    "calculator(4,5,\"div\")"
   ]
  },
  {
   "cell_type": "code",
   "execution_count": null,
   "id": "4777b809",
   "metadata": {
    "colab": {
     "base_uri": "https://localhost:8080/"
    },
    "id": "N5QXUUK92sG9",
    "outputId": "00b4000b-097c-4e1f-e223-26b7aacbadf3"
   },
   "outputs": [
    {
     "data": {
      "text/plain": [
       "-1"
      ]
     },
     "execution_count": 26,
     "metadata": {},
     "output_type": "execute_result"
    }
   ],
   "source": [
    "calculator(4,5,\"sub\")"
   ]
  },
  {
   "cell_type": "markdown",
   "id": "d7a5c5b3",
   "metadata": {
    "id": "oRimIaG44Pvh"
   },
   "source": [
    "## Recursive Function | Recursion"
   ]
  },
  {
   "cell_type": "markdown",
   "id": "f4e207b9",
   "metadata": {},
   "source": [
    "### 🔧 Function Definition"
   ]
  },
  {
   "cell_type": "code",
   "execution_count": null,
   "id": "c08167b7",
   "metadata": {
    "id": "KvDHYmEp1y4N"
   },
   "outputs": [],
   "source": [
    "def count_down(n):\n",
    "  if n == 0:\n",
    "    print(\"Rocket Launch Initiate!!!!!\")\n",
    "  else:\n",
    "    print(n)\n",
    "    count_down(n-1)"
   ]
  },
  {
   "cell_type": "code",
   "execution_count": null,
   "id": "dc89900c",
   "metadata": {
    "colab": {
     "base_uri": "https://localhost:8080/"
    },
    "id": "H99i-wEk3kGh",
    "outputId": "7ab2b972-a0f0-4854-d65e-0d92a6420fe0"
   },
   "outputs": [
    {
     "name": "stdout",
     "output_type": "stream",
     "text": [
      "10\n",
      "9\n",
      "8\n",
      "7\n",
      "6\n",
      "5\n",
      "4\n",
      "3\n",
      "2\n",
      "1\n",
      "0\n",
      "Rocket Launch Initiate!!!!!\n"
     ]
    }
   ],
   "source": [
    "i = 10\n",
    "while i>=0:\n",
    "  print(i)\n",
    "  if i == 0:\n",
    "    print(\"Rocket Launch Initiate!!!!!\")\n",
    "  i-=1"
   ]
  },
  {
   "cell_type": "code",
   "execution_count": null,
   "id": "965a6fd5",
   "metadata": {
    "colab": {
     "base_uri": "https://localhost:8080/"
    },
    "id": "61MKQwQx4oES",
    "outputId": "34803202-e018-4962-df24-b3e819029faa"
   },
   "outputs": [
    {
     "name": "stdout",
     "output_type": "stream",
     "text": [
      "10\n",
      "9\n",
      "8\n",
      "7\n",
      "6\n",
      "5\n",
      "4\n",
      "3\n",
      "2\n",
      "1\n",
      "Rocket Launch Initiate!!!!!\n"
     ]
    }
   ],
   "source": [
    "for i in range(10,-1,-1):\n",
    "  if i == 0:\n",
    "    print(\"Rocket Launch Initiate!!!!!\")\n",
    "  else:\n",
    "    print(i)"
   ]
  },
  {
   "cell_type": "code",
   "execution_count": null,
   "id": "79a2b169",
   "metadata": {
    "colab": {
     "base_uri": "https://localhost:8080/"
    },
    "id": "gZVKvxKf3WO5",
    "outputId": "b35710ca-721f-40a3-d1dc-6e3965287e0e"
   },
   "outputs": [
    {
     "name": "stdout",
     "output_type": "stream",
     "text": [
      "10\n",
      "9\n",
      "8\n",
      "7\n",
      "6\n",
      "5\n",
      "4\n",
      "3\n",
      "2\n",
      "1\n",
      "Rocket Launch Initiate!!!!!\n"
     ]
    }
   ],
   "source": [
    "count_down(10)"
   ]
  },
  {
   "cell_type": "markdown",
   "id": "9fa22fcc",
   "metadata": {
    "id": "TT7PsSIS9tuv"
   },
   "source": [
    "C++ or Java\n",
    "\n",
    "\n",
    "\n",
    "```\n",
    "void add(int, int)\n",
    "void add(float, float)\n",
    "```\n",
    "\n",
    "\n",
    "\n",
    "Multiple versions of a function - that do similar things but with different inputs\n",
    "\n",
    "\n",
    "1. Why is traditional Overloading not possible - dymically typed language\n",
    "\n",
    "2. The last defenition wins. Earlier defenitions are overwritten"
   ]
  },
  {
   "cell_type": "markdown",
   "id": "67e034e1",
   "metadata": {},
   "source": [
    "## 🧺 Using *args and **kwargs"
   ]
  },
  {
   "cell_type": "code",
   "execution_count": null,
   "id": "aa6df3c0",
   "metadata": {
    "id": "y2T64zq63XUw"
   },
   "outputs": [],
   "source": [
    "#1. Default arguments\n",
    "#2. args and kwargs"
   ]
  },
  {
   "cell_type": "markdown",
   "id": "5929cd3d",
   "metadata": {},
   "source": [
    "### 🔧 Function Definition"
   ]
  },
  {
   "cell_type": "code",
   "execution_count": null,
   "id": "531ca36b",
   "metadata": {
    "id": "jvjFSwtn-o6L"
   },
   "outputs": [],
   "source": [
    "def describe_pets(*args, **kwargs): #*args and **kwargs\n",
    "  print(type(args))\n",
    "  print(kwargs)"
   ]
  },
  {
   "cell_type": "code",
   "execution_count": null,
   "id": "5ee07fdd",
   "metadata": {
    "colab": {
     "base_uri": "https://localhost:8080/"
    },
    "id": "iyuEzy_j_Vbb",
    "outputId": "f50f51cf-59eb-4cef-dc5d-4b4f647c1d82"
   },
   "outputs": [
    {
     "name": "stdout",
     "output_type": "stream",
     "text": [
      "<class 'tuple'>\n",
      "{}\n"
     ]
    }
   ],
   "source": [
    "describe_pets(\"Dog\",\"Cat\")"
   ]
  },
  {
   "cell_type": "code",
   "execution_count": null,
   "id": "21f5d6e7",
   "metadata": {
    "colab": {
     "base_uri": "https://localhost:8080/"
    },
    "id": "-VrFGB_l_X5k",
    "outputId": "e97a89c0-7f1b-4927-bfc5-515ba27b1867"
   },
   "outputs": [
    {
     "name": "stdout",
     "output_type": "stream",
     "text": [
      "<class 'tuple'>\n",
      "{'name': 'Charlie', 'age': 6}\n"
     ]
    }
   ],
   "source": [
    "describe_pets(\"Dog\",name=\"Charlie\", age=6)"
   ]
  },
  {
   "cell_type": "code",
   "execution_count": null,
   "id": "053b7d4f",
   "metadata": {
    "colab": {
     "base_uri": "https://localhost:8080/"
    },
    "id": "lQ7U6CGR_ebP",
    "outputId": "eac8e110-f2c6-49e4-8802-882621fb9c18"
   },
   "outputs": [
    {
     "name": "stdout",
     "output_type": "stream",
     "text": [
      "<class 'tuple'>\n",
      "{'name': 'Charlie', 'age': 6}\n"
     ]
    }
   ],
   "source": [
    "describe_pets(10,name=\"Charlie\", age=6)"
   ]
  },
  {
   "cell_type": "markdown",
   "id": "91dfbce0",
   "metadata": {},
   "source": [
    "## 🔃 Searching Algorithms"
   ]
  },
  {
   "cell_type": "markdown",
   "id": "445b7a14",
   "metadata": {},
   "source": [
    "#Linear Search O(n)\n",
    "1. Write a function - takes in an : arr - n\n",
    "2. Search for the element n and give me the index..\n",
    "lst = [1,2,3,4]"
   ]
  },
  {
   "cell_type": "code",
   "execution_count": null,
   "id": "1e13553b",
   "metadata": {
    "id": "q1Z4XYKqE7gz"
   },
   "outputs": [],
   "source": [
    "# Binary Search - O(Log(n))\n",
    "1. Write a function - takes in an : arr - n\n",
    "2. Search for the element n and give me the index..\n",
    "3. Assume that the arr is sorted in Asc order #Assuming Input array - sorted"
   ]
  },
  {
   "cell_type": "code",
   "execution_count": 55,
   "id": "4763204a",
   "metadata": {
    "colab": {
     "base_uri": "https://localhost:8080/"
    },
    "id": "pVNugCs9GlC5",
    "outputId": "c8b3b6cf-3f3c-48a0-c827-469ac6b00f0e"
   },
   "outputs": [
    {
     "data": {
      "text/plain": [
       "3"
      ]
     },
     "execution_count": 55,
     "metadata": {},
     "output_type": "execute_result"
    }
   ],
   "source": [
    "arr = [1,2,3,4,5,6,7] | n = 1 | n\n",
    "\n",
    "mid = arr[len(arr)//2]\n",
    "mid = 4"
   ]
  },
  {
   "cell_type": "code",
   "execution_count": 56,
   "id": "fd00dfff",
   "metadata": {
    "colab": {
     "base_uri": "https://localhost:8080/"
    },
    "id": "gS8qerPDG5Sv",
    "outputId": "d475c499-1b5e-4e4b-df4b-2f5fb0836add"
   },
   "outputs": [
    {
     "data": {
      "text/plain": [
       "4"
      ]
     },
     "execution_count": 56,
     "metadata": {},
     "output_type": "execute_result"
    }
   ],
   "source": [
    "arr = arr[:len(arr)//2]\n",
    "arr = [1,2,3] | mid = 2 | n = 1 | n /2\n"
   ]
  },
  {
   "cell_type": "code",
   "execution_count": null,
   "id": "67d37b7c",
   "metadata": {
    "id": "BiO0xcuKG8LM"
   },
   "outputs": [],
   "source": [
    "arr = arr[:len(arr)//2] | n/ 4\n",
    "len(arr) == 1\n",
    "arr[0]= 1"
   ]
  },
  {
   "cell_type": "code",
   "execution_count": null,
   "id": "ced52c47",
   "metadata": {
    "id": "HAZwjo76H0ux"
   },
   "outputs": [],
   "source": [
    "n / 8\n",
    "n / 2^k"
   ]
  },
  {
   "cell_type": "code",
   "execution_count": null,
   "id": "04d8ef48",
   "metadata": {
    "id": "8ni-TpxHH-pd"
   },
   "outputs": [],
   "source": [
    "n / 2^k = 1 | n = 2^k | log2(n) = k | O(log(n))"
   ]
  },
  {
   "cell_type": "code",
   "execution_count": null,
   "id": "58590637",
   "metadata": {
    "id": "8kH_YmO6I7-K"
   },
   "outputs": [],
   "source": [
    "[1,2,3,4,5,6,7,9]"
   ]
  },
  {
   "cell_type": "markdown",
   "id": "b2be9027",
   "metadata": {},
   "source": [
    "### 🔧 Function Definition"
   ]
  },
  {
   "cell_type": "code",
   "execution_count": 72,
   "id": "f096c985",
   "metadata": {
    "id": "YGxP6SIWKZK5"
   },
   "outputs": [],
   "source": [
    "def binary_search(arr, target):\n",
    "  left = 0\n",
    "  right = len(arr) -1\n",
    "  while left <= right:\n",
    "    mid = (left + right) // 2\n",
    "    if arr[mid] == target:\n",
    "      return mid\n",
    "    elif arr[mid] < target:\n",
    "      left = mid +1\n",
    "    else:\n",
    "      right = mid -1\n",
    "  return 0"
   ]
  },
  {
   "cell_type": "code",
   "execution_count": 63,
   "id": "6e634ee0",
   "metadata": {
    "id": "hAUecGwmLH7D"
   },
   "outputs": [],
   "source": [
    "arr = [1,2,3,5,7,9,100]\n",
    "target = 100"
   ]
  },
  {
   "cell_type": "code",
   "execution_count": 64,
   "id": "47592a1f",
   "metadata": {
    "colab": {
     "base_uri": "https://localhost:8080/"
    },
    "id": "Kbu6FU0-LMUX",
    "outputId": "e76d57fd-2f82-4a75-e773-366c443d48cd"
   },
   "outputs": [
    {
     "data": {
      "text/plain": [
       "6"
      ]
     },
     "execution_count": 64,
     "metadata": {},
     "output_type": "execute_result"
    }
   ],
   "source": [
    "binary_search(arr,target)"
   ]
  },
  {
   "cell_type": "code",
   "execution_count": null,
   "id": "a5b19f70",
   "metadata": {
    "id": "i0q8GXJSLNzA"
   },
   "outputs": [],
   "source": [
    "#LEFT = 0\n",
    "#RIGHT = 6\n",
    "TARGET = 100\n",
    "#MID = 3\n",
    "1. WHILE 0 < 6 | MID = 3\n",
    "IF ARR[MID] (5) == 100\n",
    "\n",
    "2. 5 < 100\n",
    "#LEFT = 4"
   ]
  },
  {
   "cell_type": "code",
   "execution_count": null,
   "id": "e1f2b919",
   "metadata": {
    "id": "SfiIe723MIbx"
   },
   "outputs": [],
   "source": [
    "#LEFT = 4 | RIGHT = 6 | MID = 4+6//2 = 5\n",
    "ARR[5] (9) < 100:\n",
    "LEFT = 5"
   ]
  },
  {
   "cell_type": "code",
   "execution_count": 65,
   "id": "e33f5078",
   "metadata": {
    "colab": {
     "base_uri": "https://localhost:8080/"
    },
    "id": "J78LUm89Mj1F",
    "outputId": "82a416da-a433-47c6-828e-ee37f3969856"
   },
   "outputs": [
    {
     "data": {
      "text/plain": [
       "5"
      ]
     },
     "execution_count": 65,
     "metadata": {},
     "output_type": "execute_result"
    }
   ],
   "source": [
    "#LEFT = 5 | RIGHT = 6 | MID = 6\n",
    "(5+6)//2\n",
    "FIRST IF\n",
    "ARR[MID] ARR[6]==100:\n",
    "RETURN MID"
   ]
  },
  {
   "cell_type": "markdown",
   "id": "3e657ac0",
   "metadata": {},
   "source": []
  },
  {
   "cell_type": "code",
   "execution_count": 73,
   "id": "4b807f25",
   "metadata": {
    "colab": {
     "base_uri": "https://localhost:8080/"
    },
    "id": "6Nd1cXFCMqc5",
    "outputId": "8a91b30c-e804-47b5-c81a-aba3bdb971f1"
   },
   "outputs": [
    {
     "name": "stdout",
     "output_type": "stream",
     "text": [
      "Not Found\n"
     ]
    }
   ],
   "source": [
    "if binary_search(arr,1000):\n",
    "  a = binary_search(arr,1000)\n",
    "  print(a)\n",
    "else:\n",
    "  print(\"Not Found\")"
   ]
  },
  {
   "cell_type": "code",
   "execution_count": null,
   "id": "14361b09",
   "metadata": {
    "id": "dA_t6capNprr"
   },
   "outputs": [],
   "source": []
  }
 ],
 "metadata": {
  "language_info": {
   "name": "python"
  }
 },
 "nbformat": 4,
 "nbformat_minor": 5
}
