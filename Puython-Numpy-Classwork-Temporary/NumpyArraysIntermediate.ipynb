{
  "nbformat": 4,
  "nbformat_minor": 0,
  "metadata": {
    "colab": {
      "provenance": []
    },
    "kernelspec": {
      "name": "python3",
      "display_name": "Python 3"
    },
    "language_info": {
      "name": "python"
    }
  },
  "cells": [
    {
      "cell_type": "code",
      "execution_count": 5,
      "metadata": {
        "id": "ns31tLSa4EdJ"
      },
      "outputs": [],
      "source": [
        "my_list = [50,30,110,60,70,100]"
      ]
    },
    {
      "cell_type": "code",
      "source": [
        "my_list[0]"
      ],
      "metadata": {
        "colab": {
          "base_uri": "https://localhost:8080/"
        },
        "id": "WjjCMGih4ijz",
        "outputId": "f3bdaa17-6e89-4b80-bdd1-45504fa35493"
      },
      "execution_count": 6,
      "outputs": [
        {
          "output_type": "execute_result",
          "data": {
            "text/plain": [
              "50"
            ]
          },
          "metadata": {},
          "execution_count": 6
        }
      ]
    },
    {
      "cell_type": "code",
      "source": [
        "#start: stop: step\n",
        "my_list[0:3:2]"
      ],
      "metadata": {
        "colab": {
          "base_uri": "https://localhost:8080/"
        },
        "id": "cm_wldft4rgZ",
        "outputId": "d0bf6cf0-f315-4167-c45a-09e697f23bf7"
      },
      "execution_count": 7,
      "outputs": [
        {
          "output_type": "execute_result",
          "data": {
            "text/plain": [
              "[50, 110]"
            ]
          },
          "metadata": {},
          "execution_count": 7
        }
      ]
    },
    {
      "cell_type": "code",
      "source": [
        "str_ = \"Inceptez Batch 26\""
      ],
      "metadata": {
        "id": "MaSyjiAf43V4"
      },
      "execution_count": 15,
      "outputs": []
    },
    {
      "cell_type": "code",
      "source": [
        "str_[0::2]"
      ],
      "metadata": {
        "colab": {
          "base_uri": "https://localhost:8080/",
          "height": 35
        },
        "id": "3dNz8v1_5GJT",
        "outputId": "93ab7ff6-a76e-4e9a-f83f-97fdb28d824b"
      },
      "execution_count": 10,
      "outputs": [
        {
          "output_type": "execute_result",
          "data": {
            "text/plain": [
              "'Icpe ac 6'"
            ],
            "application/vnd.google.colaboratory.intrinsic+json": {
              "type": "string"
            }
          },
          "metadata": {},
          "execution_count": 10
        }
      ]
    },
    {
      "cell_type": "code",
      "source": [
        "str_[::-1] #Reverse the string"
      ],
      "metadata": {
        "colab": {
          "base_uri": "https://localhost:8080/",
          "height": 35
        },
        "id": "EooPA2Gi5H0Y",
        "outputId": "22ddfb4b-e0b3-46f7-e3d9-11b828e00bfb"
      },
      "execution_count": 12,
      "outputs": [
        {
          "output_type": "execute_result",
          "data": {
            "text/plain": [
              "'62 hctaB zetpecnI'"
            ],
            "application/vnd.google.colaboratory.intrinsic+json": {
              "type": "string"
            }
          },
          "metadata": {},
          "execution_count": 12
        }
      ]
    },
    {
      "cell_type": "markdown",
      "source": [
        " \"Inceptez Batch 26\""
      ],
      "metadata": {
        "id": "VQ2NSZfO6OrP"
      }
    },
    {
      "cell_type": "code",
      "source": [
        "str_[0:5:2]"
      ],
      "metadata": {
        "colab": {
          "base_uri": "https://localhost:8080/",
          "height": 35
        },
        "id": "rpxV4ylV5x1d",
        "outputId": "4598c9ce-ca16-4398-f730-4e50c00be07a"
      },
      "execution_count": 17,
      "outputs": [
        {
          "output_type": "execute_result",
          "data": {
            "text/plain": [
              "'Incep'"
            ],
            "application/vnd.google.colaboratory.intrinsic+json": {
              "type": "string"
            }
          },
          "metadata": {},
          "execution_count": 17
        }
      ]
    },
    {
      "cell_type": "code",
      "source": [
        "str_[-2]"
      ],
      "metadata": {
        "colab": {
          "base_uri": "https://localhost:8080/",
          "height": 35
        },
        "id": "4OXYT__g6Iqk",
        "outputId": "28c86a8e-aaaa-4166-931e-406ee27e76ae"
      },
      "execution_count": 28,
      "outputs": [
        {
          "output_type": "execute_result",
          "data": {
            "text/plain": [
              "'2'"
            ],
            "application/vnd.google.colaboratory.intrinsic+json": {
              "type": "string"
            }
          },
          "metadata": {},
          "execution_count": 28
        }
      ]
    },
    {
      "cell_type": "code",
      "source": [
        "slice?"
      ],
      "metadata": {
        "id": "wLd8qfqo6dMQ"
      },
      "execution_count": 29,
      "outputs": []
    },
    {
      "cell_type": "code",
      "source": [
        "nums = [1,2,3,4,5,6,8,9,0]\n",
        "slice_num = slice(1,4)"
      ],
      "metadata": {
        "id": "ZU1Nnb9_7PSb"
      },
      "execution_count": 30,
      "outputs": []
    },
    {
      "cell_type": "code",
      "source": [
        "nums[slice_num]"
      ],
      "metadata": {
        "colab": {
          "base_uri": "https://localhost:8080/"
        },
        "id": "Rf05xpL57Xm2",
        "outputId": "51ea814b-037a-4eb6-d35b-2577c3699ce8"
      },
      "execution_count": 32,
      "outputs": [
        {
          "output_type": "execute_result",
          "data": {
            "text/plain": [
              "[2, 3, 4]"
            ]
          },
          "metadata": {},
          "execution_count": 32
        }
      ]
    },
    {
      "cell_type": "code",
      "source": [
        "slice_num"
      ],
      "metadata": {
        "colab": {
          "base_uri": "https://localhost:8080/"
        },
        "id": "uzzUuKAj7YE9",
        "outputId": "c118a8fa-e30b-4e0d-b284-e660fe16ff76"
      },
      "execution_count": 33,
      "outputs": [
        {
          "output_type": "execute_result",
          "data": {
            "text/plain": [
              "slice(1, 4, None)"
            ]
          },
          "metadata": {},
          "execution_count": 33
        }
      ]
    },
    {
      "cell_type": "code",
      "source": [
        "(nframesx256x256)"
      ],
      "metadata": {
        "id": "HIEPr-yK7m2N"
      },
      "execution_count": null,
      "outputs": []
    },
    {
      "cell_type": "code",
      "source": [
        "30FPS - 5 | 150X256x256x3"
      ],
      "metadata": {
        "id": "8VMv_kO08lsz"
      },
      "execution_count": null,
      "outputs": []
    },
    {
      "cell_type": "code",
      "source": [
        "lst= [[1,2,3],\n",
        "      [4,5,6],\n",
        "      [6,7,8]]"
      ],
      "metadata": {
        "id": "ch0hKNrA8xLK"
      },
      "execution_count": 34,
      "outputs": []
    },
    {
      "cell_type": "code",
      "source": [
        "lst[1:][0]"
      ],
      "metadata": {
        "colab": {
          "base_uri": "https://localhost:8080/"
        },
        "id": "EKJ86_JP83g8",
        "outputId": "e7a6a9e8-4781-4263-ece7-578b19e04cb3"
      },
      "execution_count": 47,
      "outputs": [
        {
          "output_type": "execute_result",
          "data": {
            "text/plain": [
              "[4, 5, 6]"
            ]
          },
          "metadata": {},
          "execution_count": 47
        }
      ]
    },
    {
      "cell_type": "code",
      "source": [
        "#Reasons:\n",
        "#Faster for for mathematical operatiosn with N-D arrays as compared against lists\n",
        "#Supports N-D arrays\n",
        "#Predefined Mathematical Functions"
      ],
      "metadata": {
        "id": "T5oD5Epw84js"
      },
      "execution_count": 43,
      "outputs": []
    },
    {
      "cell_type": "code",
      "source": [
        "import numpy #Module - That I am importing"
      ],
      "metadata": {
        "id": "GT2NVKmg9aup"
      },
      "execution_count": 44,
      "outputs": []
    },
    {
      "cell_type": "code",
      "source": [
        "arr = numpy.array([1,2,3,4,5,6]) #Name itself is array"
      ],
      "metadata": {
        "id": "9wEnDCHl-RXW"
      },
      "execution_count": 45,
      "outputs": []
    },
    {
      "cell_type": "code",
      "source": [
        "print(\"Array: \", arr)\n",
        "print(\"Type of the Array: \", type(arr))"
      ],
      "metadata": {
        "colab": {
          "base_uri": "https://localhost:8080/"
        },
        "id": "US2BGUYJ-fb1",
        "outputId": "31ad23af-d337-4733-efd6-10456e0bf4fb"
      },
      "execution_count": 46,
      "outputs": [
        {
          "output_type": "stream",
          "name": "stdout",
          "text": [
            "Array:  [1 2 3 4 5 6]\n",
            "Type of the Array:  <class 'numpy.ndarray'>\n"
          ]
        }
      ]
    },
    {
      "cell_type": "markdown",
      "source": [
        "#Difference - Numpy operations are vectorized"
      ],
      "metadata": {
        "id": "b_uGhV5c_rMW"
      }
    },
    {
      "cell_type": "code",
      "source": [
        "python_list=  [1,2,3,4,5,6]\n",
        "python_list*2"
      ],
      "metadata": {
        "colab": {
          "base_uri": "https://localhost:8080/"
        },
        "id": "weZxKNC7-k83",
        "outputId": "0e8d2c46-39ad-433b-ad10-73896349535b"
      },
      "execution_count": 48,
      "outputs": [
        {
          "output_type": "execute_result",
          "data": {
            "text/plain": [
              "[1, 2, 3, 4, 5, 6, 1, 2, 3, 4, 5, 6]"
            ]
          },
          "metadata": {},
          "execution_count": 48
        }
      ]
    },
    {
      "cell_type": "code",
      "source": [
        "python_list=  [1,2,3,4,5,6]\n",
        "python_list_times2 = [x*2 for x in python_list]"
      ],
      "metadata": {
        "id": "6If4hFZ6_22y"
      },
      "execution_count": 50,
      "outputs": []
    },
    {
      "cell_type": "code",
      "source": [
        "python_list=  [1,2,3,4,5,6]\n",
        "numpy_array = numpy.array(python_list)"
      ],
      "metadata": {
        "id": "nXl_jYWW_-Y-"
      },
      "execution_count": 51,
      "outputs": []
    },
    {
      "cell_type": "code",
      "source": [
        "numpy_array.shape"
      ],
      "metadata": {
        "colab": {
          "base_uri": "https://localhost:8080/"
        },
        "id": "XvzZUBecAGYM",
        "outputId": "1a064937-e8b7-44fd-fc0c-ba5c1f6c52d8"
      },
      "execution_count": 53,
      "outputs": [
        {
          "output_type": "execute_result",
          "data": {
            "text/plain": [
              "(6,)"
            ]
          },
          "metadata": {},
          "execution_count": 53
        }
      ]
    },
    {
      "cell_type": "code",
      "source": [
        "numpy_array = numpy_array*2"
      ],
      "metadata": {
        "id": "7eq-LoYJAHMM"
      },
      "execution_count": 54,
      "outputs": []
    },
    {
      "cell_type": "code",
      "source": [
        "numpy_array"
      ],
      "metadata": {
        "colab": {
          "base_uri": "https://localhost:8080/"
        },
        "id": "1A4XexHyAMm5",
        "outputId": "a246ca6e-0800-456f-b2e3-c0755c11f82b"
      },
      "execution_count": 55,
      "outputs": [
        {
          "output_type": "execute_result",
          "data": {
            "text/plain": [
              "array([ 2,  4,  6,  8, 10, 12])"
            ]
          },
          "metadata": {},
          "execution_count": 55
        }
      ]
    },
    {
      "cell_type": "code",
      "source": [
        "import numpy as np #alias name.. Numpy - np"
      ],
      "metadata": {
        "id": "enBZJ_aJANDr"
      },
      "execution_count": 57,
      "outputs": []
    },
    {
      "cell_type": "code",
      "source": [
        "python_list=  [1,2,3,4,5,6]\n",
        "numpy_array = np.array(python_list)"
      ],
      "metadata": {
        "id": "-NciEQd0AWJF"
      },
      "execution_count": 63,
      "outputs": []
    },
    {
      "cell_type": "code",
      "source": [
        "numpy_array_2d = np.array([[1,2,3],\n",
        "                           [4,5,6],\n",
        "                           [6,7,8]])"
      ],
      "metadata": {
        "id": "i7Fu64SmAbzX"
      },
      "execution_count": 59,
      "outputs": []
    },
    {
      "cell_type": "code",
      "source": [
        "numpy_array_2d.shape #this is saying I have 3 rows - 3 columns"
      ],
      "metadata": {
        "colab": {
          "base_uri": "https://localhost:8080/"
        },
        "id": "fIFAtqrEAoTr",
        "outputId": "8fb2a96f-e44f-4e70-bdb5-83bb3a052baf"
      },
      "execution_count": 61,
      "outputs": [
        {
          "output_type": "execute_result",
          "data": {
            "text/plain": [
              "(3, 3)"
            ]
          },
          "metadata": {},
          "execution_count": 61
        }
      ]
    },
    {
      "cell_type": "code",
      "source": [
        "numpy_array_2d[0:,1] #[row slicing , Column Slicing]"
      ],
      "metadata": {
        "colab": {
          "base_uri": "https://localhost:8080/"
        },
        "id": "vXivg3mzAo_x",
        "outputId": "86b15164-2f91-4c9f-8de9-8a7a590343c5"
      },
      "execution_count": 69,
      "outputs": [
        {
          "output_type": "execute_result",
          "data": {
            "text/plain": [
              "array([1, 2, 3])"
            ]
          },
          "metadata": {},
          "execution_count": 69
        }
      ]
    },
    {
      "cell_type": "code",
      "source": [],
      "metadata": {
        "id": "_MbbRTPIAxU7"
      },
      "execution_count": null,
      "outputs": []
    }
  ]
}