{
 "cells": [
  {
   "cell_type": "markdown",
   "id": "7df2b671",
   "metadata": {},
   "source": [
    "# 📊 Pandas Level 2: Intermediate (With Explanations & Interview Questions)\n",
    "This notebook builds on your basic Pandas knowledge to cover intermediate data transformation and wrangling techniques."
   ]
  },
  {
   "cell_type": "markdown",
   "id": "a668a093",
   "metadata": {},
   "source": [
    "## 🔍 1. Conditional Filtering & Boolean Indexing\n",
    "**Explanation:**\n",
    "Filtering using conditions allows you to extract meaningful subsets of data. Use logical operators like `&`, `|`, `~` in combination with boolean indexing.\n",
    "\n",
    "**Interview Tip:**\n",
    "*Q: How do you filter rows where two conditions are true?*\n",
    "Use `df[(cond1) & (cond2)]` — parentheses are required!"
   ]
  },
  {
   "cell_type": "code",
   "execution_count": null,
   "id": "a584a836",
   "metadata": {},
   "outputs": [],
   "source": [
    "import pandas as pd\n",
    "\n",
    "df = pd.DataFrame({\n",
    "    \"Name\": [\"Alice\", \"Bob\", \"Charlie\", \"David\", \"Eva\"],\n",
    "    \"Department\": [\"HR\", \"IT\", \"IT\", \"HR\", \"Finance\"],\n",
    "    \"Salary\": [45000, 80000, 75000, 52000, 61000],\n",
    "    \"Experience\": [2, 5, 4, 3, 6]\n",
    "})\n",
    "\n",
    "# Filter for IT department with salary > 75000\n",
    "filtered = df[(df[\"Department\"] == \"IT\") & (df[\"Salary\"] > 75000)]\n",
    "print(filtered)"
   ]
  },
  {
   "cell_type": "markdown",
   "id": "0f64011d",
   "metadata": {},
   "source": [
    "## 🔧 2. Transforming Data with `map()`, `apply()`, and `lambda`\n",
    "**Explanation:**\n",
    "- `map()`: used with Series for element-wise operations\n",
    "- `apply()`: used on Series or DataFrame rows/columns\n",
    "- `lambda`: anonymous inline functions\n",
    "\n",
    "**Interview Tip:**\n",
    "*Q: What’s the difference between `apply()` and `map()`?*\n",
    "`map()` is Series-specific; `apply()` works on Series and DataFrames, often with more flexibility."
   ]
  },
  {
   "cell_type": "code",
   "execution_count": null,
   "id": "be8de3b6",
   "metadata": {},
   "outputs": [],
   "source": [
    "# Apply bonus using lambda\n",
    "df[\"Bonus\"] = df[\"Salary\"].apply(lambda x: x * 0.10)\n",
    "\n",
    "# Use map to label high/low experience\n",
    "df[\"Experience Level\"] = df[\"Experience\"].map(lambda x: \"Senior\" if x >= 5 else \"Junior\")\n",
    "\n",
    "print(df)"
   ]
  },
  {
   "cell_type": "markdown",
   "id": "772a9be4",
   "metadata": {},
   "source": [
    "## 🧮 3. GroupBy and Aggregation\n",
    "**Explanation:**\n",
    "`groupby()` is powerful for summarizing data. Combine it with aggregation functions like `mean()`, `sum()`, `count()`.\n",
    "\n",
    "**Interview Tip:**\n",
    "*Q: When would you use `groupby()` in Pandas?*\n",
    "Use it to calculate statistics per group (e.g., average salary per department)."
   ]
  },
  {
   "cell_type": "code",
   "execution_count": null,
   "id": "af017a31",
   "metadata": {},
   "outputs": [],
   "source": [
    "# Group by Department and calculate average salary\n",
    "avg_salary = df.groupby(\"Department\")[\"Salary\"].mean()\n",
    "print(\"Average Salary by Department:\")\n",
    "print(avg_salary)\n",
    "\n",
    "# Group by multiple columns\n",
    "grouped = df.groupby([\"Department\", \"Experience Level\"]).agg({\n",
    "    \"Salary\": \"mean\",\n",
    "    \"Bonus\": \"sum\"\n",
    "})\n",
    "print(\"\\nGrouped by Department & Experience Level:\")\n",
    "print(grouped)"
   ]
  },
  {
   "cell_type": "markdown",
   "id": "55671ddc",
   "metadata": {},
   "source": [
    "## 🔗 4. Merging, Joining, and Concatenation\n",
    "**Explanation:**\n",
    "- `merge()`: SQL-style joins (inner, left, right, outer)\n",
    "- `concat()`: Stack datasets vertically or horizontally\n",
    "- `join()`: Join on index\n",
    "\n",
    "**Interview Tip:**\n",
    "*Q: How does `merge()` differ from `concat()`?*\n",
    "`merge()` matches rows by keys, `concat()` just stacks DataFrames."
   ]
  },
  {
   "cell_type": "code",
   "execution_count": null,
   "id": "3a21250d",
   "metadata": {},
   "outputs": [],
   "source": [
    "df_bonus = pd.DataFrame({\n",
    "    \"Name\": [\"Alice\", \"Bob\", \"Eva\"],\n",
    "    \"Bonus_Extra\": [1500, 3000, 2500]\n",
    "})\n",
    "\n",
    "# Merge based on Name\n",
    "merged_df = pd.merge(df, df_bonus, on=\"Name\", how=\"left\")\n",
    "print(\"Merged DataFrame:\")\n",
    "print(merged_df)\n",
    "\n",
    "# Concatenate two copies of the DataFrame\n",
    "concatenated = pd.concat([df, df], ignore_index=True)\n",
    "print(\"\\nConcatenated DataFrame (double rows):\")\n",
    "print(concatenated.head())"
   ]
  },
  {
   "cell_type": "markdown",
   "id": "1cfbc9b7",
   "metadata": {},
   "source": [
    "## 📊 5. Pivot Tables and Crosstabs\n",
    "**Explanation:**\n",
    "Pivot tables summarize data dynamically based on column and row combinations.\n",
    "`pd.pivot_table()` allows aggregation over multiple dimensions.\n",
    "\n",
    "**Interview Tip:**\n",
    "*Q: When do you use a pivot table over groupby?*\n",
    "Pivot tables are more structured and support multi-level analysis directly."
   ]
  },
  {
   "cell_type": "code",
   "execution_count": null,
   "id": "b072aacd",
   "metadata": {},
   "outputs": [],
   "source": [
    "# Pivot table: average salary by department and experience level\n",
    "pivot = pd.pivot_table(df, values=\"Salary\", index=\"Department\", columns=\"Experience Level\", aggfunc=\"mean\")\n",
    "print(pivot)\n",
    "\n",
    "# Crosstab: frequency count\n",
    "cross = pd.crosstab(df[\"Department\"], df[\"Experience Level\"])\n",
    "print(\"\\nCrosstab:\")\n",
    "print(cross)"
   ]
  }
 ],
 "metadata": {},
 "nbformat": 4,
 "nbformat_minor": 5
}
