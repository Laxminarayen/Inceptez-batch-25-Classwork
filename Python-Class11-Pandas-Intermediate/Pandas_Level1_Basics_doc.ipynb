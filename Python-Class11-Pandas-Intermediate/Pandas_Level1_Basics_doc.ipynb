{
 "cells": [
  {
   "cell_type": "markdown",
   "id": "28e7f37c",
   "metadata": {},
   "source": [
    "# 📊 Pandas Level 1: Basics (With Explanations & Interview Questions)\n",
    "This notebook introduces the fundamentals of using Pandas for data manipulation and analysis, complete with explanations and common interview questions to reinforce understanding."
   ]
  },
  {
   "cell_type": "markdown",
   "id": "2ea3811c",
   "metadata": {},
   "source": [
    "## 📥 1. Importing and Creating DataFrames\n",
    "**Explanation:**\n",
    "Pandas is typically imported using `import pandas as pd`. You can create:\n",
    "- A `Series`: one-dimensional labeled array\n",
    "- A `DataFrame`: two-dimensional labeled data table\n",
    "These are the basic structures for handling data in Pandas.\n",
    "\n",
    "**Interview Tip:**\n",
    "*Q: What’s the difference between a Pandas Series and DataFrame?*\n",
    "A Series is like one column of data with an index. A DataFrame is a table made of multiple Series."
   ]
  },
  {
   "cell_type": "code",
   "execution_count": null,
   "id": "4f2e895f",
   "metadata": {},
   "outputs": [],
   "source": [
    "import pandas as pd\n",
    "\n",
    "# Creating a Series\n",
    "s = pd.Series([10, 20, 30, 40], name=\"Scores\")\n",
    "print(\"Series Example:\")\n",
    "print(s)\n",
    "\n",
    "# Creating a DataFrame from a dictionary\n",
    "data = {\n",
    "    \"Name\": [\"Alice\", \"Bob\", \"Charlie\"],\n",
    "    \"Age\": [25, 30, 35],\n",
    "    \"Department\": [\"HR\", \"IT\", \"Finance\"]\n",
    "}\n",
    "df = pd.DataFrame(data)\n",
    "print(\"\\nDataFrame Example:\")\n",
    "print(df)"
   ]
  },
  {
   "cell_type": "markdown",
   "id": "181a4df1",
   "metadata": {},
   "source": [
    "## 📌 2. Basic Data Exploration\n",
    "**Explanation:**\n",
    "Once a DataFrame is loaded, use exploration methods to understand its structure:\n",
    "- `head()`: view the first few rows\n",
    "- `shape`: returns (rows, columns)\n",
    "- `columns`: lists column names\n",
    "- `info()`: summary of data types and non-null values\n",
    "- `describe()`: basic statistics of numeric columns\n",
    "\n",
    "**Interview Tip:**\n",
    "*Q: How do you quickly check for nulls or get an overview of a DataFrame?*\n",
    "Use `df.info()` for structure and `df.isnull().sum()` for null counts."
   ]
  },
  {
   "cell_type": "code",
   "execution_count": null,
   "id": "8777050d",
   "metadata": {},
   "outputs": [],
   "source": [
    "# Exploring DataFrame\n",
    "print(\"Head:\")\n",
    "print(df.head())\n",
    "\n",
    "print(\"\\nShape:\", df.shape)\n",
    "print(\"Columns:\", df.columns)\n",
    "print(\"Info:\")\n",
    "print(df.info())\n",
    "print(\"Describe:\")\n",
    "print(df.describe(include='all'))"
   ]
  },
  {
   "cell_type": "markdown",
   "id": "73d4ea4d",
   "metadata": {},
   "source": [
    "## ✍️ 3. Modifying Columns and Rows\n",
    "**Explanation:**\n",
    "- Use `rename()` to rename columns.\n",
    "- Add new columns by assigning new data.\n",
    "- Drop columns or rows with `drop()`.\n",
    "- Filter rows using Boolean conditions.\n",
    "\n",
    "**Interview Tip:**\n",
    "*Q: How do you select rows where a column matches a specific value?*\n",
    "`df[df['column'] == value]` is the standard syntax for filtering."
   ]
  },
  {
   "cell_type": "code",
   "execution_count": null,
   "id": "eb67f050",
   "metadata": {},
   "outputs": [],
   "source": [
    "# Renaming a column\n",
    "df = df.rename(columns={\"Department\": \"Dept\"})\n",
    "\n",
    "# Adding a new column\n",
    "df[\"Experience\"] = [2, 5, 3]\n",
    "\n",
    "# Dropping a column\n",
    "df = df.drop(columns=[\"Age\"])\n",
    "\n",
    "# Filtering rows\n",
    "it_employees = df[df[\"Dept\"] == \"IT\"]\n",
    "\n",
    "print(\"Filtered DataFrame:\")\n",
    "print(it_employees)"
   ]
  },
  {
   "cell_type": "markdown",
   "id": "3a4cc8e0",
   "metadata": {},
   "source": [
    "## 🧽 4. Handling Missing Values\n",
    "**Explanation:**\n",
    "- `isnull()` and `notnull()` detect missing values.\n",
    "- `fillna()` replaces them with specified values.\n",
    "- `dropna()` removes rows/columns with missing data.\n",
    "\n",
    "**Interview Tip:**\n",
    "*Q: What are strategies for dealing with missing data?*\n",
    "You can drop them (`dropna`) or fill with statistical measures like mean/median (`fillna`)."
   ]
  },
  {
   "cell_type": "code",
   "execution_count": null,
   "id": "6c947334",
   "metadata": {},
   "outputs": [],
   "source": [
    "# Creating a new DataFrame with missing values\n",
    "df_nan = pd.DataFrame({\n",
    "    \"Name\": [\"Alice\", \"Bob\", \"Charlie\"],\n",
    "    \"Score\": [85, None, 92]\n",
    "})\n",
    "\n",
    "print(\"With Missing Values:\")\n",
    "print(df_nan)\n",
    "\n",
    "# Checking for nulls\n",
    "print(\"\\nIs Null:\")\n",
    "print(df_nan.isnull())\n",
    "\n",
    "# Filling missing values\n",
    "df_filled = df_nan.fillna(0)\n",
    "print(\"\\nFilled Missing Values:\")\n",
    "print(df_filled)\n",
    "\n",
    "# Dropping missing values\n",
    "df_dropped = df_nan.dropna()\n",
    "print(\"\\nDropped Rows with Missing Values:\")\n",
    "print(df_dropped)"
   ]
  },
  {
   "cell_type": "markdown",
   "id": "d6dc5612",
   "metadata": {},
   "source": [
    "## 🔢 5. Basic Summary Statistics\n",
    "**Explanation:**\n",
    "You can quickly summarize your data:\n",
    "- `mean()`, `sum()`, `min()`, `max()` – column-wise statistics\n",
    "- `value_counts()` – frequency count of unique values\n",
    "- `nunique()` – count of distinct values in a column\n",
    "\n",
    "**Interview Tip:**\n",
    "*Q: How would you check how many unique values a column has?*\n",
    "Use `df['column'].nunique()` or `df['column'].value_counts()`."
   ]
  },
  {
   "cell_type": "code",
   "execution_count": null,
   "id": "f3d8451e",
   "metadata": {},
   "outputs": [],
   "source": [
    "# Summary Statistics\n",
    "print(\"Mean Score:\", df_filled[\"Score\"].mean())\n",
    "print(\"Value Counts:\")\n",
    "print(df[\"Dept\"].value_counts())\n",
    "print(\"Unique Departments:\", df[\"Dept\"].nunique())"
   ]
  }
 ],
 "metadata": {
  "kernelspec": {
   "display_name": "Python 3 (ipykernel)",
   "language": "python",
   "name": "python3"
  },
  "language_info": {
   "codemirror_mode": {
    "name": "ipython",
    "version": 3
   },
   "file_extension": ".py",
   "mimetype": "text/x-python",
   "name": "python",
   "nbconvert_exporter": "python",
   "pygments_lexer": "ipython3",
   "version": "3.11.7"
  }
 },
 "nbformat": 4,
 "nbformat_minor": 5
}
